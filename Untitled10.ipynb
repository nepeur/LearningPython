{
  "nbformat": 4,
  "nbformat_minor": 0,
  "metadata": {
    "colab": {
      "provenance": [],
      "authorship_tag": "ABX9TyOO6r3aRE9utVvZ4QwTRYAd",
      "include_colab_link": true
    },
    "kernelspec": {
      "name": "python3",
      "display_name": "Python 3"
    },
    "language_info": {
      "name": "python"
    }
  },
  "cells": [
    {
      "cell_type": "markdown",
      "metadata": {
        "id": "view-in-github",
        "colab_type": "text"
      },
      "source": [
        "<a href=\"https://colab.research.google.com/github/nepeur/LearningPython/blob/Sheetal/Untitled10.ipynb\" target=\"_parent\"><img src=\"https://colab.research.google.com/assets/colab-badge.svg\" alt=\"Open In Colab\"/></a>"
      ]
    },
    {
      "cell_type": "markdown",
      "source": [],
      "metadata": {
        "id": "RA00PGOwyLhx"
      }
    },
    {
      "cell_type": "markdown",
      "source": [
        "# Introduction\n",
        "Python module is used to organise and resuse the same code in different projects.\n",
        "By creating module, we are reducing our work to write same code again.It is helping to resuce the complexity of code.\n"
      ],
      "metadata": {
        "id": "IDWLN8z8yMen"
      }
    },
    {
      "cell_type": "markdown",
      "source": [
        "# Creating a Project Directory\n",
        "\n"
      ],
      "metadata": {
        "id": "FlnXuOmH0For"
      }
    },
    {
      "cell_type": "markdown",
      "source": [
        "## Steps to create Python module\n",
        "\n",
        "1. firstly, decide the topic, on which you want to make module, it can be anything like string For example, if you're creating a module for working with strings, you might call it \"mystrings.py\".\n",
        "Creating a Python module involves the following steps:\n",
        "\n",
        "Creating a new file:\n",
        "2. Open your preferred code editor and create a new file.\n",
        "3. Save the file with a name that reflects the purpose of your module. The name should end with the \".py\" file extension.\n",
        "Organizing code:\n",
        "4. Add the code that you want to include in your module. Organize the code into functions, classes, or other logical units.\n",
        "Define any necessary variables or constants that will be used in the module.\n",
        "5. Adding a docstring:\n",
        "Add a docstring to the top of the module file. A docstring is a multi-line string that describes the purpose and functionality of the module.\n",
        "The docstring should be enclosed in triple quotes and should provide a concise and clear explanation of what the module does.\n",
        "Here's an example of a simple Python module that includes a docstring:\n"
      ],
      "metadata": {
        "id": "O6W5gQVXrHTV"
      }
    },
    {
      "cell_type": "code",
      "source": [],
      "metadata": {
        "id": "G4_J0V_90ge7"
      },
      "execution_count": null,
      "outputs": []
    },
    {
      "cell_type": "code",
      "source": [
        "# mystrings.py\n",
        "\n",
        "\"\"\"\n",
        "This is a sample module that provides some useful string functions.\n",
        "\"\"\"\n",
        "\n",
        "def count_chars(s):\n",
        "    \"\"\"\n",
        "    Counts the number of characters in a string and returns the result.\n",
        "\n",
        "    Args:\n",
        "        s (str): The input string.\n",
        "\n",
        "    Returns:\n",
        "        int: The number of characters in the string.\n",
        "    \"\"\"\n",
        "    return len(s)\n",
        "\n",
        "def reverse_string(s):\n",
        "    \"\"\"\n",
        "    Reverses a string and returns the result.\n",
        "\n",
        "    Args:\n",
        "        s (str): The input string.\n",
        "\n",
        "    Returns:\n",
        "        str: The reversed string.\n",
        "    \"\"\"\n",
        "    return s[::-1]"
      ],
      "metadata": {
        "id": "O8T9YtpPLCNA"
      },
      "execution_count": 1,
      "outputs": []
    }
  ]
}