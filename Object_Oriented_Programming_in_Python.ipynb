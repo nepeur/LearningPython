{
  "nbformat": 4,
  "nbformat_minor": 0,
  "metadata": {
    "colab": {
      "provenance": [],
      "include_colab_link": true
    },
    "kernelspec": {
      "name": "python3",
      "display_name": "Python 3"
    },
    "language_info": {
      "name": "python"
    }
  },
  "cells": [
    {
      "cell_type": "markdown",
      "metadata": {
        "id": "view-in-github",
        "colab_type": "text"
      },
      "source": [
        "<a href=\"https://colab.research.google.com/github/nepeur/LearningPython/blob/main/Object_Oriented_Programming_in_Python.ipynb\" target=\"_parent\"><img src=\"https://colab.research.google.com/assets/colab-badge.svg\" alt=\"Open In Colab\"/></a>"
      ]
    },
    {
      "cell_type": "markdown",
      "source": [
        "# Introduction\n",
        "\n",
        "Object-oriented programming (OOP) is a programming paradigm that is based on the concept of \"objects,\" which are instances of a class. In Python, OOP is implemented through classes, which are templates for creating objects. Each class defines the properties and behaviors of an object, and objects are created from classes. Object means a real-world entity such as a pen, chair, table, computer, watch, etc. It is a methodology or paradigm to design a program using classes and objects. "
      ],
      "metadata": {
        "id": "zZLhtbiBq98W"
      }
    },
    {
      "cell_type": "markdown",
      "source": [
        "## Basic Concepts in OOPS\n",
        "\n",
        "These are the following concepts that comes inder OOPS,\n",
        "\n",
        "1. Class\n",
        "2. Object\n",
        "3. Polymorphism\n",
        "4. Inheritance\n",
        "5. Encapsulation\n",
        "6. Abstarction"
      ],
      "metadata": {
        "id": "E6RbsBzC8TlM"
      }
    },
    {
      "cell_type": "markdown",
      "source": [
        "## Benefits of OOPS\n",
        "\n",
        "Object-oriented programming (OOP) has several benefits, including:\n",
        "\n",
        "1. **Modularity**: OOP allows you to break your code into small, reusable modules \n",
        "classes that can be easily maintained and modified. This helps to reduce complexity, increase reusability, and simplify maintenance.\n",
        "\n",
        "2. **Abstraction**: OOP allows you to abstract complex systems into simple and understandable objects. This helps to hide the internal complexity of the system, making it easier to understand and use.\n",
        "\n",
        "3. **Inheritance**: OOP allows you to create new classes based on existing classes. This helps to reuse code, reduce redundancy, and simplify the design of the system.\n",
        "\n",
        "4. **Encapsulation**: OOP allows you to encapsulate data and functionality within a class, protecting it from unauthorized access and modification. This helps to maintain the integrity of the system and improve security.\n",
        "\n",
        "5. **Polymorphism**: OOP allows you to define multiple methods with the same name in different classes. This helps to simplify the code and make it more flexible and extensible.\n",
        "\n",
        "Overall, OOP provides a powerful and flexible way to design and implement complex systems, and it has become a popular programming paradigm for a wide range of applications."
      ],
      "metadata": {
        "id": "Uj2XzZeq8pce"
      }
    },
    {
      "cell_type": "markdown",
      "source": [
        "# Creating Classes and Objects"
      ],
      "metadata": {
        "id": "CGq-9wgPrBXg"
      }
    },
    {
      "cell_type": "markdown",
      "source": [
        "Python is an object-oriented programming language, which means that it allows you to **create** and **use objects**. \n",
        "* Objects are instances of classes, which are user-defined data types that encapsulate data and functions."
      ],
      "metadata": {
        "id": "1qRYO6zCupSv"
      }
    },
    {
      "cell_type": "markdown",
      "source": [
        "## Creating a class"
      ],
      "metadata": {
        "id": "8WIrbc7ju8rz"
      }
    },
    {
      "cell_type": "markdown",
      "source": [
        "To create a class in Python, we can use the `class` keyword followed by the name of the class"
      ],
      "metadata": {
        "id": "2NS3G20ZvEKc"
      }
    },
    {
      "cell_type": "code",
      "source": [
        "class Fruit:\n",
        "    pass"
      ],
      "metadata": {
        "id": "mOYavuWcrGn_"
      },
      "execution_count": null,
      "outputs": []
    },
    {
      "cell_type": "markdown",
      "source": [
        "In the code above we've created a class called `Fruit` using the `class` keyword, and we've defined an empty block using the `pass` keyword. \n",
        "\n",
        "This block will be consequently filled with data and functions that define the behavior of our class."
      ],
      "metadata": {
        "id": "JdZBP4dFvWO8"
      }
    },
    {
      "cell_type": "markdown",
      "source": [
        "Now before we go ahead with building the class. Let us first talk-about our object. In the above example we have considered `Fruit` as an object. And let us assume, that we are a e-Commerce site selling and buying fruits. So the question arises- what are properties, attributes of Fruits:\n",
        "* name: Orange, apple etc\n",
        "* amount: Amount in Kgs\n",
        "* variety\n",
        "* buying price\n",
        "* selling price\n",
        "\n",
        "And methods which can modify these attributes:\n",
        "* sell\n",
        "* buy\n"
      ],
      "metadata": {
        "id": "pEh8cIchvvbU"
      }
    },
    {
      "cell_type": "code",
      "source": [
        "class Fruit:\n",
        "  def __init__(self, name, variety='regular', buying_price=1, selling_price=5, amount=0):\n",
        "    self.name = name\n",
        "    self.amount = amount\n",
        "    self.variety = variety\n",
        "    self.buying_price = buying_price\n",
        "    self.selling_price = selling_price\n",
        "\n",
        "  def buy(self, amount):\n",
        "    pass\n",
        "  \n",
        "  def sell(self, amount):\n",
        "    pass"
      ],
      "metadata": {
        "id": "qWOTpDAhvPQw"
      },
      "execution_count": null,
      "outputs": []
    },
    {
      "cell_type": "markdown",
      "source": [
        "## Creating an object"
      ],
      "metadata": {
        "id": "cvbRKMxp5ScM"
      }
    },
    {
      "cell_type": "markdown",
      "source": [
        "To create a object of type fruit"
      ],
      "metadata": {
        "id": "jXqc9lgl5ScN"
      }
    },
    {
      "cell_type": "code",
      "source": [
        "fruit1 = Fruit('orange')"
      ],
      "metadata": {
        "id": "9gOFj6UW5ScN"
      },
      "execution_count": null,
      "outputs": []
    },
    {
      "cell_type": "markdown",
      "source": [
        "## Accessing Attributes of an object"
      ],
      "metadata": {
        "id": "1o1qbnyMjkQ2"
      }
    },
    {
      "cell_type": "markdown",
      "source": [
        "And we can access the attributes using dot"
      ],
      "metadata": {
        "id": "I_OKy8rA5ScN"
      }
    },
    {
      "cell_type": "code",
      "source": [
        "print(f'Fruit {fruit1.name} is of type {fruit1.variety}')"
      ],
      "metadata": {
        "outputId": "c9b5ab2c-a12d-4462-e6d3-756176aea9c5",
        "colab": {
          "base_uri": "https://localhost:8080/"
        },
        "id": "FZ00WfkB5ScN"
      },
      "execution_count": null,
      "outputs": [
        {
          "output_type": "stream",
          "name": "stdout",
          "text": [
            "Fruit orange is of type regular\n"
          ]
        }
      ]
    },
    {
      "cell_type": "markdown",
      "source": [
        "In this example, we're using dot notation to access the \"name\" and \"variety\" attributes of the \"fruit1\" object. This will print out \"orange\" and \"regular\", respectively."
      ],
      "metadata": {
        "id": "4uDMLW8RjvX4"
      }
    },
    {
      "cell_type": "markdown",
      "source": [
        "## Defining functions in a class"
      ],
      "metadata": {
        "id": "mgrtW1OEkDky"
      }
    },
    {
      "cell_type": "markdown",
      "source": [
        "In Python, you can define functions in a class using the \"def\" keyword. These functions are called \"methods\", and they define the behavior of an object. Here's an example:"
      ],
      "metadata": {
        "id": "8TOJGBaBkEI8"
      }
    },
    {
      "cell_type": "code",
      "source": [
        "def price(self):\n",
        "  print(f'Hi the fruit price is {self.seling_price}')"
      ],
      "metadata": {
        "id": "XupN9h8H5ScO"
      },
      "execution_count": null,
      "outputs": []
    },
    {
      "cell_type": "markdown",
      "source": [
        "In this example, we've defined a new method called \"price\" that takes no arguments. This method uses the \"self\" keyword to access the \"selling_price\" attribute of an object and print out a greeting message. Let us run the whole code, and see if it works."
      ],
      "metadata": {
        "id": "5uU5Vcm65dDi"
      }
    },
    {
      "cell_type": "code",
      "source": [
        "class Fruit:\n",
        "  def __init__(self, name, variety='regular', buying_price=1, selling_price=5, amount=0):\n",
        "    self.name = name\n",
        "    self.amount = amount\n",
        "    self.variety = variety\n",
        "    self.buying_price = buying_price\n",
        "    self.selling_price = selling_price\n",
        "\n",
        "  def buy(self, amount):\n",
        "    pass\n",
        "  \n",
        "  def sell(self, amount):\n",
        "    pass\n",
        "\n",
        "  def price(self):\n",
        "    print(f'Hi the fruit price is {self.selling_price}')\n",
        "\n",
        "fruit1 = Fruit('orange')\n",
        "fruit1.price()"
      ],
      "metadata": {
        "colab": {
          "base_uri": "https://localhost:8080/"
        },
        "id": "C9i0TsRU6DE6",
        "outputId": "b0445919-f53b-4507-ed15-ddec48c21333"
      },
      "execution_count": 3,
      "outputs": [
        {
          "output_type": "stream",
          "name": "stdout",
          "text": [
            "Hi the fruit price is 5\n"
          ]
        }
      ]
    },
    {
      "cell_type": "markdown",
      "source": [
        "# Inheritance\n",
        "It is one of the important aspect of the object-oriented paradigm. Inheritance provides code reusability to the program because we can use an existing class to create a new class instead of creating it from scratch.\n",
        "In python, a derived class can inherit base class by just mentioning the base in the bracket after the derived class name. Consider the following syntax to inherit a base class into the derived class. This is the syntax of inheritance.\n",
        "\n",
        "`Class Name_of_BaseClass:`\n",
        "\n",
        "    `{Body}`\n",
        "\n",
        "\n",
        "`Class Nameof_DerivedClass(BaseClass):`\n",
        "\n",
        "\n",
        "    `{Body}`\n"
      ],
      "metadata": {
        "id": "VaKHUdLq_yW3"
      }
    },
    {
      "cell_type": "code",
      "source": [
        "# Define a parent class called \"Vehicle\"\n",
        "class Vehicle:\n",
        "    def __init__(self, brand, model, year):\n",
        "        self.brand = brand\n",
        "        self.model = model\n",
        "        self.year = year\n",
        "\n",
        "    def drive(self):\n",
        "        print(f\"{self.brand} {self.model} is driving.\")\n",
        "\n",
        "# Define a child class called \"Car\" that inherits from \"Vehicle\"\n",
        "class Car(Vehicle):\n",
        "    def __init__(self, brand, model, year, color):\n",
        "        # Call the constructor of the parent class using super()\n",
        "        super().__init__(brand, model, year)\n",
        "        self.color = color\n",
        "\n",
        "    def honk(self):\n",
        "        print(f\"{self.brand} {self.model} is honking its horn.\")\n",
        "\n",
        "# Create an instance of Car and call its methods\n",
        "my_car = Car(\"Toyota\", \"Camry\", 2022, \"red\")\n",
        "my_car.drive()  # Output: \"Toyota Camry is driving.\"\n",
        "my_car.honk()   # Output: \"Toyota Camry is honking its horn."
      ],
      "metadata": {
        "id": "MM1ukz65BLjn",
        "outputId": "725c03de-6f50-480c-b621-4b230652fdcb",
        "colab": {
          "base_uri": "https://localhost:8080/"
        }
      },
      "execution_count": null,
      "outputs": [
        {
          "output_type": "stream",
          "name": "stdout",
          "text": [
            "Toyota Camry is driving.\n",
            "Toyota Camry is honking its horn.\n"
          ]
        }
      ]
    },
    {
      "cell_type": "markdown",
      "source": [],
      "metadata": {
        "id": "Wt2YOF4KBkmV"
      }
    },
    {
      "cell_type": "markdown",
      "source": [
        "## Benefits of Inheritence\n",
        "1. It represents real-world relationships well.\n",
        "2. It provides the reusability of a code. We don’t have to write the same code again and again. Also, it allows us to add more features to a class without modifying it.\n",
        "3. It is transitive in nature, which means that if class B inherits from another class A, then all the subclasses of B would automatically inherit from class A.\n",
        "4. Inheritance offers a simple, understandable model structure. \n",
        "Less development and maintenance expenses result from an inheritance. "
      ],
      "metadata": {
        "id": "cx1k5FFhFDnz"
      }
    },
    {
      "cell_type": "markdown",
      "source": [
        "# Polymorphism\n",
        "The word 'polymorphism' is made up of two words: 'poly', which means 'many', and 'morphism', which means 'form'. This means that 'polymorphism' represents more than one form.\n",
        "Polymorphism is a concept in object-oriented programming that allows objects of different classes to be treated as if they are of the same class. In Python, polymorphism can be achieved through method overriding and method overloading.\n",
        "\n",
        "Method overriding, which will discuss in the next example, is a way to implement polymorphism in Python by providing a subclass's implementation of a method that is already defined in its superclass.\n",
        "\n",
        "Method overloading, on the other hand, is not supported in Python in the same way as other programming languages like Java or C++. However, Python provides a way to implement method overloading through the use of default arguments and variable-length arguments. Here's an example:"
      ],
      "metadata": {
        "id": "HsZNbb6GNUPt"
      }
    },
    {
      "cell_type": "code",
      "source": [
        "class Math:\n",
        "    def add(self, a, b=None, c=None):\n",
        "        if b is not None and c is not None:\n",
        "            return a + b + c\n",
        "        elif b is not None:\n",
        "            return a + b\n",
        "        else:\n",
        "            return a\n",
        "\n",
        "my_math = Math()\n",
        "print(my_math.add(1))       # Output: 1\n",
        "print(my_math.add(1, 2))    # Output: 3\n",
        "print(my_math.add(1, 2, 3)) # Output: 6"
      ],
      "metadata": {
        "colab": {
          "base_uri": "https://localhost:8080/"
        },
        "id": "oYz_fR3kQNH9",
        "outputId": "5d458bea-07f5-414c-86a8-b001102cf08d"
      },
      "execution_count": null,
      "outputs": [
        {
          "output_type": "stream",
          "name": "stdout",
          "text": [
            "1\n",
            "3\n",
            "6\n"
          ]
        }
      ]
    },
    {
      "cell_type": "markdown",
      "source": [
        "## Benefits of Polymorhism\n",
        "These are the following benefits of polymorphism\n",
        "1. reusabilty of code,we can use same code again and again.\n",
        "2. Time complexity of code is reducing.\n",
        "3. It represent real world relationship well\n",
        "4. it is more development and less expensive.\n",
        "\n"
      ],
      "metadata": {
        "id": "-qZ374m6QZq3"
      }
    },
    {
      "cell_type": "markdown",
      "source": [
        "## Method overiding in Python\n",
        "It is one of the concepts of Polymorphism. In method overriding, we have the same named method in both the parent and child classes. Then, with the help of an object, access is declared. This is well explained in the example below. Please check:\n"
      ],
      "metadata": {
        "id": "tOxunMv7F6Hy"
      }
    },
    {
      "cell_type": "code",
      "source": [
        "# Python program to demonstrate \n",
        "# method overriding\n",
        "# Defining parent class\n",
        "class Person():\n",
        "      \n",
        "    # Constructor\n",
        "    def __init__(self):\n",
        "        self.value = \"Inside Parent\"\n",
        "          \n",
        "    # Parent's show method\n",
        "    def color(self):\n",
        "        print(self.value)\n",
        "          \n",
        "# Defining child class\n",
        "class Child(Person):\n",
        "      \n",
        "    # Constructor\n",
        "    def __init__(self):\n",
        "        self.value = \"Inside Child\"\n",
        "          \n",
        "    # Child's show method\n",
        "    def color(self):\n",
        "        print(self.value)\n",
        "          \n",
        "          \n",
        "# Driver's code\n",
        "obj1 = Person()\n",
        "obj2 = Child()\n",
        "  \n",
        "obj1.color()\n",
        "obj2.color()"
      ],
      "metadata": {
        "id": "fzh4iphEHDv_",
        "outputId": "4afdf6ec-a963-4ae8-d55b-8966b72c97e9",
        "colab": {
          "base_uri": "https://localhost:8080/"
        }
      },
      "execution_count": null,
      "outputs": [
        {
          "output_type": "stream",
          "name": "stdout",
          "text": [
            "Inside Parent\n",
            "Inside Child\n"
          ]
        }
      ]
    },
    {
      "cell_type": "markdown",
      "source": [
        "## Super() Function\n",
        "In Python, super() is a built-in function that provides a way to call a method in a parent class from a subclass. It is often used in conjunction with method overriding to allow the subclass to use the functionality of the parent class, while also providing its own implementation of the method.\n",
        "Here is an example that illustrates the usage of super():\n"
      ],
      "metadata": {
        "id": "u2qghJIHLFl6"
      }
    },
    {
      "cell_type": "code",
      "source": [
        "class Person:\n",
        "    def color(self):\n",
        "        print(\"The person have grey color\")\n",
        "\n",
        "class person2(Person):\n",
        "    def color(self):\n",
        "        super().color()\n",
        "        print(\"and another Person is of different color.\")\n",
        "\n",
        "my_dog = Person()\n",
        "my_dog.color()  # Output: The animal makes a sound. The dog barks.\n"
      ],
      "metadata": {
        "id": "neQUvGngL9qb",
        "outputId": "d720e51f-ec73-48e1-a243-257fae6a2eb8",
        "colab": {
          "base_uri": "https://localhost:8080/"
        }
      },
      "execution_count": null,
      "outputs": [
        {
          "output_type": "stream",
          "name": "stdout",
          "text": [
            "The person have grey color\n"
          ]
        }
      ]
    },
    {
      "cell_type": "markdown",
      "source": [
        "# Encapsulation\n",
        "It is one of the basic concept of OOPS. In this data is hiding in class. One of the fundamental concepts in object-oriented programming (OOP) is encapsulation, which involves wrapping data and methods that operate on that data into a single unit. This approach places restrictions on direct access to variables and methods, which can prevent accidental modification of data. To ensure that variables are not accidentally changed, private variables can only be modified by methods associated with the object. This enables the class to control the access to its data and methods, by defining the visibility scope of its members as public, protected or private."
      ],
      "metadata": {
        "id": "ISZto3VT_bN3"
      }
    },
    {
      "cell_type": "markdown",
      "source": [],
      "metadata": {
        "id": "x-X0ZBpjIPiL"
      }
    },
    {
      "cell_type": "code",
      "source": [
        "class car:\n",
        "    def __init__(self, name, year):\n",
        "        self.name = name   # public variable\n",
        "        self._year = year    # protected variable\n",
        "        self.__id = 123    # private variable\n",
        "\n",
        "    def display_info(self):\n",
        "        print(\"Name: \", self.name)\n",
        "        print(\"year: \", self._year)\n",
        "        print(\"ID: \", self.__id)\n",
        "\n",
        "    def set_year(self, year):\n",
        "        self._year= year\n",
        "\n",
        "\n",
        "    def get_id(self):\n",
        "        return self.__id\n",
        "\n",
        "p = car(\"ALTO\", 1990)\n",
        "p.display_info()\n",
        "p.set_year(1996)\n",
        "print(\"year after update: \", p._year)\n",
        "print(\"ID: \", p.get_id())\n"
      ],
      "metadata": {
        "id": "c3rBYXrTIid-",
        "outputId": "872b7731-b541-4072-e776-1c1e2161b4c4",
        "colab": {
          "base_uri": "https://localhost:8080/"
        }
      },
      "execution_count": null,
      "outputs": [
        {
          "output_type": "stream",
          "name": "stdout",
          "text": [
            "Name:  ALTO\n",
            "year:  1990\n",
            "ID:  123\n",
            "year after update:  1996\n",
            "ID:  123\n"
          ]
        }
      ]
    },
    {
      "cell_type": "code",
      "source": [
        "class car:\n",
        "    def __init__(self, name, year):\n",
        "        self.name = name   # public variable\n",
        "        self._year = year  # protected variable\n",
        "        self.__id = 123    # private variable\n",
        "p=car('ALto',1996)\n",
        "print(p.name())\n",
        "print(p.year())"
      ],
      "metadata": {
        "colab": {
          "base_uri": "https://localhost:8080/",
          "height": 218
        },
        "id": "idPIQEAOTiOv",
        "outputId": "9ccbb843-81b8-4399-d815-b5b256c5275e"
      },
      "execution_count": null,
      "outputs": [
        {
          "output_type": "error",
          "ename": "TypeError",
          "evalue": "ignored",
          "traceback": [
            "\u001b[0;31m---------------------------------------------------------------------------\u001b[0m",
            "\u001b[0;31mTypeError\u001b[0m                                 Traceback (most recent call last)",
            "\u001b[0;32m<ipython-input-5-328b48f806ea>\u001b[0m in \u001b[0;36m<cell line: 7>\u001b[0;34m()\u001b[0m\n\u001b[1;32m      5\u001b[0m         \u001b[0mself\u001b[0m\u001b[0;34m.\u001b[0m\u001b[0m__id\u001b[0m \u001b[0;34m=\u001b[0m \u001b[0;36m123\u001b[0m    \u001b[0;31m# private variable\u001b[0m\u001b[0;34m\u001b[0m\u001b[0;34m\u001b[0m\u001b[0m\n\u001b[1;32m      6\u001b[0m \u001b[0mp\u001b[0m\u001b[0;34m=\u001b[0m\u001b[0mcar\u001b[0m\u001b[0;34m(\u001b[0m\u001b[0;34m'ALto'\u001b[0m\u001b[0;34m,\u001b[0m\u001b[0;36m1996\u001b[0m\u001b[0;34m)\u001b[0m\u001b[0;34m\u001b[0m\u001b[0;34m\u001b[0m\u001b[0m\n\u001b[0;32m----> 7\u001b[0;31m \u001b[0mprint\u001b[0m\u001b[0;34m(\u001b[0m\u001b[0mp\u001b[0m\u001b[0;34m.\u001b[0m\u001b[0mname\u001b[0m\u001b[0;34m(\u001b[0m\u001b[0;34m)\u001b[0m\u001b[0;34m)\u001b[0m\u001b[0;34m\u001b[0m\u001b[0;34m\u001b[0m\u001b[0m\n\u001b[0m\u001b[1;32m      8\u001b[0m \u001b[0mprint\u001b[0m\u001b[0;34m(\u001b[0m\u001b[0mp\u001b[0m\u001b[0;34m.\u001b[0m\u001b[0myear\u001b[0m\u001b[0;34m(\u001b[0m\u001b[0;34m)\u001b[0m\u001b[0;34m)\u001b[0m\u001b[0;34m\u001b[0m\u001b[0;34m\u001b[0m\u001b[0m\n",
            "\u001b[0;31mTypeError\u001b[0m: 'str' object is not callable"
          ]
        }
      ]
    },
    {
      "cell_type": "markdown",
      "source": [
        "In the above example, we define a class `car` that has three member variables - `name`, `_year` and `__id`.\n",
        "name is a public variable, meaning it can be accessed from outside the class using the dot notation, e.g., `p.name`.\n",
        "`_year` is a protected variable, meaning it can be accessed from within the class and its subclasses, but not from outside the class directly. It is denoted by a single underscore prefix, e.g., `p._year`.\n",
        "` __id` is a private variable, meaning it can only be accessed from within the class itself. It is denoted by a double underscore prefix, e.g., `p.__id`. However, it can be accessed indirectly from outside the class using a getter method `get_id(`).\n",
        "\n",
        "The class also has two methods - `display_info()` and `set_year()`. The `display_info()` method displays the values of all three variables, whereas the `set_year()`method updates the `_year` variable.\n",
        "\n",
        "We create an instance of the Person class called `p`, and then call the `display_info()` method to display the initial values of the variables. We then call the `set_year()` method to update the value of `_year`, and display it using the `._year` notation. Finally, we call the `get_id()` method to indirectly access the private variable `__id`."
      ],
      "metadata": {
        "id": "R8kLse30ItDO"
      }
    },
    {
      "cell_type": "markdown",
      "source": [
        "# Data hiding \n",
        " In object-oriented programming (OOP), data hiding is an important concept that ensures the security of class members from unauthorized access. This protection prevents data members from being modified or hacked. For instance,in the recent example we have seen that if a variable like \"id\" is declared as private in a class, it can only be accessed within that class. This technique is known as data hiding."
      ],
      "metadata": {
        "id": "JUF2d47EVRlZ"
      }
    },
    {
      "cell_type": "markdown",
      "source": [
        "# Abstraction and abstract classes\n",
        "Abstraction is a fundamental concept in object-oriented programming (OOP) that allows you to focus on essential features of an object while hiding unnecessary details. In Python, abstraction can be implemented using classes and interfaces.\n",
        "\n",
        "Using abstraction, you can define the essential characteristics of an object without exposing its internal implementation. This allows you to create a higher level of abstraction, which can help you to organize your code and make it more modular, scalable, and maintainable.\n",
        "In Python, you can use abstract classes and interfaces to implement abstraction. An abstract class is a class that cannot be instantiated and may contain one or more abstract methods, which are methods that have no implementation in the abstract class. An interface is similar to an abstract class, but it only contains abstract methods.\n"
      ],
      "metadata": {
        "id": "1Hkrl3Rla5fh"
      }
    },
    {
      "cell_type": "code",
      "source": [
        "from abc import ABC, abstractmethod\n",
        "\n",
        "# Define an abstract class that represents a shape\n",
        "class Shape(ABC):\n",
        "    \n",
        "    @abstractmethod\n",
        "    def area(self):\n",
        "        pass\n",
        "    \n",
        "    @abstractmethod\n",
        "    def perimeter(self):\n",
        "        pass\n",
        "    \n",
        "# Define a concrete class that inherits from the Shape class\n",
        "class Rectangle(Shape):\n",
        "    \n",
        "    def __init__(self, length, width):\n",
        "        self.length = length\n",
        "        self.width = width\n",
        "    \n",
        "    def area(self):\n",
        "        return self.length * self.width\n",
        "    \n",
        "    def perimeter(self):\n",
        "        return 2 * (self.length + self.width)\n",
        "    \n",
        "# Create an instance of the Rectangle class and call its methods\n",
        "rect = Rectangle(5, 10)\n",
        "print(\"Rectangle area:\", rect.area())\n",
        "print(\"Rectangle perimeter:\", rect.perimeter())"
      ],
      "metadata": {
        "colab": {
          "base_uri": "https://localhost:8080/"
        },
        "id": "4clb6Pujqkdb",
        "outputId": "4707bfa5-7f1a-48c2-9c5e-e9b28b7857f5"
      },
      "execution_count": null,
      "outputs": [
        {
          "output_type": "stream",
          "name": "stdout",
          "text": [
            "Rectangle area: 50\n",
            "Rectangle perimeter: 30\n"
          ]
        }
      ]
    },
    {
      "cell_type": "markdown",
      "source": [
        "In this example, we define an abstract class called `Shape` that contains two abstract methods: `area` and `perimeter`. These methods are declared but not implemented in the abstract class, which means that any concrete class that inherits from `Shape` must implement these methods.\n",
        "\n",
        "We then define a concrete class called `Rectangle` that inherits from `Shape`. Rectangle provides an implementation for the area and perimeter methods based on its length and width.\n",
        "\n",
        "Finally, we create an instance of `Rectangle` and call its `area` and `perimeter` methods. Because `Rectangle` inherits from `Shape`, we can treat rect as a `Shape` object and call its methods, even though `Shape` is an abstract class and cannot be instantiated directly. This is an example of `abstraction` in action, as we are able to work with rect at a high level of abstraction without worrying about its internal implementation details."
      ],
      "metadata": {
        "id": "oCtbvwIw98Zn"
      }
    },
    {
      "cell_type": "markdown",
      "source": [
        "# The role of the interfaces\n",
        "\n"
      ],
      "metadata": {
        "id": "W8MK52yoAXx-"
      }
    }
  ]
}