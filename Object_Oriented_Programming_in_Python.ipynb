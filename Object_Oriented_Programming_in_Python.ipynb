{
  "nbformat": 4,
  "nbformat_minor": 0,
  "metadata": {
    "colab": {
      "provenance": [],
      "include_colab_link": true
    },
    "kernelspec": {
      "name": "python3",
      "display_name": "Python 3"
    },
    "language_info": {
      "name": "python"
    }
  },
  "cells": [
    {
      "cell_type": "markdown",
      "metadata": {
        "id": "view-in-github",
        "colab_type": "text"
      },
      "source": [
        "<a href=\"https://colab.research.google.com/github/nepeur/LearningPython/blob/AS/Object_Oriented_Programming_in_Python.ipynb\" target=\"_parent\"><img src=\"https://colab.research.google.com/assets/colab-badge.svg\" alt=\"Open In Colab\"/></a>"
      ]
    },
    {
      "cell_type": "markdown",
      "source": [
        "# Introduction"
      ],
      "metadata": {
        "id": "zZLhtbiBq98W"
      }
    },
    {
      "cell_type": "code",
      "execution_count": null,
      "metadata": {
        "id": "ringmxSRq4W6"
      },
      "outputs": [],
      "source": []
    },
    {
      "cell_type": "markdown",
      "source": [
        "# Creating Classes and Objects"
      ],
      "metadata": {
        "id": "CGq-9wgPrBXg"
      }
    },
    {
      "cell_type": "markdown",
      "source": [
        "Python is an object-oriented programming language, which means that it allows you to **create** and **use objects**. \n",
        "* Objects are instances of classes, which are user-defined data types that encapsulate data and functions."
      ],
      "metadata": {
        "id": "1qRYO6zCupSv"
      }
    },
    {
      "cell_type": "markdown",
      "source": [
        "## Creating a class"
      ],
      "metadata": {
        "id": "8WIrbc7ju8rz"
      }
    },
    {
      "cell_type": "markdown",
      "source": [
        "To create a class in Python, we can use the `class` keyword followed by the name of the class"
      ],
      "metadata": {
        "id": "2NS3G20ZvEKc"
      }
    },
    {
      "cell_type": "code",
      "source": [
        "class Fruit:\n",
        "    pass"
      ],
      "metadata": {
        "id": "mOYavuWcrGn_"
      },
      "execution_count": 1,
      "outputs": []
    },
    {
      "cell_type": "markdown",
      "source": [
        "In the code above we've created a class called `Fruit` using the `class` keyword, and we've defined an empty block using the `pass` keyword. \n",
        "\n",
        "This block will be consequently filled with data and functions that define the behavior of our class."
      ],
      "metadata": {
        "id": "JdZBP4dFvWO8"
      }
    },
    {
      "cell_type": "markdown",
      "source": [
        "Now before we go ahead with building the class. Let us first talk-about our object. In the above example we have considered `Fruit` as an object. "
      ],
      "metadata": {
        "id": "pEh8cIchvvbU"
      }
    },
    {
      "cell_type": "code",
      "source": [],
      "metadata": {
        "id": "qWOTpDAhvPQw"
      },
      "execution_count": null,
      "outputs": []
    }
  ]
}