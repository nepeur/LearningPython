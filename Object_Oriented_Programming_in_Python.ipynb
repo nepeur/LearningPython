{
  "nbformat": 4,
  "nbformat_minor": 0,
  "metadata": {
    "colab": {
      "provenance": [],
      "toc_visible": true,
      "include_colab_link": true
    },
    "kernelspec": {
      "name": "python3",
      "display_name": "Python 3"
    },
    "language_info": {
      "name": "python"
    }
  },
  "cells": [
    {
      "cell_type": "markdown",
      "metadata": {
        "id": "view-in-github",
        "colab_type": "text"
      },
      "source": [
        "<a href=\"https://colab.research.google.com/github/nepeur/LearningPython/blob/Sheetal/Object_Oriented_Programming_in_Python.ipynb\" target=\"_parent\"><img src=\"https://colab.research.google.com/assets/colab-badge.svg\" alt=\"Open In Colab\"/></a>"
      ]
    },
    {
      "cell_type": "markdown",
      "source": [
        "# Introduction\n",
        "\n",
        "Object-oriented programming (OOP) is a programming paradigm that is based on the concept of \"objects,\" which are instances of a class. In Python, OOP is implemented through classes, which are templates for creating objects. Each class defines the properties and behaviors of an object, and objects are created from classes. Object means a real-world entity such as a pen, chair, table, computer, watch, etc. It is a methodology or paradigm to design a program using classes and objects. "
      ],
      "metadata": {
        "id": "zZLhtbiBq98W"
      }
    },
    {
      "cell_type": "markdown",
      "source": [
        "## Basic Concepts in OOPS\n",
        "\n",
        "These are the following concepts that comes inder OOPS,\n",
        "\n",
        "1. Class\n",
        "2. Object\n",
        "3. Polymorphism\n",
        "4. Inheritance\n",
        "5. Encapsulation\n",
        "6. Abstarction"
      ],
      "metadata": {
        "id": "E6RbsBzC8TlM"
      }
    },
    {
      "cell_type": "markdown",
      "source": [
        "## Benefits of OOPS\n",
        "\n",
        "Object-oriented programming (OOP) has several benefits, including:\n",
        "\n",
        "1. **Modularity**: OOP allows you to break your code into small, reusable modules \n",
        "classes that can be easily maintained and modified. This helps to reduce complexity, increase reusability, and simplify maintenance.\n",
        "\n",
        "2. **Abstraction**: OOP allows you to abstract complex systems into simple and understandable objects. This helps to hide the internal complexity of the system, making it easier to understand and use.\n",
        "\n",
        "3. **Inheritance**: OOP allows you to create new classes based on existing classes. This helps to reuse code, reduce redundancy, and simplify the design of the system.\n",
        "\n",
        "4. **Encapsulation**: OOP allows you to encapsulate data and functionality within a class, protecting it from unauthorized access and modification. This helps to maintain the integrity of the system and improve security.\n",
        "\n",
        "5. **Polymorphism**: OOP allows you to define multiple methods with the same name in different classes. This helps to simplify the code and make it more flexible and extensible.\n",
        "\n",
        "Overall, OOP provides a powerful and flexible way to design and implement complex systems, and it has become a popular programming paradigm for a wide range of applications."
      ],
      "metadata": {
        "id": "Uj2XzZeq8pce"
      }
    },
    {
      "cell_type": "markdown",
      "source": [
        "# Creating Classes and Objects"
      ],
      "metadata": {
        "id": "CGq-9wgPrBXg"
      }
    },
    {
      "cell_type": "markdown",
      "source": [
        "Python is an object-oriented programming language, which means that it allows you to **create** and **use objects**. \n",
        "* Objects are instances of classes, which are user-defined data types that encapsulate data and functions."
      ],
      "metadata": {
        "id": "1qRYO6zCupSv"
      }
    },
    {
      "cell_type": "markdown",
      "source": [
        "## Creating a class"
      ],
      "metadata": {
        "id": "8WIrbc7ju8rz"
      }
    },
    {
      "cell_type": "markdown",
      "source": [
        "To create a class in Python, we can use the `class` keyword followed by the name of the class"
      ],
      "metadata": {
        "id": "2NS3G20ZvEKc"
      }
    },
    {
      "cell_type": "code",
      "source": [
        "class Fruit:\n",
        "    pass"
      ],
      "metadata": {
        "id": "mOYavuWcrGn_"
      },
      "execution_count": null,
      "outputs": []
    },
    {
      "cell_type": "markdown",
      "source": [
        "In the code above we've created a class called `Fruit` using the `class` keyword, and we've defined an empty block using the `pass` keyword. \n",
        "\n",
        "This block will be consequently filled with data and functions that define the behavior of our class."
      ],
      "metadata": {
        "id": "JdZBP4dFvWO8"
      }
    },
    {
      "cell_type": "markdown",
      "source": [
        "Now before we go ahead with building the class. Let us first talk-about our object. In the above example we have considered `Fruit` as an object. And let us assume, that we are a e-Commerce site selling and buying fruits. So the question arises- what are properties, attributes of Fruits:\n",
        "* name: Orange, apple etc\n",
        "* amount: Amount in Kgs\n",
        "* variety\n",
        "* buying price\n",
        "* selling price\n",
        "\n",
        "And methods which can modify these attributes:\n",
        "* sell\n",
        "* buy\n"
      ],
      "metadata": {
        "id": "pEh8cIchvvbU"
      }
    },
    {
      "cell_type": "code",
      "source": [
        "class Fruit:\n",
        "  def __init__(self, name, variety='regular', buying_price=1, selling_price=5, amount=0):\n",
        "    self.name = name\n",
        "    self.amount = amount\n",
        "    self.variety = variety\n",
        "    self.buying_price = buying_price\n",
        "    self.selling_price = selling_price\n",
        "\n",
        "  def buy(self, amount):\n",
        "    pass\n",
        "  \n",
        "  def sell(self, amount):\n",
        "    pass"
      ],
      "metadata": {
        "id": "qWOTpDAhvPQw"
      },
      "execution_count": null,
      "outputs": []
    },
    {
      "cell_type": "markdown",
      "source": [
        "## Creating an object"
      ],
      "metadata": {
        "id": "0eUgxU-C1Ze5"
      }
    },
    {
      "cell_type": "markdown",
      "source": [
        "To create a object of type fruit"
      ],
      "metadata": {
        "id": "MNdCWFrf1ltI"
      }
    },
    {
      "cell_type": "code",
      "source": [
        "fruit1 = Fruit('orange')"
      ],
      "metadata": {
        "id": "KcEIz8lu1c-e"
      },
      "execution_count": null,
      "outputs": []
    },
    {
      "cell_type": "markdown",
      "source": [
        "And we can access the attributes using dot"
      ],
      "metadata": {
        "id": "zfuK9Bs9CVQk"
      }
    },
    {
      "cell_type": "code",
      "source": [
        "print(f'Fruit {fruit1.name} is of type {fruit1.variety}')"
      ],
      "metadata": {
        "id": "BKmL-WOd10PY",
        "outputId": "c9b5ab2c-a12d-4462-e6d3-756176aea9c5",
        "colab": {
          "base_uri": "https://localhost:8080/"
        }
      },
      "execution_count": null,
      "outputs": [
        {
          "output_type": "stream",
          "name": "stdout",
          "text": [
            "Fruit orange is of type regular\n"
          ]
        }
      ]
    },
    {
      "cell_type": "code",
      "source": [],
      "metadata": {
        "id": "SmIxl_hrC8-b"
      },
      "execution_count": null,
      "outputs": []
    },
    {
      "cell_type": "markdown",
      "source": [
        "## Inheritence\n",
        "It is an important aspect of the object-oriented paradigm. Inheritance provides code reusability to the program because we can use an existing class to create a new class instead of creating it from scratch.\n",
        "In python, a derived class can inherit base class by just mentioning the base in the bracket after the derived class name. Consider the following syntax to inherit a base class into the derived class. This is the syntax of inheritance.\n",
        "\n",
        "`Class Name_of_BaseClass:`\n",
        "\n",
        "    `{Body}`\n",
        "\n",
        "\n",
        "`Class Nameof_DerivedClass(BaseClass):`\n",
        "\n",
        "\n",
        "    `{Body}`\n"
      ],
      "metadata": {
        "id": "VaKHUdLq_yW3"
      }
    },
    {
      "cell_type": "code",
      "source": [
        "# Define a parent class called \"Vehicle\"\n",
        "class Vehicle:\n",
        "    def __init__(self, brand, model, year):\n",
        "        self.brand = brand\n",
        "        self.model = model\n",
        "        self.year = year\n",
        "\n",
        "    def drive(self):\n",
        "        print(f\"{self.brand} {self.model} is driving.\")\n",
        "\n",
        "# Define a child class called \"Car\" that inherits from \"Vehicle\"\n",
        "class Car(Vehicle):\n",
        "    def __init__(self, brand, model, year, color):\n",
        "        # Call the constructor of the parent class using super()\n",
        "        super().__init__(brand, model, year)\n",
        "        self.color = color\n",
        "\n",
        "    def honk(self):\n",
        "        print(f\"{self.brand} {self.model} is honking its horn.\")\n",
        "\n",
        "# Create an instance of Car and call its methods\n",
        "my_car = Car(\"Toyota\", \"Camry\", 2022, \"red\")\n",
        "my_car.drive()  # Output: \"Toyota Camry is driving.\"\n",
        "my_car.honk()   # Output: \"Toyota Camry is honking its horn."
      ],
      "metadata": {
        "id": "MM1ukz65BLjn",
        "outputId": "725c03de-6f50-480c-b621-4b230652fdcb",
        "colab": {
          "base_uri": "https://localhost:8080/"
        }
      },
      "execution_count": null,
      "outputs": [
        {
          "output_type": "stream",
          "name": "stdout",
          "text": [
            "Toyota Camry is driving.\n",
            "Toyota Camry is honking its horn.\n"
          ]
        }
      ]
    },
    {
      "cell_type": "markdown",
      "source": [],
      "metadata": {
        "id": "Wt2YOF4KBkmV"
      }
    }
  ]
}