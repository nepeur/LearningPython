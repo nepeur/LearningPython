{
  "cells": [
    {
      "cell_type": "markdown",
      "metadata": {
        "id": "view-in-github",
        "colab_type": "text"
      },
      "source": [
        "<a href=\"https://colab.research.google.com/github/nepeur/LearningPython/blob/main/Python_Basics_Module1.ipynb\" target=\"_parent\"><img src=\"https://colab.research.google.com/assets/colab-badge.svg\" alt=\"Open In Colab\"/></a>"
      ]
    },
    {
      "cell_type": "markdown",
      "metadata": {
        "id": "HE3b50Fi58dU"
      },
      "source": [
        "# What is Google Colab\n",
        "\n",
        "Google colab is an open source web applications where we can write, edit and share google doc, execute python code, perform mathematical operations etc. In this you can perform many task in one website without installing any software. As we know that whether for execute  the code of Python, or write google doc we need to install software first. But by using this we don’t need to install any softwares. It  don’t require any my system space. We can complete our task in phone as well in laptop. It provides free space to users so that they can work online without using system space. With the help of google collab the automatic backing up of students' work to the Google cloud can be done. With Colab, even if a student's computer is completely inoperable, they can access and edit their work using any other computer because their work is all in Google Drive.\n"
      ]
    },
    {
      "cell_type": "markdown",
      "metadata": {
        "id": "8kk4Ox_3FXen"
      },
      "source": [
        "# Applications of colab\n",
        "\n",
        "1. Applied Science\n",
        "2. Data science\n",
        "3. Artificial intelligence\n",
        "4. Machine learning\n",
        "5. Mathematical operations\n",
        "\n",
        "The languages which are used in google colab are\n",
        "Python, R, and Julia. Python is used mostly but we can use other languages also.\n",
        "For performing mathematical operation Latex language is used."
      ]
    },
    {
      "cell_type": "markdown",
      "metadata": {
        "id": "-BneX44mFt1d"
      },
      "source": [
        "# Variables in Python"
      ]
    },
    {
      "cell_type": "markdown",
      "metadata": {
        "id": "7Xp7W7Pg6mzr"
      },
      "source": [
        "Variable is a container for a value. It behaves as the value that it contains.\n",
        "There are the following  data types which are following\n",
        "1. Integer\n",
        "2. Float\n",
        "3. Complex\n",
        "\n",
        "The sizes which are allocated for data types are;\n",
        "1. Integer =  holds signed integers of non-limited length.\n",
        "2. Float=   $4$ bytes, Stores fractional numbers. Sufficient for storing $15$ decimal digits\n",
        "3. Complex= holds complex numbers.\n",
        "\n",
        "\n",
        "We can use the `type()` function to know which class a variable or a value belongs to.\n",
        "\n",
        "These data types are keyword in Python. Keyword are the word that have some significant meaning.\n",
        "Let's see how we use data types\n"
      ]
    },
    {
      "cell_type": "code",
      "execution_count": null,
      "metadata": {
        "colab": {
          "base_uri": "https://localhost:8080/"
        },
        "id": "wn-HOlmqIyth",
        "outputId": "e98e54c7-cab9-45d4-dcbc-f6e42c1726f7"
      },
      "outputs": [
        {
          "name": "stdout",
          "output_type": "stream",
          "text": [
            "10 10\n"
          ]
        }
      ],
      "source": [
        "a=10; b=10;\n",
        "print(a,b);\n"
      ]
    },
    {
      "cell_type": "markdown",
      "metadata": {
        "id": "q-9AaHDe69bZ"
      },
      "source": [
        "As you can see here we take two varaibles whose name is $a$ and $b$. We can also take Alphanumeric name of the variable. We can write variable also like this\n"
      ]
    },
    {
      "cell_type": "code",
      "execution_count": null,
      "metadata": {
        "colab": {
          "base_uri": "https://localhost:8080/"
        },
        "id": "wRHNl5oxK4eb",
        "outputId": "c5140a18-af09-4f56-b33a-85b975346488"
      },
      "outputs": [
        {
          "name": "stdout",
          "output_type": "stream",
          "text": [
            "Two variables are written in single line separeted by comma:\n",
            "10 10\n"
          ]
        }
      ],
      "source": [
        "Num_1, Num_2= 10,10;\n",
        "print(\"Two variables are written in single line separeted by comma:\")\n",
        "print(Num_1,Num_2);"
      ]
    },
    {
      "cell_type": "markdown",
      "metadata": {
        "id": "tPYOjt99LSKB"
      },
      "source": [
        "Now we find the data types of the variable\n"
      ]
    },
    {
      "cell_type": "code",
      "execution_count": null,
      "metadata": {
        "colab": {
          "base_uri": "https://localhost:8080/"
        },
        "id": "e99_Zn9OLXiu",
        "outputId": "28bdb1ba-3ea8-44ce-b679-181beb9d5a78"
      },
      "outputs": [
        {
          "name": "stdout",
          "output_type": "stream",
          "text": [
            "7 is of type <class 'int'>\n",
            "48.0 is of type <class 'float'>\n",
            "(2+3j) is of type <class 'complex'>\n"
          ]
        }
      ],
      "source": [
        "num1= 7\n",
        "print(num1, 'is of type', type(num1))\n",
        "\n",
        "num2 = 48.0\n",
        "print(num2, 'is of type', type(num2))\n",
        "\n",
        "num3 = 2+3j\n",
        "print(num3, 'is of type', type(num3))"
      ]
    },
    {
      "cell_type": "markdown",
      "metadata": {
        "id": "vcIjsAokB1AC"
      },
      "source": [
        "## Variable Scope\n",
        "Variable scope: It is the region in which that a variable is recognized.\n",
        "A local variable is that which is only available inside the region in which created.A global and locally scoped versions of a variable can be created. It is the rule which is created.\n",
        "LEGB rule: Local (or function), Enclosing (enclosing/ nested function), Global (module scope), Build-in(automatically loaded when we run a program/script)."
      ]
    },
    {
      "cell_type": "markdown",
      "metadata": {
        "id": "qHe6ai7ULn2k"
      },
      "source": [
        "#### Local, Enclosing, Global, Build-in (LEGB)\n",
        "For scope resolution, python will look up namespaces in a succeeding order- local, enclosing, global and build-in.\n",
        "A function will always seek for a variable name locally first and the outer scopes are only checked if local variables are not present.\n",
        "This is the code that is representing this condition."
      ]
    },
    {
      "cell_type": "code",
      "execution_count": null,
      "metadata": {
        "id": "5I5Z0jq5NRLz"
      },
      "outputs": [],
      "source": [
        "def display_name():\n",
        "   name = \"code\"   # local scope i.e. only available inside this function;will use local version inside function\n",
        "   print(name)     # will use global when local is not present;\n",
        "                   # Outside function always use global variable\n",
        "display_name()"
      ]
    },
    {
      "cell_type": "markdown",
      "metadata": {
        "id": "V19ncKqLODbF"
      },
      "source": [
        "##### Enclosed Scope\n",
        "This code is showing Enclosed part."
      ]
    },
    {
      "cell_type": "code",
      "execution_count": null,
      "metadata": {
        "colab": {
          "base_uri": "https://localhost:8080/"
        },
        "id": "rhgRsMChORip",
        "outputId": "6b60b13f-f2b3-45d0-88df-0ea9229152a0"
      },
      "outputs": [
        {
          "name": "stdout",
          "output_type": "stream",
          "text": [
            "This is outer variable\n",
            "this is inner variable\n",
            "This is global variable\n"
          ]
        }
      ],
      "source": [
        "var =\"This is global variable\"\n",
        "def outer_func():\n",
        "  var =\"This is outer variable\"\n",
        "  def inner_func():\n",
        "    var = \"this is inner variable\"\n",
        "    print(var)\n",
        "  print(var)\n",
        "  inner_func()\n",
        "\n",
        "outer_func()\n",
        "print(var)"
      ]
    },
    {
      "cell_type": "markdown",
      "metadata": {
        "id": "d-QUkSXSPJ0c"
      },
      "source": []
    },
    {
      "cell_type": "markdown",
      "metadata": {
        "id": "I2U_bKOsbM21"
      },
      "source": [
        "## Strings in Python"
      ]
    },
    {
      "cell_type": "markdown",
      "metadata": {
        "id": "I1x_KjOBTiWm"
      },
      "source": [
        "String is a set of the charcters which are enclosed by either single  or double quotes. For example in below code you can see a string named `sentence`is taken"
      ]
    },
    {
      "cell_type": "code",
      "execution_count": null,
      "metadata": {
        "colab": {
          "base_uri": "https://localhost:8080/"
        },
        "id": "CL_PPpzxWOBX",
        "outputId": "20d3a82b-8f9d-4a51-896a-a02cced912c6"
      },
      "outputs": [
        {
          "name": "stdout",
          "output_type": "stream",
          "text": [
            "My Name is janny\n"
          ]
        }
      ],
      "source": [
        "sentence = \"My Name is janny\"\n",
        "print(sentence)"
      ]
    },
    {
      "cell_type": "markdown",
      "metadata": {
        "id": "ZWSTKX5WbZk_"
      },
      "source": [
        "In case you want to know the number of characters in a string you can use function `len`"
      ]
    },
    {
      "cell_type": "code",
      "execution_count": null,
      "metadata": {
        "colab": {
          "base_uri": "https://localhost:8080/"
        },
        "id": "em7AzZ_BcQrA",
        "outputId": "9b016894-5d82-4967-9c60-784d4751b078"
      },
      "outputs": [
        {
          "name": "stdout",
          "output_type": "stream",
          "text": [
            "Length of the String is: 16\n"
          ]
        }
      ],
      "source": [
        "print(\"Length of the String is:\", len(sentence))"
      ]
    },
    {
      "cell_type": "markdown",
      "metadata": {
        "id": "o9BOEa3Wd73z"
      },
      "source": [
        "### String Functions"
      ]
    },
    {
      "cell_type": "markdown",
      "metadata": {
        "id": "7pkZbYjWXiAH"
      },
      "source": [
        "Python provides a list of functions that you can use to process string elements. Some of the common functions for strings are:\n",
        "\n",
        "* `find()` it returns index of the character present in the string.\n",
        "* `capitalize()` it capitalizes the character at index 0 and rest to lower case.\n",
        "* `lower()` it converts text to lower case.\n",
        "* `upper()` it converts text to upper case.\n",
        "* `isdigit()` this function returns `True` if string consists of numeric digits.\n",
        "* `isalpha()` this function returns `True` if string contains all alphabetic characters. Do remember it will return `False` even if space is present.\n",
        "* `count()` this function counts total substring/characters present in the string.\n",
        "* `replace()` the function takes 2 arguments one that is to be replaced, and second with what to replace it.\n",
        "\n",
        "Let us see the first code of the function `count()` in the below code:"
      ]
    },
    {
      "cell_type": "code",
      "execution_count": null,
      "metadata": {
        "colab": {
          "base_uri": "https://localhost:8080/"
        },
        "id": "QDMjiDRI8L7C",
        "outputId": "aa539c12-83ce-482d-db28-e5c3ab5f75c0"
      },
      "outputs": [
        {
          "name": "stdout",
          "output_type": "stream",
          "text": [
            "Occurance of My in a list:\n",
            "2\n"
          ]
        }
      ],
      "source": [
        "text=\"My name is john,or john is My name\"\n",
        "print(\"Occurance of My in a list:\")\n",
        "print(text.count(\"My\"))"
      ]
    },
    {
      "cell_type": "markdown",
      "metadata": {
        "id": "KiLMgWTAj4BW"
      },
      "source": [
        "Let us see the code of the function `replace()` in the below example:"
      ]
    },
    {
      "cell_type": "code",
      "execution_count": null,
      "metadata": {
        "colab": {
          "base_uri": "https://localhost:8080/"
        },
        "id": "13cesFY29SXQ",
        "outputId": "228fa369-70b6-434c-b083-2ed56401ad04"
      },
      "outputs": [
        {
          "name": "stdout",
          "output_type": "stream",
          "text": [
            "Replacing all occurrences of 'john' with 'Alex':\n",
            "My name is Alex\n"
          ]
        }
      ],
      "source": [
        "print(\"Replacing all occurrences of 'john' with 'Alex':\")\n",
        "res=text.replace('john','Alex')\n",
        "print(res)"
      ]
    },
    {
      "cell_type": "markdown",
      "metadata": {
        "id": "hmmfWfbvknby"
      },
      "source": [
        "Let us see the code of the function `find()` in the below example:"
      ]
    },
    {
      "cell_type": "code",
      "execution_count": null,
      "metadata": {
        "colab": {
          "base_uri": "https://localhost:8080/"
        },
        "id": "iiROBMxy9eFT",
        "outputId": "c302b43d-1d50-4eb5-dcd8-34a0b4754571"
      },
      "outputs": [
        {
          "name": "stdout",
          "output_type": "stream",
          "text": [
            "index of the Chara:\n",
            "0\n"
          ]
        }
      ],
      "source": [
        "print(\"Index of the characters:\")\n",
        "print(text.find(\"My\"))\n"
      ]
    },
    {
      "cell_type": "markdown",
      "metadata": {
        "id": "q36V1jh7k6en"
      },
      "source": [
        "Let us see the code of the function `capitalize()` in the below example:"
      ]
    },
    {
      "cell_type": "code",
      "execution_count": null,
      "metadata": {
        "colab": {
          "base_uri": "https://localhost:8080/"
        },
        "id": "1KISLjwx9n-k",
        "outputId": "a07bf089-46f7-44cd-88b1-366cf71f8747"
      },
      "outputs": [
        {
          "name": "stdout",
          "output_type": "stream",
          "text": [
            "Capitalizes the character at index 0 and rest to lower case:\n",
            "My name is alex\n"
          ]
        }
      ],
      "source": [
        "print(\"Capitalizes the character at index 0 and rest to lower case:\")\n",
        "print(text.capitalize())"
      ]
    },
    {
      "cell_type": "markdown",
      "metadata": {
        "id": "FNHWsTeXlBe0"
      },
      "source": [
        "Let us see the code of the function `upper()` in the below example:"
      ]
    },
    {
      "cell_type": "code",
      "execution_count": null,
      "metadata": {
        "colab": {
          "base_uri": "https://localhost:8080/"
        },
        "id": "woIlwPbKVYrR",
        "outputId": "17b7d7cf-7d4c-48ab-dc2a-1eadeeaa52bb"
      },
      "outputs": [
        {
          "name": "stdout",
          "output_type": "stream",
          "text": [
            "Upper case conversion:\n",
            "I AM HERE\n"
          ]
        }
      ],
      "source": [
        "print(\"Upper case conversion:\")\n",
        "text=\"I am here\"\n",
        "print(text.upper())"
      ]
    },
    {
      "cell_type": "markdown",
      "metadata": {
        "id": "K3NNzzMYTdgr"
      },
      "source": [
        "Let us see the code of the function `isdigit()` in the below example:"
      ]
    },
    {
      "cell_type": "code",
      "execution_count": null,
      "metadata": {
        "colab": {
          "base_uri": "https://localhost:8080/"
        },
        "id": "I7_GQpzG12b7",
        "outputId": "09100d7f-2478-4056-cd85-5e4107f39309"
      },
      "outputs": [
        {
          "name": "stdout",
          "output_type": "stream",
          "text": [
            "Check where any digits are present in string or not:\n",
            "False\n",
            "Check where any alphabatic numbers are present in string or not:\n",
            "False\n",
            "Check where any digits are present in string or not:\n",
            "True\n"
          ]
        }
      ],
      "source": [
        "text=\"I am here\"\n",
        "print(\"Check where any digits are present in string or not:\")\n",
        "print(text.isdigit())\n",
        "number=\"123\"\n",
        "print(\"Check where any digits are present in string or not:\")\n",
        "print(number.isdigit())"
      ]
    },
    {
      "cell_type": "markdown",
      "metadata": {
        "id": "vZIlqNnHlQG5"
      },
      "source": []
    },
    {
      "cell_type": "markdown",
      "metadata": {
        "id": "GoIwrRB5lQMs"
      },
      "source": [
        "Let us see the code of the function `isalpha()` in the below example:"
      ]
    },
    {
      "cell_type": "code",
      "execution_count": null,
      "metadata": {
        "id": "FBW89BlL8eV8"
      },
      "outputs": [],
      "source": [
        "print(\"Check where any alphabatic numbers are present in string or not:\")\n",
        "print(text.isalpha())\n",
        "number=\"123\""
      ]
    },
    {
      "cell_type": "markdown",
      "metadata": {
        "id": "H3MUC4EKlWSf"
      },
      "source": [
        "Let us see the code of the function `upper()` in the below example:"
      ]
    },
    {
      "cell_type": "code",
      "execution_count": null,
      "metadata": {
        "colab": {
          "base_uri": "https://localhost:8080/"
        },
        "id": "XcA5WyLycg3U",
        "outputId": "e06af60f-1632-4bae-8937-1546f9f63b7b"
      },
      "outputs": [
        {
          "name": "stdout",
          "output_type": "stream",
          "text": [
            "Upper case conversion:\n",
            "MY NAME IS ALEX\n"
          ]
        }
      ],
      "source": [
        "text=\"My name is Alex\"\n",
        "print(\"Upper case conversion:\")\n",
        "print(text.upper())"
      ]
    },
    {
      "cell_type": "markdown",
      "metadata": {
        "id": "5GuCC-mvlbqv"
      },
      "source": [
        "Let us see the code of the function `lower()` in the below example:"
      ]
    },
    {
      "cell_type": "code",
      "execution_count": null,
      "metadata": {
        "colab": {
          "base_uri": "https://localhost:8080/"
        },
        "id": "KwE1MGeY702j",
        "outputId": "9135e4b7-17e5-472d-b2a6-05912367cf76"
      },
      "outputs": [
        {
          "name": "stdout",
          "output_type": "stream",
          "text": [
            "Lower case String:\n",
            "my name is alex\n"
          ]
        }
      ],
      "source": [
        "# lower() function to convert\n",
        "# string to lower case\n",
        "print(\"Lower case String:\")\n",
        "print(text.lower())\n"
      ]
    },
    {
      "cell_type": "markdown",
      "metadata": {
        "id": "cHVEs5zjlkiG"
      },
      "source": [
        "Let us see the code of the function `title()` in the below example:"
      ]
    },
    {
      "cell_type": "code",
      "execution_count": null,
      "metadata": {
        "colab": {
          "base_uri": "https://localhost:8080/"
        },
        "id": "J-5Hs0R18BOy",
        "outputId": "791ce8cb-59d9-4204-9297-a0fea8c1b4ce"
      },
      "outputs": [
        {
          "name": "stdout",
          "output_type": "stream",
          "text": [
            "Converts the first character to upper case and rest to lower case:\n",
            "My Name Is Alex\n"
          ]
        }
      ],
      "source": [
        "# converts the first character to\n",
        "# upper case and rest to lower case\n",
        "print(\"Converts the first character to \\\n",
        "upper case and rest to lower case:\")\n",
        "print(text.title())"
      ]
    },
    {
      "cell_type": "code",
      "execution_count": null,
      "metadata": {
        "id": "kqwTOlxG8GuZ"
      },
      "outputs": [],
      "source": [
        "# original string never changes\n",
        "print(\"\\nOriginal String\")\n",
        "print(text)\n",
        "\n"
      ]
    },
    {
      "cell_type": "markdown",
      "metadata": {
        "id": "4N7-ZS2ydX9x"
      },
      "source": [
        "### Common functions for the strings\n",
        "1. `string.remove()`-it remove the given word from the string.\n",
        "2. `string.append()`-\tit adds list in the end\n",
        "3. `string.pop()`-it removes the last element.\n",
        "5. `string.insert()`-it inserts 'word' at 0th index\n",
        "6. `string.sort()`- it sorts the string in order\n",
        "7. `string.clear()`-it removes all the elements of the list.\n",
        "Let us see the code of the function `remove()` in the below example:\n"
      ]
    },
    {
      "cell_type": "code",
      "execution_count": null,
      "metadata": {
        "colab": {
          "base_uri": "https://localhost:8080/"
        },
        "id": "Tn1FTbv9HGOU",
        "outputId": "e461ece2-d3c8-4245-b5f7-c86cee45a3a4"
      },
      "outputs": [
        {
          "name": "stdout",
          "output_type": "stream",
          "text": [
            "chillies is romoving:\n"
          ]
        }
      ],
      "source": [
        "veg=[\"tamato\",\"patoto\",\"ginger\",\"chillies\"]\n",
        "print(\"chillies is romoving:\")\n",
        "veg.remove(\"chillies\")\n",
        "\n"
      ]
    },
    {
      "cell_type": "markdown",
      "metadata": {
        "id": "h4-n_de8l7vF"
      },
      "source": [
        "Let us see the code of the function `append()` in the below example:\n"
      ]
    },
    {
      "cell_type": "code",
      "execution_count": null,
      "metadata": {
        "colab": {
          "base_uri": "https://localhost:8080/"
        },
        "id": "y8PAI1dV6WBr",
        "outputId": "cab2f88a-03ca-4eea-8233-9d9d08dd0066"
      },
      "outputs": [
        {
          "name": "stdout",
          "output_type": "stream",
          "text": [
            "cucumber is adding:\n",
            "['tamato', 'patoto', 'ginger', 'Cucumber']\n"
          ]
        }
      ],
      "source": [
        "print(\"cucumber is adding:\")\n",
        "veg.append(\"Cucumber\")\n",
        "print(veg)"
      ]
    },
    {
      "cell_type": "markdown",
      "metadata": {
        "id": "pSeK-tK6mCZ1"
      },
      "source": [
        "Let us see the code of the function `pop()` in the below example:\n"
      ]
    },
    {
      "cell_type": "code",
      "execution_count": null,
      "metadata": {
        "colab": {
          "base_uri": "https://localhost:8080/"
        },
        "id": "bX9Akii-6lGJ",
        "outputId": "de523d13-d196-4f3b-a2ea-569d22e7dd7c"
      },
      "outputs": [
        {
          "name": "stdout",
          "output_type": "stream",
          "text": [
            "last element is romoving:\n",
            "['tamato', 'patoto', 'ginger']\n"
          ]
        }
      ],
      "source": [
        "print(\"last element is romoving:\")\n",
        "veg.pop()\n",
        "print(veg)"
      ]
    },
    {
      "cell_type": "markdown",
      "metadata": {
        "id": "-Q--dE5BmKPR"
      },
      "source": [
        "Let us see the code of the function `insert()` in the below example:\n"
      ]
    },
    {
      "cell_type": "code",
      "execution_count": null,
      "metadata": {
        "id": "uKGVSNsO6zmK"
      },
      "outputs": [],
      "source": [
        "print(\"Chillies is adding at 0th index:\")\n",
        "veg.insert(0,\"Chillies\")\n",
        "print(veg)"
      ]
    },
    {
      "cell_type": "markdown",
      "metadata": {
        "id": "RGZAmzJ_mSFk"
      },
      "source": [
        "Let us see the code of the function `sort()` in the below example:"
      ]
    },
    {
      "cell_type": "code",
      "execution_count": null,
      "metadata": {
        "colab": {
          "base_uri": "https://localhost:8080/"
        },
        "id": "bhnRR9Vr7EZg",
        "outputId": "7e118715-596c-4012-88b7-c72a59811794"
      },
      "outputs": [
        {
          "name": "stdout",
          "output_type": "stream",
          "text": [
            "Elements is sorting according to alphatic orde:\n",
            "['ginger', 'patoto', 'tamato']\n"
          ]
        }
      ],
      "source": [
        "veg.sort()\n",
        "print(\"Elements is sorting according to alphatic orde:\")\n",
        "print(veg)"
      ]
    },
    {
      "cell_type": "markdown",
      "metadata": {
        "id": "f81TuLx7mZBu"
      },
      "source": [
        "Let us see the code of the function `clear()` in the below example:"
      ]
    },
    {
      "cell_type": "code",
      "execution_count": null,
      "metadata": {
        "id": "M46WTvkS7I2z"
      },
      "outputs": [],
      "source": [
        "veg.clear()\n",
        "print(\"All the Elements is removed:\")\n",
        "print(veg)"
      ]
    },
    {
      "cell_type": "markdown",
      "metadata": {
        "id": "VkTy12cq9Kto"
      },
      "source": [
        "#### What is Substring?\n",
        "\n",
        "Substring is a subset of string, it can be from starting to end, from middle to anyone. The following examples are reprenting substring.\n"
      ]
    },
    {
      "cell_type": "code",
      "execution_count": null,
      "metadata": {
        "colab": {
          "base_uri": "https://localhost:8080/"
        },
        "id": "QaySJVg2-pzY",
        "outputId": "8f2e74ba-a189-4550-e99f-97adacebb458"
      },
      "outputs": [
        {
          "name": "stdout",
          "output_type": "stream",
          "text": [
            "Length of the strings are:\n",
            "16\n"
          ]
        }
      ],
      "source": [
        "text=\" My name is Alex\"\n",
        "a=len(text);\n",
        "print(\"Length of the strings are:\")\n",
        "print(a)\n"
      ]
    },
    {
      "cell_type": "code",
      "execution_count": null,
      "metadata": {
        "colab": {
          "base_uri": "https://localhost:8080/"
        },
        "id": "YG67lBwN7uFi",
        "outputId": "886b7da3-7be7-44b5-853d-e310ff1dbb24"
      },
      "outputs": [
        {
          "name": "stdout",
          "output_type": "stream",
          "text": [
            "substrings from index 0 to length of string:\n",
            " My name is Alex\n"
          ]
        }
      ],
      "source": [
        "print(\"substrings from index 0 to length of string:\")\n",
        "s=text[0:a]\n",
        "print(s)"
      ]
    },
    {
      "cell_type": "markdown",
      "metadata": {
        "id": "KZq08TlK_uM0"
      },
      "source": [
        "Let us take another example where we are taking middle substring\n"
      ]
    },
    {
      "cell_type": "code",
      "execution_count": null,
      "metadata": {
        "colab": {
          "base_uri": "https://localhost:8080/"
        },
        "id": "7VvYFzUv_9eK",
        "outputId": "f5d5292d-e993-45d6-868a-bce2c0e5867c"
      },
      "outputs": [
        {
          "name": "stdout",
          "output_type": "stream",
          "text": [
            "ame is\n"
          ]
        }
      ],
      "source": [
        "text=\" My name is Alex\"\n",
        "a=len(text);\n",
        "s=text[5:a-5]\n",
        "print(s)"
      ]
    },
    {
      "cell_type": "markdown",
      "metadata": {
        "id": "nGIQDt8sANQ9"
      },
      "source": [
        "If we want to print substring in reverse then we  write the following codes like this. A negative start position denotes the position from end of the main string towards start."
      ]
    },
    {
      "cell_type": "code",
      "execution_count": null,
      "metadata": {
        "colab": {
          "base_uri": "https://localhost:8080/"
        },
        "id": "H7xtfJKYAfOO",
        "outputId": "fc478c3f-5a90-4221-8eb6-3ce9dbfb181f"
      },
      "outputs": [
        {
          "output_type": "stream",
          "name": "stdout",
          "text": [
            "reverse substring:\n",
            "\n"
          ]
        }
      ],
      "source": [
        "text=\" My name is Alex\"\n",
        "a=len(text);\n",
        "print(\"reverse substring:\")\n",
        "s=text[16:5]\n",
        "print(s)"
      ]
    },
    {
      "cell_type": "code",
      "execution_count": null,
      "metadata": {
        "colab": {
          "base_uri": "https://localhost:8080/"
        },
        "id": "DFT86l9ZQKte",
        "outputId": "ff33bb3a-9e3e-4396-b63f-a66932172a47"
      },
      "outputs": [
        {
          "name": "stdout",
          "output_type": "stream",
          "text": [
            "find the maximum value among the given values:\n",
            "geeks\n"
          ]
        }
      ],
      "source": [
        "var1 = \"geeks\"\n",
        "var2 = \"for\"\n",
        "var3 = \"geek\"\n",
        "print(\"find the maximum value among the given values:\")\n",
        "max_val = max(var1, var2, var3)\n",
        "print(max_val)\n"
      ]
    },
    {
      "cell_type": "markdown",
      "metadata": {
        "id": "OGFRyXr4SlLj"
      },
      "source": [
        "# **Loops in Python**\n",
        "There are two loops in python\n",
        "1. For\n",
        "2. While\n",
        "\n",
        "Loops is used when same condition is repeating again and again.\n",
        "First we will understand the concept for loop"
      ]
    },
    {
      "cell_type": "code",
      "execution_count": null,
      "metadata": {
        "colab": {
          "base_uri": "https://localhost:8080/"
        },
        "id": "Wrc8fvuUTBPU",
        "outputId": "a8a1b233-c83d-49a2-a873-81e0afe6bfa6"
      },
      "outputs": [
        {
          "name": "stdout",
          "output_type": "stream",
          "text": [
            "patato\n",
            "tamato\n",
            "Brinjal\n"
          ]
        }
      ],
      "source": [
        "Vegetables = [\"patato\", \"tamato\", \"Brinjal\"]\n",
        "for x in Vegetables:\n",
        "  print(x)"
      ]
    },
    {
      "cell_type": "code",
      "execution_count": null,
      "metadata": {
        "colab": {
          "base_uri": "https://localhost:8080/"
        },
        "id": "3Gzd-qaPUg5t",
        "outputId": "8231f0e9-30c7-4644-c4c5-39e59369c47a"
      },
      "outputs": [
        {
          "name": "stdout",
          "output_type": "stream",
          "text": [
            "geeks\n",
            "p\n",
            "a\n",
            "t\n",
            "a\n",
            "t\n",
            "o\n"
          ]
        }
      ],
      "source": [
        "Vegetables = \"patato\"\n",
        "\n",
        "for x in Vegetables:\n",
        "  print(x)"
      ]
    },
    {
      "cell_type": "markdown",
      "metadata": {
        "id": "zy2xg8HLPyf_"
      },
      "source": []
    },
    {
      "cell_type": "markdown",
      "metadata": {
        "id": "1XvSL3tJaZKY"
      },
      "source": [
        "## While loop\n",
        "There is another loop used in python which is while.\n",
        "The  while loop and for loop consist of this\n",
        "1. Intialisation\n",
        "2. Condition\n",
        "3. Updation\n",
        "\n",
        "There is loop controlling statements also\n",
        "which are:\n",
        "1. Break\n",
        "2. Continue\n",
        "3. Pass\n",
        "\n",
        "\n",
        "\n",
        "\n",
        "\n"
      ]
    },
    {
      "cell_type": "code",
      "execution_count": null,
      "metadata": {
        "colab": {
          "base_uri": "https://localhost:8080/"
        },
        "id": "k838uMjla98O",
        "outputId": "56497b79-b3be-46b2-ba00-fdc1d419c9d9"
      },
      "outputs": [
        {
          "name": "stdout",
          "output_type": "stream",
          "text": [
            "2\n",
            "3\n"
          ]
        }
      ],
      "source": [
        "i = 2 # initialisation\n",
        "while i < 6: # condition\n",
        "  print(i)\n",
        "  if i == 3:\n",
        "    break # after this command loop will not execute\n",
        "  i += 1 # updation"
      ]
    },
    {
      "cell_type": "code",
      "execution_count": null,
      "metadata": {
        "colab": {
          "base_uri": "https://localhost:8080/"
        },
        "id": "5VRPpbC7pJVT",
        "outputId": "03a22f01-130f-4402-b69a-a22f44a13dea"
      },
      "outputs": [
        {
          "name": "stdout",
          "output_type": "stream",
          "text": [
            "0 1 2 3 0 1 2 3 0 1 2 3 0 1 2 3 0 1 2 3 0 1 2 3 "
          ]
        }
      ],
      "source": [
        "# one loop inside another is taken, here end=\"\" is used to print in one line\n",
        "for y in range(6): # range is 0, 1, 2, 3,4,5\n",
        "  for y in range(4): # range is 0,1,2, 3\n",
        "    print(y, end = \" \")\n"
      ]
    },
    {
      "cell_type": "markdown",
      "metadata": {
        "id": "DAtvADC8sXPy"
      },
      "source": [
        "## Loop control statement\n",
        "1. Break\n",
        "2. continue\n",
        "3. pass\n",
        "\n",
        "Break will terminate the loop at that instant."
      ]
    },
    {
      "cell_type": "code",
      "execution_count": null,
      "metadata": {
        "colab": {
          "base_uri": "https://localhost:8080/"
        },
        "id": "Z88z7W2xbKft",
        "outputId": "2659d24d-4696-4e7e-9b26-c266dacb542e"
      },
      "outputs": [
        {
          "name": "stdout",
          "output_type": "stream",
          "text": [
            "Here for loop will run till 6 its range is given 6 but break is applied loops will terminates on 4:\n",
            "0 1 2 3 "
          ]
        }
      ],
      "source": [
        "print(\"Here for loop will run till 6 its range is given 6 but break is applied loops will terminates on 4:\")\n",
        "for y in range(6):\n",
        "  if y == 4: break\n",
        "  print(y, end=\" \")\n",
        "else:\n",
        "  print(\"Finally finished!\")\n",
        "\n"
      ]
    },
    {
      "cell_type": "markdown",
      "metadata": {
        "id": "z5O_nbstoZMn"
      },
      "source": []
    },
    {
      "cell_type": "markdown",
      "metadata": {
        "id": "njHtm8J7tJZS"
      },
      "source": [
        "2. Continue- skips to the next iteration of the loop.\n",
        "\n"
      ]
    },
    {
      "cell_type": "code",
      "execution_count": null,
      "metadata": {
        "colab": {
          "base_uri": "https://localhost:8080/"
        },
        "id": "YY8gb-ImtseS",
        "outputId": "7c12b861-0ca8-4414-d26f-2d20a5fbb755"
      },
      "outputs": [
        {
          "name": "stdout",
          "output_type": "stream",
          "text": [
            "here e will not come in output continue will skip the word e:\n",
            "studyhrjhg"
          ]
        }
      ],
      "source": [
        "print(\"here e will not come in output continue will skip the word e:\")\n",
        "for var in \"studyhereeeejhg\":\n",
        "    if var == \"e\":\n",
        "        continue\n",
        "    print(var, end=\"\")"
      ]
    },
    {
      "cell_type": "markdown",
      "metadata": {
        "id": "LyhOS-P7t62J"
      },
      "source": [
        "3. Pass:\n",
        "does nothing, acts as a placeholder."
      ]
    },
    {
      "cell_type": "code",
      "execution_count": null,
      "metadata": {
        "colab": {
          "base_uri": "https://localhost:8080/"
        },
        "id": "m2vvsFkxvA-R",
        "outputId": "1c501eba-72fc-4d52-9ca8-f9f02deb4cba"
      },
      "outputs": [
        {
          "name": "stdout",
          "output_type": "stream",
          "text": [
            "here pass will not execute anything:\n"
          ]
        }
      ],
      "source": [
        "print(\"Here pass will not execute anything:\")\n",
        "a = 30\n",
        "b = 40\n",
        "\n",
        "if(a<b):\n",
        "  pass\n",
        "else:\n",
        "  print(\"b<a\")"
      ]
    },
    {
      "cell_type": "code",
      "execution_count": null,
      "metadata": {
        "colab": {
          "base_uri": "https://localhost:8080/"
        },
        "id": "5fzdZVvib9Jk",
        "outputId": "97d0cbed-817f-4fc8-862d-b317d4a85173"
      },
      "outputs": [
        {
          "name": "stdout",
          "output_type": "stream",
          "text": [
            "3 is skipped using continue statement:\n",
            "6\n",
            "9\n",
            "12\n"
          ]
        }
      ],
      "source": [
        "print(\"3 is skipped using continue statement:\")\n",
        "i = 0\n",
        "while i < 10:\n",
        "  i += 3\n",
        "  if i == 3:\n",
        "    continue\n",
        "  print(i)\n"
      ]
    },
    {
      "cell_type": "code",
      "execution_count": null,
      "metadata": {
        "colab": {
          "base_uri": "https://localhost:8080/"
        },
        "id": "oanRrdq-c56K",
        "outputId": "e5b0d8d2-2fae-40ba-c42d-a5af0aa66e95"
      },
      "outputs": [
        {
          "name": "stdout",
          "output_type": "stream",
          "text": [
            "Enter your name:NoneSheetal\n",
            "Hello Sheetal\n"
          ]
        }
      ],
      "source": [
        "name = None\n",
        "while not name:\n",
        "  \t\tname = input(\"Enter your name:\"+str(name))\n",
        "print(\"Hello \"+name)\n"
      ]
    },
    {
      "cell_type": "markdown",
      "metadata": {
        "id": "a-s9RrVlpCi8"
      },
      "source": [
        "### Nested loop\n",
        "\n",
        "When there is one loop inside another loop then this is called nested loop.\n"
      ]
    },
    {
      "cell_type": "code",
      "execution_count": null,
      "metadata": {
        "colab": {
          "base_uri": "https://localhost:8080/"
        },
        "id": "InrgeCcaqz2I",
        "outputId": "e69bd1c3-4fda-4d14-9163-21dbba6db48c"
      },
      "outputs": [
        {
          "name": "stdout",
          "output_type": "stream",
          "text": [
            "1 4\n",
            "1 5\n",
            "2 4\n",
            "2 5\n"
          ]
        }
      ],
      "source": [
        "x1 = [2, 1]\n",
        "x2 = [3, 4]\n",
        "\n",
        "for i in x1:\n",
        "  for j in x2:\n",
        "    print(i, j)"
      ]
    },
    {
      "cell_type": "markdown",
      "metadata": {
        "id": "VEcAJHLMJQUe"
      },
      "source": [
        "# Math Module\n",
        "\n",
        "A Python module is a file containing Python definitions, statements, and functions that can be imported into other Python scripts or programs. Modules are used to organize and reuse code, making it easier to manage large codebases and collaborate with other developers.\n",
        "\n",
        "Python comes with a large number of built-in modules, such as \"os\" for operating system interactions, \"sys\" for system-specific parameters and functions, \"math\" for mathematical operations, and \"datetime\" for working with dates and times. In addition to these built-in modules, there are also many third-party modules available for download and use from the Python Package Index (PyPI).\n",
        "\n",
        "To use a module in your Python code, you typically start by importing it using the \"import\" statement, like this:\n"
      ]
    },
    {
      "cell_type": "code",
      "source": [
        "import math\n",
        "print(math.sqrt(16))  # prints 4.0"
      ],
      "metadata": {
        "colab": {
          "base_uri": "https://localhost:8080/"
        },
        "id": "V2CBjCT6K9Rx",
        "outputId": "3c787855-233c-4a74-b39b-e510f25ba0f1"
      },
      "execution_count": null,
      "outputs": [
        {
          "output_type": "stream",
          "name": "stdout",
          "text": [
            "4.0\n"
          ]
        }
      ]
    },
    {
      "cell_type": "code",
      "execution_count": null,
      "metadata": {
        "colab": {
          "base_uri": "https://localhost:8080/"
        },
        "id": "524ru9IJMaNs",
        "outputId": "36f079df-acfc-4a71-ee55-b1fba48009b4"
      },
      "outputs": [
        {
          "name": "stdout",
          "output_type": "stream",
          "text": [
            "Math module is imported using math:\n",
            "3.141592653589793\n"
          ]
        }
      ],
      "source": [
        "import math\n",
        "print(\"Math module is imported using math:\")\n",
        "print(math.pi)"
      ]
    },
    {
      "cell_type": "markdown",
      "source": [
        "To create a module just save the code you want in a file with the file extension .py:\n",
        "Save this code in a file named abc.py"
      ],
      "metadata": {
        "id": "_3ywmEefMYdH"
      }
    },
    {
      "cell_type": "code",
      "source": [
        "def greeting(name):\n",
        "  print(\"Hello, \" + name)"
      ],
      "metadata": {
        "id": "E21_Dk-VM9sl"
      },
      "execution_count": null,
      "outputs": []
    },
    {
      "cell_type": "markdown",
      "source": [
        "Now we can use the module we just created, by using the import statement:"
      ],
      "metadata": {
        "id": "yAa70tSJNeeX"
      }
    },
    {
      "cell_type": "code",
      "source": [
        "import abc\n",
        "mymodule.greeting(\"Jonathan\")"
      ],
      "metadata": {
        "colab": {
          "base_uri": "https://localhost:8080/",
          "height": 183
        },
        "id": "EkpWBeSpNvPf",
        "outputId": "d8e9cabd-40e7-472a-f8f5-7afde4447266"
      },
      "execution_count": null,
      "outputs": [
        {
          "output_type": "error",
          "ename": "NameError",
          "evalue": "ignored",
          "traceback": [
            "\u001b[0;31m---------------------------------------------------------------------------\u001b[0m",
            "\u001b[0;31mNameError\u001b[0m                                 Traceback (most recent call last)",
            "\u001b[0;32m<ipython-input-5-ff8e08391963>\u001b[0m in \u001b[0;36m<module>\u001b[0;34m\u001b[0m\n\u001b[1;32m      1\u001b[0m \u001b[0;32mimport\u001b[0m \u001b[0mabc\u001b[0m\u001b[0;34m\u001b[0m\u001b[0;34m\u001b[0m\u001b[0m\n\u001b[0;32m----> 2\u001b[0;31m \u001b[0mmymodule\u001b[0m\u001b[0;34m.\u001b[0m\u001b[0mgreeting\u001b[0m\u001b[0;34m(\u001b[0m\u001b[0;34m\"Jonathan\"\u001b[0m\u001b[0;34m)\u001b[0m\u001b[0;34m\u001b[0m\u001b[0;34m\u001b[0m\u001b[0m\n\u001b[0m",
            "\u001b[0;31mNameError\u001b[0m: name 'mymodule' is not defined"
          ]
        }
      ]
    },
    {
      "cell_type": "markdown",
      "metadata": {
        "id": "om_yiwzgNS7q"
      },
      "source": [
        "Let us perform some task using math operation\n"
      ]
    },
    {
      "cell_type": "code",
      "execution_count": null,
      "metadata": {
        "colab": {
          "base_uri": "https://localhost:8080/"
        },
        "id": "h1kRxG4tNrd4",
        "outputId": "56cebe98-6707-410c-9678-900b855884ec"
      },
      "outputs": [
        {
          "name": "stdout",
          "output_type": "stream",
          "text": [
            "round wll remove the value after decimal:\n",
            "3\n"
          ]
        }
      ],
      "source": [
        "import math\n",
        "print(\"round wll remove the value after decimal:\")\n",
        "print(round(math.pi))\n"
      ]
    },
    {
      "cell_type": "code",
      "execution_count": null,
      "metadata": {
        "colab": {
          "base_uri": "https://localhost:8080/"
        },
        "id": "L5vwEHmtO3zd",
        "outputId": "0a3d809c-254c-485f-cfae-c3456f08dd9c"
      },
      "outputs": [
        {
          "name": "stdout",
          "output_type": "stream",
          "text": [
            "print the infinity:\n",
            "inf\n",
            "print the minus infinity:\n",
            "-inf\n",
            "How far the value is from zero:\n",
            "3\n"
          ]
        }
      ],
      "source": [
        "import math\n",
        "print(\"print the infinity:\")\n",
        "print (math.inf)\n",
        "print(\"print the minus infinity:\")\n",
        "print (-math.inf)\n",
        "print(\"How far the value is from zero:\")\n",
        "print(math.floor(math.pi))"
      ]
    },
    {
      "cell_type": "code",
      "execution_count": null,
      "metadata": {
        "colab": {
          "base_uri": "https://localhost:8080/"
        },
        "id": "nRYAaqwp7jM4",
        "outputId": "8e841110-8060-40dd-fea0-0720459c7f09"
      },
      "outputs": [
        {
          "name": "stdout",
          "output_type": "stream",
          "text": [
            "find the minimum values among the given values:\n",
            "for\n"
          ]
        }
      ],
      "source": [
        "print(\"find the minimum values among the given values:\")\n",
        "min_val = min(var1, var2, var3)\n",
        "print(min_val)"
      ]
    },
    {
      "cell_type": "markdown",
      "source": [
        "# Data structures in Python"
      ],
      "metadata": {
        "id": "DraG_86dEZXj"
      }
    },
    {
      "cell_type": "markdown",
      "metadata": {
        "id": "iqLYhofn94Uy"
      },
      "source": [
        "## List of List- 2D array\n",
        "\n",
        "it is a list of list.\n"
      ]
    },
    {
      "cell_type": "code",
      "execution_count": null,
      "metadata": {
        "colab": {
          "base_uri": "https://localhost:8080/"
        },
        "id": "9lS2fkVQ9_Fd",
        "outputId": "aff42ea5-3a1b-4b9e-85c0-e73fe407e3fa"
      },
      "outputs": [
        {
          "name": "stdout",
          "output_type": "stream",
          "text": [
            "[['coffee', 'soda', 'tea'], ['burger', 'pizza', 'hotdog'], ['ice cream', 'cake']]\n",
            "['burger', 'pizza', 'hotdog']\n",
            "ice cream\n",
            "soda\n",
            "tea\n",
            "burger\n"
          ]
        }
      ],
      "source": [
        "drinks = [\"coffee\", \"soda\", \"tea\"]\n",
        "dinner = [\"burger\", \"pizza\", \"hotdog\"]\n",
        "desserts = [\"ice cream\", \"cake\"]\n",
        "food = [drinks, dinner, desserts]\n",
        "print(food)                 # prints list of list\n",
        "print(food[1])              # prints dinner list here which is indexed 1\n",
        "print(food[2][0])\n",
        "print(food[0][1])\n",
        "print(food[0][2])\n",
        "print(food[1][0])"
      ]
    },
    {
      "cell_type": "code",
      "execution_count": null,
      "metadata": {
        "colab": {
          "base_uri": "https://localhost:8080/"
        },
        "id": "nXvEQz8P9YVK",
        "outputId": "d1424e96-0e7f-41fd-bf5e-de55bf153723"
      },
      "outputs": [
        {
          "name": "stdout",
          "output_type": "stream",
          "text": [
            "[['coffee', 'soda', 'tea'], ['burger', 'pizza', 'hotdog']]\n",
            "['burger', 'pizza', 'hotdog']\n",
            "burger\n",
            "soda\n",
            "tea\n",
            "hotdog\n"
          ]
        }
      ],
      "source": [
        "drinks = [\"coffee\", \"soda\", \"tea\"]\n",
        "dinner = [\"burger\", \"pizza\", \"hotdog\"]\n",
        "food = [drinks, dinner]\n",
        "print(\" drinks and dinner is stored in 2D Array\")\n",
        "print(food)                 # prints list of list\n",
        "print(food[1])              # prints dinner list here which is indexed 1\n",
        "print(food[1][0])\n",
        "print(food[0][1])\n",
        "print(food[0][2])\n",
        "print(food[1][2])"
      ]
    },
    {
      "cell_type": "markdown",
      "metadata": {
        "id": "eUSvLPZMAXA0"
      },
      "source": [
        "## Tuple\n",
        "\n",
        "A tuple is a data type of python which is unchangeable and ordered.If we wish to change then duplicate the touple.\n",
        "It is used to store mutiple items in single variable. it is written in square brackets.\n"
      ]
    },
    {
      "cell_type": "code",
      "execution_count": null,
      "metadata": {
        "colab": {
          "base_uri": "https://localhost:8080/"
        },
        "id": "5qm7LIyMBOR3",
        "outputId": "76bc6a7c-87b7-4f17-ff81-865ecb5ad0fd"
      },
      "outputs": [
        {
          "name": "stdout",
          "output_type": "stream",
          "text": [
            "('Apple', 'banana', ' cherry')\n"
          ]
        }
      ],
      "source": [
        "list=(\"Apple\",\"banana\",\" cherry\")\n",
        "print(list)"
      ]
    },
    {
      "cell_type": "code",
      "execution_count": null,
      "metadata": {
        "colab": {
          "base_uri": "https://localhost:8080/"
        },
        "id": "DlclrTlhCVCJ",
        "outputId": "4aa57312-8a74-40f8-874d-aa3d02b272c5"
      },
      "outputs": [
        {
          "name": "stdout",
          "output_type": "stream",
          "text": [
            "1\n",
            "2\n",
            "Ana\n",
            "21\n",
            "cse\n",
            "Ana is here\n"
          ]
        }
      ],
      "source": [
        "student = (\"Ana\", 21, \"cse\")\n",
        "print(student.count(\"Ana\"))\n",
        "print(student.index(\"cse\"))\n",
        "\n",
        "for x in student:\n",
        "   print(x)\n",
        "\n",
        "if \"Ana\" in student:\n",
        "   print(\"Ana is here\")\n"
      ]
    },
    {
      "cell_type": "markdown",
      "metadata": {
        "id": "AYlHPYW9CaOL"
      },
      "source": []
    },
    {
      "cell_type": "markdown",
      "metadata": {
        "id": "YuJ454FM4wwh"
      },
      "source": [
        "By creating a variable or directly adding value using ‘+’ operator will do the work of adding the single item in tuple, following block of code will make a clear understanding."
      ]
    },
    {
      "cell_type": "code",
      "execution_count": null,
      "metadata": {
        "colab": {
          "base_uri": "https://localhost:8080/"
        },
        "id": "iqZT4eMZ6o-X",
        "outputId": "48fcd102-66e5-4ef4-a53e-6065c8919cb6"
      },
      "outputs": [
        {
          "name": "stdout",
          "output_type": "stream",
          "text": [
            "('Pineapple', 'Orange', 'Mango')\n"
          ]
        }
      ],
      "source": [
        "tuple1 = ('Pineapple','Orange')\n",
        "a ='Mango'\n",
        "tuple1 = tuple1 +(a,)\n",
        "print(tuple1)"
      ]
    },
    {
      "cell_type": "markdown",
      "metadata": {
        "id": "Dv3xOsJk8j27"
      },
      "source": [
        "Converting tuples to add more than list\n",
        "\n",
        "When we want to add more than one items in this. this condition is follows:\n",
        ""
      ]
    },
    {
      "cell_type": "code",
      "execution_count": null,
      "metadata": {
        "colab": {
          "base_uri": "https://localhost:8080/"
        },
        "id": "f_3NRYcH9Eyx",
        "outputId": "4a4aa092-2b83-4f5d-dc8a-a61339a13f82"
      },
      "outputs": [
        {
          "name": "stdout",
          "output_type": "stream",
          "text": [
            "<class 'list'>\n",
            "<class 'tuple'>\n",
            "['Pineaple', 'banana', 'Orange', 'Orange', 'apple', 'watermelon']\n",
            "('Pineaple', 'banana', 'Orange', 'Orange', 'apple', 'watermelon')\n"
          ]
        }
      ],
      "source": [
        "food = ('Pineaple','banana')\n",
        "list1 = ['Orange', 'Orange','apple','watermelon']\n",
        "#converting tuple to list\n",
        "a = list(food)\n",
        "print(type(a))\n",
        "#adding the items\n",
        "for x in list1:\n",
        "    a.append(x)\n",
        "#converting the list again into a tuple\n",
        "b = tuple(a)\n",
        "print(type(b))\n",
        "print(a)\n",
        "print(b)"
      ]
    },
    {
      "cell_type": "markdown",
      "metadata": {
        "id": "Za_QqsO4_CtF"
      },
      "source": [
        "## Set\n",
        "It is an un-ordered, un-indexed collection with no duplicate values.It is written in curly brackets.\n",
        "\n",
        "\n",
        "\n"
      ]
    },
    {
      "cell_type": "code",
      "execution_count": null,
      "metadata": {
        "colab": {
          "base_uri": "https://localhost:8080/"
        },
        "id": "Jt58P43V_ZuX",
        "outputId": "cc248543-c9ab-4833-ea50-73ad3a02a654"
      },
      "outputs": [
        {
          "name": "stdout",
          "output_type": "stream",
          "text": [
            "knife is added in utensils:\n",
            "{'pizza', 'knife', 'plates', 'fork', 'cups'}\n"
          ]
        }
      ],
      "source": [
        "utensils = {\"fork\", \"plates\", \"cups\", \"pizza\"}\n",
        "dishes = {\"pudding\", \"pizza\", \"burger\"}\n",
        "# knife is added in utensils. It is added unordered way.\n",
        "utensils.add(\"knife\")\n",
        "print(\"knife is added in utensils:\")\n",
        "print(utensils)"
      ]
    },
    {
      "cell_type": "code",
      "execution_count": null,
      "metadata": {
        "colab": {
          "base_uri": "https://localhost:8080/"
        },
        "id": "1Bb3osJjCJ1I",
        "outputId": "f6cd3431-30ab-45af-cab3-8870f531fb09"
      },
      "outputs": [
        {
          "name": "stdout",
          "output_type": "stream",
          "text": [
            "{'pudding', 'burger', 'pizza'}\n"
          ]
        }
      ],
      "source": [
        "#fork is removing from utensil\n",
        "print(\"fork is removed:\")\n",
        "utensils.remove(\"fork\")\n",
        "#all the elements from the utensils is removed\n",
        "print(\"All the elements are gone:\")\n",
        "utensils.clear()                          # all the elements are gone."
      ]
    },
    {
      "cell_type": "code",
      "execution_count": null,
      "metadata": {
        "colab": {
          "base_uri": "https://localhost:8080/"
        },
        "id": "R2CYJ8w1ScbJ",
        "outputId": "b01af399-4afe-4128-918e-faec85dd4efb"
      },
      "outputs": [
        {
          "name": "stdout",
          "output_type": "stream",
          "text": [
            "{'burger', 'pizza', 'knife', 'plates', 'fork', 'pudding', 'cups'}\n"
          ]
        }
      ],
      "source": [
        "# dishes is updating.\n",
        "utensils.update(dishes)\n",
        "print(utensils)"
      ]
    },
    {
      "cell_type": "markdown",
      "metadata": {
        "id": "5zAAXJviTZKf"
      },
      "source": [
        "## Dictonary\n",
        "A dictionary is a collection which is ordered*, changeable and do not allow duplicates.The elements in a dictionary are accessed via keys(unique identifier and are immutable).\n",
        "Specify keys to access the values.\n",
        "Hashing: it is a input of any length into fixed size length using a mathematical function(hash function).\n",
        "mathematica\n",
        "Input —---—----> Hash function —------> hash value(unique)\n",
        "It is a searching technique, where time complexity is in order O(1).\n",
        "By using hash functions, we calculate the address for storing the data in the hash table.\n",
        "Hash functions generate fixed length values. The hash will always be of predetermined fixed length.\n",
        "\n"
      ]
    },
    {
      "cell_type": "code",
      "execution_count": null,
      "metadata": {
        "colab": {
          "base_uri": "https://localhost:8080/"
        },
        "id": "GwWYE_RSV1ev",
        "outputId": "41b6b7a2-dc97-4d7f-9242-231445bb9090"
      },
      "outputs": [
        {
          "name": "stdout",
          "output_type": "stream",
          "text": [
            "Dictonary:\n",
            "{'brand': 'Ford', 'model': 'Mustang', 'year': 1964}\n"
          ]
        }
      ],
      "source": [
        "#print(\"dictionary is giving output using key\")\n",
        "example = {\n",
        "  \"Company\": \"Ford\",\n",
        "  \"model\": \"Mustang\",\n",
        "  \"year\": 1964\n",
        "}\n",
        "print(\"Dictonary:\")\n",
        "print(example)"
      ]
    },
    {
      "cell_type": "markdown",
      "metadata": {
        "id": "JMF_EOJYXNZC"
      },
      "source": [
        "### Duplicate Element concept\n",
        "When we take same element in dictonary then the element that have less order will be taken by it. Below code will clarify the concept.\n",
        "\n"
      ]
    },
    {
      "cell_type": "code",
      "execution_count": null,
      "metadata": {
        "colab": {
          "base_uri": "https://localhost:8080/"
        },
        "id": "qMAAaF_yWh8i",
        "outputId": "7d391698-4945-4fe3-ceff-441a55dde8bb"
      },
      "outputs": [
        {
          "name": "stdout",
          "output_type": "stream",
          "text": [
            "{'Company': 'Ford', 'model': 'Mustang', 'year': 1945}\n"
          ]
        }
      ],
      "source": [
        "# As duplicate element is stored in dictonary, year:1945 is taken\n",
        "example = {\n",
        "  \"Company\": \"Ford\",\n",
        "  \"model\": \"Mustang\",\n",
        "  \"year\": 1964,\n",
        "  \"year\":1945\n",
        "}\n",
        "print(\"Less values is taken in duplicate connditions\")\n",
        "print(example)"
      ]
    },
    {
      "cell_type": "markdown",
      "metadata": {
        "id": "q498_uKzZ2If"
      },
      "source": [
        "### Common functions for Dictionary\n",
        "1. `dictonary_name.update()`: It will add the elements in dictonary.\n",
        "2. `dictonary_name.pop()`remove a key and its value.\n",
        "3. `dictonary_name.clear()`: It will remove all the elements from dictonary.\n",
        "4. `dictonary_name.keys()`:It will print only keys.\n",
        "5. `dictonary_name.values()`: It will print only values.\n",
        "6. `dictonary_name.items()`: It will print all the elements of the dictonary.\n",
        "7. `dictonary_name[]`: if key not present it will give error.\n",
        "8. `dictonary_name.remove()` This will return none if values is not present."
      ]
    },
    {
      "cell_type": "code",
      "execution_count": null,
      "metadata": {
        "colab": {
          "base_uri": "https://localhost:8080/"
        },
        "id": "zE7b4IaaYcmX",
        "outputId": "c08be0ef-6ee0-42dd-f4b3-e142a8139c68"
      },
      "outputs": [
        {
          "name": "stdout",
          "output_type": "stream",
          "text": [
            "new elements will be added\n",
            "{'USA': 'Washington DC', 'India': 'New Delhi', 'China': 'Beijing', 'Russia': 'Moscow', 'Germany': 'Berlin'}\n"
          ]
        }
      ],
      "source": [
        "# update will add the new element in Dictonary\n",
        "capitals = {'USA': 'Washington DC', 'India': 'New Delhi', 'China':   'Beijing', 'Russia': 'Moscow'}\n",
        "capitals.update({'Germany':'Berlin'})\n",
        "print(\"new elements will be added\")\n",
        "print(capitals)\n"
      ]
    },
    {
      "cell_type": "code",
      "execution_count": null,
      "metadata": {
        "colab": {
          "base_uri": "https://localhost:8080/"
        },
        "id": "U0xsLzAk2zVS",
        "outputId": "951427f1-ebbf-4daa-faeb-1f35179dbeff"
      },
      "outputs": [
        {
          "name": "stdout",
          "output_type": "stream",
          "text": [
            "key and value will remove:\n",
            "{'USA': 'Washington DC', 'India': 'New Delhi', 'Russia': 'Moscow', 'Germany': 'Berlin'}\n"
          ]
        }
      ],
      "source": [
        "#key will remove and value will be return.\n",
        "capitals.pop('China')\n",
        "print(\"key and value will remove:\")\n",
        "print(capitals)"
      ]
    },
    {
      "cell_type": "code",
      "execution_count": null,
      "metadata": {
        "colab": {
          "base_uri": "https://localhost:8080/"
        },
        "id": "2FaYdX8u34I_",
        "outputId": "6ad988f4-832b-4c23-c5fe-0429d1cd6368"
      },
      "outputs": [
        {
          "name": "stdout",
          "output_type": "stream",
          "text": [
            "It will remove all the elements from dictonary.:\n",
            "{}\n"
          ]
        }
      ],
      "source": [
        "#It will remove all the elements from dictonary.\n",
        "capitals.clear()\n",
        "print(\"It will remove all the elements from dictonary.:\")\n",
        "print(capitals)"
      ]
    },
    {
      "cell_type": "code",
      "execution_count": null,
      "metadata": {
        "colab": {
          "base_uri": "https://localhost:8080/"
        },
        "id": "cWWCfjFR5AXT",
        "outputId": "cf1bb02b-e591-4d8f-f195-67baa137fdb7"
      },
      "outputs": [
        {
          "name": "stdout",
          "output_type": "stream",
          "text": [
            "good\n",
            "None\n"
          ]
        }
      ],
      "source": [
        "#this will return None if elements are not present.\n",
        "d = {'coding': 'good', 'thinking': 'better'}\n",
        "#print(\"coding will return:\")\n",
        "print(d.get('coding'))\n",
        "#print(\"None will return:\")\n",
        "print(d.get('hello'))"
      ]
    },
    {
      "cell_type": "code",
      "execution_count": null,
      "metadata": {
        "colab": {
          "base_uri": "https://localhost:8080/"
        },
        "id": "uNog0arNalqL",
        "outputId": "8f6574ef-1ee4-4b2d-82e2-5ea7b9ad5d64"
      },
      "outputs": [
        {
          "name": "stdout",
          "output_type": "stream",
          "text": [
            "keys of capitals are:\n",
            "dict_keys(['USA', 'India', 'China', 'Russia', 'Germany'])\n"
          ]
        }
      ],
      "source": [
        "#keys of Dictonary\n",
        "print(\"keys of capitals are:\")\n",
        "print(capitals.keys())"
      ]
    },
    {
      "cell_type": "markdown",
      "metadata": {
        "id": "WTzVlH2BXLYu"
      },
      "source": []
    },
    {
      "cell_type": "code",
      "execution_count": null,
      "metadata": {
        "colab": {
          "base_uri": "https://localhost:8080/"
        },
        "id": "yDFlrugxWo-j",
        "outputId": "af07d77c-e779-40d9-df00-78de7fc893d1"
      },
      "outputs": [
        {
          "name": "stdout",
          "output_type": "stream",
          "text": [
            "dict_values(['Washington DC', 'New Delhi', 'Beijing', 'Moscow', 'Berlin'])\n"
          ]
        }
      ],
      "source": [
        "#values of Dictonary\n",
        "print(\"values of capitals are\")\n",
        "print(capitals.values())"
      ]
    },
    {
      "cell_type": "code",
      "execution_count": null,
      "metadata": {
        "colab": {
          "base_uri": "https://localhost:8080/"
        },
        "id": "1PxA1AEgW9he",
        "outputId": "f8050dc7-9309-4fa6-8841-249f068ac680"
      },
      "outputs": [
        {
          "name": "stdout",
          "output_type": "stream",
          "text": [
            "All the elements of dictonary will come:\n",
            "dict_items([('USA', 'Washington DC'), ('India', 'New Delhi'), ('China', 'Beijing'), ('Russia', 'Moscow'), ('Germany', 'Berlin')])\n",
            "For loop is working:\n",
            "USA Washington DC\n",
            "India New Delhi\n",
            "China Beijing\n",
            "Russia Moscow\n",
            "Germany Berlin\n"
          ]
        }
      ],
      "source": [
        "#items of Dictonary\n",
        "print(\"All the elements of dictonary will come:\")\n",
        "print(capitals.items())\n",
        "#loop is run to print all the keys and values\n",
        "print(\"For loop is working:\")\n",
        "for key, item in capitals.items():\n",
        "   print(key, item)"
      ]
    },
    {
      "cell_type": "markdown",
      "metadata": {
        "id": "p6CCtm3SdH72"
      },
      "source": [
        "# **Index Operator**\n",
        "It is written in [] brackets.\n",
        "Using index operator we can acess strings, lists and tuples.\n",
        "following examples are:"
      ]
    },
    {
      "cell_type": "markdown",
      "metadata": {
        "id": "InA85dFpTw5F"
      },
      "source": []
    },
    {
      "cell_type": "code",
      "execution_count": null,
      "metadata": {
        "colab": {
          "base_uri": "https://localhost:8080/"
        },
        "id": "ItzqSttKd4y1",
        "outputId": "dad018bb-bc28-4412-b6d2-0593b6d3024b"
      },
      "outputs": [
        {
          "name": "stdout",
          "output_type": "stream",
          "text": [
            "Capitalise the  word name\n",
            "Python code\n",
            "Using index Operators sunstring is making upper:\n",
            "PYT\n",
            "Last element of substring is taken:\n",
            "e\n"
          ]
        }
      ],
      "source": [
        "name = 'python code'\n",
        "#if first character is lower then other word will make capitalise.\n",
        "if name[0].islower():\n",
        "    \t\tname = name.capitalize()\n",
        "print(\"Capitalise the  word name\")\n",
        "print(name)\n",
        "print(\"Using index Operators sunstring is making upper:\")\n",
        "first_name = name[0:3].upper()\n",
        "print(first_name)\n",
        "print(\"Last element of substring is taken:\")\n",
        "last_char = name[-1]\n",
        "print(last_char)\n"
      ]
    },
    {
      "cell_type": "markdown",
      "metadata": {
        "id": "yBCfrUGlh1Z5"
      },
      "source": [
        "# Functions\n",
        "\n",
        "Functions is used to perform particular task. It is executed when called. In below code function is defined and then called."
      ]
    },
    {
      "cell_type": "code",
      "execution_count": null,
      "metadata": {
        "colab": {
          "base_uri": "https://localhost:8080/"
        },
        "id": "zYFzAtmnpN9k",
        "outputId": "34e4de34-8806-407a-ae06-328b61b71d84"
      },
      "outputs": [
        {
          "name": "stdout",
          "output_type": "stream",
          "text": [
            "Welcome to Function\n"
          ]
        }
      ],
      "source": [
        "# A simple Python function\n",
        "def code():\n",
        "    print(\"Welcome to Function\")\n",
        "# Driver code to call a function\n",
        "code()"
      ]
    },
    {
      "cell_type": "markdown",
      "metadata": {
        "id": "p-J2K_YZfBe4"
      },
      "source": [
        "## Passing Argument\n",
        "\n",
        "Inside function we can pass the multiple arguments.It can be of same and different data types."
      ]
    },
    {
      "cell_type": "code",
      "execution_count": null,
      "metadata": {
        "colab": {
          "base_uri": "https://localhost:8080/"
        },
        "id": "G2wwFpu2jAZ0",
        "outputId": "8cff7f3b-a9e4-455b-dbb5-64827b5df850"
      },
      "outputs": [
        {
          "output_type": "stream",
          "name": "stdout",
          "text": [
            "argument passed Python\n"
          ]
        }
      ],
      "source": [
        "def hello(name):\n",
        "  \t\t print(\"argument passed \"+name)\n",
        "my_name = 'Python'\n",
        "hello(my_name)"
      ]
    },
    {
      "cell_type": "markdown",
      "metadata": {
        "id": "5_kaAOJykDhw"
      },
      "source": [
        "## Return Statement\n",
        "\n",
        "Functions send Python values/objects back to the caller.\n",
        "These values/objects are known as the function's return value, the following code is representing this:"
      ]
    },
    {
      "cell_type": "code",
      "execution_count": null,
      "metadata": {
        "colab": {
          "base_uri": "https://localhost:8080/"
        },
        "id": "fZzY8UkJyDCI",
        "outputId": "cfe32ca8-1592-4773-955b-8474d664513a"
      },
      "outputs": [
        {
          "name": "stdout",
          "output_type": "stream",
          "text": [
            "12\n"
          ]
        }
      ],
      "source": [
        "def multiply(no1, no2):\n",
        "   \t\treturn no1*no2\n",
        "x= multiply(2,6)\n",
        "print(x)"
      ]
    },
    {
      "cell_type": "markdown",
      "metadata": {
        "id": "jYVH6hLqyZyI"
      },
      "source": [
        "### Nested Functions\n",
        "When function is called inside the function. This is called Nested Functions.\n",
        "In this innermost function calls are resolved first and returned value is used as arguments for the next outer function."
      ]
    },
    {
      "cell_type": "code",
      "execution_count": null,
      "metadata": {
        "colab": {
          "base_uri": "https://localhost:8080/"
        },
        "id": "iYgCWD5a1lPZ",
        "outputId": "3069b6b2-3d68-4081-f793-4c0ba0bf6c2f"
      },
      "outputs": [
        {
          "name": "stdout",
          "output_type": "stream",
          "text": [
            "Enter a positive number: 45.24\n",
            "45\n"
          ]
        }
      ],
      "source": [
        "num = input(\"Enter a positive number: \")\n",
        "num = float(num)\n",
        "num = abs(num)\n",
        "num = round(num)\n",
        "print(num)"
      ]
    },
    {
      "cell_type": "markdown",
      "metadata": {
        "id": "5CWFbVfiBdoj"
      },
      "source": [
        "We are calling nested functions in this."
      ]
    },
    {
      "cell_type": "code",
      "execution_count": null,
      "metadata": {
        "colab": {
          "base_uri": "https://localhost:8080/"
        },
        "id": "pTm5Tg6iBADG",
        "outputId": "58122a76-ae48-4151-a358-b0350113a594"
      },
      "outputs": [
        {
          "name": "stdout",
          "output_type": "stream",
          "text": [
            "This is first function\n",
            "This is second function\n"
          ]
        }
      ],
      "source": [
        "def first():  # first function\n",
        "     print(\"This is first function\")\n",
        "def second():\n",
        "            print(\"This is second function\")\n",
        "first()  # calling first function\n",
        "second()  # calling second function"
      ]
    },
    {
      "cell_type": "markdown",
      "metadata": {
        "id": "ksqrFqu4F2o4"
      },
      "source": [
        "As we can see inner most function is calling first."
      ]
    },
    {
      "cell_type": "code",
      "execution_count": null,
      "metadata": {
        "colab": {
          "base_uri": "https://localhost:8080/"
        },
        "id": "Udid4BA8E9Vr",
        "outputId": "1f61502f-12de-487f-a3dd-f9c5089a4299"
      },
      "outputs": [
        {
          "name": "stdout",
          "output_type": "stream",
          "text": [
            "This is second function\n",
            "This is first function\n"
          ]
        }
      ],
      "source": [
        "def first():  # first function\n",
        "     print(\"This is first function\")\n",
        "def second():\n",
        "            print(\"This is second function\")\n",
        "second()  # calling first function\n",
        "first()  # calling second function"
      ]
    },
    {
      "cell_type": "markdown",
      "metadata": {
        "id": "PrnzmDKmGJrH"
      },
      "source": [
        "### Keyword Argument\n",
        "\n",
        "Keyword arguments: arguments preceded by an identifier, when we pass them to a function.\n",
        "The order of arguments does not matter, unlike positional arguments.\n",
        "Python knows the name of the arguments that our function receives.\n",
        "\n"
      ]
    },
    {
      "cell_type": "code",
      "execution_count": null,
      "metadata": {
        "colab": {
          "base_uri": "https://localhost:8080/"
        },
        "id": "JzTAjjWYL1he",
        "outputId": "828fac7d-699e-46a9-9954-bcadaa8efa1b"
      },
      "outputs": [
        {
          "name": "stdout",
          "output_type": "stream",
          "text": [
            "Hello Python is a lang\n"
          ]
        }
      ],
      "source": [
        "def name(first,middle,last):\n",
        "   \t\tprint(\"Hello \" +first +\"\"+ middle+\"\" +last)\n",
        "# name(\"a lang \", \"is \", \"Python\")\n",
        "name(last=\"a lang\", first=\"Python \", middle=\"is \")    # Here order is preserved"
      ]
    },
    {
      "cell_type": "markdown",
      "metadata": {
        "id": "hAri0YW_QBWg"
      },
      "source": [
        "## Arguments as args\n",
        "It is a parameter that will pack all arguments into a tuple.\n",
        "Useful so that a function can accept a varying amount of arguments.\n"
      ]
    },
    {
      "cell_type": "code",
      "execution_count": null,
      "metadata": {
        "colab": {
          "base_uri": "https://localhost:8080/"
        },
        "id": "5LBOp-t6oLFS",
        "outputId": "77fb3a1c-a31a-4b0d-e161-b793064d5f52"
      },
      "outputs": [
        {
          "name": "stdout",
          "output_type": "stream",
          "text": [
            "Hi\n",
            "Welcome\n",
            "to\n",
            "the\n",
            "Colab\n",
            "12345\n"
          ]
        }
      ],
      "source": [
        "def fcn(*argv):\n",
        "    for arg in argv:\n",
        "        print(arg)\n",
        "fcn('Hi', 'Welcome', 'to', 'the','Colab','12345')"
      ]
    },
    {
      "cell_type": "markdown",
      "metadata": {
        "id": "D8ZIv6cQpzG3"
      },
      "source": [
        "Some example which will help to understand the concepts."
      ]
    },
    {
      "cell_type": "code",
      "execution_count": null,
      "metadata": {
        "colab": {
          "base_uri": "https://localhost:8080/"
        },
        "id": "uM3_BlJvp7aj",
        "outputId": "969fe2d8-0019-4fbe-8878-95592832497d"
      },
      "outputs": [
        {
          "name": "stdout",
          "output_type": "stream",
          "text": [
            "20\n"
          ]
        }
      ],
      "source": [
        "def add(*args):\n",
        "  sum = 0\n",
        "  for i in args:\n",
        "    sum += i\n",
        "  return(sum)\n",
        "print(add(1,2,10,1,6))"
      ]
    },
    {
      "cell_type": "markdown",
      "metadata": {
        "id": "CzJa99kLqwlO"
      },
      "source": [
        "## kwargs(keyword arguments)\n",
        "1. This parameters will pack all arguments into a dictionary\n",
        "2. It is useful so that a function can accept a varying amount of keyword arguments\n"
      ]
    },
    {
      "cell_type": "code",
      "execution_count": null,
      "metadata": {
        "colab": {
          "base_uri": "https://localhost:8080/"
        },
        "id": "oWZiL86MU8VP",
        "outputId": "a290b06a-5097-4980-a081-479509a12efd"
      },
      "outputs": [
        {
          "name": "stdout",
          "output_type": "stream",
          "text": [
            "hello\n",
            "first Hello\n",
            "middle python\n",
            "last welcome\n"
          ]
        }
      ],
      "source": [
        "def hello(**kwargs):\n",
        "   print(\"hello\")\n",
        "   for key, value in kwargs.items():\n",
        "       print(key,value)\n",
        "\n",
        "#hello(\"Hello\", \"python\", \"welcome\") since it's a dictionary\n",
        "hello(first=\"Hello\", middle= \"python\", last= \"welcome\")\n"
      ]
    },
    {
      "cell_type": "code",
      "execution_count": null,
      "metadata": {
        "colab": {
          "base_uri": "https://localhost:8080/"
        },
        "id": "F1PkWZWe6asm",
        "outputId": "566bc3db-059e-49b2-f8ef-5ff77905e9c3"
      },
      "outputs": [
        {
          "name": "stdout",
          "output_type": "stream",
          "text": [
            "The cow jumped over the moon\n",
            "The moon jumped over the cow\n",
            "The cow jumped over the moon\n"
          ]
        }
      ],
      "source": [
        "animal = \"cow\"\n",
        "item = \"moon\"\n",
        "print(\"The {} jumped over the {}\".format(animal, item))\n",
        "print(\"The {1} jumped over the {0}\".format(animal, item)) # role reversed\n",
        "print(\"The {animal} jumped over the {item}\".format(animal=\"cow\", item=\"moon\"))\n"
      ]
    },
    {
      "cell_type": "markdown",
      "metadata": {
        "id": "7FCvUirk7Ucv"
      },
      "source": [
        "Here is another example of how to use format() in Python:"
      ]
    },
    {
      "cell_type": "markdown",
      "metadata": {
        "id": "sPVF1bHifMUP"
      },
      "source": [
        "# Padding\n",
        "To Insert a non-informative characters into a string is known as Padding.The insertion can be done anywhere on the string. String padding is useful for output formatting and alignment of strings while printing. Even for displaying values like a table string Padding is required.You can use it like this."
      ]
    },
    {
      "cell_type": "code",
      "execution_count": null,
      "metadata": {
        "colab": {
          "base_uri": "https://localhost:8080/"
        },
        "id": "J5MS6gxWnq7O",
        "outputId": "e83b3d22-6896-42a9-cddf-45f5c663bbab"
      },
      "outputs": [
        {
          "name": "stdout",
          "output_type": "stream",
          "text": [
            "Hello my name is Alex                \n",
            "Hello my name is Alex                . Nice to meet you\n",
            "Hello my name is                 Alex. Nice to meet you\n",
            "Hello my name is         Alex        . Nice to meet you\n"
          ]
        }
      ],
      "source": [
        "name = \"Alex\"\n",
        "# adding paddings\n",
        "print(\"Hello my name is {:<20}\".format(name))\n",
        "\n",
        "# add space after\n",
        "print(\"Hello my name is {:<20}. Nice to meet you\".format(name))\n",
        "\n",
        "# add space before\n",
        "print(\"Hello my name is {:>20}. Nice to meet you\".format(name))\n",
        "\n",
        "# centre alignment\n",
        "print(\"Hello my name is {:^20}. Nice to meet you\".format(name))"
      ]
    },
    {
      "cell_type": "markdown",
      "metadata": {
        "id": "sTVm1Y8QiFGM"
      },
      "source": [
        " # f- Strings: an improvised way to format strings in Python\n",
        "\n",
        "In Python, there are several ways to format a string. Some of the most common methods are:\n",
        "\n",
        "1. The % operator: This operator is used to format a string, similar to how it is used in the printf function in other programming languages. You can use it like this:"
      ]
    },
    {
      "cell_type": "code",
      "execution_count": null,
      "metadata": {
        "colab": {
          "base_uri": "https://localhost:8080/"
        },
        "id": "73urjNU7ifpw",
        "outputId": "8dd15088-1599-42cf-afa5-5e415c56a165"
      },
      "outputs": [
        {
          "name": "stdout",
          "output_type": "stream",
          "text": [
            "John is 30 years old\n"
          ]
        }
      ],
      "source": [
        "name = 'John'\n",
        "age = 30\n",
        "print('%s is %d years old' % (name, age))"
      ]
    },
    {
      "cell_type": "markdown",
      "metadata": {
        "id": "Z6pnJMAdVm6O"
      },
      "source": [
        "\n",
        "it is refers to the process of creating a new string by inserting values into a template string. In Python, for example, you can use the format() method to insert values into a string template.In this we use curly brackets to insert the given text in template string. Here is an example of how to use format() in Python:\n"
      ]
    },
    {
      "cell_type": "markdown",
      "metadata": {
        "id": "9OxsssWwH8-N"
      },
      "source": [
        "This would output the string 'John is 30 years old'.\n",
        "\n",
        "2. The .format() method: This method allows you to include placeholders in a string, and then substitute values into those placeholders. You can use it like this:"
      ]
    },
    {
      "cell_type": "code",
      "execution_count": null,
      "metadata": {
        "colab": {
          "base_uri": "https://localhost:8080/"
        },
        "id": "ZN25I2fljret",
        "outputId": "94b78e5c-2f46-425c-e102-4cae98cbfd64"
      },
      "outputs": [
        {
          "name": "stdout",
          "output_type": "stream",
          "text": [
            "John is 30 years old\n"
          ]
        }
      ],
      "source": [
        "name = 'John'\n",
        "age = 30\n",
        "print('{} is {} years old'.format(name, age))"
      ]
    },
    {
      "cell_type": "code",
      "execution_count": null,
      "metadata": {
        "colab": {
          "base_uri": "https://localhost:8080/"
        },
        "id": "e-yaRbQM7cIm",
        "outputId": "35dbf4b7-b281-4f37-de15-843759986678"
      },
      "outputs": [
        {
          "name": "stdout",
          "output_type": "stream",
          "text": [
            "The cow jumped over the moon\n"
          ]
        }
      ],
      "source": [
        "animal = \"cow\"\n",
        "item = \"moon\"\n",
        "\n",
        "text = \"The {} jumped over the {}\"\n",
        "print(text.format(animal, item))"
      ]
    },
    {
      "cell_type": "markdown",
      "source": [],
      "metadata": {
        "id": "0TFr3u43CTGW"
      }
    },
    {
      "cell_type": "markdown",
      "source": [],
      "metadata": {
        "id": "Mc_qCdO-ACxD"
      }
    },
    {
      "cell_type": "markdown",
      "source": [],
      "metadata": {
        "id": "W4rqbLwo-sQd"
      }
    },
    {
      "cell_type": "markdown",
      "source": [],
      "metadata": {
        "id": "f-e3jWMQRhaa"
      }
    },
    {
      "cell_type": "markdown",
      "metadata": {
        "id": "kgLEK_isIem0"
      },
      "source": [
        "This would output the same string as the example above.\n",
        "\n",
        "3. f-strings (formatted string literals): These are a newer way to format strings in Python, and they allow you to include expressions inside curly braces inside a string, which will be evaluated and then included in the string. You can use them like this:"
      ]
    },
    {
      "cell_type": "markdown",
      "metadata": {
        "id": "v5Z7B3SSBq3U"
      },
      "source": []
    },
    {
      "cell_type": "code",
      "execution_count": null,
      "metadata": {
        "colab": {
          "base_uri": "https://localhost:8080/"
        },
        "id": "9fdVmEgrIlRA",
        "outputId": "ab664b4b-d152-4610-c9e2-012220cf9419"
      },
      "outputs": [
        {
          "name": "stdout",
          "output_type": "stream",
          "text": [
            "John is 30 years old\n"
          ]
        }
      ],
      "source": [
        "name = 'John'\n",
        "age = 30\n",
        "print(f'{name} is {age} years old')"
      ]
    },
    {
      "cell_type": "markdown",
      "metadata": {
        "id": "nB-ZW8erIs2P"
      },
      "source": [
        "This would also output the same string as the previous examples.\n",
        "\n",
        "There are other methods for formatting strings in Python as well, but these are some of the most common."
      ]
    },
    {
      "cell_type": "markdown",
      "metadata": {
        "id": "bMIAHULXFLFO"
      },
      "source": []
    },
    {
      "cell_type": "markdown",
      "metadata": {
        "id": "F36eIdvbWH_k"
      },
      "source": [
        "# Random function `random()`\n",
        "In Python, the random module provides functions for generating random numbers. The random module uses a pseudorandom number generator, which is a deterministic algorithm that produces a sequence of numbers that approximates the properties of random numbers.\n",
        "\n",
        "To generate a random number in Python, you can use the `random()` function, which returns a random float between 0 and 1. For example:\n",
        "\n"
      ]
    },
    {
      "cell_type": "code",
      "execution_count": null,
      "metadata": {
        "colab": {
          "base_uri": "https://localhost:8080/"
        },
        "id": "jpITQx4XWiqA",
        "outputId": "39441e1a-01d1-40b7-a905-b0a715136ed4"
      },
      "outputs": [
        {
          "name": "stdout",
          "output_type": "stream",
          "text": [
            "0.15551516164565116\n"
          ]
        }
      ],
      "source": [
        "import random\n",
        "x = random.random()\n",
        "print(x)"
      ]
    },
    {
      "cell_type": "markdown",
      "metadata": {
        "id": "bm_gq7dMaFMF"
      },
      "source": []
    },
    {
      "cell_type": "markdown",
      "metadata": {
        "id": "7XiK7Sa_aFRr"
      },
      "source": []
    },
    {
      "cell_type": "markdown",
      "metadata": {
        "id": "nkKFokf3WwIb"
      },
      "source": [
        "There are many other functions in the random module that you can use to generate random numbers, such as `uniform()`, which returns a random float within a specified range,"
      ]
    },
    {
      "cell_type": "code",
      "execution_count": null,
      "metadata": {
        "colab": {
          "base_uri": "https://localhost:8080/"
        },
        "id": "YEIOrHDIW6za",
        "outputId": "1079d2c1-e73d-4b80-dbd9-af9f8c080141"
      },
      "outputs": [
        {
          "name": "stdout",
          "output_type": "stream",
          "text": [
            "6.833847194141024\n"
          ]
        }
      ],
      "source": [
        "import random\n",
        "x = random.uniform(1,8)\n",
        "print(x)"
      ]
    },
    {
      "cell_type": "markdown",
      "metadata": {
        "id": "L8JaK50LXPII"
      },
      "source": [
        "If you want to generate a random integer, you can use the `randint()` function, which returns a random integer within a specified range. For example:"
      ]
    },
    {
      "cell_type": "markdown",
      "metadata": {
        "id": "p8tmyBNBXWuw"
      },
      "source": []
    },
    {
      "cell_type": "code",
      "execution_count": null,
      "metadata": {
        "colab": {
          "base_uri": "https://localhost:8080/"
        },
        "id": "ZBihaBVuXXYa",
        "outputId": "03f9b864-48ff-411d-f848-181a4952091d"
      },
      "outputs": [
        {
          "name": "stdout",
          "output_type": "stream",
          "text": [
            "5\n"
          ]
        }
      ],
      "source": [
        "import random\n",
        "x = random.randint(1, 10)\n",
        "print(x)"
      ]
    },
    {
      "cell_type": "markdown",
      "metadata": {
        "id": "u3WFEGofXnCP"
      },
      "source": [
        "`choices()`, which allows you to choose a random element from a list. for example"
      ]
    },
    {
      "cell_type": "code",
      "execution_count": null,
      "metadata": {
        "colab": {
          "base_uri": "https://localhost:8080/"
        },
        "id": "UvYK3Rb8Xtmj",
        "outputId": "c781d059-ec30-46f8-a9e4-af8dcc501592"
      },
      "outputs": [
        {
          "name": "stdout",
          "output_type": "stream",
          "text": [
            "scissors\n"
          ]
        }
      ],
      "source": [
        "myList = [\"rock\", \"paper\", \"scissors\"]\n",
        "y = random.choice(myList)\n",
        "print(y)"
      ]
    },
    {
      "cell_type": "markdown",
      "metadata": {
        "id": "JrYpj5YjYE-A"
      },
      "source": [
        "`shuffle()` in random will give output in unstructured way. for example;"
      ]
    },
    {
      "cell_type": "code",
      "execution_count": null,
      "metadata": {
        "colab": {
          "base_uri": "https://localhost:8080/"
        },
        "id": "cVurdzATYQiO",
        "outputId": "e332ab96-b85a-4630-c074-658a8708c42b"
      },
      "outputs": [
        {
          "name": "stdout",
          "output_type": "stream",
          "text": [
            "[7, 8, 9, 6, 5, 'King', 4, 'Queen', 2, 3, 'Jack', 1]\n"
          ]
        }
      ],
      "source": [
        "cards = [1,2,3,4,5,6,7,8,9,\"Jack\", \"King\", \"Queen\"]\n",
        "random.shuffle(cards)\n",
        "print(cards)"
      ]
    },
    {
      "cell_type": "markdown",
      "metadata": {
        "id": "Pq-eNUIEaHjn"
      },
      "source": [
        "`random seed ()`\n",
        "In order to generate a random number, a random number generator requires a seed value and for that purpose,the random number generator uses `seed()method`.Seed is used to initialise a pseudo random number generator."
      ]
    },
    {
      "cell_type": "code",
      "execution_count": null,
      "metadata": {
        "colab": {
          "base_uri": "https://localhost:8080/"
        },
        "id": "5TxAKEzibBJm",
        "outputId": "966ba76b-5328-4f85-c736-03002522f74b"
      },
      "outputs": [
        {
          "name": "stdout",
          "output_type": "stream",
          "text": [
            "0.9056396761745207\n"
          ]
        }
      ],
      "source": [
        "import random\n",
        "random.seed(20)\n",
        "print(random.random())"
      ]
    },
    {
      "cell_type": "markdown",
      "metadata": {
        "id": "U5Kc-IjPbbQj"
      },
      "source": [
        "## Why do we need `seed()`?\n",
        "\n",
        "1. We use seed to save the state of a random function in order to generate the same random numbers on multiple executions for a particular seed value.\n",
        "2. To make code optimization simple where random numbers are utilised for testing. It mitigates complexity of testing algorithms and simplifies the process.\n",
        "3. Seeds are used to generate pseudo random encryption key."
      ]
    },
    {
      "cell_type": "markdown",
      "metadata": {
        "id": "sw0CS0jQt4DF"
      },
      "source": [
        "# Exception handling\n",
        "\n",
        "In Python, exceptions are errors that occur at runtime. Exception handling is the process of responding to the occurrence of exceptions in a program's code.\n",
        "\n",
        "In Python, you can use the try and except statement to handle exceptions. The try block contains the code that might throw an exception, and the except block contains the code that handles the exception.\n",
        "\n",
        "Here is an example:"
      ]
    },
    {
      "cell_type": "code",
      "execution_count": null,
      "metadata": {
        "colab": {
          "base_uri": "https://localhost:8080/"
        },
        "id": "4E25a1b3vSxp",
        "outputId": "af437c37-3e91-44ac-84e1-e675139fb3d6"
      },
      "outputs": [
        {
          "name": "stdout",
          "output_type": "stream",
          "text": [
            "10\n",
            "10\n"
          ]
        }
      ],
      "source": [
        "try:\n",
        "   a=10\n",
        "   b=10\n",
        "   if(a>100):\n",
        "    print(a)\n",
        "except ExceptionType:\n",
        "   a=10\n",
        "   b=10\n",
        "   if(a>100):\n",
        "     print(a)\n",
        "print(a)\n",
        "print(b)"
      ]
    },
    {
      "cell_type": "markdown",
      "metadata": {
        "id": "Luqu5TV35cwV"
      },
      "source": [
        "Try and Except statement is used to handle these errors within our code in Python. The try block is used to check some code for errors i.e the code inside the try block will execute when there is no error in the program. Whereas the code inside the except block will execute whenever the program encounters some error in the preceding try block."
      ]
    },
    {
      "cell_type": "code",
      "execution_count": null,
      "metadata": {
        "colab": {
          "base_uri": "https://localhost:8080/"
        },
        "id": "xacJ261Z6Wj4",
        "outputId": "50c4bed4-f508-443f-8848-ca0d714e9567"
      },
      "outputs": [
        {
          "name": "stdout",
          "output_type": "stream",
          "text": [
            "Yeah ! Your answer is : 1\n",
            "Sorry ! You are dividing by zero \n",
            "Yeah ! Your answer is : 0\n"
          ]
        }
      ],
      "source": [
        "# Python code to illustrate\n",
        "# working of try()\n",
        "def division(x, y):\n",
        "    try:\n",
        "        # Floor Division : Gives only Fractional Part as Answer\n",
        "        final = x // y\n",
        "        print(\"Yeah ! Your answer is :\", final)\n",
        "    except ZeroDivisionError:\n",
        "        print(\"Sorry ! You are dividing by zero \")\n",
        "\n",
        "# Look at parameters and note the working of Program\n",
        "division(3,2)\n",
        "division(3,0)\n",
        "division(0,5)"
      ]
    },
    {
      "cell_type": "markdown",
      "metadata": {
        "id": "oJvVIZPP6-p9"
      },
      "source": [
        "## The common build in Exceptions in Python is:\n",
        "| Serial No. | Exception | Cause of Error |\n",
        "|------------|-----------|----------------|\n",
        "| 1   | Assertion Error| Raised when an assert statement fails.|\n",
        "| 2   | Attribute Error  | Raised when attribute assignment or reference fails|\n",
        "| 3   | EOFError |Raised when the input() function hits end-of-file condition.|\n",
        "| 4   | FloatingPointError| Raised when a floating point operation fails.|\n",
        "| 5   | GeneratorExit  | Raise when a generator's close() method is called.|\n",
        "| 6   | ImportError    |Raised when the imported module is not found.|\n",
        "| 7   | FloatingPointError| Raised when a floating point operation fails.|\n",
        "| 8   | GeneratorExit  | Raise when a generator's close() method is called.|\n",
        "| 9   | ImportError    |Raised when the imported module is not found.|\n",
        "|8    |KeyError        |Raised when a key is not found in a dictionary.|\n",
        "|9    |KeyboardInterrupt|Raised when the user hits the interrupt key (Ctrl+C or  Delete).|\n",
        "|10   |MemoryError      |Raised when an operation runs out of memory.|\n",
        "|11   |NameError        |Raised when a variable is not found in local or global scope.|\n",
        "|12   |NotImplementedErro|Raised by abstract methods.|\n",
        "|13   |OSError|Raised when system operation causes system related error.|\n",
        "|14| OverflowError|Raised when the result of an arithmetic operation is too large to be represented.|\n",
        "|15|ReferenceError|Raised when a weak reference proxy is used to access a garbage collected referent.|\n",
        "|16|RuntimeError|Raised when an error does not fall under any other category.|\n",
        "|17|StopIteration|Raised by next() function to indicate that there is no further item to be returned by iterator.|\n",
        "|18|SyntaxError|Raised by parser when syntax error is encountered.|\n",
        "|19|IndentationError|Raised when there is incorrect indentation.|\n",
        "|20|TabError|Raised when indentation consists of inconsistent tabs and spaces.\n",
        "|21|SystemError|Raised when interpreter detects internal error.|\n",
        "|22|SystemExit|Raised by sys.exit() function|.\n",
        "|23|TypeError|Raised when a function or operation is applied to an object of incorrect type.|\n",
        "|24|UnboundLocalError|Raised when a reference is made to a local variable in a function or method, but no value has been bound to that variable.|\n",
        "|25|UnicodeError|Raised when a Unicode-related encoding or decoding error occurs.|\n",
        "|26|UnicodeEncodeError|Raised when a Unicode-related error occurs during encoding.|\n",
        "|27|UnicodeDecodeError|Raised when a Unicode-related error occurs during decoding.|\n",
        "|28|UnicodeTranslateError|Raised when a Unicode-related error occurs during translating.|\n",
        "|29|ValueError|Raised when a function gets an argument of correct type but improper value.|\n",
        "|30|ZeroDivisionError|Raised when the second operand of division or modulo operation is zero.|"
      ]
    },
    {
      "cell_type": "code",
      "execution_count": null,
      "metadata": {
        "colab": {
          "base_uri": "https://localhost:8080/"
        },
        "id": "90sq8llXBNWn",
        "outputId": "7a2109c3-bd99-4161-e814-c7d881394780"
      },
      "outputs": [
        {
          "name": "stdout",
          "output_type": "stream",
          "text": [
            "Enter nume: 25.0\n",
            "Enter only numbers\n",
            "This will always execute\n"
          ]
        }
      ],
      "source": [
        "try:\n",
        "   numerator = int(input(\"Enter nume: \"))\n",
        "   denominator = int(input(\"Enter deno: \"))\n",
        "   result = numerator/denominator\n",
        "   # print(result)\n",
        "\n",
        "except ZeroDivisionError as e:\n",
        "   print(\"Can't divide with zero\")\n",
        "   print(e)\n",
        "\n",
        "except ValueError:\n",
        "   print(\"Enter only numbers\")\n",
        "\n",
        "except Exception:\n",
        "   print(\"Something went wrong\")\n",
        "else:\n",
        "   print(result)       # print result when no exception occurs\n",
        "finally:\n",
        "   print(\"This will always execute\")"
      ]
    },
    {
      "cell_type": "markdown",
      "metadata": {
        "id": "xzU-7WdICrX7"
      },
      "source": [
        "## User Defined exception class\n",
        "\n",
        "We can also create our custom exceptions as per the requirement. This can be achieved by creating a new class which inherits the build-in exception class."
      ]
    },
    {
      "cell_type": "code",
      "execution_count": null,
      "metadata": {
        "colab": {
          "base_uri": "https://localhost:8080/"
        },
        "id": "k2BxTHRxF49D",
        "outputId": "359c99cc-963e-4b03-93b6-11b976bedc03"
      },
      "outputs": [
        {
          "name": "stdout",
          "output_type": "stream",
          "text": [
            "This value is too small, try again!\n",
            "\n",
            "This value is too large, try again!\n"
          ]
        }
      ],
      "source": [
        "# define Python user-defined exceptions\n",
        "class Error(Exception):\n",
        "    \"\"\"Base class for other exceptions\"\"\"\n",
        "    pass\n",
        "class ValueTooSmallError(Error):\n",
        "    \"\"\"Raised when the input value is too small\"\"\"\n",
        "    pass\n",
        "class ValueTooLargeError(Error):\n",
        "    \"\"\"Raised when the input value is too large\"\"\"\n",
        "    pass\n",
        "number = 10\n",
        "while True:\n",
        "    try:\n",
        "        num = int(input(\"Enter a number: \"))\n",
        "        if num < number:\n",
        "            raise ValueTooSmallError\n",
        "        elif num > number:\n",
        "            raise ValueTooLargeError\n",
        "        break\n",
        "    except ValueTooSmallError:\n",
        "        print(\"This value is too small, try again!\")\n",
        "        print()\n",
        "    except ValueTooLargeError:\n",
        "        print(\"This value is too large, try again!\")\n",
        "print(\"well! You guessed the number correctly\")"
      ]
    },
    {
      "cell_type": "markdown",
      "metadata": {
        "id": "ZN8s7I3LGqWJ"
      },
      "source": [
        "# File handling\n",
        "## File Detection\n",
        "File Detection:\n",
        "Checking if a file is present or not.\n"
      ]
    },
    {
      "cell_type": "code",
      "execution_count": null,
      "metadata": {
        "colab": {
          "background_save": true
        },
        "id": "awAdQygtaStG",
        "outputId": "d7951100-a745-4ae2-e79f-442ac9ba327d"
      },
      "outputs": [
        {
          "name": "stdout",
          "output_type": "stream",
          "text": [
            "File is there\n",
            "Yes it's a file\n"
          ]
        }
      ],
      "source": [
        "import os\n",
        "path = \"/content/sample_data/anscombe.json\"\n",
        "if os.path.exists(path):\n",
        "   print(\"File is there\")\n",
        "   if os.path.isfile(path):\n",
        "       print(\"Yes it's a file\")\n",
        "   elif os.path.isdir(path):\t\t# if it’s a directory\n",
        "       print(\"Its a directory\")\n",
        "else:\n",
        "   print(\"File is not present\")"
      ]
    },
    {
      "cell_type": "markdown",
      "source": [
        "## Writing a file\n",
        "\n",
        "We can add some text in file."
      ],
      "metadata": {
        "id": "rOzA8FJC2gdf"
      }
    },
    {
      "cell_type": "code",
      "source": [
        "\n",
        "file1 = open('/content/sample_data/README.md', 'w')\n",
        "L = [\"This is Delhi \\n\", \"This is Paris \\n\", \"This is London \\n\"]\n",
        "s = \"Hello\\n\"\n",
        "\n",
        "# Writing a string to file\n",
        "file1.write(s)\n",
        "\n",
        "# Writing multiple strings\n",
        "# at a time\n",
        "file1.writelines(L)\n",
        "\n",
        "# Closing file\n",
        "file1.close()\n",
        "\n",
        "# Checking if the data is\n",
        "# written to file or not\n",
        "file1 = open('/content/sample_data/README.md', 'r')\n",
        "print(file1.read())\n",
        "file1.close()"
      ],
      "metadata": {
        "colab": {
          "base_uri": "https://localhost:8080/"
        },
        "id": "ST4dk2xScwZ8",
        "outputId": "749aa8d8-6b28-4488-c4c9-58a4a22d3043"
      },
      "execution_count": null,
      "outputs": [
        {
          "output_type": "stream",
          "name": "stdout",
          "text": [
            "Hello\n",
            "This is Delhi \n",
            "This is Paris \n",
            "This is London \n",
            "\n"
          ]
        }
      ]
    },
    {
      "cell_type": "markdown",
      "source": [
        "## Copying a file:\n",
        "Shutil module offers high-level operation on a file like a copy, create, and remote operation on the file.\n",
        "1. `copyfile()`: copies content of a file\n",
        "2. `copy()`: `copyfile()` + permission mode + destination can be directory\n",
        "3. `copy2`: `copy()` + metadata (file's creation and modification times)\n",
        "\n"
      ],
      "metadata": {
        "id": "94wh1xkCcu3l"
      }
    },
    {
      "cell_type": "code",
      "source": [
        "import shutil\n",
        "shutil.copyfile(\"/content/sample_data/california_housing_test.csv\", \"/content/sample_data/mnist_test.csv\")\n",
        "# shutil(Source, destination)\n",
        "file1 = open('/content/sample_data/mnist_test.csv', 'r')\n",
        "print(\"edited file open\")\n",
        "print(file1.read())"
      ],
      "metadata": {
        "colab": {
          "base_uri": "https://localhost:8080/"
        },
        "id": "sEQ_QyyoGxZs",
        "outputId": "33327308-bf38-4a5f-aa0e-9b40a6224bd7"
      },
      "execution_count": null,
      "outputs": [
        {
          "output_type": "stream",
          "name": "stdout",
          "text": [
            "edited file open\n",
            "\"longitude\",\"latitude\",\"housing_median_age\",\"total_rooms\",\"total_bedrooms\",\"population\",\"households\",\"median_income\",\"median_house_value\"\n",
            "-122.050000,37.370000,27.000000,3885.000000,661.000000,1537.000000,606.000000,6.608500,344700.000000\n",
            "-118.300000,34.260000,43.000000,1510.000000,310.000000,809.000000,277.000000,3.599000,176500.000000\n",
            "-117.810000,33.780000,27.000000,3589.000000,507.000000,1484.000000,495.000000,5.793400,270500.000000\n",
            "-118.360000,33.820000,28.000000,67.000000,15.000000,49.000000,11.000000,6.135900,330000.000000\n",
            "-119.670000,36.330000,19.000000,1241.000000,244.000000,850.000000,237.000000,2.937500,81700.000000\n",
            "-119.560000,36.510000,37.000000,1018.000000,213.000000,663.000000,204.000000,1.663500,67000.000000\n",
            "-121.430000,38.630000,43.000000,1009.000000,225.000000,604.000000,218.000000,1.664100,67000.000000\n",
            "-120.650000,35.480000,19.000000,2310.000000,471.000000,1341.000000,441.000000,3.225000,166900.000000\n",
            "-122.840000,38.400000,15.000000,3080.000000,617.000000,1446.000000,599.000000,3.669600,194400.000000\n",
            "-118.020000,34.080000,31.000000,2402.000000,632.000000,2830.000000,603.000000,2.333300,164200.000000\n",
            "-118.240000,33.980000,45.000000,972.000000,249.000000,1288.000000,261.000000,2.205400,125000.000000\n",
            "-119.120000,35.850000,37.000000,736.000000,166.000000,564.000000,138.000000,2.416700,58300.000000\n",
            "-121.930000,37.250000,36.000000,1089.000000,182.000000,535.000000,170.000000,4.690000,252600.000000\n",
            "-117.030000,32.970000,16.000000,3936.000000,694.000000,1935.000000,659.000000,4.562500,231200.000000\n",
            "-117.970000,33.730000,27.000000,2097.000000,325.000000,1217.000000,331.000000,5.712100,222500.000000\n",
            "-117.990000,33.810000,42.000000,161.000000,40.000000,157.000000,50.000000,2.200000,153100.000000\n",
            "-120.810000,37.530000,15.000000,570.000000,123.000000,189.000000,107.000000,1.875000,181300.000000\n",
            "-121.200000,38.690000,26.000000,3077.000000,607.000000,1603.000000,595.000000,2.717400,137500.000000\n",
            "-118.880000,34.210000,26.000000,1590.000000,196.000000,654.000000,199.000000,6.585100,300000.000000\n",
            "-122.590000,38.010000,35.000000,8814.000000,1307.000000,3450.000000,1258.000000,6.172400,414300.000000\n",
            "-122.150000,37.750000,40.000000,1445.000000,256.000000,849.000000,255.000000,3.891300,126300.000000\n",
            "-121.370000,38.680000,36.000000,1775.000000,296.000000,937.000000,305.000000,3.178600,83400.000000\n",
            "-118.160000,34.070000,47.000000,2994.000000,543.000000,1651.000000,561.000000,3.864400,241500.000000\n",
            "-122.200000,37.790000,45.000000,2021.000000,528.000000,1410.000000,480.000000,2.778800,115400.000000\n",
            "-117.280000,33.280000,13.000000,6131.000000,1040.000000,4049.000000,940.000000,3.815600,150700.000000\n",
            "-118.030000,34.160000,36.000000,1401.000000,218.000000,667.000000,225.000000,7.161500,484700.000000\n",
            "-122.420000,37.760000,52.000000,3587.000000,1030.000000,2259.000000,979.000000,2.540300,250000.000000\n",
            "-118.390000,33.990000,32.000000,2612.000000,418.000000,1030.000000,402.000000,6.603000,369200.000000\n",
            "-118.450000,34.070000,19.000000,4845.000000,1609.000000,3751.000000,1539.000000,1.583000,350000.000000\n",
            "-118.480000,34.010000,30.000000,3078.000000,954.000000,1561.000000,901.000000,3.485200,425000.000000\n",
            "-119.350000,36.330000,14.000000,1195.000000,220.000000,568.000000,229.000000,3.148600,105600.000000\n",
            "-118.300000,33.910000,34.000000,1617.000000,493.000000,1530.000000,500.000000,2.618200,172600.000000\n",
            "-121.130000,39.310000,17.000000,3442.000000,705.000000,1693.000000,619.000000,2.810200,128900.000000\n",
            "-118.080000,34.550000,5.000000,16181.000000,2971.000000,8152.000000,2651.000000,4.523700,141800.000000\n",
            "-118.320000,33.940000,38.000000,1067.000000,170.000000,499.000000,169.000000,4.638900,183800.000000\n",
            "-118.110000,34.000000,33.000000,2886.000000,726.000000,2650.000000,728.000000,2.625000,178700.000000\n",
            "-122.530000,37.970000,52.000000,1560.000000,451.000000,700.000000,419.000000,2.512500,270800.000000\n",
            "-118.020000,33.920000,34.000000,1478.000000,251.000000,956.000000,277.000000,5.523800,185300.000000\n",
            "-118.050000,33.930000,31.000000,894.000000,203.000000,883.000000,190.000000,3.677100,141500.000000\n",
            "-119.010000,34.230000,11.000000,5785.000000,1035.000000,2760.000000,985.000000,4.693000,232200.000000\n",
            "-119.320000,36.200000,15.000000,1562.000000,275.000000,961.000000,287.000000,3.423100,83300.000000\n",
            "-116.920000,32.770000,16.000000,2770.000000,406.000000,1269.000000,429.000000,6.678300,275000.000000\n",
            "-118.060000,34.150000,37.000000,1980.000000,226.000000,697.000000,226.000000,15.000100,500001.000000\n",
            "-117.270000,34.090000,36.000000,848.000000,186.000000,737.000000,169.000000,0.983800,79300.000000\n",
            "-118.230000,34.130000,48.000000,1308.000000,286.000000,835.000000,294.000000,4.289100,214800.000000\n",
            "-117.240000,33.170000,4.000000,9998.000000,1874.000000,3925.000000,1672.000000,4.282600,237500.000000\n",
            "-121.910000,37.440000,24.000000,1212.000000,251.000000,799.000000,242.000000,5.080800,212500.000000\n",
            "-118.290000,33.940000,47.000000,1782.000000,338.000000,1003.000000,329.000000,2.539800,105700.000000\n",
            "-121.350000,38.000000,6.000000,1649.000000,369.000000,732.000000,350.000000,3.423100,123800.000000\n",
            "-117.990000,33.780000,19.000000,7399.000000,1698.000000,3554.000000,1593.000000,3.104900,173900.000000\n",
            "-120.990000,37.700000,14.000000,9849.000000,1887.000000,4356.000000,1780.000000,3.587700,160900.000000\n",
            "-119.420000,35.970000,21.000000,554.000000,121.000000,426.000000,122.000000,2.351600,47500.000000\n",
            "-122.210000,37.800000,39.000000,2003.000000,500.000000,1109.000000,464.000000,3.068200,156500.000000\n",
            "-118.170000,33.800000,26.000000,1589.000000,380.000000,883.000000,366.000000,3.531300,187500.000000\n",
            "-117.900000,34.090000,39.000000,1726.000000,333.000000,892.000000,335.000000,4.340900,191800.000000\n",
            "-117.990000,33.930000,36.000000,1287.000000,233.000000,779.000000,229.000000,4.852300,175800.000000\n",
            "-121.420000,38.720000,10.000000,3054.000000,528.000000,1932.000000,510.000000,3.090300,91900.000000\n",
            "-118.770000,34.260000,26.000000,3038.000000,468.000000,1825.000000,468.000000,5.638500,196900.000000\n",
            "-121.930000,37.330000,44.000000,1449.000000,291.000000,676.000000,282.000000,3.575000,292200.000000\n",
            "-121.820000,37.250000,16.000000,2650.000000,600.000000,1969.000000,586.000000,3.946100,194300.000000\n",
            "-122.290000,37.560000,36.000000,805.000000,140.000000,445.000000,139.000000,5.822100,289400.000000\n",
            "-121.780000,37.230000,18.000000,1747.000000,317.000000,1055.000000,285.000000,5.898000,229100.000000\n",
            "-118.410000,34.000000,35.000000,1062.000000,305.000000,1026.000000,307.000000,2.715300,265500.000000\n",
            "-121.670000,40.870000,31.000000,1581.000000,299.000000,776.000000,287.000000,2.906300,77800.000000\n",
            "-118.000000,33.920000,26.000000,2830.000000,399.000000,1204.000000,404.000000,6.127300,289600.000000\n",
            "-117.220000,32.730000,38.000000,3966.000000,768.000000,1640.000000,729.000000,3.840900,291400.000000\n",
            "-121.080000,37.690000,19.000000,6473.000000,1212.000000,3559.000000,1123.000000,3.224600,129300.000000\n",
            "-117.530000,33.920000,12.000000,2290.000000,319.000000,728.000000,228.000000,6.156100,233500.000000\n",
            "-117.460000,34.080000,18.000000,3830.000000,750.000000,2767.000000,702.000000,3.660200,120700.000000\n",
            "-117.970000,33.860000,35.000000,1691.000000,367.000000,1265.000000,378.000000,3.585500,174300.000000\n",
            "-121.920000,37.330000,52.000000,2125.000000,382.000000,930.000000,387.000000,5.283100,299500.000000\n",
            "-118.200000,34.040000,44.000000,1582.000000,544.000000,1998.000000,515.000000,1.688800,125000.000000\n",
            "-118.060000,33.800000,22.000000,1892.000000,442.000000,1015.000000,404.000000,4.137900,212500.000000\n",
            "-122.050000,37.360000,34.000000,2400.000000,419.000000,1017.000000,384.000000,4.136900,316900.000000\n",
            "-123.790000,39.500000,24.000000,1421.000000,291.000000,588.000000,274.000000,2.325000,157300.000000\n",
            "-120.790000,37.490000,44.000000,1186.000000,225.000000,687.000000,234.000000,3.416700,160700.000000\n",
            "-121.890000,37.350000,47.000000,2879.000000,631.000000,2229.000000,606.000000,3.259900,183100.000000\n",
            "-118.430000,34.200000,29.000000,3051.000000,694.000000,1942.000000,679.000000,3.111800,238100.000000\n",
            "-118.750000,34.170000,18.000000,6217.000000,858.000000,2703.000000,834.000000,6.807500,325900.000000\n",
            "-122.470000,37.990000,22.000000,7274.000000,1002.000000,2468.000000,957.000000,7.494000,439200.000000\n",
            "-120.690000,37.400000,46.000000,860.000000,130.000000,496.000000,147.000000,3.516700,137500.000000\n",
            "-118.280000,34.050000,44.000000,968.000000,384.000000,1805.000000,375.000000,1.480100,212500.000000\n",
            "-118.440000,34.250000,35.000000,1583.000000,324.000000,1481.000000,351.000000,3.700000,176000.000000\n",
            "-122.050000,38.260000,21.000000,7195.000000,1416.000000,3927.000000,1377.000000,3.091200,126300.000000\n",
            "-121.990000,37.350000,18.000000,1712.000000,509.000000,972.000000,467.000000,4.397100,238900.000000\n",
            "-121.020000,37.680000,28.000000,2875.000000,560.000000,1608.000000,558.000000,3.548900,106400.000000\n",
            "-119.850000,36.740000,35.000000,1191.000000,190.000000,537.000000,182.000000,3.537500,96700.000000\n",
            "-118.020000,34.080000,28.000000,2769.000000,631.000000,2452.000000,581.000000,2.607100,175900.000000\n",
            "-123.520000,41.010000,17.000000,1564.000000,345.000000,517.000000,222.000000,2.154200,83800.000000\n",
            "-122.400000,37.620000,44.000000,1619.000000,362.000000,1064.000000,335.000000,4.023800,224200.000000\n",
            "-118.130000,34.150000,24.000000,1125.000000,341.000000,579.000000,321.000000,2.812500,141700.000000\n",
            "-122.000000,37.980000,32.000000,1013.000000,169.000000,436.000000,173.000000,5.111800,226900.000000\n",
            "-118.450000,34.250000,36.000000,1453.000000,270.000000,808.000000,275.000000,4.383900,204600.000000\n",
            "-117.500000,33.870000,4.000000,6755.000000,1017.000000,2866.000000,850.000000,5.049300,239800.000000\n",
            "-122.220000,37.840000,50.000000,2935.000000,473.000000,1031.000000,479.000000,7.500000,295200.000000\n",
            "-119.820000,36.640000,30.000000,1694.000000,312.000000,1008.000000,321.000000,2.246600,96000.000000\n",
            "-120.210000,36.770000,20.000000,1745.000000,348.000000,1093.000000,302.000000,2.319400,90600.000000\n",
            "-120.970000,38.420000,16.000000,1748.000000,322.000000,4930.000000,287.000000,4.302900,121900.000000\n",
            "-121.190000,38.870000,20.000000,3118.000000,500.000000,1405.000000,519.000000,6.000000,209400.000000\n",
            "-118.200000,33.770000,52.000000,1375.000000,457.000000,1089.000000,317.000000,2.234400,200000.000000\n",
            "-118.300000,34.020000,49.000000,2120.000000,483.000000,1522.000000,416.000000,1.850000,116800.000000\n",
            "-122.230000,37.790000,43.000000,5963.000000,1344.000000,4367.000000,1231.000000,2.191700,112800.000000\n",
            "-121.310000,38.620000,31.000000,3114.000000,430.000000,1121.000000,456.000000,6.244000,240000.000000\n",
            "-117.250000,32.800000,35.000000,2281.000000,506.000000,1005.000000,496.000000,4.229600,275000.000000\n",
            "-118.260000,33.990000,36.000000,2016.000000,505.000000,1807.000000,464.000000,1.690100,103500.000000\n",
            "-119.390000,36.540000,34.000000,1590.000000,422.000000,1272.000000,407.000000,1.806800,59000.000000\n",
            "-121.510000,38.520000,30.000000,3236.000000,588.000000,1167.000000,569.000000,4.097200,181400.000000\n",
            "-119.180000,34.270000,6.000000,2307.000000,386.000000,910.000000,364.000000,5.215000,279500.000000\n",
            "-118.180000,33.770000,30.000000,1418.000000,439.000000,720.000000,417.000000,2.637100,159400.000000\n",
            "-122.430000,37.740000,52.000000,1514.000000,314.000000,724.000000,301.000000,5.329200,300900.000000\n",
            "-117.930000,33.910000,24.000000,1698.000000,297.000000,676.000000,273.000000,5.201700,364600.000000\n",
            "-124.160000,40.770000,35.000000,2141.000000,438.000000,1053.000000,434.000000,2.852900,85600.000000\n",
            "-117.950000,33.630000,27.000000,2489.000000,481.000000,1082.000000,443.000000,5.877700,358800.000000\n",
            "-118.050000,34.100000,36.000000,1606.000000,318.000000,889.000000,294.000000,4.793100,272600.000000\n",
            "-116.970000,32.810000,19.000000,1573.000000,471.000000,844.000000,414.000000,2.142200,125000.000000\n",
            "-118.850000,34.170000,42.000000,564.000000,96.000000,220.000000,81.000000,4.562500,318800.000000\n",
            "-117.730000,33.630000,15.000000,2874.000000,592.000000,1382.000000,586.000000,5.513700,161800.000000\n",
            "-122.070000,37.340000,30.000000,1851.000000,238.000000,631.000000,236.000000,10.100700,500001.000000\n",
            "-117.180000,33.020000,15.000000,3540.000000,453.000000,1364.000000,425.000000,13.662300,500001.000000\n",
            "-118.410000,34.000000,38.000000,324.000000,70.000000,268.000000,73.000000,2.550000,271400.000000\n",
            "-121.960000,37.300000,20.000000,4228.000000,1006.000000,2334.000000,1007.000000,4.308100,227300.000000\n",
            "-121.740000,38.550000,34.000000,2299.000000,579.000000,1300.000000,536.000000,1.643500,148500.000000\n",
            "-118.210000,33.920000,28.000000,2949.000000,1003.000000,4551.000000,930.000000,1.902600,131900.000000\n",
            "-121.900000,36.610000,29.000000,3412.000000,827.000000,1574.000000,759.000000,2.930900,217100.000000\n",
            "-117.810000,33.840000,17.000000,4343.000000,515.000000,1605.000000,484.000000,10.598100,460100.000000\n",
            "-118.190000,33.930000,42.000000,1829.000000,391.000000,1614.000000,377.000000,3.191200,146400.000000\n",
            "-120.930000,37.730000,14.000000,2799.000000,618.000000,2294.000000,596.000000,2.634300,81500.000000\n",
            "-122.020000,37.960000,25.000000,2615.000000,368.000000,935.000000,366.000000,6.672700,305100.000000\n",
            "-122.470000,37.790000,52.000000,2844.000000,623.000000,1380.000000,596.000000,4.750000,500001.000000\n",
            "-117.190000,34.030000,25.000000,2513.000000,340.000000,900.000000,320.000000,6.496200,182400.000000\n",
            "-117.240000,32.800000,28.000000,1072.000000,331.000000,692.000000,321.000000,2.135700,187500.000000\n",
            "-118.130000,34.100000,19.000000,2742.000000,756.000000,1396.000000,703.000000,2.566300,197500.000000\n",
            "-122.420000,37.730000,50.000000,3426.000000,769.000000,2261.000000,671.000000,2.888000,246400.000000\n",
            "-118.140000,34.710000,32.000000,1164.000000,248.000000,588.000000,270.000000,1.191700,86900.000000\n",
            "-119.760000,36.750000,39.000000,2233.000000,563.000000,2031.000000,491.000000,1.864100,50800.000000\n",
            "-122.340000,37.560000,39.000000,3562.000000,391.000000,1139.000000,391.000000,12.641700,500001.000000\n",
            "-122.450000,40.460000,16.000000,2734.000000,501.000000,1413.000000,484.000000,2.808500,105700.000000\n",
            "-118.290000,33.910000,31.000000,2025.000000,618.000000,2231.000000,593.000000,2.474100,151200.000000\n",
            "-118.320000,33.910000,34.000000,3041.000000,677.000000,1920.000000,640.000000,4.530400,181300.000000\n",
            "-122.040000,37.360000,26.000000,3298.000000,460.000000,1241.000000,472.000000,6.875300,403000.000000\n",
            "-117.390000,34.100000,12.000000,7184.000000,1516.000000,4862.000000,1235.000000,2.449200,103800.000000\n",
            "-122.250000,37.800000,36.000000,1678.000000,606.000000,1645.000000,543.000000,2.230300,116700.000000\n",
            "-117.980000,34.100000,22.000000,5661.000000,1209.000000,5389.000000,1178.000000,3.772700,159700.000000\n",
            "-120.060000,36.950000,24.000000,646.000000,134.000000,454.000000,149.000000,2.125000,61900.000000\n",
            "-121.470000,39.490000,17.000000,1554.000000,242.000000,553.000000,230.000000,3.217400,91800.000000\n",
            "-122.200000,37.790000,35.000000,1802.000000,459.000000,1009.000000,390.000000,2.303600,126000.000000\n",
            "-117.230000,32.750000,23.000000,2415.000000,653.000000,1275.000000,596.000000,3.138900,101800.000000\n",
            "-119.750000,36.740000,39.000000,1740.000000,351.000000,1098.000000,347.000000,1.895800,51300.000000\n",
            "-117.920000,34.030000,35.000000,1341.000000,233.000000,898.000000,216.000000,4.111800,157300.000000\n",
            "-121.640000,39.280000,25.000000,2857.000000,662.000000,2076.000000,685.000000,1.809500,64100.000000\n",
            "-117.140000,32.720000,45.000000,1140.000000,310.000000,840.000000,339.000000,1.615600,156300.000000\n",
            "-122.290000,37.540000,41.000000,1743.000000,349.000000,811.000000,349.000000,4.946400,282400.000000\n",
            "-117.910000,33.940000,15.000000,5799.000000,842.000000,2314.000000,787.000000,6.343300,350500.000000\n",
            "-118.380000,34.270000,8.000000,3248.000000,847.000000,2608.000000,731.000000,2.821400,158300.000000\n",
            "-122.030000,37.600000,24.000000,2077.000000,383.000000,1488.000000,389.000000,4.572100,214700.000000\n",
            "-117.130000,33.150000,16.000000,3907.000000,671.000000,1759.000000,663.000000,3.177600,172600.000000\n",
            "-118.280000,34.000000,42.000000,855.000000,284.000000,890.000000,247.000000,1.277800,112500.000000\n",
            "-122.450000,37.720000,52.000000,1729.000000,319.000000,890.000000,300.000000,4.303600,261800.000000\n",
            "-119.770000,36.770000,38.000000,3065.000000,658.000000,1441.000000,625.000000,2.056400,64700.000000\n",
            "-117.700000,33.640000,15.000000,5743.000000,773.000000,2380.000000,773.000000,8.192600,326600.000000\n",
            "-117.070000,32.790000,36.000000,3583.000000,642.000000,1711.000000,602.000000,3.974500,170800.000000\n",
            "-117.850000,33.620000,13.000000,5192.000000,658.000000,1865.000000,662.000000,15.000100,500001.000000\n",
            "-117.760000,33.710000,15.000000,1010.000000,350.000000,470.000000,342.000000,3.222900,108300.000000\n",
            "-117.190000,34.940000,31.000000,2034.000000,444.000000,1097.000000,367.000000,2.152200,60800.000000\n",
            "-120.970000,37.690000,15.000000,4065.000000,841.000000,1986.000000,680.000000,3.072000,114300.000000\n",
            "-117.190000,33.640000,12.000000,1481.000000,265.000000,757.000000,243.000000,3.235000,210700.000000\n",
            "-118.380000,33.910000,36.000000,2904.000000,515.000000,1463.000000,534.000000,5.837400,289600.000000\n",
            "-121.560000,38.260000,43.000000,1906.000000,327.000000,996.000000,314.000000,2.974400,136800.000000\n",
            "-118.960000,35.870000,17.000000,1668.000000,307.000000,888.000000,277.000000,3.779400,96200.000000\n",
            "-116.960000,32.800000,24.000000,2493.000000,693.000000,1420.000000,643.000000,1.835700,104200.000000\n",
            "-118.270000,33.940000,30.000000,1764.000000,397.000000,1406.000000,362.000000,1.449000,93100.000000\n",
            "-119.180000,34.190000,36.000000,4519.000000,1081.000000,4818.000000,1061.000000,2.856100,179100.000000\n",
            "-118.230000,33.900000,28.000000,1108.000000,284.000000,1498.000000,289.000000,2.470600,88800.000000\n",
            "-120.490000,37.260000,28.000000,2159.000000,416.000000,1283.000000,378.000000,1.893900,83000.000000\n",
            "-121.430000,38.640000,34.000000,2010.000000,411.000000,1501.000000,422.000000,2.041700,65900.000000\n",
            "-118.140000,34.170000,42.000000,2757.000000,713.000000,2112.000000,653.000000,2.714800,166800.000000\n",
            "-119.090000,35.410000,12.000000,3449.000000,522.000000,1754.000000,551.000000,5.623500,130600.000000\n",
            "-118.020000,33.710000,24.000000,2598.000000,443.000000,1184.000000,435.000000,5.862300,287800.000000\n",
            "-121.530000,39.060000,20.000000,561.000000,109.000000,308.000000,114.000000,3.302100,70800.000000\n",
            "-119.290000,34.280000,38.000000,2387.000000,748.000000,1537.000000,741.000000,2.314700,192500.000000\n",
            "-121.840000,37.340000,33.000000,1019.000000,191.000000,938.000000,215.000000,4.092900,165000.000000\n",
            "-117.990000,33.880000,42.000000,1461.000000,302.000000,986.000000,314.000000,3.955900,161100.000000\n",
            "-122.240000,37.550000,3.000000,6164.000000,1175.000000,2198.000000,975.000000,6.741300,435900.000000\n",
            "-121.800000,37.310000,21.000000,2630.000000,446.000000,1789.000000,389.000000,5.054300,232000.000000\n",
            "-117.430000,34.080000,13.000000,4563.000000,1187.000000,2475.000000,1019.000000,2.118900,121700.000000\n",
            "-118.280000,34.020000,29.000000,515.000000,229.000000,2690.000000,217.000000,0.499900,500001.000000\n",
            "-117.300000,33.060000,31.000000,2128.000000,520.000000,1049.000000,485.000000,4.027000,290000.000000\n",
            "-118.200000,34.040000,18.000000,796.000000,227.000000,547.000000,218.000000,1.033300,135400.000000\n",
            "-117.630000,34.110000,30.000000,2674.000000,428.000000,1404.000000,456.000000,4.296900,165600.000000\n",
            "-121.940000,37.330000,37.000000,818.000000,269.000000,576.000000,261.000000,2.190200,250000.000000\n",
            "-118.070000,33.930000,5.000000,906.000000,187.000000,1453.000000,158.000000,4.125000,171900.000000\n",
            "-117.190000,32.830000,30.000000,3225.000000,555.000000,1601.000000,532.000000,4.331700,173300.000000\n",
            "-118.210000,33.890000,42.000000,1739.000000,370.000000,1104.000000,297.000000,2.212500,120700.000000\n",
            "-118.410000,34.190000,39.000000,1169.000000,242.000000,612.000000,247.000000,4.142900,200000.000000\n",
            "-117.000000,32.800000,29.000000,2045.000000,398.000000,912.000000,368.000000,3.018900,144100.000000\n",
            "-116.920000,32.860000,11.000000,2204.000000,518.000000,1472.000000,497.000000,2.369300,127000.000000\n",
            "-121.040000,38.950000,22.000000,1931.000000,445.000000,1009.000000,407.000000,2.750000,153200.000000\n",
            "-122.120000,37.450000,38.000000,1276.000000,314.000000,955.000000,287.000000,2.009600,155700.000000\n",
            "-119.480000,36.540000,28.000000,2112.000000,363.000000,1011.000000,335.000000,4.222200,108900.000000\n",
            "-121.020000,37.680000,25.000000,3262.000000,588.000000,1834.000000,578.000000,3.996000,114500.000000\n",
            "-123.280000,40.770000,25.000000,767.000000,206.000000,301.000000,121.000000,1.625000,79200.000000\n",
            "-122.890000,39.110000,10.000000,1588.000000,333.000000,585.000000,254.000000,2.255100,71100.000000\n",
            "-122.040000,37.970000,21.000000,6445.000000,1839.000000,3621.000000,1735.000000,2.584100,112500.000000\n",
            "-118.080000,33.810000,21.000000,1189.000000,281.000000,577.000000,264.000000,3.315500,237500.000000\n",
            "-118.310000,34.090000,36.000000,787.000000,420.000000,1506.000000,360.000000,1.241200,216700.000000\n",
            "-122.160000,37.750000,35.000000,667.000000,140.000000,406.000000,133.000000,3.804700,94300.000000\n",
            "-121.610000,38.380000,37.000000,1365.000000,276.000000,952.000000,268.000000,4.037000,156900.000000\n",
            "-122.100000,37.680000,31.000000,1892.000000,428.000000,1162.000000,389.000000,3.125000,167100.000000\n",
            "-122.280000,37.870000,49.000000,2026.000000,548.000000,963.000000,521.000000,1.980500,173700.000000\n",
            "-116.910000,34.240000,23.000000,6379.000000,1636.000000,1350.000000,568.000000,1.633600,124500.000000\n",
            "-121.830000,37.280000,33.000000,1115.000000,250.000000,1168.000000,261.000000,3.900900,178600.000000\n",
            "-118.300000,33.810000,17.000000,5544.000000,1068.000000,3008.000000,1038.000000,5.322000,282700.000000\n",
            "-117.960000,33.700000,23.000000,4417.000000,740.000000,1865.000000,693.000000,5.342800,279300.000000\n",
            "-122.140000,40.070000,31.000000,2053.000000,465.000000,1193.000000,447.000000,1.492300,44400.000000\n",
            "-121.440000,38.730000,25.000000,1287.000000,224.000000,727.000000,236.000000,4.739600,135500.000000\n",
            "-122.260000,37.550000,17.000000,4576.000000,814.000000,1941.000000,807.000000,5.957200,443800.000000\n",
            "-121.640000,37.140000,14.000000,5487.000000,1024.000000,2823.000000,979.000000,4.175000,229800.000000\n",
            "-117.180000,34.480000,8.000000,3561.000000,691.000000,2156.000000,659.000000,2.777800,86900.000000\n",
            "-122.280000,38.340000,44.000000,1066.000000,190.000000,416.000000,174.000000,3.638900,304000.000000\n",
            "-117.900000,33.600000,25.000000,2465.000000,585.000000,906.000000,472.000000,3.653800,500001.000000\n",
            "-122.180000,37.780000,33.000000,142.000000,31.000000,575.000000,47.000000,3.875000,225000.000000\n",
            "-121.490000,38.510000,30.000000,3166.000000,607.000000,1857.000000,579.000000,3.176800,79500.000000\n",
            "-118.190000,33.910000,43.000000,1531.000000,357.000000,1509.000000,376.000000,2.635400,128100.000000\n",
            "-118.270000,34.100000,50.000000,2113.000000,398.000000,793.000000,418.000000,4.713200,304600.000000\n",
            "-121.440000,38.610000,34.000000,172.000000,38.000000,149.000000,55.000000,2.644200,55000.000000\n",
            "-121.910000,37.430000,33.000000,2791.000000,496.000000,1714.000000,485.000000,4.830400,224900.000000\n",
            "-117.860000,33.720000,31.000000,1194.000000,297.000000,1602.000000,306.000000,2.333300,157700.000000\n",
            "-118.350000,33.920000,29.000000,736.000000,232.000000,584.000000,231.000000,3.616700,200000.000000\n",
            "-117.260000,33.840000,12.000000,1159.000000,209.000000,523.000000,159.000000,2.723200,123200.000000\n",
            "-122.430000,37.730000,52.000000,3602.000000,738.000000,2270.000000,647.000000,3.893400,251800.000000\n",
            "-121.800000,37.990000,16.000000,3077.000000,465.000000,1575.000000,446.000000,5.500000,179500.000000\n",
            "-122.580000,38.460000,15.000000,2936.000000,517.000000,1182.000000,501.000000,3.398100,246900.000000\n",
            "-122.470000,37.780000,52.000000,2042.000000,378.000000,1153.000000,408.000000,4.185600,404700.000000\n",
            "-118.080000,34.000000,32.000000,1165.000000,358.000000,997.000000,361.000000,0.981700,166300.000000\n",
            "-122.000000,37.350000,20.000000,4304.000000,851.000000,2059.000000,835.000000,5.167400,333000.000000\n",
            "-119.020000,35.410000,21.000000,2534.000000,554.000000,1297.000000,517.000000,2.057500,67000.000000\n",
            "-118.130000,34.180000,52.000000,1464.000000,211.000000,603.000000,226.000000,5.830900,309100.000000\n",
            "-121.940000,37.270000,23.000000,1932.000000,552.000000,997.000000,482.000000,3.662000,211900.000000\n",
            "-120.510000,35.910000,39.000000,768.000000,162.000000,264.000000,118.000000,5.324500,250000.000000\n",
            "-121.650000,38.030000,28.000000,3144.000000,694.000000,1095.000000,482.000000,3.440200,192400.000000\n",
            "-121.620000,39.790000,11.000000,3835.000000,727.000000,1456.000000,658.000000,2.537400,97200.000000\n",
            "-117.080000,32.820000,16.000000,1787.000000,236.000000,770.000000,228.000000,7.129800,278600.000000\n",
            "-123.210000,39.140000,15.000000,2235.000000,545.000000,1376.000000,516.000000,1.903200,100000.000000\n",
            "-119.610000,36.330000,32.000000,1492.000000,284.000000,926.000000,264.000000,3.013900,61500.000000\n",
            "-114.980000,33.070000,18.000000,1183.000000,363.000000,374.000000,127.000000,3.160700,57500.000000\n",
            "-118.380000,34.040000,36.000000,3005.000000,771.000000,2054.000000,758.000000,2.043700,309100.000000\n",
            "-117.990000,33.700000,13.000000,4013.000000,903.000000,1999.000000,859.000000,4.625000,248800.000000\n",
            "-116.260000,33.720000,10.000000,9404.000000,1827.000000,3208.000000,1283.000000,3.108600,105800.000000\n",
            "-118.400000,34.000000,10.000000,1526.000000,339.000000,705.000000,268.000000,5.808300,321800.000000\n",
            "-120.640000,35.460000,6.000000,5876.000000,1406.000000,2877.000000,1304.000000,2.543700,146400.000000\n",
            "-122.030000,37.390000,22.000000,3280.000000,933.000000,1842.000000,795.000000,4.410700,232700.000000\n",
            "-118.290000,33.880000,36.000000,1751.000000,438.000000,1175.000000,419.000000,3.073900,218600.000000\n",
            "-117.020000,32.690000,7.000000,6055.000000,1004.000000,3031.000000,952.000000,4.436000,135000.000000\n",
            "-119.320000,36.300000,15.000000,2864.000000,571.000000,1480.000000,475.000000,2.969800,93400.000000\n",
            "-122.310000,38.010000,18.000000,4123.000000,874.000000,1895.000000,772.000000,3.275900,195000.000000\n",
            "-118.860000,34.190000,27.000000,1931.000000,261.000000,736.000000,244.000000,6.780500,392900.000000\n",
            "-117.140000,33.810000,13.000000,4496.000000,756.000000,2044.000000,695.000000,3.277800,148800.000000\n",
            "-118.640000,34.220000,25.000000,2762.000000,410.000000,1166.000000,439.000000,6.864300,333700.000000\n",
            "-116.630000,33.890000,22.000000,1540.000000,364.000000,610.000000,268.000000,1.522700,71000.000000\n",
            "-118.280000,34.110000,45.000000,1607.000000,331.000000,633.000000,332.000000,3.144500,438300.000000\n",
            "-119.030000,35.380000,52.000000,1695.000000,290.000000,540.000000,260.000000,2.731200,147100.000000\n",
            "-118.260000,33.880000,36.000000,1212.000000,222.000000,775.000000,224.000000,5.559100,136500.000000\n",
            "-117.890000,33.850000,18.000000,2036.000000,414.000000,1292.000000,380.000000,3.875000,273000.000000\n",
            "-122.090000,37.380000,36.000000,2587.000000,416.000000,1055.000000,410.000000,6.199500,407200.000000\n",
            "-122.940000,39.100000,18.000000,681.000000,120.000000,272.000000,105.000000,2.890600,140600.000000\n",
            "-117.100000,32.680000,42.000000,2013.000000,568.000000,1920.000000,557.000000,2.072400,107600.000000\n",
            "-118.980000,35.410000,36.000000,1482.000000,266.000000,640.000000,274.000000,3.875000,94500.000000\n",
            "-120.230000,37.960000,52.000000,1230.000000,262.000000,609.000000,243.000000,2.005700,68200.000000\n",
            "-118.200000,33.940000,43.000000,1934.000000,511.000000,1895.000000,493.000000,2.502900,159700.000000\n",
            "-121.300000,37.950000,9.000000,674.000000,242.000000,575.000000,193.000000,2.202400,45000.000000\n",
            "-121.740000,38.550000,33.000000,6861.000000,1820.000000,3717.000000,1767.000000,1.731100,182600.000000\n",
            "-121.960000,37.330000,35.000000,2294.000000,411.000000,1054.000000,449.000000,4.066700,276900.000000\n",
            "-120.600000,37.360000,27.000000,2521.000000,484.000000,1307.000000,456.000000,3.091100,86900.000000\n",
            "-122.470000,37.700000,44.000000,2034.000000,423.000000,1491.000000,373.000000,4.534100,236500.000000\n",
            "-117.050000,32.580000,23.000000,1918.000000,339.000000,1392.000000,340.000000,4.087000,134800.000000\n",
            "-117.900000,33.870000,34.000000,1411.000000,292.000000,1040.000000,299.000000,3.433800,195200.000000\n",
            "-117.230000,32.870000,15.000000,2290.000000,662.000000,1034.000000,594.000000,3.010400,204200.000000\n",
            "-122.080000,37.880000,24.000000,2059.000000,462.000000,410.000000,294.000000,2.397100,99400.000000\n",
            "-118.210000,33.800000,45.000000,1160.000000,274.000000,1095.000000,269.000000,2.730800,139000.000000\n",
            "-122.080000,37.640000,30.000000,5267.000000,1253.000000,4065.000000,1113.000000,3.347900,182100.000000\n",
            "-118.380000,34.140000,40.000000,1965.000000,354.000000,666.000000,357.000000,6.087600,483800.000000\n",
            "-118.200000,33.800000,45.000000,2456.000000,495.000000,1300.000000,450.000000,3.979200,210200.000000\n",
            "-117.620000,33.430000,27.000000,3858.000000,1062.000000,2321.000000,873.000000,3.315500,231000.000000\n",
            "-122.110000,37.400000,31.000000,2836.000000,490.000000,1138.000000,481.000000,4.951900,500001.000000\n",
            "-122.840000,38.980000,21.000000,939.000000,176.000000,556.000000,178.000000,1.719600,75000.000000\n",
            "-121.260000,38.270000,20.000000,1314.000000,229.000000,712.000000,219.000000,4.412500,144600.000000\n",
            "-116.890000,33.730000,15.000000,2094.000000,316.000000,937.000000,277.000000,5.362300,201300.000000\n",
            "-122.670000,38.440000,32.000000,3771.000000,741.000000,1786.000000,721.000000,3.241500,172200.000000\n",
            "-117.940000,33.870000,46.000000,2066.000000,450.000000,1275.000000,448.000000,3.937500,187000.000000\n",
            "-118.140000,34.690000,34.000000,1439.000000,327.000000,708.000000,298.000000,3.269900,100000.000000\n",
            "-122.400000,37.590000,22.000000,2754.000000,477.000000,1163.000000,479.000000,6.230600,500001.000000\n",
            "-118.080000,33.840000,28.000000,4216.000000,948.000000,2997.000000,896.000000,3.796100,162700.000000\n",
            "-116.360000,33.780000,6.000000,24121.000000,4522.000000,4176.000000,2221.000000,3.379900,239300.000000\n",
            "-117.940000,33.850000,26.000000,1888.000000,429.000000,1550.000000,458.000000,3.339300,168600.000000\n",
            "-117.470000,33.940000,34.000000,559.000000,139.000000,532.000000,137.000000,3.068700,88500.000000\n",
            "-117.640000,33.650000,4.000000,6842.000000,1512.000000,3256.000000,1439.000000,5.413200,216600.000000\n",
            "-118.500000,34.240000,34.000000,2634.000000,412.000000,1114.000000,423.000000,5.940100,315300.000000\n",
            "-118.190000,33.780000,24.000000,225.000000,72.000000,439.000000,71.000000,2.853300,137500.000000\n",
            "-117.660000,34.120000,16.000000,3853.000000,541.000000,1726.000000,497.000000,6.119500,251100.000000\n",
            "-122.300000,37.970000,34.000000,2854.000000,528.000000,1211.000000,452.000000,3.535300,164700.000000\n",
            "-122.140000,37.680000,31.000000,3184.000000,716.000000,1561.000000,628.000000,2.795500,183100.000000\n",
            "-118.260000,33.940000,41.000000,1510.000000,410.000000,1408.000000,389.000000,1.650000,94200.000000\n",
            "-118.230000,33.930000,39.000000,2065.000000,532.000000,2015.000000,535.000000,0.847800,104900.000000\n",
            "-120.960000,38.660000,11.000000,2339.000000,436.000000,1062.000000,380.000000,3.903600,180800.000000\n",
            "-117.840000,35.350000,28.000000,1913.000000,486.000000,858.000000,371.000000,1.996200,50800.000000\n",
            "-119.160000,34.200000,35.000000,2183.000000,636.000000,3504.000000,623.000000,1.970400,160300.000000\n",
            "-122.650000,38.230000,52.000000,1735.000000,347.000000,712.000000,343.000000,3.171100,200800.000000\n",
            "-121.880000,37.370000,14.000000,6016.000000,1404.000000,3258.000000,1316.000000,3.574500,333700.000000\n",
            "-118.400000,34.040000,43.000000,3863.000000,537.000000,1398.000000,511.000000,8.593800,500001.000000\n",
            "-118.270000,34.110000,36.000000,1832.000000,539.000000,934.000000,486.000000,3.052100,276600.000000\n",
            "-118.440000,34.300000,38.000000,1595.000000,314.000000,1181.000000,327.000000,3.400000,155500.000000\n",
            "-121.770000,37.680000,41.000000,1501.000000,299.000000,629.000000,288.000000,4.680600,209400.000000\n",
            "-119.990000,38.880000,17.000000,2807.000000,529.000000,675.000000,251.000000,2.745700,107800.000000\n",
            "-118.360000,33.960000,26.000000,3543.000000,1055.000000,2742.000000,951.000000,2.550400,151300.000000\n",
            "-118.320000,33.970000,52.000000,1778.000000,320.000000,795.000000,279.000000,3.511400,138800.000000\n",
            "-118.270000,34.270000,27.000000,5205.000000,859.000000,2363.000000,888.000000,6.194600,276100.000000\n",
            "-116.810000,33.900000,17.000000,2009.000000,469.000000,820.000000,381.000000,1.328600,81800.000000\n",
            "-118.390000,33.960000,45.000000,1436.000000,374.000000,662.000000,292.000000,3.625000,329400.000000\n",
            "-118.070000,33.910000,29.000000,2387.000000,570.000000,1978.000000,548.000000,3.195700,159200.000000\n",
            "-118.350000,34.220000,30.000000,1260.000000,222.000000,638.000000,229.000000,4.130200,258300.000000\n",
            "-118.430000,34.020000,41.000000,2403.000000,516.000000,1001.000000,514.000000,4.390600,500001.000000\n",
            "-121.730000,37.680000,17.000000,20354.000000,3493.000000,8768.000000,3293.000000,5.449600,238900.000000\n",
            "-117.310000,32.980000,17.000000,2789.000000,648.000000,849.000000,345.000000,4.101200,244700.000000\n",
            "-122.290000,37.560000,12.000000,6474.000000,1467.000000,2516.000000,1390.000000,5.035300,305800.000000\n",
            "-119.690000,34.380000,39.000000,1383.000000,459.000000,677.000000,362.000000,2.250000,281300.000000\n",
            "-122.070000,38.000000,37.000000,978.000000,202.000000,462.000000,184.000000,3.625000,156300.000000\n",
            "-118.050000,34.160000,41.000000,3320.000000,713.000000,1236.000000,659.000000,3.569400,278600.000000\n",
            "-122.070000,37.660000,28.000000,2280.000000,610.000000,1255.000000,587.000000,2.671900,161200.000000\n",
            "-121.800000,37.270000,10.000000,3301.000000,593.000000,2190.000000,575.000000,6.223000,260700.000000\n",
            "-122.690000,38.340000,23.000000,2846.000000,516.000000,1526.000000,492.000000,3.733000,163500.000000\n",
            "-117.080000,32.700000,35.000000,1477.000000,264.000000,852.000000,279.000000,3.178600,100600.000000\n",
            "-119.760000,36.730000,46.000000,1347.000000,282.000000,854.000000,267.000000,1.872300,52600.000000\n",
            "-118.370000,34.050000,52.000000,1563.000000,306.000000,776.000000,308.000000,3.625000,440900.000000\n",
            "-122.700000,38.350000,14.000000,1555.000000,369.000000,493.000000,335.000000,1.603300,67500.000000\n",
            "-118.130000,34.010000,45.000000,1179.000000,268.000000,736.000000,252.000000,2.708300,161800.000000\n",
            "-119.350000,36.210000,26.000000,2481.000000,586.000000,1445.000000,498.000000,1.637800,60300.000000\n",
            "-117.670000,34.030000,20.000000,8561.000000,1411.000000,4861.000000,1450.000000,4.705600,165500.000000\n",
            "-117.970000,34.150000,33.000000,2474.000000,472.000000,1268.000000,437.000000,6.457600,500001.000000\n",
            "-118.080000,34.080000,38.000000,1889.000000,407.000000,1330.000000,396.000000,3.921900,205200.000000\n",
            "-121.230000,38.780000,13.000000,3813.000000,871.000000,1513.000000,783.000000,2.080700,142600.000000\n",
            "-118.200000,34.020000,49.000000,1098.000000,317.000000,1411.000000,301.000000,2.750000,146000.000000\n",
            "-118.170000,34.020000,41.000000,676.000000,216.000000,851.000000,199.000000,2.307700,140600.000000\n",
            "-117.800000,34.060000,34.000000,1081.000000,205.000000,1325.000000,252.000000,3.629800,108500.000000\n",
            "-118.300000,33.970000,46.000000,1425.000000,317.000000,1140.000000,304.000000,3.375000,98500.000000\n",
            "-122.470000,37.690000,30.000000,837.000000,213.000000,606.000000,199.000000,4.875000,258800.000000\n",
            "-118.200000,33.960000,44.000000,2144.000000,477.000000,1760.000000,452.000000,2.322100,161600.000000\n",
            "-117.130000,32.910000,16.000000,2715.000000,581.000000,1619.000000,584.000000,4.000000,154700.000000\n",
            "-119.770000,36.810000,25.000000,1565.000000,271.000000,661.000000,275.000000,3.427900,84700.000000\n",
            "-118.470000,34.250000,21.000000,2692.000000,477.000000,1330.000000,456.000000,4.541700,238900.000000\n",
            "-122.250000,37.800000,42.000000,4120.000000,1065.000000,1715.000000,1015.000000,2.934500,225000.000000\n",
            "-118.500000,34.170000,37.000000,880.000000,154.000000,369.000000,155.000000,4.142900,303600.000000\n",
            "-122.240000,37.490000,38.000000,4105.000000,950.000000,2561.000000,909.000000,3.868400,265600.000000\n",
            "-117.150000,32.930000,16.000000,2718.000000,438.000000,1515.000000,431.000000,5.143300,185300.000000\n",
            "-120.850000,37.770000,35.000000,404.000000,96.000000,261.000000,100.000000,2.458300,75000.000000\n",
            "-122.250000,37.830000,35.000000,1613.000000,428.000000,675.000000,422.000000,3.472200,243100.000000\n",
            "-118.330000,33.770000,33.000000,4244.000000,595.000000,1534.000000,557.000000,9.821400,500001.000000\n",
            "-124.150000,40.780000,41.000000,2127.000000,358.000000,911.000000,349.000000,3.171100,104200.000000\n",
            "-117.940000,33.790000,24.000000,4179.000000,784.000000,1902.000000,733.000000,4.798600,236500.000000\n",
            "-121.590000,39.150000,5.000000,1922.000000,489.000000,938.000000,439.000000,2.047400,61300.000000\n",
            "-122.690000,38.440000,31.000000,1808.000000,315.000000,691.000000,280.000000,3.858300,193200.000000\n",
            "-122.510000,38.760000,9.000000,2589.000000,482.000000,1050.000000,374.000000,4.043500,132600.000000\n",
            "-117.890000,33.610000,45.000000,1883.000000,419.000000,653.000000,328.000000,4.222200,500001.000000\n",
            "-117.190000,32.770000,9.000000,634.000000,152.000000,248.000000,133.000000,3.857100,143800.000000\n",
            "-117.150000,32.750000,40.000000,2261.000000,579.000000,903.000000,525.000000,2.465000,198700.000000\n",
            "-122.210000,37.480000,20.000000,505.000000,216.000000,326.000000,216.000000,2.928600,237500.000000\n",
            "-118.250000,33.790000,38.000000,1730.000000,460.000000,1724.000000,424.000000,2.730800,150400.000000\n",
            "-120.490000,40.310000,16.000000,1821.000000,360.000000,969.000000,359.000000,3.464300,85100.000000\n",
            "-118.300000,33.740000,20.000000,2625.000000,673.000000,1184.000000,606.000000,3.916700,285200.000000\n",
            "-117.140000,32.700000,47.000000,552.000000,161.000000,593.000000,174.000000,0.958900,90000.000000\n",
            "-121.300000,37.970000,52.000000,2259.000000,417.000000,766.000000,385.000000,2.298100,105400.000000\n",
            "-119.780000,36.750000,31.000000,1404.000000,379.000000,1515.000000,387.000000,1.281300,56400.000000\n",
            "-118.380000,34.180000,32.000000,3553.000000,1060.000000,3129.000000,1010.000000,2.560300,174200.000000\n",
            "-118.130000,34.100000,24.000000,4670.000000,1185.000000,2478.000000,1107.000000,3.197500,252400.000000\n",
            "-118.300000,33.730000,42.000000,1731.000000,435.000000,866.000000,403.000000,2.745100,255400.000000\n",
            "-118.440000,33.990000,44.000000,305.000000,72.000000,156.000000,70.000000,5.964100,275000.000000\n",
            "-117.480000,34.080000,17.000000,1834.000000,390.000000,1253.000000,357.000000,3.102800,106400.000000\n",
            "-122.350000,37.970000,31.000000,2892.000000,685.000000,2104.000000,641.000000,3.218800,113800.000000\n",
            "-119.710000,34.410000,31.000000,1034.000000,319.000000,997.000000,308.000000,2.653800,231800.000000\n",
            "-116.920000,32.810000,23.000000,2668.000000,528.000000,1510.000000,524.000000,3.366900,158900.000000\n",
            "-122.110000,37.660000,35.000000,2843.000000,652.000000,1726.000000,643.000000,3.090000,174100.000000\n",
            "-117.410000,33.940000,29.000000,3181.000000,714.000000,1603.000000,706.000000,3.250000,112500.000000\n",
            "-122.450000,37.740000,38.000000,5688.000000,930.000000,2263.000000,908.000000,6.203000,346800.000000\n",
            "-118.360000,33.800000,38.000000,2553.000000,400.000000,1042.000000,393.000000,6.974200,500001.000000\n",
            "-121.660000,36.680000,10.000000,913.000000,265.000000,508.000000,251.000000,0.991400,147500.000000\n",
            "-122.420000,37.760000,52.000000,2038.000000,629.000000,2007.000000,596.000000,2.570100,266700.000000\n",
            "-118.290000,34.050000,30.000000,1417.000000,589.000000,1615.000000,540.000000,1.386700,193800.000000\n",
            "-119.820000,34.430000,15.000000,1482.000000,345.000000,669.000000,379.000000,3.077300,112500.000000\n",
            "-119.340000,36.220000,38.000000,2708.000000,460.000000,1260.000000,455.000000,3.090500,78200.000000\n",
            "-121.500000,38.610000,5.000000,1395.000000,373.000000,638.000000,322.000000,2.674500,225000.000000\n",
            "-121.880000,37.460000,5.000000,1819.000000,245.000000,802.000000,228.000000,10.972200,500001.000000\n",
            "-118.270000,33.940000,34.000000,721.000000,165.000000,661.000000,171.000000,2.078900,92400.000000\n",
            "-122.170000,37.730000,46.000000,2163.000000,470.000000,925.000000,435.000000,3.250000,177500.000000\n",
            "-122.220000,37.850000,28.000000,5287.000000,1048.000000,2031.000000,956.000000,5.457000,337300.000000\n",
            "-117.200000,32.830000,36.000000,1089.000000,240.000000,623.000000,226.000000,2.590900,176000.000000\n",
            "-120.690000,35.490000,16.000000,2666.000000,450.000000,1203.000000,429.000000,4.137500,222400.000000\n",
            "-122.700000,38.970000,17.000000,2554.000000,540.000000,723.000000,319.000000,3.237500,114200.000000\n",
            "-118.370000,34.150000,29.000000,2630.000000,617.000000,1071.000000,573.000000,3.366900,376100.000000\n",
            "-118.350000,34.000000,40.000000,2894.000000,395.000000,1063.000000,409.000000,6.939000,372000.000000\n",
            "-118.390000,37.360000,38.000000,1813.000000,410.000000,902.000000,396.000000,2.326100,98400.000000\n",
            "-118.110000,34.200000,36.000000,4915.000000,725.000000,1897.000000,700.000000,6.827000,359400.000000\n",
            "-121.720000,36.810000,18.000000,1984.000000,379.000000,1078.000000,359.000000,3.296900,229900.000000\n",
            "-118.520000,34.160000,39.000000,2693.000000,478.000000,1219.000000,435.000000,5.170000,335400.000000\n",
            "-118.120000,33.900000,35.000000,3478.000000,730.000000,1885.000000,673.000000,2.937500,206500.000000\n",
            "-119.690000,36.790000,5.000000,2613.000000,476.000000,1490.000000,481.000000,4.099300,83000.000000\n",
            "-118.030000,33.780000,26.000000,2001.000000,302.000000,836.000000,298.000000,5.106100,257500.000000\n",
            "-120.670000,35.620000,6.000000,12779.000000,2441.000000,6085.000000,2157.000000,3.866100,168100.000000\n",
            "-118.430000,34.030000,36.000000,1552.000000,388.000000,867.000000,352.000000,3.646700,346700.000000\n",
            "-121.620000,39.130000,41.000000,1147.000000,243.000000,583.000000,239.000000,2.243100,63400.000000\n",
            "-118.970000,37.640000,13.000000,1907.000000,544.000000,575.000000,234.000000,3.068500,162500.000000\n",
            "-117.250000,32.740000,36.000000,3548.000000,956.000000,1648.000000,866.000000,2.696200,288200.000000\n",
            "-122.280000,37.800000,52.000000,215.000000,87.000000,904.000000,88.000000,0.866800,137500.000000\n",
            "-118.190000,34.140000,38.000000,1826.000000,300.000000,793.000000,297.000000,5.296200,291500.000000\n",
            "-117.900000,33.850000,32.000000,1605.000000,314.000000,986.000000,306.000000,3.337500,186200.000000\n",
            "-119.020000,37.640000,14.000000,5919.000000,1278.000000,265.000000,112.000000,3.243100,221400.000000\n",
            "-118.370000,34.200000,34.000000,2199.000000,609.000000,2488.000000,597.000000,2.986100,171800.000000\n",
            "-122.410000,37.750000,52.000000,1057.000000,276.000000,837.000000,292.000000,2.453100,229000.000000\n",
            "-117.940000,33.920000,28.000000,639.000000,179.000000,1062.000000,169.000000,3.058800,145200.000000\n",
            "-118.220000,34.120000,28.000000,3306.000000,1025.000000,2670.000000,942.000000,3.091900,185400.000000\n",
            "-117.240000,34.040000,4.000000,4289.000000,682.000000,1981.000000,705.000000,5.336600,165100.000000\n",
            "-122.080000,37.660000,33.000000,1547.000000,372.000000,1063.000000,356.000000,2.562500,154300.000000\n",
            "-122.280000,37.850000,48.000000,2063.000000,484.000000,1054.000000,466.000000,2.262500,132900.000000\n",
            "-118.210000,33.900000,35.000000,2420.000000,579.000000,2010.000000,540.000000,2.081700,104600.000000\n",
            "-118.010000,33.920000,35.000000,1606.000000,289.000000,829.000000,273.000000,5.273000,187600.000000\n",
            "-118.290000,34.180000,10.000000,4292.000000,1075.000000,2719.000000,987.000000,3.697400,286600.000000\n",
            "-118.210000,33.960000,48.000000,284.000000,104.000000,422.000000,119.000000,1.282600,145500.000000\n",
            "-117.230000,32.810000,28.000000,1508.000000,263.000000,996.000000,267.000000,3.802600,270000.000000\n",
            "-117.030000,33.130000,15.000000,7000.000000,1185.000000,3555.000000,1118.000000,4.702200,172800.000000\n",
            "-121.850000,37.220000,21.000000,6203.000000,798.000000,2494.000000,800.000000,7.720100,362700.000000\n",
            "-122.400000,37.720000,47.000000,1465.000000,306.000000,1119.000000,315.000000,4.267200,219400.000000\n",
            "-120.470000,34.980000,6.000000,5762.000000,1115.000000,2551.000000,919.000000,3.072300,137300.000000\n",
            "-121.140000,37.480000,6.000000,1772.000000,332.000000,1011.000000,331.000000,3.704500,128100.000000\n",
            "-119.340000,36.620000,26.000000,1922.000000,339.000000,1148.000000,332.000000,2.605800,92200.000000\n",
            "-117.660000,34.080000,36.000000,1485.000000,236.000000,623.000000,261.000000,3.303600,141000.000000\n",
            "-116.840000,33.080000,15.000000,2755.000000,519.000000,1474.000000,460.000000,4.040800,225900.000000\n",
            "-118.290000,34.050000,11.000000,677.000000,370.000000,1143.000000,341.000000,2.386400,350000.000000\n",
            "-119.980000,38.940000,23.000000,1564.000000,298.000000,339.000000,147.000000,4.041700,99300.000000\n",
            "-118.100000,33.910000,35.000000,1653.000000,325.000000,1072.000000,301.000000,3.270800,159700.000000\n",
            "-120.070000,36.960000,42.000000,963.000000,216.000000,471.000000,211.000000,2.289800,66100.000000\n",
            "-119.110000,35.390000,22.000000,984.000000,176.000000,451.000000,170.000000,3.250000,88900.000000\n",
            "-117.720000,34.100000,46.000000,2477.000000,458.000000,1034.000000,455.000000,5.500000,289700.000000\n",
            "-117.900000,33.650000,30.000000,2196.000000,486.000000,1131.000000,460.000000,4.413500,272300.000000\n",
            "-121.980000,37.290000,31.000000,2750.000000,664.000000,1459.000000,660.000000,3.228700,264900.000000\n",
            "-122.030000,36.960000,32.000000,2182.000000,406.000000,1122.000000,370.000000,3.520000,284200.000000\n",
            "-117.420000,34.080000,21.000000,4460.000000,930.000000,2657.000000,839.000000,2.756900,127500.000000\n",
            "-117.660000,34.110000,19.000000,3445.000000,661.000000,1635.000000,580.000000,5.068100,230500.000000\n",
            "-119.290000,34.240000,27.000000,4742.000000,775.000000,1682.000000,696.000000,6.194000,500001.000000\n",
            "-117.020000,32.710000,20.000000,4050.000000,745.000000,2870.000000,761.000000,3.736600,121800.000000\n",
            "-122.850000,38.620000,16.000000,4418.000000,704.000000,1908.000000,697.000000,4.591300,244600.000000\n",
            "-118.330000,33.910000,35.000000,1092.000000,302.000000,962.000000,297.000000,3.590300,183300.000000\n",
            "-118.400000,34.020000,40.000000,593.000000,137.000000,371.000000,132.000000,4.693200,332800.000000\n",
            "-118.380000,33.840000,26.000000,2869.000000,567.000000,1157.000000,538.000000,6.038200,355300.000000\n",
            "-118.050000,34.110000,42.000000,3677.000000,627.000000,1779.000000,622.000000,5.150900,426500.000000\n",
            "-117.430000,33.930000,36.000000,2386.000000,396.000000,1176.000000,374.000000,4.512200,113300.000000\n",
            "-118.100000,34.160000,44.000000,2795.000000,496.000000,1235.000000,469.000000,4.238600,283700.000000\n",
            "-122.530000,37.860000,38.000000,1183.000000,196.000000,628.000000,205.000000,3.750000,478600.000000\n",
            "-118.300000,33.970000,42.000000,944.000000,200.000000,567.000000,190.000000,2.631100,124100.000000\n",
            "-118.200000,33.890000,37.000000,2394.000000,568.000000,2499.000000,551.000000,2.532100,105100.000000\n",
            "-118.020000,34.150000,44.000000,2419.000000,437.000000,1045.000000,432.000000,3.875000,280800.000000\n",
            "-121.530000,39.520000,30.000000,1030.000000,161.000000,448.000000,159.000000,2.482100,73800.000000\n",
            "-117.920000,33.900000,13.000000,1814.000000,320.000000,1010.000000,313.000000,6.348900,337900.000000\n",
            "-118.370000,34.210000,33.000000,2034.000000,470.000000,1990.000000,423.000000,3.745500,159600.000000\n",
            "-118.040000,33.850000,18.000000,3628.000000,546.000000,1922.000000,544.000000,7.505700,328500.000000\n",
            "-118.460000,33.980000,19.000000,2520.000000,726.000000,964.000000,663.000000,3.806800,500001.000000\n",
            "-118.050000,33.900000,36.000000,1047.000000,227.000000,975.000000,239.000000,3.189700,155000.000000\n",
            "-122.950000,40.710000,26.000000,2231.000000,421.000000,987.000000,364.000000,2.479200,88800.000000\n",
            "-122.000000,37.300000,28.000000,5096.000000,1011.000000,2588.000000,954.000000,5.357000,355200.000000\n",
            "-121.860000,37.400000,21.000000,1386.000000,260.000000,946.000000,257.000000,6.522600,258500.000000\n",
            "-119.250000,36.560000,35.000000,1675.000000,373.000000,1131.000000,316.000000,1.672200,59100.000000\n",
            "-118.210000,34.560000,12.000000,2472.000000,408.000000,1048.000000,380.000000,4.709700,262100.000000\n",
            "-118.260000,34.020000,39.000000,698.000000,232.000000,1046.000000,228.000000,2.235600,119500.000000\n",
            "-117.280000,34.150000,32.000000,2170.000000,430.000000,815.000000,401.000000,3.176500,135000.000000\n",
            "-122.440000,37.660000,21.000000,5108.000000,1510.000000,3288.000000,1405.000000,3.192700,252600.000000\n",
            "-118.990000,35.390000,36.000000,1438.000000,348.000000,1054.000000,341.000000,1.831900,55400.000000\n",
            "-117.140000,34.060000,15.000000,3057.000000,510.000000,1154.000000,460.000000,3.974100,141100.000000\n",
            "-122.150000,37.410000,15.000000,2577.000000,360.000000,979.000000,364.000000,10.476000,500001.000000\n",
            "-121.200000,38.670000,26.000000,1546.000000,287.000000,773.000000,299.000000,2.980300,115400.000000\n",
            "-122.150000,37.470000,37.000000,1844.000000,382.000000,1634.000000,417.000000,2.799300,145500.000000\n",
            "-118.340000,33.950000,25.000000,3762.000000,1281.000000,4015.000000,1178.000000,2.158700,143800.000000\n",
            "-118.250000,34.080000,44.000000,1425.000000,438.000000,1121.000000,374.000000,2.110800,200000.000000\n",
            "-119.580000,36.100000,21.000000,1382.000000,327.000000,1469.000000,355.000000,1.396700,46500.000000\n",
            "-121.310000,38.710000,18.000000,3998.000000,744.000000,2071.000000,660.000000,4.383600,102000.000000\n",
            "-118.420000,34.120000,27.000000,2089.000000,303.000000,654.000000,270.000000,12.376700,500001.000000\n",
            "-117.180000,34.060000,52.000000,954.000000,233.000000,533.000000,239.000000,1.302100,100000.000000\n",
            "-115.900000,32.690000,18.000000,414.000000,86.000000,98.000000,54.000000,1.541700,57500.000000\n",
            "-118.360000,33.980000,46.000000,1425.000000,283.000000,782.000000,273.000000,5.057000,246300.000000\n",
            "-122.500000,37.600000,35.000000,2197.000000,369.000000,971.000000,326.000000,4.250000,241700.000000\n",
            "-121.500000,36.810000,20.000000,1345.000000,230.000000,731.000000,217.000000,4.233300,363300.000000\n",
            "-118.190000,33.820000,11.000000,872.000000,203.000000,422.000000,221.000000,4.636400,156300.000000\n",
            "-117.300000,34.150000,40.000000,961.000000,199.000000,509.000000,182.000000,2.060000,85500.000000\n",
            "-118.420000,34.230000,34.000000,1531.000000,278.000000,1064.000000,274.000000,5.668700,207300.000000\n",
            "-118.120000,33.900000,38.000000,1222.000000,282.000000,756.000000,256.000000,4.125000,173900.000000\n",
            "-119.800000,36.790000,45.000000,1337.000000,187.000000,471.000000,187.000000,5.187000,153800.000000\n",
            "-119.740000,34.350000,34.000000,1664.000000,292.000000,705.000000,257.000000,5.000000,329400.000000\n",
            "-121.970000,37.970000,26.000000,1977.000000,264.000000,817.000000,273.000000,5.751200,240200.000000\n",
            "-117.070000,34.050000,14.000000,5764.000000,1006.000000,1876.000000,841.000000,1.969400,173200.000000\n",
            "-122.290000,37.820000,2.000000,158.000000,43.000000,94.000000,57.000000,2.562500,60000.000000\n",
            "-116.310000,33.650000,8.000000,3079.000000,558.000000,1572.000000,474.000000,4.593800,102600.000000\n",
            "-118.270000,34.010000,43.000000,1235.000000,385.000000,1745.000000,372.000000,2.081700,113300.000000\n",
            "-122.440000,37.760000,52.000000,1968.000000,472.000000,784.000000,430.000000,3.370200,370000.000000\n",
            "-118.270000,34.150000,14.000000,1744.000000,536.000000,1494.000000,531.000000,3.217100,230800.000000\n",
            "-118.410000,34.030000,36.000000,3053.000000,635.000000,1234.000000,577.000000,5.163700,500001.000000\n",
            "-121.450000,38.610000,32.000000,2436.000000,612.000000,1509.000000,618.000000,1.042400,81400.000000\n",
            "-117.250000,32.830000,17.000000,2075.000000,262.000000,704.000000,241.000000,10.952900,500001.000000\n",
            "-119.800000,36.820000,24.000000,5377.000000,1005.000000,2010.000000,982.000000,3.454200,121200.000000\n",
            "-121.310000,38.010000,22.000000,2101.000000,514.000000,1304.000000,511.000000,2.834800,101600.000000\n",
            "-118.180000,34.050000,41.000000,762.000000,147.000000,817.000000,176.000000,3.750000,123100.000000\n",
            "-122.130000,37.370000,30.000000,2139.000000,260.000000,742.000000,242.000000,11.806000,500001.000000\n",
            "-119.750000,36.780000,28.000000,3257.000000,752.000000,1981.000000,712.000000,2.293000,71700.000000\n",
            "-117.090000,32.740000,42.000000,1986.000000,472.000000,1472.000000,475.000000,2.175700,110100.000000\n",
            "-122.020000,37.330000,25.000000,3823.000000,584.000000,1689.000000,571.000000,7.369300,373600.000000\n",
            "-117.200000,32.840000,34.000000,3353.000000,544.000000,1583.000000,571.000000,4.550000,187700.000000\n",
            "-118.140000,34.010000,46.000000,1746.000000,447.000000,1296.000000,392.000000,2.392900,156800.000000\n",
            "-122.430000,37.780000,29.000000,1310.000000,364.000000,1009.000000,379.000000,1.384400,177500.000000\n",
            "-118.100000,34.010000,29.000000,2077.000000,564.000000,2087.000000,543.000000,2.660000,189200.000000\n",
            "-118.350000,34.100000,20.000000,2745.000000,782.000000,1161.000000,739.000000,3.904400,436400.000000\n",
            "-118.000000,33.810000,33.000000,2970.000000,547.000000,1869.000000,539.000000,4.363600,201800.000000\n",
            "-121.460000,38.560000,52.000000,1750.000000,372.000000,764.000000,369.000000,2.919100,111800.000000\n",
            "-118.270000,33.870000,21.000000,6108.000000,1130.000000,3244.000000,1113.000000,4.276800,181400.000000\n",
            "-118.260000,33.950000,44.000000,1771.000000,378.000000,1296.000000,399.000000,1.638900,96700.000000\n",
            "-119.010000,35.380000,52.000000,114.000000,26.000000,158.000000,26.000000,1.075000,67500.000000\n",
            "-117.080000,32.800000,32.000000,1587.000000,268.000000,635.000000,249.000000,3.375000,178100.000000\n",
            "-122.200000,40.260000,15.000000,2102.000000,358.000000,957.000000,371.000000,3.190800,137900.000000\n",
            "-119.980000,38.940000,25.000000,1339.000000,328.000000,503.000000,219.000000,1.901800,109700.000000\n",
            "-122.530000,37.950000,22.000000,7446.000000,1979.000000,2980.000000,1888.000000,3.583800,271300.000000\n",
            "-118.300000,34.050000,51.000000,1005.000000,314.000000,1227.000000,306.000000,2.429700,162500.000000\n",
            "-121.860000,39.750000,18.000000,1651.000000,309.000000,856.000000,293.000000,3.504600,118300.000000\n",
            "-122.060000,37.330000,23.000000,4507.000000,751.000000,2167.000000,722.000000,7.010200,500001.000000\n",
            "-122.450000,38.010000,36.000000,4501.000000,832.000000,2196.000000,800.000000,4.318200,252700.000000\n",
            "-117.010000,32.770000,24.000000,2311.000000,536.000000,1005.000000,525.000000,2.900000,185200.000000\n",
            "-120.870000,37.760000,16.000000,1174.000000,249.000000,601.000000,242.000000,1.714300,113300.000000\n",
            "-121.790000,38.540000,7.000000,1777.000000,513.000000,4479.000000,504.000000,1.465300,310000.000000\n",
            "-117.810000,33.820000,22.000000,2898.000000,335.000000,1057.000000,324.000000,10.811100,500001.000000\n",
            "-117.590000,33.660000,3.000000,1206.000000,256.000000,563.000000,287.000000,5.158900,167800.000000\n",
            "-117.360000,34.090000,32.000000,3616.000000,631.000000,2131.000000,593.000000,3.287900,95500.000000\n",
            "-121.520000,39.500000,33.000000,1462.000000,241.000000,569.000000,231.000000,3.283300,82600.000000\n",
            "-122.270000,37.840000,52.000000,1503.000000,298.000000,690.000000,275.000000,2.603300,162900.000000\n",
            "-122.210000,40.200000,19.000000,3404.000000,731.000000,1421.000000,683.000000,2.614900,84400.000000\n",
            "-117.240000,33.180000,19.000000,3337.000000,565.000000,1646.000000,554.000000,5.019500,200200.000000\n",
            "-122.550000,37.980000,31.000000,3807.000000,828.000000,1581.000000,795.000000,3.293000,337500.000000\n",
            "-118.450000,34.000000,46.000000,1777.000000,362.000000,896.000000,334.000000,4.450000,348300.000000\n",
            "-117.880000,33.850000,34.000000,1127.000000,185.000000,588.000000,181.000000,4.375000,224700.000000\n",
            "-117.180000,32.760000,52.000000,2023.000000,301.000000,649.000000,285.000000,4.739600,441700.000000\n",
            "-118.300000,33.880000,29.000000,850.000000,229.000000,563.000000,204.000000,3.737500,247700.000000\n",
            "-122.040000,38.280000,12.000000,3861.000000,795.000000,2129.000000,806.000000,3.676000,135000.000000\n",
            "-122.430000,40.470000,16.000000,3552.000000,704.000000,1801.000000,658.000000,2.149600,97700.000000\n",
            "-118.380000,33.860000,24.000000,3124.000000,560.000000,1312.000000,542.000000,6.302100,333800.000000\n",
            "-119.570000,36.090000,6.000000,2015.000000,413.000000,992.000000,319.000000,2.388900,53200.000000\n",
            "-117.870000,34.120000,34.000000,1004.000000,220.000000,772.000000,217.000000,3.857100,174500.000000\n",
            "-116.880000,32.810000,35.000000,2926.000000,562.000000,1590.000000,506.000000,4.201400,143200.000000\n",
            "-118.580000,34.210000,13.000000,6227.000000,1317.000000,3739.000000,1226.000000,4.031300,299300.000000\n",
            "-122.040000,37.880000,32.000000,3250.000000,550.000000,1230.000000,557.000000,4.642400,312700.000000\n",
            "-122.440000,37.720000,52.000000,1775.000000,347.000000,1102.000000,367.000000,4.312500,267200.000000\n",
            "-121.810000,37.370000,26.000000,2987.000000,539.000000,1931.000000,518.000000,5.109900,213100.000000\n",
            "-122.500000,37.770000,52.000000,2433.000000,454.000000,1070.000000,420.000000,4.125000,359500.000000\n",
            "-121.940000,37.940000,26.000000,1299.000000,174.000000,533.000000,180.000000,6.229600,291700.000000\n",
            "-118.450000,34.120000,20.000000,10722.000000,1617.000000,3731.000000,1511.000000,9.744900,500001.000000\n",
            "-121.700000,39.070000,26.000000,2668.000000,510.000000,1437.000000,505.000000,3.312500,100000.000000\n",
            "-118.100000,34.650000,33.000000,873.000000,177.000000,425.000000,142.000000,2.670000,187500.000000\n",
            "-119.020000,36.060000,41.000000,2279.000000,538.000000,1908.000000,511.000000,1.395200,43100.000000\n",
            "-118.060000,34.080000,42.000000,1988.000000,402.000000,1239.000000,402.000000,3.256900,201500.000000\n",
            "-117.660000,33.610000,17.000000,3464.000000,519.000000,1713.000000,530.000000,6.047100,248400.000000\n",
            "-117.400000,33.940000,30.000000,1198.000000,251.000000,1019.000000,214.000000,3.050900,82700.000000\n",
            "-118.190000,33.830000,30.000000,2246.000000,552.000000,1032.000000,548.000000,3.587100,347100.000000\n",
            "-121.550000,39.510000,50.000000,1050.000000,288.000000,485.000000,260.000000,1.160700,51700.000000\n",
            "-121.980000,37.140000,37.000000,74.000000,19.000000,63.000000,17.000000,9.590800,350000.000000\n",
            "-117.060000,32.610000,24.000000,4369.000000,1353.000000,3123.000000,1247.000000,2.057100,152300.000000\n",
            "-118.320000,34.040000,39.000000,2965.000000,812.000000,2638.000000,794.000000,2.532000,172700.000000\n",
            "-117.130000,32.760000,41.000000,1545.000000,420.000000,747.000000,415.000000,2.375000,154400.000000\n",
            "-122.500000,37.760000,46.000000,2226.000000,480.000000,1272.000000,468.000000,4.264400,284100.000000\n",
            "-120.870000,37.620000,30.000000,455.000000,70.000000,220.000000,69.000000,4.895800,142500.000000\n",
            "-118.240000,34.220000,41.000000,2476.000000,506.000000,1271.000000,485.000000,3.453100,263900.000000\n",
            "-117.690000,33.480000,25.000000,3240.000000,481.000000,1462.000000,497.000000,6.181500,288500.000000\n",
            "-122.200000,39.750000,18.000000,2603.000000,576.000000,1616.000000,588.000000,2.019200,63700.000000\n",
            "-117.080000,32.640000,43.000000,1005.000000,230.000000,548.000000,252.000000,1.867200,145800.000000\n",
            "-117.910000,33.820000,32.000000,1408.000000,307.000000,1331.000000,284.000000,3.701400,179600.000000\n",
            "-122.000000,38.730000,31.000000,371.000000,74.000000,208.000000,84.000000,3.875000,137500.000000\n",
            "-118.290000,33.840000,33.000000,896.000000,208.000000,843.000000,200.000000,3.500000,183000.000000\n",
            "-118.130000,33.860000,45.000000,1320.000000,256.000000,645.000000,256.000000,4.400000,209500.000000\n",
            "-118.350000,33.890000,29.000000,2940.000000,708.000000,2175.000000,684.000000,3.648600,229000.000000\n",
            "-122.130000,40.010000,21.000000,916.000000,194.000000,451.000000,178.000000,2.125000,63300.000000\n",
            "-122.070000,37.960000,37.000000,1217.000000,199.000000,552.000000,194.000000,5.044500,196200.000000\n",
            "-117.260000,32.850000,30.000000,3652.000000,499.000000,978.000000,462.000000,8.237400,500001.000000\n",
            "-117.870000,33.740000,16.000000,1243.000000,365.000000,1925.000000,376.000000,2.763200,158900.000000\n",
            "-121.880000,37.440000,23.000000,1310.000000,267.000000,910.000000,261.000000,5.399400,237900.000000\n",
            "-121.670000,36.580000,11.000000,5892.000000,837.000000,2327.000000,812.000000,6.155100,291800.000000\n",
            "-116.890000,33.790000,12.000000,701.000000,130.000000,434.000000,110.000000,2.057700,56700.000000\n",
            "-122.660000,38.470000,20.000000,2806.000000,477.000000,1369.000000,460.000000,4.750000,190500.000000\n",
            "-121.450000,38.540000,38.000000,1865.000000,384.000000,1052.000000,354.000000,1.789100,60500.000000\n",
            "-121.000000,37.660000,43.000000,2369.000000,413.000000,944.000000,422.000000,3.263200,138100.000000\n",
            "-117.270000,32.840000,34.000000,1655.000000,450.000000,870.000000,411.000000,3.210900,376000.000000\n",
            "-117.870000,34.110000,23.000000,4066.000000,819.000000,2105.000000,737.000000,4.655600,199600.000000\n",
            "-121.440000,37.750000,16.000000,2229.000000,458.000000,1199.000000,445.000000,3.482100,170600.000000\n",
            "-118.130000,33.760000,44.000000,2532.000000,621.000000,961.000000,550.000000,3.935200,406900.000000\n",
            "-118.310000,34.260000,41.000000,1297.000000,327.000000,733.000000,315.000000,3.058300,160300.000000\n",
            "-122.000000,38.370000,18.000000,1048.000000,185.000000,469.000000,162.000000,3.625000,125000.000000\n",
            "-122.270000,41.230000,40.000000,1958.000000,386.000000,725.000000,331.000000,2.189800,65500.000000\n",
            "-120.890000,37.520000,42.000000,1200.000000,221.000000,647.000000,192.000000,2.540200,157500.000000\n",
            "-118.750000,34.290000,17.000000,5512.000000,765.000000,2734.000000,814.000000,6.607300,258100.000000\n",
            "-118.180000,34.020000,36.000000,1138.000000,296.000000,1484.000000,320.000000,2.281300,150700.000000\n",
            "-121.370000,38.410000,14.000000,3727.000000,685.000000,1741.000000,646.000000,3.562500,125700.000000\n",
            "-120.310000,37.290000,36.000000,969.000000,206.000000,732.000000,175.000000,1.593800,57600.000000\n",
            "-117.880000,33.730000,32.000000,1947.000000,355.000000,1786.000000,332.000000,4.572600,177500.000000\n",
            "-117.330000,33.980000,52.000000,1417.000000,353.000000,881.000000,300.000000,1.953100,162500.000000\n",
            "-118.490000,34.030000,30.000000,4061.000000,927.000000,1487.000000,865.000000,4.182700,435100.000000\n",
            "-121.930000,38.010000,9.000000,2294.000000,389.000000,1142.000000,365.000000,5.336300,160800.000000\n",
            "-122.450000,37.700000,46.000000,2193.000000,499.000000,1814.000000,489.000000,4.012500,230100.000000\n",
            "-117.080000,32.750000,20.000000,1886.000000,586.000000,1134.000000,525.000000,1.502900,100000.000000\n",
            "-116.190000,33.690000,11.000000,5692.000000,1346.000000,5682.000000,1273.000000,2.538300,74000.000000\n",
            "-119.730000,36.620000,35.000000,2080.000000,365.000000,1026.000000,333.000000,3.578100,92800.000000\n",
            "-117.120000,32.590000,28.000000,2793.000000,706.000000,1825.000000,676.000000,2.672400,144500.000000\n",
            "-117.630000,34.090000,8.000000,3557.000000,890.000000,2251.000000,765.000000,2.681800,114100.000000\n",
            "-118.260000,34.070000,40.000000,680.000000,273.000000,995.000000,249.000000,2.260700,165600.000000\n",
            "-118.260000,33.970000,46.000000,1521.000000,352.000000,1100.000000,334.000000,1.550000,100600.000000\n",
            "-119.840000,36.750000,34.000000,1186.000000,300.000000,774.000000,271.000000,1.575000,57100.000000\n",
            "-121.280000,38.670000,29.000000,1087.000000,174.000000,430.000000,174.000000,4.362500,158800.000000\n",
            "-117.350000,34.110000,34.000000,2104.000000,388.000000,1578.000000,365.000000,3.083300,88400.000000\n",
            "-121.320000,36.420000,20.000000,1054.000000,269.000000,1219.000000,273.000000,3.043700,76600.000000\n",
            "-118.350000,34.020000,34.000000,3978.000000,1073.000000,2725.000000,1035.000000,1.762200,167900.000000\n",
            "-119.810000,37.670000,24.000000,172.000000,42.000000,79.000000,30.000000,3.833300,93800.000000\n",
            "-118.150000,34.050000,33.000000,3287.000000,649.000000,1783.000000,653.000000,3.847200,293300.000000\n",
            "-121.220000,37.810000,17.000000,2879.000000,542.000000,1802.000000,530.000000,3.637800,126100.000000\n",
            "-119.720000,34.430000,30.000000,2491.000000,656.000000,1091.000000,576.000000,2.513900,279500.000000\n",
            "-117.850000,33.840000,17.000000,2830.000000,502.000000,1370.000000,459.000000,5.178500,247300.000000\n",
            "-117.200000,32.790000,31.000000,3417.000000,533.000000,1245.000000,532.000000,4.778800,276000.000000\n",
            "-118.630000,34.180000,33.000000,5252.000000,760.000000,2041.000000,730.000000,6.797700,389700.000000\n",
            "-117.490000,33.640000,3.000000,8874.000000,1302.000000,3191.000000,1027.000000,6.858800,302000.000000\n",
            "-118.370000,33.840000,35.000000,1792.000000,322.000000,978.000000,326.000000,4.958300,342800.000000\n",
            "-122.020000,38.260000,20.000000,3899.000000,763.000000,2198.000000,779.000000,3.206100,120400.000000\n",
            "-121.330000,38.660000,17.000000,2767.000000,584.000000,1275.000000,568.000000,2.590900,125400.000000\n",
            "-118.740000,36.230000,22.000000,1033.000000,232.000000,442.000000,136.000000,2.644700,137500.000000\n",
            "-117.890000,34.490000,12.000000,3449.000000,598.000000,1502.000000,540.000000,3.704300,150800.000000\n",
            "-117.410000,33.960000,24.000000,4481.000000,901.000000,2398.000000,823.000000,3.864000,123400.000000\n",
            "-118.750000,34.420000,28.000000,1000.000000,206.000000,545.000000,154.000000,2.416700,191700.000000\n",
            "-122.480000,37.740000,52.000000,2285.000000,435.000000,1211.000000,442.000000,4.020800,323100.000000\n",
            "-118.140000,34.040000,43.000000,1949.000000,464.000000,1216.000000,457.000000,3.321400,209300.000000\n",
            "-122.560000,37.900000,36.000000,1760.000000,283.000000,562.000000,246.000000,6.754600,402400.000000\n",
            "-122.090000,37.390000,43.000000,2065.000000,535.000000,1029.000000,500.000000,3.731800,327700.000000\n",
            "-121.800000,36.940000,29.000000,2377.000000,476.000000,1669.000000,499.000000,2.821400,190100.000000\n",
            "-117.830000,33.830000,13.000000,3759.000000,489.000000,1496.000000,499.000000,8.381800,377600.000000\n",
            "-121.680000,36.900000,13.000000,833.000000,130.000000,405.000000,127.000000,5.272900,322900.000000\n",
            "-122.300000,37.880000,52.000000,409.000000,97.000000,208.000000,98.000000,1.697100,138800.000000\n",
            "-121.040000,37.670000,16.000000,19.000000,19.000000,166.000000,9.000000,0.536000,162500.000000\n",
            "-118.320000,34.090000,28.000000,2173.000000,819.000000,2548.000000,763.000000,1.879000,218800.000000\n",
            "-118.120000,33.810000,36.000000,1774.000000,299.000000,784.000000,298.000000,5.044700,249200.000000\n",
            "-121.810000,39.700000,21.000000,5051.000000,1054.000000,2948.000000,980.000000,1.586300,81300.000000\n",
            "-121.840000,36.520000,18.000000,3165.000000,533.000000,1312.000000,434.000000,6.523400,357400.000000\n",
            "-121.790000,37.330000,18.000000,3611.000000,614.000000,2381.000000,642.000000,5.634500,231000.000000\n",
            "-118.160000,34.180000,48.000000,568.000000,145.000000,559.000000,135.000000,2.413500,135700.000000\n",
            "-119.400000,36.590000,37.000000,1486.000000,296.000000,977.000000,290.000000,3.507400,93800.000000\n",
            "-122.270000,37.800000,39.000000,1715.000000,623.000000,1327.000000,467.000000,1.847700,179200.000000\n",
            "-117.730000,33.570000,5.000000,11976.000000,2495.000000,4327.000000,2009.000000,4.848800,194400.000000\n",
            "-121.280000,37.920000,30.000000,1061.000000,230.000000,851.000000,195.000000,2.441200,61600.000000\n",
            "-119.810000,36.770000,43.000000,2341.000000,395.000000,890.000000,375.000000,3.426500,85000.000000\n",
            "-122.260000,37.850000,50.000000,1120.000000,283.000000,697.000000,264.000000,2.125000,140000.000000\n",
            "-117.950000,33.930000,37.000000,2633.000000,630.000000,1904.000000,630.000000,2.612300,161300.000000\n",
            "-120.120000,38.120000,37.000000,3355.000000,666.000000,338.000000,136.000000,2.062500,88900.000000\n",
            "-121.880000,37.350000,52.000000,1704.000000,418.000000,1336.000000,411.000000,2.816700,183500.000000\n",
            "-118.110000,33.870000,15.000000,3254.000000,598.000000,1772.000000,618.000000,5.041700,240800.000000\n",
            "-122.080000,37.690000,42.000000,1414.000000,274.000000,629.000000,244.000000,3.347800,184900.000000\n",
            "-121.680000,39.150000,14.000000,2774.000000,451.000000,1292.000000,428.000000,4.383300,115200.000000\n",
            "-122.160000,37.710000,36.000000,666.000000,132.000000,366.000000,134.000000,3.464300,175000.000000\n",
            "-118.070000,34.090000,35.000000,1224.000000,267.000000,887.000000,276.000000,4.098700,202400.000000\n",
            "-117.690000,33.650000,16.000000,5805.000000,852.000000,2356.000000,795.000000,6.106200,274600.000000\n",
            "-118.350000,34.030000,49.000000,2334.000000,530.000000,1334.000000,447.000000,1.890000,124000.000000\n",
            "-122.790000,39.020000,23.000000,642.000000,203.000000,265.000000,84.000000,1.883300,96900.000000\n",
            "-118.140000,33.890000,33.000000,2867.000000,786.000000,1774.000000,705.000000,2.929200,183400.000000\n",
            "-121.890000,37.420000,26.000000,40.000000,8.000000,52.000000,7.000000,7.719700,225000.000000\n",
            "-122.410000,37.760000,52.000000,492.000000,139.000000,316.000000,168.000000,3.086500,225000.000000\n",
            "-118.600000,34.160000,37.000000,3441.000000,584.000000,1283.000000,544.000000,4.165600,313100.000000\n",
            "-118.410000,34.020000,24.000000,2610.000000,756.000000,1322.000000,692.000000,3.502200,281300.000000\n",
            "-117.530000,33.970000,29.000000,1430.000000,273.000000,872.000000,283.000000,4.083300,141000.000000\n",
            "-117.130000,32.700000,35.000000,365.000000,98.000000,463.000000,112.000000,2.558800,78800.000000\n",
            "-117.140000,32.900000,16.000000,3217.000000,716.000000,2054.000000,687.000000,4.223400,162100.000000\n",
            "-118.160000,34.110000,31.000000,5715.000000,1154.000000,2639.000000,1079.000000,4.166100,364400.000000\n",
            "-117.180000,32.700000,42.000000,1691.000000,286.000000,761.000000,281.000000,5.138600,404500.000000\n",
            "-117.970000,33.720000,24.000000,2991.000000,500.000000,1437.000000,453.000000,5.428600,273400.000000\n",
            "-118.250000,34.090000,52.000000,104.000000,20.000000,32.000000,17.000000,3.750000,241700.000000\n",
            "-118.140000,34.110000,52.000000,3367.000000,545.000000,1427.000000,535.000000,5.229200,444500.000000\n",
            "-120.010000,34.540000,30.000000,2992.000000,609.000000,1288.000000,465.000000,3.937500,292900.000000\n",
            "-117.410000,34.100000,5.000000,4937.000000,1139.000000,2204.000000,812.000000,2.527200,92000.000000\n",
            "-118.220000,34.520000,7.000000,4524.000000,735.000000,2298.000000,717.000000,6.553800,311600.000000\n",
            "-117.910000,33.870000,29.000000,1121.000000,291.000000,762.000000,276.000000,2.500000,143800.000000\n",
            "-117.090000,32.760000,29.000000,1650.000000,496.000000,882.000000,445.000000,2.228700,140000.000000\n",
            "-122.270000,37.820000,52.000000,1630.000000,456.000000,1162.000000,400.000000,1.247500,104200.000000\n",
            "-118.200000,34.060000,46.000000,321.000000,101.000000,401.000000,86.000000,2.102900,109400.000000\n",
            "-118.360000,33.900000,40.000000,1271.000000,276.000000,725.000000,234.000000,5.045200,231900.000000\n",
            "-122.000000,37.860000,18.000000,8953.000000,1074.000000,3011.000000,993.000000,10.737200,500001.000000\n",
            "-121.360000,39.520000,15.000000,2490.000000,527.000000,1229.000000,497.000000,2.391700,85700.000000\n",
            "-122.000000,38.280000,3.000000,7030.000000,1191.000000,3238.000000,1055.000000,4.962000,161700.000000\n",
            "-117.700000,33.680000,29.000000,5650.000000,1084.000000,3985.000000,1056.000000,2.819200,162500.000000\n",
            "-118.280000,34.030000,26.000000,2107.000000,809.000000,2821.000000,572.000000,0.844000,350000.000000\n",
            "-118.250000,34.150000,13.000000,1107.000000,479.000000,616.000000,443.000000,0.818500,187500.000000\n",
            "-122.540000,37.930000,43.000000,2998.000000,470.000000,970.000000,430.000000,5.538500,431800.000000\n",
            "-118.250000,34.020000,50.000000,180.000000,89.000000,356.000000,76.000000,2.194400,158300.000000\n",
            "-122.060000,36.980000,15.000000,3385.000000,669.000000,1571.000000,615.000000,4.225400,320900.000000\n",
            "-122.450000,37.770000,52.000000,2339.000000,548.000000,1090.000000,507.000000,3.367900,350000.000000\n",
            "-118.040000,33.850000,23.000000,3132.000000,469.000000,1646.000000,478.000000,5.777000,315900.000000\n",
            "-118.120000,34.150000,19.000000,557.000000,216.000000,673.000000,212.000000,2.176300,168800.000000\n",
            "-118.310000,33.940000,43.000000,2104.000000,393.000000,1132.000000,394.000000,3.068200,142000.000000\n",
            "-118.440000,34.160000,33.000000,1616.000000,322.000000,580.000000,311.000000,4.039100,337500.000000\n",
            "-118.460000,34.170000,24.000000,2814.000000,675.000000,1463.000000,620.000000,4.187500,309300.000000\n",
            "-117.930000,34.060000,35.000000,1022.000000,183.000000,628.000000,187.000000,3.937500,187500.000000\n",
            "-121.810000,36.570000,13.000000,3030.000000,413.000000,1027.000000,363.000000,6.961500,500001.000000\n",
            "-118.420000,34.000000,33.000000,1139.000000,299.000000,734.000000,257.000000,3.270800,325000.000000\n",
            "-118.330000,34.010000,44.000000,1762.000000,463.000000,786.000000,445.000000,1.923100,188500.000000\n",
            "-118.240000,33.930000,19.000000,325.000000,74.000000,354.000000,87.000000,2.750000,90600.000000\n",
            "-116.940000,32.810000,22.000000,4266.000000,1010.000000,2766.000000,985.000000,2.817500,135200.000000\n",
            "-122.600000,38.240000,16.000000,2621.000000,416.000000,1247.000000,386.000000,4.860300,198400.000000\n",
            "-118.210000,33.970000,52.000000,4220.000000,908.000000,3731.000000,892.000000,3.190100,167600.000000\n",
            "-118.730000,34.270000,25.000000,3409.000000,493.000000,1699.000000,484.000000,5.653000,225800.000000\n",
            "-122.120000,37.370000,37.000000,1446.000000,181.000000,549.000000,190.000000,10.735500,500001.000000\n",
            "-122.420000,40.440000,16.000000,994.000000,185.000000,495.000000,181.000000,2.187500,76400.000000\n",
            "-122.130000,37.720000,26.000000,2862.000000,394.000000,1030.000000,397.000000,7.912000,367300.000000\n",
            "-121.170000,37.880000,22.000000,1283.000000,256.000000,3082.000000,239.000000,3.536500,111800.000000\n",
            "-122.430000,37.720000,48.000000,1289.000000,280.000000,782.000000,235.000000,3.671900,259800.000000\n",
            "-118.220000,33.910000,27.000000,500.000000,159.000000,732.000000,162.000000,2.742600,103100.000000\n",
            "-121.170000,37.970000,28.000000,1374.000000,248.000000,769.000000,229.000000,3.638900,130400.000000\n",
            "-122.270000,37.860000,52.000000,2307.000000,583.000000,1127.000000,548.000000,1.844700,198200.000000\n",
            "-119.190000,36.140000,41.000000,759.000000,140.000000,408.000000,129.000000,3.900000,85900.000000\n",
            "-122.410000,37.600000,31.000000,4424.000000,834.000000,1915.000000,817.000000,4.136400,412000.000000\n",
            "-116.830000,32.810000,18.000000,2367.000000,402.000000,1021.000000,395.000000,4.812500,210500.000000\n",
            "-119.340000,36.330000,17.000000,2250.000000,430.000000,1218.000000,468.000000,4.181200,93700.000000\n",
            "-123.220000,39.160000,29.000000,6121.000000,1222.000000,3595.000000,1189.000000,2.631000,109600.000000\n",
            "-121.920000,37.720000,22.000000,4638.000000,716.000000,2302.000000,687.000000,5.347000,219500.000000\n",
            "-116.570000,33.760000,25.000000,2616.000000,547.000000,581.000000,343.000000,3.136400,301600.000000\n",
            "-118.170000,34.180000,44.000000,1401.000000,246.000000,607.000000,271.000000,2.847200,218800.000000\n",
            "-117.200000,32.800000,36.000000,4018.000000,1067.000000,1620.000000,842.000000,2.359900,168400.000000\n",
            "-117.580000,34.090000,27.000000,754.000000,200.000000,746.000000,185.000000,1.953100,100800.000000\n",
            "-118.240000,33.960000,34.000000,1724.000000,432.000000,1876.000000,416.000000,2.107800,100600.000000\n",
            "-122.240000,40.180000,39.000000,2191.000000,493.000000,1307.000000,499.000000,1.648300,60800.000000\n",
            "-119.690000,36.820000,15.000000,3303.000000,512.000000,1687.000000,505.000000,4.810000,93600.000000\n",
            "-121.690000,36.620000,19.000000,1907.000000,323.000000,681.000000,270.000000,6.033200,244900.000000\n",
            "-119.280000,36.350000,7.000000,3598.000000,701.000000,2080.000000,678.000000,3.111100,72400.000000\n",
            "-117.990000,33.810000,46.000000,38.000000,8.000000,66.000000,14.000000,4.166700,162500.000000\n",
            "-117.650000,35.000000,36.000000,1184.000000,316.000000,672.000000,241.000000,1.910700,39800.000000\n",
            "-118.150000,34.020000,43.000000,2172.000000,605.000000,2386.000000,597.000000,2.823900,150600.000000\n",
            "-122.430000,37.730000,52.000000,1583.000000,347.000000,935.000000,341.000000,4.678600,263200.000000\n",
            "-117.040000,32.730000,36.000000,2084.000000,400.000000,1097.000000,398.000000,3.271700,130700.000000\n",
            "-118.080000,34.140000,45.000000,2923.000000,604.000000,1903.000000,560.000000,3.172900,218700.000000\n",
            "-121.070000,39.200000,45.000000,204.000000,62.000000,133.000000,51.000000,1.000000,90600.000000\n",
            "-117.120000,32.660000,52.000000,16.000000,4.000000,8.000000,3.000000,1.125000,60000.000000\n",
            "-118.130000,34.130000,39.000000,2099.000000,397.000000,1500.000000,380.000000,4.830400,493200.000000\n",
            "-122.220000,37.880000,20.000000,95.000000,13.000000,31.000000,15.000000,2.444400,475000.000000\n",
            "-122.520000,37.930000,34.000000,2782.000000,502.000000,1219.000000,507.000000,5.077900,333900.000000\n",
            "-122.090000,37.630000,36.000000,1570.000000,274.000000,992.000000,249.000000,5.364400,168800.000000\n",
            "-117.970000,33.820000,26.000000,4013.000000,985.000000,2442.000000,922.000000,3.765500,197700.000000\n",
            "-118.280000,34.050000,41.000000,1075.000000,597.000000,2260.000000,614.000000,1.300000,162500.000000\n",
            "-118.390000,33.790000,30.000000,4402.000000,563.000000,1582.000000,551.000000,10.898000,500001.000000\n",
            "-122.400000,37.580000,26.000000,3281.000000,531.000000,1145.000000,480.000000,6.358000,500001.000000\n",
            "-118.260000,34.060000,42.000000,2541.000000,1282.000000,3974.000000,1189.000000,1.585400,87500.000000\n",
            "-122.160000,37.480000,36.000000,2238.000000,479.000000,1949.000000,457.000000,2.376900,157300.000000\n",
            "-117.430000,34.110000,17.000000,4109.000000,884.000000,2544.000000,780.000000,2.775700,109800.000000\n",
            "-118.280000,33.930000,42.000000,1898.000000,460.000000,1503.000000,429.000000,2.517900,97400.000000\n",
            "-118.370000,33.950000,5.000000,6955.000000,2062.000000,3591.000000,1566.000000,3.111000,247600.000000\n",
            "-121.490000,38.560000,52.000000,1777.000000,368.000000,624.000000,350.000000,3.672900,137800.000000\n",
            "-121.800000,38.550000,11.000000,5121.000000,899.000000,2258.000000,901.000000,4.716800,223200.000000\n",
            "-122.190000,39.920000,20.000000,2563.000000,658.000000,1363.000000,611.000000,1.023000,54200.000000\n",
            "-118.010000,33.840000,29.000000,3740.000000,691.000000,1724.000000,638.000000,3.962800,215600.000000\n",
            "-118.310000,33.960000,48.000000,2015.000000,356.000000,1020.000000,338.000000,4.062500,138700.000000\n",
            "-121.060000,39.220000,52.000000,1749.000000,422.000000,837.000000,391.000000,2.325000,109700.000000\n",
            "-121.350000,38.610000,27.000000,3900.000000,776.000000,1549.000000,761.000000,2.778800,115700.000000\n",
            "-118.310000,33.990000,48.000000,2235.000000,433.000000,1363.000000,433.000000,1.655900,101400.000000\n",
            "-121.930000,37.270000,28.000000,3428.000000,753.000000,1753.000000,729.000000,4.103300,281000.000000\n",
            "-117.310000,33.170000,7.000000,2349.000000,312.000000,809.000000,282.000000,5.552000,283900.000000\n",
            "-120.890000,37.480000,27.000000,1118.000000,195.000000,647.000000,209.000000,2.913500,159400.000000\n",
            "-119.470000,35.140000,19.000000,4190.000000,690.000000,1973.000000,702.000000,3.992900,88300.000000\n",
            "-118.410000,34.180000,35.000000,1975.000000,384.000000,882.000000,406.000000,4.375000,291700.000000\n",
            "-119.810000,36.700000,52.000000,314.000000,57.000000,178.000000,66.000000,1.240400,52500.000000\n",
            "-117.080000,33.160000,11.000000,6341.000000,1030.000000,2697.000000,977.000000,4.855400,206700.000000\n",
            "-119.270000,35.870000,12.000000,972.000000,269.000000,1134.000000,286.000000,1.630000,49500.000000\n",
            "-122.310000,40.750000,18.000000,1411.000000,330.000000,494.000000,227.000000,1.491100,75800.000000\n",
            "-117.200000,33.290000,12.000000,6358.000000,1182.000000,2778.000000,1020.000000,4.035700,295900.000000\n",
            "-118.430000,34.260000,43.000000,729.000000,172.000000,935.000000,174.000000,2.951900,140900.000000\n",
            "-121.520000,39.510000,30.000000,3085.000000,610.000000,1688.000000,575.000000,2.334000,72200.000000\n",
            "-118.770000,34.270000,7.000000,3074.000000,794.000000,1816.000000,654.000000,2.713700,196400.000000\n",
            "-124.100000,40.950000,17.000000,1485.000000,345.000000,823.000000,316.000000,1.899300,78400.000000\n",
            "-117.150000,32.800000,27.000000,1937.000000,537.000000,1211.000000,482.000000,2.750000,87500.000000\n",
            "-118.370000,34.160000,11.000000,2901.000000,871.000000,1659.000000,789.000000,3.110600,209400.000000\n",
            "-122.500000,37.740000,44.000000,2792.000000,615.000000,1640.000000,579.000000,4.062500,272800.000000\n",
            "-120.920000,39.560000,48.000000,1276.000000,292.000000,358.000000,145.000000,1.875000,66600.000000\n",
            "-122.470000,38.510000,25.000000,928.000000,195.000000,413.000000,184.000000,3.490400,196900.000000\n",
            "-117.890000,33.610000,41.000000,1790.000000,361.000000,540.000000,284.000000,6.024700,500001.000000\n",
            "-121.350000,38.400000,11.000000,2322.000000,459.000000,1373.000000,424.000000,3.175000,94400.000000\n",
            "-117.920000,34.120000,32.000000,2552.000000,576.000000,2161.000000,548.000000,2.945900,144400.000000\n",
            "-118.310000,33.800000,30.000000,3096.000000,757.000000,2048.000000,704.000000,3.125000,233300.000000\n",
            "-120.350000,37.040000,37.000000,1495.000000,292.000000,858.000000,275.000000,2.930600,46300.000000\n",
            "-122.000000,37.310000,28.000000,3811.000000,585.000000,1795.000000,581.000000,7.838300,372700.000000\n",
            "-118.010000,33.950000,37.000000,1165.000000,210.000000,627.000000,221.000000,4.692300,181000.000000\n",
            "-118.070000,34.090000,40.000000,1745.000000,370.000000,1293.000000,357.000000,2.547400,198100.000000\n",
            "-117.500000,33.920000,28.000000,2101.000000,337.000000,1061.000000,348.000000,4.550000,146800.000000\n",
            "-123.740000,40.660000,25.000000,2395.000000,431.000000,983.000000,375.000000,3.046900,136000.000000\n",
            "-122.030000,37.910000,29.000000,5438.000000,871.000000,2310.000000,890.000000,5.036200,275300.000000\n",
            "-118.910000,34.220000,15.000000,5644.000000,757.000000,2659.000000,783.000000,6.755900,312000.000000\n",
            "-117.960000,34.140000,9.000000,907.000000,207.000000,619.000000,194.000000,3.946400,179600.000000\n",
            "-121.800000,38.010000,46.000000,2273.000000,495.000000,1088.000000,447.000000,2.253200,109400.000000\n",
            "-122.290000,37.530000,35.000000,2043.000000,511.000000,1089.000000,504.000000,3.027800,310600.000000\n",
            "-122.140000,37.670000,34.000000,3036.000000,533.000000,1366.000000,500.000000,4.238600,192300.000000\n",
            "-117.850000,33.790000,52.000000,2102.000000,403.000000,898.000000,365.000000,3.682700,236800.000000\n",
            "-122.100000,37.650000,31.000000,1797.000000,327.000000,796.000000,319.000000,4.442700,204500.000000\n",
            "-122.120000,37.910000,34.000000,5683.000000,755.000000,1962.000000,723.000000,8.367800,455300.000000\n",
            "-119.290000,36.320000,27.000000,1513.000000,374.000000,839.000000,350.000000,1.201200,64600.000000\n",
            "-117.400000,34.010000,25.000000,1858.000000,366.000000,1311.000000,331.000000,2.708300,87800.000000\n",
            "-117.060000,32.770000,32.000000,3888.000000,827.000000,3868.000000,841.000000,3.075500,166800.000000\n",
            "-118.300000,34.250000,44.000000,1442.000000,285.000000,859.000000,292.000000,4.583300,197300.000000\n",
            "-122.230000,40.150000,14.000000,2297.000000,573.000000,1637.000000,551.000000,1.787000,51600.000000\n",
            "-117.910000,33.820000,32.000000,2696.000000,640.000000,2330.000000,626.000000,2.947900,184600.000000\n",
            "-122.530000,37.970000,44.000000,3595.000000,953.000000,1831.000000,910.000000,2.603600,287500.000000\n",
            "-121.790000,37.000000,28.000000,2715.000000,451.000000,1154.000000,386.000000,4.802100,290400.000000\n",
            "-118.460000,33.990000,44.000000,1122.000000,287.000000,531.000000,256.000000,4.059800,335900.000000\n",
            "-118.030000,33.970000,32.000000,2468.000000,552.000000,1190.000000,479.000000,3.827500,238500.000000\n",
            "-122.320000,38.000000,32.000000,2275.000000,397.000000,1233.000000,418.000000,4.043700,162800.000000\n",
            "-118.280000,34.170000,22.000000,2664.000000,651.000000,1553.000000,629.000000,3.635400,256300.000000\n",
            "-119.140000,36.060000,32.000000,1838.000000,441.000000,1628.000000,425.000000,1.645200,41500.000000\n",
            "-117.130000,34.070000,34.000000,2405.000000,541.000000,1342.000000,514.000000,2.803100,86900.000000\n",
            "-120.670000,35.300000,32.000000,4202.000000,986.000000,2309.000000,956.000000,2.216500,231700.000000\n",
            "-118.060000,34.120000,34.000000,2941.000000,558.000000,1660.000000,576.000000,4.566700,271500.000000\n",
            "-122.390000,40.570000,38.000000,855.000000,172.000000,468.000000,150.000000,1.409100,84400.000000\n",
            "-118.390000,33.880000,33.000000,2543.000000,439.000000,1098.000000,416.000000,5.968300,495500.000000\n",
            "-118.160000,34.020000,47.000000,1055.000000,298.000000,1303.000000,302.000000,2.696400,138800.000000\n",
            "-122.580000,37.980000,52.000000,1180.000000,216.000000,467.000000,197.000000,4.961500,292200.000000\n",
            "-118.020000,33.920000,35.000000,2075.000000,424.000000,1312.000000,396.000000,3.796900,164800.000000\n",
            "-119.700000,34.400000,25.000000,1858.000000,493.000000,865.000000,460.000000,3.093800,312500.000000\n",
            "-122.680000,38.430000,29.000000,488.000000,63.000000,161.000000,62.000000,6.077400,334400.000000\n",
            "-121.350000,38.590000,29.000000,1285.000000,193.000000,460.000000,206.000000,5.324300,265700.000000\n",
            "-121.980000,37.270000,25.000000,3075.000000,564.000000,1633.000000,543.000000,5.252800,269400.000000\n",
            "-118.080000,34.580000,5.000000,1113.000000,186.000000,631.000000,168.000000,4.171900,146600.000000\n",
            "-118.250000,34.060000,20.000000,41.000000,17.000000,87.000000,25.000000,1.549100,225000.000000\n",
            "-122.250000,37.820000,26.000000,3959.000000,1196.000000,1749.000000,1217.000000,3.023300,255000.000000\n",
            "-119.050000,34.350000,39.000000,950.000000,300.000000,1366.000000,312.000000,2.244300,146600.000000\n",
            "-117.540000,33.760000,5.000000,5846.000000,1035.000000,3258.000000,1001.000000,4.796500,160800.000000\n",
            "-118.210000,33.880000,31.000000,1332.000000,417.000000,1405.000000,363.000000,2.012500,143000.000000\n",
            "-117.200000,32.790000,29.000000,1213.000000,228.000000,654.000000,246.000000,4.598700,255600.000000\n",
            "-120.960000,37.590000,11.000000,4236.000000,879.000000,2410.000000,850.000000,2.384900,122000.000000\n",
            "-118.240000,34.010000,48.000000,396.000000,99.000000,485.000000,110.000000,2.375000,107500.000000\n",
            "-118.270000,34.000000,43.000000,1638.000000,434.000000,1213.000000,390.000000,1.340300,110800.000000\n",
            "-122.250000,37.890000,41.000000,1125.000000,195.000000,356.000000,181.000000,6.159300,344000.000000\n",
            "-117.300000,34.090000,40.000000,1051.000000,244.000000,745.000000,243.000000,2.184200,75200.000000\n",
            "-120.910000,37.740000,19.000000,1690.000000,327.000000,855.000000,296.000000,3.250000,176700.000000\n",
            "-122.160000,38.900000,33.000000,1221.000000,236.000000,488.000000,199.000000,3.757400,92700.000000\n",
            "-118.310000,33.890000,35.000000,2144.000000,423.000000,1192.000000,417.000000,4.145800,231500.000000\n",
            "-118.180000,34.020000,43.000000,887.000000,219.000000,965.000000,217.000000,2.625000,133900.000000\n",
            "-117.970000,33.750000,32.000000,1564.000000,270.000000,973.000000,290.000000,3.750000,190400.000000\n",
            "-117.950000,35.080000,1.000000,83.000000,15.000000,32.000000,15.000000,4.875000,141700.000000\n",
            "-118.030000,33.910000,35.000000,2323.000000,406.000000,1741.000000,398.000000,4.243700,164100.000000\n",
            "-118.380000,33.970000,43.000000,2715.000000,458.000000,1151.000000,434.000000,7.489700,362600.000000\n",
            "-119.820000,36.720000,25.000000,2581.000000,528.000000,1642.000000,509.000000,1.643500,52600.000000\n",
            "-122.060000,37.680000,30.000000,5367.000000,1207.000000,2667.000000,1047.000000,3.179600,170300.000000\n",
            "-122.410000,40.550000,19.000000,3753.000000,761.000000,1952.000000,738.000000,3.095400,86500.000000\n",
            "-117.880000,33.720000,36.000000,1910.000000,352.000000,1593.000000,329.000000,3.890000,170000.000000\n",
            "-120.800000,38.310000,37.000000,1341.000000,256.000000,533.000000,242.000000,3.213500,123600.000000\n",
            "-118.100000,34.170000,48.000000,1111.000000,229.000000,421.000000,202.000000,3.281300,268100.000000\n",
            "-118.090000,34.120000,38.000000,1713.000000,285.000000,779.000000,286.000000,5.615200,359900.000000\n",
            "-118.310000,34.060000,47.000000,3038.000000,1533.000000,4225.000000,1472.000000,1.672500,187500.000000\n",
            "-118.020000,33.800000,16.000000,2956.000000,393.000000,1379.000000,429.000000,8.495200,359600.000000\n",
            "-121.940000,37.280000,18.000000,4356.000000,1334.000000,1968.000000,1245.000000,3.629400,240000.000000\n",
            "-117.950000,34.080000,37.000000,1137.000000,203.000000,672.000000,226.000000,3.296900,189000.000000\n",
            "-118.150000,33.940000,36.000000,1948.000000,341.000000,992.000000,363.000000,4.259400,242400.000000\n",
            "-121.810000,37.990000,22.000000,2331.000000,359.000000,1086.000000,340.000000,5.143500,150800.000000\n",
            "-121.810000,38.580000,17.000000,1964.000000,314.000000,808.000000,286.000000,5.962900,286000.000000\n",
            "-121.280000,38.770000,6.000000,3819.000000,550.000000,1738.000000,587.000000,5.871800,201400.000000\n",
            "-118.430000,34.010000,43.000000,1487.000000,242.000000,675.000000,247.000000,5.340300,489800.000000\n",
            "-121.380000,38.590000,36.000000,1239.000000,237.000000,764.000000,222.000000,3.015600,103000.000000\n",
            "-117.680000,35.650000,15.000000,2701.000000,576.000000,1245.000000,513.000000,3.326900,81900.000000\n",
            "-117.690000,33.580000,8.000000,2887.000000,351.000000,1176.000000,351.000000,10.395300,500001.000000\n",
            "-118.240000,34.000000,23.000000,588.000000,157.000000,716.000000,173.000000,1.205600,87500.000000\n",
            "-117.700000,33.600000,25.000000,1321.000000,295.000000,396.000000,278.000000,3.113100,77100.000000\n",
            "-118.380000,33.860000,12.000000,4235.000000,735.000000,1798.000000,683.000000,6.424200,365500.000000\n",
            "-117.050000,32.610000,31.000000,4033.000000,715.000000,2585.000000,715.000000,3.509600,139900.000000\n",
            "-121.380000,38.640000,19.000000,4563.000000,1069.000000,2256.000000,926.000000,2.147200,143400.000000\n",
            "-117.100000,32.740000,20.000000,3854.000000,1046.000000,3555.000000,966.000000,1.674700,100000.000000\n",
            "-122.470000,37.760000,48.000000,2064.000000,484.000000,1055.000000,467.000000,2.871100,329600.000000\n",
            "-117.840000,33.760000,16.000000,238.000000,51.000000,93.000000,50.000000,5.375000,215700.000000\n",
            "-122.260000,37.880000,52.000000,2604.000000,837.000000,1798.000000,769.000000,1.725000,287500.000000\n",
            "-118.400000,33.870000,45.000000,2181.000000,505.000000,965.000000,471.000000,5.381600,500001.000000\n",
            "-122.370000,38.330000,29.000000,1868.000000,291.000000,764.000000,284.000000,4.825000,195100.000000\n",
            "-117.980000,34.010000,27.000000,2643.000000,418.000000,1344.000000,381.000000,5.705700,262100.000000\n",
            "-122.700000,38.450000,26.000000,2011.000000,557.000000,855.000000,530.000000,1.125000,233300.000000\n",
            "-118.410000,33.970000,44.000000,2789.000000,503.000000,3732.000000,474.000000,4.617600,352300.000000\n",
            "-121.920000,37.300000,36.000000,2088.000000,358.000000,772.000000,347.000000,4.276200,310100.000000\n",
            "-122.110000,37.370000,49.000000,1068.000000,190.000000,410.000000,171.000000,7.204500,500001.000000\n",
            "-121.870000,37.390000,9.000000,2522.000000,547.000000,1591.000000,481.000000,4.909100,259700.000000\n",
            "-120.180000,39.140000,25.000000,2171.000000,386.000000,248.000000,116.000000,3.037500,171900.000000\n",
            "-117.060000,32.760000,36.000000,2785.000000,577.000000,1275.000000,527.000000,2.301500,156800.000000\n",
            "-117.240000,33.930000,12.000000,7105.000000,1447.000000,4520.000000,1333.000000,3.270500,113200.000000\n",
            "-118.250000,33.980000,47.000000,617.000000,162.000000,754.000000,144.000000,2.296900,116700.000000\n",
            "-117.800000,33.680000,14.000000,2635.000000,516.000000,1150.000000,499.000000,4.439100,306700.000000\n",
            "-119.780000,36.370000,41.000000,831.000000,149.000000,443.000000,146.000000,3.140600,100000.000000\n",
            "-117.040000,32.700000,7.000000,9311.000000,1703.000000,7302.000000,1694.000000,4.419000,156900.000000\n",
            "-118.290000,34.000000,6.000000,1487.000000,468.000000,1509.000000,403.000000,1.463900,112500.000000\n",
            "-118.360000,34.060000,52.000000,2130.000000,455.000000,921.000000,395.000000,2.960500,500001.000000\n",
            "-122.420000,37.620000,39.000000,1355.000000,214.000000,682.000000,246.000000,6.344300,324700.000000\n",
            "-118.420000,34.250000,37.000000,1545.000000,341.000000,1909.000000,352.000000,3.679100,148100.000000\n",
            "-121.100000,38.950000,17.000000,1475.000000,403.000000,943.000000,363.000000,2.128700,55300.000000\n",
            "-117.740000,34.050000,27.000000,852.000000,237.000000,1024.000000,221.000000,2.114100,110900.000000\n",
            "-122.390000,37.740000,52.000000,126.000000,24.000000,37.000000,27.000000,10.226400,225000.000000\n",
            "-118.370000,34.080000,52.000000,2946.000000,695.000000,1258.000000,650.000000,3.978300,374100.000000\n",
            "-122.080000,37.870000,24.000000,6130.000000,1359.000000,1750.000000,1286.000000,2.916700,102700.000000\n",
            "-118.440000,34.200000,28.000000,1732.000000,435.000000,1198.000000,417.000000,2.921900,241300.000000\n",
            "-121.370000,38.560000,19.000000,6308.000000,1167.000000,3012.000000,1112.000000,2.946400,113500.000000\n",
            "-122.100000,37.930000,20.000000,10212.000000,1424.000000,4083.000000,1374.000000,8.039000,382200.000000\n",
            "-117.220000,32.950000,4.000000,18123.000000,3173.000000,7301.000000,2964.000000,6.357000,322500.000000\n",
            "-122.130000,37.460000,31.000000,2247.000000,573.000000,1711.000000,511.000000,3.264200,185600.000000\n",
            "-122.300000,38.290000,20.000000,1789.000000,434.000000,1113.000000,398.000000,2.472800,139700.000000\n",
            "-123.410000,40.610000,17.000000,769.000000,205.000000,301.000000,126.000000,1.787500,55000.000000\n",
            "-120.770000,37.010000,28.000000,1689.000000,378.000000,1057.000000,267.000000,3.125000,156300.000000\n",
            "-118.800000,34.410000,45.000000,1610.000000,406.000000,1148.000000,347.000000,2.700000,120400.000000\n",
            "-119.270000,34.270000,52.000000,1577.000000,343.000000,836.000000,335.000000,3.589300,206600.000000\n",
            "-122.470000,37.740000,52.000000,3797.000000,668.000000,1633.000000,658.000000,5.678700,363600.000000\n",
            "-118.260000,34.130000,25.000000,3208.000000,1111.000000,2843.000000,1005.000000,2.667300,218100.000000\n",
            "-119.770000,36.760000,40.000000,2009.000000,519.000000,2219.000000,505.000000,1.210100,49100.000000\n",
            "-124.160000,41.920000,19.000000,1668.000000,324.000000,841.000000,283.000000,2.133600,75000.000000\n",
            "-119.030000,36.130000,24.000000,2259.000000,408.000000,1169.000000,395.000000,1.710600,95500.000000\n",
            "-122.180000,37.790000,41.000000,1411.000000,233.000000,626.000000,214.000000,7.087500,240700.000000\n",
            "-123.850000,39.390000,23.000000,4671.000000,912.000000,2095.000000,857.000000,3.184000,140500.000000\n",
            "-122.700000,38.330000,16.000000,1244.000000,242.000000,696.000000,236.000000,3.636900,158700.000000\n",
            "-118.100000,33.850000,36.000000,956.000000,159.000000,416.000000,157.000000,4.642900,223700.000000\n",
            "-117.990000,34.080000,35.000000,1032.000000,207.000000,954.000000,191.000000,2.890600,134800.000000\n",
            "-121.930000,37.730000,8.000000,831.000000,231.000000,404.000000,224.000000,3.375000,350000.000000\n",
            "-118.440000,34.230000,43.000000,2257.000000,429.000000,1418.000000,442.000000,4.527800,181800.000000\n",
            "-118.320000,34.260000,24.000000,5106.000000,1010.000000,2310.000000,957.000000,4.437500,191500.000000\n",
            "-118.150000,34.110000,39.000000,2618.000000,582.000000,1314.000000,532.000000,3.587500,309300.000000\n",
            "-117.740000,34.040000,27.000000,2215.000000,440.000000,1987.000000,449.000000,3.042900,129600.000000\n",
            "-121.350000,38.280000,17.000000,2756.000000,557.000000,1986.000000,530.000000,3.223400,82000.000000\n",
            "-122.750000,39.010000,17.000000,4162.000000,967.000000,889.000000,414.000000,3.418700,200500.000000\n",
            "-120.660000,35.460000,17.000000,3748.000000,609.000000,1860.000000,612.000000,4.517900,225600.000000\n",
            "-122.620000,38.920000,13.000000,520.000000,115.000000,249.000000,109.000000,1.841700,84700.000000\n",
            "-117.220000,34.260000,16.000000,8020.000000,1432.000000,1749.000000,540.000000,4.971600,162500.000000\n",
            "-117.920000,33.750000,8.000000,2325.000000,598.000000,1511.000000,565.000000,3.362900,137500.000000\n",
            "-122.280000,37.810000,36.000000,2914.000000,562.000000,1236.000000,509.000000,2.446400,102100.000000\n",
            "-118.120000,33.810000,37.000000,1798.000000,331.000000,860.000000,340.000000,4.214300,228500.000000\n",
            "-119.190000,36.060000,29.000000,1815.000000,376.000000,1421.000000,339.000000,1.909100,71300.000000\n",
            "-117.970000,34.070000,22.000000,1438.000000,364.000000,1325.000000,335.000000,2.780200,162500.000000\n",
            "-118.090000,34.030000,27.000000,3797.000000,597.000000,2043.000000,614.000000,5.500000,276800.000000\n",
            "-121.930000,37.280000,10.000000,3163.000000,832.000000,1537.000000,797.000000,4.167400,214000.000000\n",
            "-122.650000,38.960000,27.000000,2143.000000,580.000000,898.000000,367.000000,1.676900,63200.000000\n",
            "-122.490000,37.750000,48.000000,2387.000000,424.000000,1041.000000,408.000000,3.756200,321200.000000\n",
            "-122.310000,37.560000,45.000000,1792.000000,301.000000,829.000000,318.000000,4.901300,330100.000000\n",
            "-121.270000,38.140000,33.000000,3557.000000,894.000000,2659.000000,894.000000,2.288300,86900.000000\n",
            "-118.390000,34.230000,18.000000,3405.000000,831.000000,3001.000000,795.000000,3.008300,181900.000000\n",
            "-118.390000,34.070000,33.000000,5301.000000,1281.000000,2243.000000,1159.000000,4.238600,500001.000000\n",
            "-117.150000,32.920000,16.000000,2366.000000,392.000000,1482.000000,407.000000,4.902400,182900.000000\n",
            "-122.090000,37.380000,34.000000,1959.000000,342.000000,849.000000,357.000000,6.288400,414700.000000\n",
            "-117.060000,32.610000,23.000000,1630.000000,362.000000,1267.000000,418.000000,2.562500,131100.000000\n",
            "-122.330000,37.910000,36.000000,1954.000000,513.000000,1437.000000,440.000000,1.125000,93800.000000\n",
            "-116.920000,32.760000,7.000000,1659.000000,237.000000,862.000000,242.000000,5.274100,249400.000000\n",
            "-116.000000,34.120000,32.000000,3163.000000,712.000000,1358.000000,544.000000,2.125000,57700.000000\n",
            "-117.690000,33.600000,19.000000,3562.000000,439.000000,1584.000000,470.000000,6.421100,288100.000000\n",
            "-117.230000,33.910000,9.000000,11654.000000,2100.000000,7596.000000,2127.000000,4.047300,127200.000000\n",
            "-117.180000,34.040000,41.000000,1766.000000,288.000000,753.000000,278.000000,4.912500,140700.000000\n",
            "-121.330000,38.280000,14.000000,980.000000,171.000000,659.000000,183.000000,4.430600,170100.000000\n",
            "-121.880000,37.320000,38.000000,1787.000000,508.000000,2113.000000,530.000000,2.638600,177600.000000\n",
            "-122.520000,37.970000,33.000000,563.000000,194.000000,265.000000,169.000000,2.750000,231300.000000\n",
            "-117.770000,34.060000,27.000000,2178.000000,629.000000,2379.000000,591.000000,1.976600,108000.000000\n",
            "-121.010000,37.720000,23.000000,1373.000000,264.000000,677.000000,245.000000,2.548600,161100.000000\n",
            "-117.330000,33.870000,14.000000,2300.000000,335.000000,1001.000000,311.000000,5.104500,161300.000000\n",
            "-118.240000,33.970000,37.000000,1212.000000,314.000000,1403.000000,279.000000,2.553600,117200.000000\n",
            "-117.800000,33.890000,25.000000,3121.000000,381.000000,1278.000000,389.000000,7.021700,357900.000000\n",
            "-119.620000,36.560000,30.000000,1722.000000,372.000000,1467.000000,403.000000,1.887800,51600.000000\n",
            "-122.160000,37.690000,36.000000,1118.000000,219.000000,625.000000,228.000000,3.781300,192200.000000\n",
            "-117.970000,33.800000,35.000000,2985.000000,474.000000,1614.000000,453.000000,5.463100,225600.000000\n",
            "-120.870000,37.760000,16.000000,2022.000000,413.000000,1126.000000,408.000000,2.565500,116400.000000\n",
            "-120.460000,37.310000,26.000000,3170.000000,572.000000,1524.000000,565.000000,3.480000,95300.000000\n",
            "-118.230000,34.140000,39.000000,277.000000,89.000000,182.000000,91.000000,2.395800,175000.000000\n",
            "-121.070000,38.660000,22.000000,1831.000000,274.000000,813.000000,269.000000,4.639400,173400.000000\n",
            "-120.090000,36.950000,16.000000,3222.000000,511.000000,1425.000000,503.000000,4.154400,119400.000000\n",
            "-118.210000,33.960000,38.000000,2090.000000,519.000000,1871.000000,504.000000,2.468800,169000.000000\n",
            "-122.630000,38.230000,37.000000,1966.000000,348.000000,875.000000,381.000000,4.070300,223800.000000\n",
            "-119.400000,36.250000,25.000000,1696.000000,279.000000,909.000000,291.000000,2.300000,132800.000000\n",
            "-117.380000,33.210000,31.000000,1502.000000,367.000000,1514.000000,342.000000,2.644200,103300.000000\n",
            "-117.250000,32.800000,37.000000,1096.000000,260.000000,490.000000,267.000000,3.266300,270600.000000\n",
            "-122.230000,40.570000,18.000000,1633.000000,243.000000,750.000000,252.000000,5.158500,150800.000000\n",
            "-121.230000,38.790000,45.000000,907.000000,176.000000,463.000000,190.000000,2.229200,92000.000000\n",
            "-121.550000,40.480000,14.000000,2413.000000,524.000000,805.000000,329.000000,2.785700,77400.000000\n",
            "-117.890000,33.920000,34.000000,1473.000000,312.000000,1025.000000,315.000000,3.833300,170400.000000\n",
            "-117.230000,32.720000,43.000000,952.000000,209.000000,392.000000,210.000000,2.163500,244200.000000\n",
            "-117.920000,33.790000,35.000000,1785.000000,288.000000,1033.000000,297.000000,4.573900,190500.000000\n",
            "-117.580000,34.110000,14.000000,11635.000000,2055.000000,6443.000000,2009.000000,4.754700,157600.000000\n",
            "-120.850000,38.690000,18.000000,5928.000000,1097.000000,2697.000000,1096.000000,3.487200,141400.000000\n",
            "-121.530000,38.480000,5.000000,27870.000000,5027.000000,11935.000000,4855.000000,4.881100,212200.000000\n",
            "-117.210000,32.820000,31.000000,2035.000000,383.000000,866.000000,360.000000,3.852900,212000.000000\n",
            "-117.350000,34.130000,26.000000,3920.000000,570.000000,1862.000000,552.000000,3.728600,132000.000000\n",
            "-118.170000,33.790000,30.000000,1349.000000,519.000000,2646.000000,552.000000,1.931800,115900.000000\n",
            "-118.300000,34.260000,37.000000,2824.000000,633.000000,1619.000000,573.000000,3.556800,184500.000000\n",
            "-118.020000,33.830000,16.000000,1139.000000,328.000000,665.000000,290.000000,3.293300,260000.000000\n",
            "-116.990000,33.010000,11.000000,1412.000000,185.000000,529.000000,166.000000,7.751700,500001.000000\n",
            "-122.560000,38.010000,21.000000,2144.000000,400.000000,840.000000,398.000000,4.600000,239500.000000\n",
            "-118.150000,34.100000,39.000000,3856.000000,867.000000,1847.000000,830.000000,3.455900,364900.000000\n",
            "-117.930000,33.730000,27.000000,3662.000000,834.000000,3009.000000,743.000000,3.981600,179500.000000\n",
            "-121.090000,38.030000,21.000000,2064.000000,342.000000,1021.000000,359.000000,4.517000,152200.000000\n",
            "-116.660000,33.090000,24.000000,1378.000000,272.000000,532.000000,188.000000,1.590900,221900.000000\n",
            "-118.260000,33.830000,24.000000,3059.000000,729.000000,2064.000000,629.000000,3.551800,184600.000000\n",
            "-117.940000,33.930000,14.000000,999.000000,232.000000,1037.000000,244.000000,2.712500,166100.000000\n",
            "-116.930000,32.830000,19.000000,3038.000000,529.000000,1463.000000,509.000000,3.944000,172500.000000\n",
            "-122.290000,37.850000,52.000000,477.000000,119.000000,218.000000,106.000000,2.568200,120000.000000\n",
            "-122.480000,37.670000,14.000000,3395.000000,1059.000000,2258.000000,945.000000,2.964000,319700.000000\n",
            "-119.330000,36.310000,15.000000,1472.000000,228.000000,892.000000,257.000000,5.390900,113000.000000\n",
            "-118.410000,34.210000,35.000000,1789.000000,292.000000,897.000000,267.000000,5.592000,239900.000000\n",
            "-119.500000,34.350000,39.000000,308.000000,38.000000,59.000000,21.000000,11.779400,500001.000000\n",
            "-118.330000,34.110000,48.000000,1601.000000,464.000000,784.000000,461.000000,3.064200,342900.000000\n",
            "-118.300000,34.100000,29.000000,3403.000000,1367.000000,3432.000000,1174.000000,1.708300,166700.000000\n",
            "-119.750000,34.400000,31.000000,1997.000000,299.000000,826.000000,301.000000,6.892700,500001.000000\n",
            "-120.940000,39.320000,14.000000,3120.000000,595.000000,1569.000000,556.000000,3.538500,157400.000000\n",
            "-117.680000,35.610000,9.000000,4241.000000,832.000000,1929.000000,742.000000,3.598800,84500.000000\n",
            "-122.270000,38.120000,45.000000,4423.000000,1001.000000,2109.000000,874.000000,2.693700,111800.000000\n",
            "-118.210000,34.110000,32.000000,2759.000000,499.000000,1661.000000,533.000000,4.381200,228200.000000\n",
            "-117.230000,33.100000,4.000000,1862.000000,291.000000,685.000000,248.000000,7.745000,237400.000000\n",
            "-119.460000,35.140000,30.000000,2943.000000,697.000000,1565.000000,584.000000,2.531300,45800.000000\n",
            "-119.780000,36.760000,50.000000,1343.000000,322.000000,1063.000000,342.000000,1.750000,49800.000000\n",
            "-117.810000,33.660000,20.000000,2851.000000,490.000000,1192.000000,463.000000,5.875200,274200.000000\n",
            "-119.290000,34.310000,25.000000,1092.000000,190.000000,702.000000,215.000000,3.906300,192700.000000\n",
            "-122.410000,37.610000,46.000000,2975.000000,643.000000,1479.000000,577.000000,3.821400,273600.000000\n",
            "-120.320000,37.290000,38.000000,576.000000,130.000000,478.000000,112.000000,2.338200,59600.000000\n",
            "-118.370000,34.160000,40.000000,1973.000000,382.000000,774.000000,352.000000,4.412200,282300.000000\n",
            "-122.050000,37.050000,41.000000,2422.000000,502.000000,915.000000,366.000000,4.167900,201300.000000\n",
            "-118.460000,34.030000,52.000000,523.000000,124.000000,317.000000,130.000000,2.279400,337500.000000\n",
            "-117.120000,32.760000,43.000000,2336.000000,644.000000,1203.000000,614.000000,2.359400,127800.000000\n",
            "-122.040000,37.570000,12.000000,5719.000000,1064.000000,3436.000000,1057.000000,5.287900,231200.000000\n",
            "-121.970000,37.360000,34.000000,884.000000,153.000000,534.000000,154.000000,6.011600,271200.000000\n",
            "-121.280000,38.530000,18.000000,224.000000,38.000000,95.000000,41.000000,3.104200,165000.000000\n",
            "-119.090000,35.300000,3.000000,2821.000000,519.000000,1353.000000,495.000000,3.685200,109800.000000\n",
            "-121.750000,36.910000,42.000000,1368.000000,468.000000,2312.000000,484.000000,2.559900,151400.000000\n",
            "-121.860000,38.000000,4.000000,4075.000000,927.000000,2239.000000,849.000000,3.585700,165200.000000\n",
            "-118.530000,34.450000,26.000000,828.000000,149.000000,508.000000,158.000000,5.237400,185500.000000\n",
            "-117.940000,33.810000,24.000000,4602.000000,1131.000000,3003.000000,1014.000000,3.677100,172200.000000\n",
            "-119.840000,34.450000,26.000000,4424.000000,616.000000,1839.000000,601.000000,6.365400,331200.000000\n",
            "-118.240000,33.910000,37.000000,1607.000000,377.000000,1526.000000,375.000000,1.715800,94300.000000\n",
            "-117.060000,33.140000,27.000000,3819.000000,674.000000,2447.000000,717.000000,3.818500,137200.000000\n",
            "-120.980000,37.670000,33.000000,1433.000000,298.000000,824.000000,302.000000,2.762100,109100.000000\n",
            "-117.740000,34.090000,30.000000,3199.000000,591.000000,2192.000000,563.000000,3.487100,136400.000000\n",
            "-118.180000,34.010000,39.000000,322.000000,82.000000,319.000000,90.000000,2.636400,148800.000000\n",
            "-118.240000,33.890000,32.000000,1132.000000,266.000000,1211.000000,279.000000,2.183800,98300.000000\n",
            "-123.080000,40.400000,10.000000,365.000000,102.000000,140.000000,49.000000,1.796900,37500.000000\n",
            "-117.320000,34.070000,52.000000,1226.000000,269.000000,693.000000,272.000000,1.996300,76900.000000\n",
            "-118.240000,33.850000,25.000000,9594.000000,1489.000000,5237.000000,1496.000000,5.968400,193300.000000\n",
            "-122.230000,37.780000,52.000000,472.000000,146.000000,415.000000,126.000000,2.642900,71300.000000\n",
            "-121.180000,38.780000,13.000000,3480.000000,528.000000,1432.000000,532.000000,6.164200,277800.000000\n",
            "-118.100000,33.910000,29.000000,505.000000,113.000000,411.000000,113.000000,2.639700,164400.000000\n",
            "-121.970000,38.040000,38.000000,2505.000000,554.000000,1595.000000,498.000000,2.583300,83500.000000\n",
            "-118.470000,34.000000,41.000000,2331.000000,636.000000,1839.000000,537.000000,2.288000,263500.000000\n",
            "-119.310000,36.390000,32.000000,2293.000000,466.000000,1538.000000,468.000000,1.934200,68600.000000\n",
            "-122.170000,37.710000,38.000000,890.000000,200.000000,481.000000,198.000000,3.244000,179800.000000\n",
            "-122.490000,37.680000,35.000000,2405.000000,461.000000,1583.000000,471.000000,5.065900,238000.000000\n",
            "-121.300000,37.980000,39.000000,3375.000000,659.000000,1388.000000,631.000000,2.636400,93800.000000\n",
            "-121.370000,38.570000,22.000000,4899.000000,847.000000,1701.000000,826.000000,5.244900,387000.000000\n",
            "-122.080000,37.610000,6.000000,2605.000000,474.000000,1568.000000,433.000000,5.040600,261400.000000\n",
            "-117.110000,32.570000,32.000000,2723.000000,586.000000,1702.000000,562.000000,3.337100,140500.000000\n",
            "-122.090000,37.400000,22.000000,1489.000000,436.000000,662.000000,470.000000,3.517900,197200.000000\n",
            "-122.010000,36.980000,27.000000,2820.000000,730.000000,1511.000000,745.000000,2.589000,242400.000000\n",
            "-118.250000,34.000000,36.000000,1033.000000,267.000000,1112.000000,229.000000,1.723700,105800.000000\n",
            "-117.830000,33.660000,16.000000,1574.000000,385.000000,515.000000,363.000000,5.342300,291700.000000\n",
            "-121.960000,37.740000,2.000000,200.000000,20.000000,25.000000,9.000000,15.000100,350000.000000\n",
            "-119.810000,36.730000,51.000000,956.000000,196.000000,662.000000,180.000000,2.101000,56700.000000\n",
            "-118.620000,34.060000,25.000000,3546.000000,584.000000,1530.000000,601.000000,7.400100,500001.000000\n",
            "-122.350000,37.960000,35.000000,1326.000000,346.000000,1023.000000,295.000000,2.072400,97700.000000\n",
            "-119.060000,36.100000,21.000000,1344.000000,249.000000,868.000000,221.000000,2.589300,63600.000000\n",
            "-122.470000,37.750000,52.000000,1598.000000,285.000000,689.000000,265.000000,4.607100,337400.000000\n",
            "-122.540000,37.900000,41.000000,3170.000000,622.000000,1091.000000,528.000000,3.781300,389200.000000\n",
            "-119.730000,36.760000,30.000000,1548.000000,282.000000,886.000000,311.000000,3.100000,71300.000000\n",
            "-122.030000,36.960000,40.000000,584.000000,126.000000,316.000000,139.000000,3.593800,243500.000000\n",
            "-119.750000,36.780000,33.000000,1145.000000,197.000000,508.000000,198.000000,2.333300,81300.000000\n",
            "-117.300000,33.060000,24.000000,2171.000000,511.000000,870.000000,442.000000,3.194000,276300.000000\n",
            "-121.990000,36.960000,16.000000,875.000000,201.000000,300.000000,157.000000,2.625000,377300.000000\n",
            "-120.730000,39.630000,17.000000,1791.000000,356.000000,432.000000,190.000000,3.882600,92400.000000\n",
            "-118.480000,34.030000,19.000000,902.000000,284.000000,414.000000,272.000000,1.333300,310000.000000\n",
            "-118.220000,33.950000,36.000000,1679.000000,483.000000,2249.000000,487.000000,2.816700,160400.000000\n",
            "-118.240000,33.970000,43.000000,1357.000000,349.000000,1657.000000,331.000000,2.081900,111800.000000\n",
            "-117.820000,35.030000,30.000000,2555.000000,510.000000,1347.000000,467.000000,3.369300,71800.000000\n",
            "-117.020000,32.700000,18.000000,1643.000000,283.000000,1134.000000,269.000000,5.176900,133000.000000\n",
            "-122.350000,37.940000,47.000000,1275.000000,275.000000,844.000000,273.000000,2.896700,95600.000000\n",
            "-119.800000,36.780000,50.000000,1818.000000,374.000000,737.000000,338.000000,2.261400,73000.000000\n",
            "-122.190000,37.480000,38.000000,1300.000000,269.000000,608.000000,292.000000,4.556800,286900.000000\n",
            "-122.380000,37.590000,31.000000,3052.000000,844.000000,1581.000000,788.000000,3.074400,457700.000000\n",
            "-122.150000,37.750000,44.000000,1938.000000,399.000000,946.000000,331.000000,3.225000,135800.000000\n",
            "-119.350000,36.190000,6.000000,958.000000,226.000000,734.000000,230.000000,1.034900,67800.000000\n",
            "-120.450000,34.950000,7.000000,1479.000000,532.000000,1057.000000,459.000000,2.253800,162500.000000\n",
            "-122.280000,38.290000,19.000000,531.000000,112.000000,139.000000,80.000000,1.987500,325000.000000\n",
            "-122.260000,37.840000,49.000000,713.000000,202.000000,462.000000,189.000000,1.025000,118800.000000\n",
            "-122.300000,37.810000,52.000000,572.000000,109.000000,274.000000,82.000000,1.851600,85000.000000\n",
            "-118.220000,33.900000,22.000000,312.000000,107.000000,583.000000,119.000000,1.942300,98400.000000\n",
            "-117.670000,33.640000,11.000000,2722.000000,554.000000,1565.000000,508.000000,5.164500,164100.000000\n",
            "-122.020000,37.010000,20.000000,1005.000000,138.000000,345.000000,129.000000,10.096800,500001.000000\n",
            "-117.380000,33.190000,17.000000,353.000000,112.000000,359.000000,118.000000,1.562500,162500.000000\n",
            "-118.010000,34.080000,30.000000,2281.000000,522.000000,1969.000000,500.000000,3.653100,166300.000000\n",
            "-118.600000,34.130000,20.000000,14291.000000,1934.000000,5452.000000,1875.000000,9.123200,472000.000000\n",
            "-118.520000,34.200000,19.000000,4315.000000,1304.000000,2490.000000,1222.000000,2.643700,195000.000000\n",
            "-118.420000,34.270000,35.000000,2700.000000,702.000000,3444.000000,679.000000,1.486700,124000.000000\n",
            "-122.080000,37.710000,35.000000,2211.000000,350.000000,1004.000000,365.000000,5.463900,238600.000000\n",
            "-117.650000,33.570000,5.000000,1998.000000,500.000000,1185.000000,446.000000,4.354200,195600.000000\n",
            "-120.540000,37.680000,18.000000,335.000000,76.000000,189.000000,67.000000,1.227300,87500.000000\n",
            "-118.310000,34.050000,40.000000,1667.000000,365.000000,1161.000000,384.000000,3.140600,417600.000000\n",
            "-122.420000,37.600000,34.000000,3562.000000,565.000000,1542.000000,563.000000,5.878300,405100.000000\n",
            "-118.180000,33.980000,38.000000,1477.000000,374.000000,1514.000000,408.000000,2.570300,178600.000000\n",
            "-121.250000,36.320000,12.000000,4776.000000,1082.000000,4601.000000,1066.000000,2.918400,100500.000000\n",
            "-118.170000,34.690000,12.000000,4881.000000,803.000000,2188.000000,724.000000,4.166700,171900.000000\n",
            "-120.330000,39.300000,16.000000,868.000000,178.000000,44.000000,21.000000,3.000000,175000.000000\n",
            "-118.380000,34.060000,29.000000,3946.000000,1008.000000,1676.000000,876.000000,2.782400,450000.000000\n",
            "-119.780000,36.730000,52.000000,1377.000000,319.000000,1280.000000,259.000000,1.234400,43300.000000\n",
            "-118.330000,33.970000,44.000000,2526.000000,579.000000,1423.000000,573.000000,2.536300,158800.000000\n",
            "-118.370000,34.060000,36.000000,1661.000000,395.000000,690.000000,365.000000,3.343800,500001.000000\n",
            "-119.000000,35.390000,51.000000,1373.000000,284.000000,648.000000,300.000000,2.829500,72100.000000\n",
            "-117.950000,33.870000,35.000000,1854.000000,383.000000,1115.000000,381.000000,4.478400,185200.000000\n",
            "-118.380000,34.580000,18.000000,1859.000000,375.000000,913.000000,372.000000,4.345600,148900.000000\n",
            "-118.290000,34.080000,25.000000,2459.000000,823.000000,2635.000000,763.000000,2.400000,173900.000000\n",
            "-120.970000,37.680000,16.000000,2493.000000,535.000000,1370.000000,504.000000,3.336800,121200.000000\n",
            "-122.280000,37.870000,52.000000,589.000000,132.000000,288.000000,131.000000,3.515600,200000.000000\n",
            "-118.140000,33.880000,41.000000,1531.000000,343.000000,1119.000000,341.000000,4.364600,161400.000000\n",
            "-122.060000,37.380000,20.000000,4293.000000,1272.000000,2389.000000,1210.000000,4.271900,270800.000000\n",
            "-118.540000,34.270000,28.000000,2309.000000,300.000000,931.000000,302.000000,6.741500,348200.000000\n",
            "-117.880000,33.840000,25.000000,1781.000000,349.000000,918.000000,378.000000,3.928600,262700.000000\n",
            "-118.300000,34.190000,52.000000,1704.000000,277.000000,746.000000,262.000000,4.798600,326100.000000\n",
            "-117.840000,33.800000,35.000000,1490.000000,251.000000,629.000000,257.000000,4.366100,222100.000000\n",
            "-121.270000,38.650000,25.000000,2787.000000,601.000000,1247.000000,522.000000,2.901600,159800.000000\n",
            "-117.880000,33.870000,21.000000,1519.000000,388.000000,1203.000000,366.000000,3.208300,145300.000000\n",
            "-119.880000,34.420000,22.000000,2367.000000,492.000000,1333.000000,488.000000,3.630400,312200.000000\n",
            "-118.480000,34.010000,31.000000,1829.000000,458.000000,719.000000,392.000000,4.400000,353800.000000\n",
            "-116.950000,33.860000,1.000000,6.000000,2.000000,8.000000,2.000000,1.625000,55000.000000\n",
            "-117.670000,33.510000,17.000000,2112.000000,480.000000,1893.000000,433.000000,4.038800,120400.000000\n",
            "-118.350000,34.040000,38.000000,1626.000000,375.000000,1019.000000,372.000000,2.368700,146800.000000\n",
            "-124.160000,40.800000,52.000000,2167.000000,480.000000,908.000000,451.000000,1.611100,74700.000000\n",
            "-118.350000,34.050000,33.000000,2880.000000,836.000000,1416.000000,736.000000,2.678100,328800.000000\n",
            "-119.080000,34.350000,24.000000,3663.000000,828.000000,2718.000000,778.000000,3.275700,186000.000000\n",
            "-122.510000,37.780000,45.000000,2564.000000,499.000000,1056.000000,460.000000,4.732800,351100.000000\n",
            "-118.360000,34.140000,30.000000,1376.000000,317.000000,629.000000,320.000000,3.682300,295200.000000\n",
            "-121.960000,37.550000,4.000000,3746.000000,993.000000,1606.000000,838.000000,4.138700,162500.000000\n",
            "-117.190000,32.770000,30.000000,2747.000000,640.000000,3185.000000,657.000000,3.765000,238000.000000\n",
            "-118.090000,33.890000,42.000000,1150.000000,215.000000,708.000000,204.000000,3.687500,171500.000000\n",
            "-121.760000,36.900000,44.000000,919.000000,309.000000,1321.000000,301.000000,2.077500,121400.000000\n",
            "-118.140000,33.920000,35.000000,2378.000000,559.000000,1799.000000,546.000000,3.932700,190500.000000\n",
            "-119.060000,34.360000,52.000000,1239.000000,320.000000,934.000000,298.000000,1.861800,183300.000000\n",
            "-118.120000,34.160000,52.000000,2218.000000,437.000000,1211.000000,422.000000,5.023700,241900.000000\n",
            "-117.800000,34.150000,14.000000,7876.000000,1253.000000,3699.000000,1162.000000,5.542300,248700.000000\n",
            "-120.040000,39.240000,30.000000,2369.000000,469.000000,510.000000,213.000000,2.650000,123800.000000\n",
            "-121.470000,38.480000,25.000000,2969.000000,551.000000,1745.000000,487.000000,2.638200,76200.000000\n",
            "-122.270000,37.540000,15.000000,2126.000000,310.000000,905.000000,306.000000,8.908300,500001.000000\n",
            "-122.020000,37.540000,31.000000,1240.000000,264.000000,719.000000,236.000000,3.535000,210300.000000\n",
            "-121.380000,38.400000,15.000000,4155.000000,637.000000,1722.000000,616.000000,4.883100,154400.000000\n",
            "-122.040000,37.350000,20.000000,2016.000000,313.000000,767.000000,310.000000,6.837000,383000.000000\n",
            "-117.120000,32.760000,41.000000,1469.000000,421.000000,803.000000,395.000000,2.185600,120500.000000\n",
            "-117.340000,34.180000,7.000000,2914.000000,481.000000,1584.000000,499.000000,4.631200,124900.000000\n",
            "-121.020000,37.670000,32.000000,3951.000000,797.000000,1916.000000,740.000000,2.672200,111500.000000\n",
            "-119.060000,34.380000,33.000000,1465.000000,262.000000,731.000000,266.000000,3.946400,230300.000000\n",
            "-118.160000,33.910000,35.000000,1403.000000,338.000000,1415.000000,367.000000,3.096700,144000.000000\n",
            "-121.920000,37.340000,52.000000,2584.000000,491.000000,1087.000000,433.000000,4.400000,391300.000000\n",
            "-119.030000,34.210000,11.000000,4528.000000,729.000000,2398.000000,684.000000,5.304400,319000.000000\n",
            "-121.960000,37.340000,37.000000,663.000000,127.000000,293.000000,132.000000,3.781300,247800.000000\n",
            "-114.610000,33.620000,16.000000,1187.000000,261.000000,1115.000000,242.000000,2.175900,61500.000000\n",
            "-117.270000,33.150000,4.000000,23915.000000,4135.000000,10877.000000,3958.000000,4.635700,244900.000000\n",
            "-121.370000,38.620000,27.000000,1743.000000,380.000000,697.000000,368.000000,1.667800,166100.000000\n",
            "-118.180000,33.820000,43.000000,2210.000000,469.000000,1042.000000,418.000000,3.500000,216700.000000\n",
            "-118.020000,33.770000,33.000000,2683.000000,436.000000,1520.000000,456.000000,5.009100,211500.000000\n",
            "-120.050000,34.470000,21.000000,1241.000000,248.000000,746.000000,211.000000,3.805600,425000.000000\n",
            "-118.250000,34.010000,45.000000,782.000000,270.000000,1030.000000,235.000000,1.089800,93400.000000\n",
            "-119.540000,38.510000,14.000000,1250.000000,272.000000,721.000000,234.000000,2.350000,95700.000000\n",
            "-117.270000,34.500000,7.000000,2045.000000,342.000000,878.000000,292.000000,6.029600,194100.000000\n",
            "-121.960000,36.990000,23.000000,3209.000000,748.000000,1423.000000,666.000000,2.737500,238000.000000\n",
            "-118.190000,34.040000,45.000000,963.000000,234.000000,1194.000000,239.000000,2.180600,134900.000000\n",
            "-121.280000,37.950000,49.000000,1200.000000,364.000000,1448.000000,318.000000,1.109400,52500.000000\n",
            "-117.960000,33.790000,29.000000,1813.000000,501.000000,1170.000000,482.000000,2.067700,214500.000000\n",
            "-118.440000,34.170000,25.000000,4966.000000,1134.000000,1941.000000,958.000000,3.808100,286700.000000\n",
            "-122.310000,37.520000,35.000000,1817.000000,262.000000,659.000000,262.000000,6.833600,457200.000000\n",
            "-117.970000,33.920000,24.000000,2017.000000,416.000000,900.000000,436.000000,3.000000,251400.000000\n",
            "-117.710000,34.050000,20.000000,2281.000000,444.000000,1545.000000,481.000000,2.573500,130500.000000\n",
            "-118.420000,34.020000,26.000000,2664.000000,842.000000,1745.000000,789.000000,3.426900,301900.000000\n",
            "-120.250000,37.110000,20.000000,2062.000000,466.000000,1285.000000,456.000000,1.531900,50500.000000\n",
            "-121.350000,38.510000,29.000000,2337.000000,391.000000,1054.000000,352.000000,4.220600,157700.000000\n",
            "-120.250000,38.550000,15.000000,4403.000000,891.000000,1103.000000,433.000000,3.012500,111700.000000\n",
            "-118.020000,34.020000,21.000000,5992.000000,986.000000,2647.000000,969.000000,5.240500,302400.000000\n",
            "-120.660000,35.260000,15.000000,5540.000000,1319.000000,2383.000000,1165.000000,2.265600,226200.000000\n",
            "-120.660000,40.420000,35.000000,1450.000000,325.000000,717.000000,297.000000,2.507400,66400.000000\n",
            "-118.150000,35.060000,15.000000,1069.000000,296.000000,569.000000,263.000000,2.044100,73300.000000\n",
            "-122.510000,37.780000,47.000000,2496.000000,494.000000,1201.000000,454.000000,4.035300,342200.000000\n",
            "-120.460000,34.650000,22.000000,1298.000000,358.000000,1272.000000,363.000000,1.648800,117500.000000\n",
            "-117.930000,33.930000,25.000000,2431.000000,534.000000,1702.000000,523.000000,3.793300,184400.000000\n",
            "-118.210000,33.970000,49.000000,1409.000000,313.000000,1268.000000,317.000000,3.940800,170600.000000\n",
            "-120.180000,34.620000,25.000000,1337.000000,219.000000,671.000000,225.000000,3.191200,226400.000000\n",
            "-122.140000,37.430000,18.000000,2060.000000,563.000000,1144.000000,600.000000,4.068600,378600.000000\n",
            "-123.110000,40.600000,23.000000,708.000000,202.000000,316.000000,136.000000,1.160200,65000.000000\n",
            "-117.940000,33.840000,25.000000,4016.000000,831.000000,2166.000000,774.000000,3.188400,135400.000000\n",
            "-122.750000,38.480000,4.000000,6487.000000,1112.000000,2958.000000,1131.000000,4.541700,197400.000000\n",
            "-121.610000,37.150000,16.000000,5498.000000,729.000000,2051.000000,694.000000,7.860100,416300.000000\n",
            "-122.420000,40.600000,5.000000,2614.000000,433.000000,1275.000000,411.000000,3.446400,122900.000000\n",
            "-119.160000,34.950000,14.000000,4054.000000,787.000000,1581.000000,579.000000,3.088200,148200.000000\n",
            "-118.630000,34.240000,9.000000,4759.000000,924.000000,1884.000000,915.000000,4.833300,277200.000000\n",
            "-121.950000,36.980000,34.000000,3745.000000,958.000000,1622.000000,802.000000,3.154600,261200.000000\n",
            "-117.250000,32.790000,43.000000,906.000000,240.000000,458.000000,205.000000,1.836500,328600.000000\n",
            "-119.180000,34.220000,15.000000,4615.000000,1008.000000,2549.000000,973.000000,3.906300,198700.000000\n",
            "-117.260000,32.820000,34.000000,5846.000000,785.000000,1817.000000,747.000000,8.496000,500001.000000\n",
            "-117.070000,32.790000,25.000000,2489.000000,314.000000,911.000000,309.000000,7.833600,277600.000000\n",
            "-116.760000,34.230000,10.000000,4374.000000,989.000000,1020.000000,376.000000,2.607100,89000.000000\n",
            "-118.250000,34.130000,52.000000,322.000000,88.000000,229.000000,89.000000,2.125000,243800.000000\n",
            "-117.280000,34.260000,18.000000,3895.000000,689.000000,1086.000000,375.000000,3.367200,133600.000000\n",
            "-122.570000,38.110000,32.000000,3521.000000,748.000000,1706.000000,723.000000,3.470500,228600.000000\n",
            "-122.450000,37.790000,52.000000,1457.000000,215.000000,495.000000,208.000000,10.709700,500001.000000\n",
            "-117.770000,33.710000,15.000000,2102.000000,295.000000,1060.000000,303.000000,7.314100,337100.000000\n",
            "-119.440000,36.610000,17.000000,1531.000000,280.000000,775.000000,246.000000,3.907300,91600.000000\n",
            "-118.320000,33.930000,37.000000,2379.000000,462.000000,1327.000000,445.000000,4.250000,172100.000000\n",
            "-118.220000,33.790000,28.000000,3008.000000,629.000000,2537.000000,596.000000,2.300000,137500.000000\n",
            "-122.650000,38.480000,17.000000,1090.000000,164.000000,473.000000,163.000000,5.506100,231800.000000\n",
            "-121.230000,37.960000,44.000000,2204.000000,473.000000,1277.000000,435.000000,1.553900,59200.000000\n",
            "-117.860000,34.090000,26.000000,3408.000000,542.000000,1664.000000,543.000000,6.149800,239100.000000\n",
            "-122.060000,37.860000,16.000000,5187.000000,1014.000000,1512.000000,986.000000,4.455100,252400.000000\n",
            "-117.360000,34.100000,29.000000,2819.000000,637.000000,1683.000000,608.000000,2.320500,87600.000000\n",
            "-117.300000,34.100000,49.000000,60.000000,11.000000,76.000000,13.000000,2.562500,75000.000000\n",
            "-122.140000,38.030000,42.000000,118.000000,34.000000,54.000000,30.000000,2.579500,225000.000000\n",
            "-121.640000,36.800000,18.000000,5915.000000,1000.000000,2975.000000,975.000000,4.581200,255200.000000\n",
            "-122.240000,38.010000,11.000000,3751.000000,565.000000,1949.000000,555.000000,5.786200,269400.000000\n",
            "-116.860000,34.310000,19.000000,1649.000000,328.000000,382.000000,151.000000,4.055600,133000.000000\n",
            "-122.710000,37.880000,21.000000,2845.000000,552.000000,599.000000,250.000000,4.312500,495800.000000\n",
            "-117.090000,32.560000,8.000000,864.000000,156.000000,626.000000,172.000000,4.898400,151500.000000\n",
            "-122.250000,37.470000,35.000000,3183.000000,515.000000,1313.000000,487.000000,5.906200,383200.000000\n",
            "-118.120000,33.770000,20.000000,4534.000000,954.000000,1941.000000,892.000000,6.036200,463500.000000\n",
            "-120.960000,37.670000,17.000000,2434.000000,511.000000,1558.000000,546.000000,2.921900,114300.000000\n",
            "-119.300000,36.320000,23.000000,3521.000000,615.000000,1712.000000,636.000000,3.387500,92500.000000\n",
            "-117.390000,33.960000,52.000000,1992.000000,345.000000,948.000000,358.000000,3.291700,129300.000000\n",
            "-121.000000,37.600000,22.000000,4412.000000,925.000000,3116.000000,817.000000,2.689900,82100.000000\n",
            "-117.090000,32.640000,19.000000,2571.000000,791.000000,1205.000000,783.000000,1.620000,131300.000000\n",
            "-122.050000,37.930000,15.000000,7803.000000,1603.000000,2957.000000,1546.000000,4.450000,184900.000000\n",
            "-120.430000,34.870000,26.000000,1699.000000,272.000000,799.000000,266.000000,3.987100,157700.000000\n",
            "-122.090000,37.690000,43.000000,500.000000,110.000000,273.000000,120.000000,3.312500,150000.000000\n",
            "-118.460000,34.010000,39.000000,711.000000,148.000000,347.000000,153.000000,4.281300,297200.000000\n",
            "-121.980000,37.370000,35.000000,995.000000,202.000000,615.000000,199.000000,5.094200,217500.000000\n",
            "-121.970000,37.760000,8.000000,3743.000000,581.000000,1633.000000,567.000000,6.702700,381900.000000\n",
            "-117.810000,33.830000,8.000000,7326.000000,884.000000,2569.000000,798.000000,10.157000,477100.000000\n",
            "-118.160000,33.890000,38.000000,483.000000,113.000000,389.000000,108.000000,2.185900,143800.000000\n",
            "-115.570000,32.780000,25.000000,2007.000000,301.000000,1135.000000,332.000000,5.128000,99600.000000\n",
            "-117.620000,33.420000,27.000000,1005.000000,266.000000,460.000000,243.000000,3.102900,190600.000000\n",
            "-121.510000,38.560000,43.000000,1048.000000,312.000000,1320.000000,294.000000,1.064900,137500.000000\n",
            "-117.110000,32.750000,18.000000,1943.000000,587.000000,1329.000000,522.000000,1.769600,103100.000000\n",
            "-122.460000,37.720000,37.000000,1833.000000,388.000000,1093.000000,363.000000,3.070300,211800.000000\n",
            "-122.010000,37.580000,17.000000,4313.000000,717.000000,2629.000000,721.000000,5.757900,231800.000000\n",
            "-116.850000,34.260000,18.000000,6988.000000,1635.000000,2044.000000,726.000000,2.430800,90600.000000\n",
            "-122.180000,37.150000,17.000000,1457.000000,289.000000,591.000000,235.000000,5.578500,284100.000000\n",
            "-116.950000,32.820000,19.000000,5308.000000,1058.000000,2852.000000,1092.000000,2.916100,135700.000000\n",
            "-117.230000,32.740000,16.000000,1953.000000,404.000000,798.000000,385.000000,4.816700,169800.000000\n",
            "-117.840000,34.110000,17.000000,3499.000000,621.000000,1911.000000,621.000000,4.889400,191700.000000\n",
            "-122.490000,37.760000,48.000000,1351.000000,270.000000,650.000000,265.000000,3.527800,339800.000000\n",
            "-117.930000,33.710000,10.000000,2775.000000,717.000000,1581.000000,633.000000,4.136600,158800.000000\n",
            "-118.180000,33.740000,30.000000,5915.000000,1750.000000,2136.000000,1503.000000,4.096800,310000.000000\n",
            "-118.080000,33.920000,38.000000,1335.000000,282.000000,1011.000000,269.000000,3.690800,157500.000000\n",
            "-118.300000,34.010000,52.000000,1444.000000,343.000000,1154.000000,334.000000,2.062500,134400.000000\n",
            "-122.170000,39.310000,35.000000,2791.000000,552.000000,1395.000000,476.000000,2.562500,62700.000000\n",
            "-117.140000,32.750000,19.000000,1358.000000,613.000000,766.000000,630.000000,1.035300,150000.000000\n",
            "-117.940000,34.040000,36.000000,1431.000000,354.000000,1367.000000,334.000000,3.559200,160200.000000\n",
            "-121.740000,37.190000,11.000000,1290.000000,197.000000,881.000000,191.000000,4.203900,500001.000000\n",
            "-118.360000,33.810000,26.000000,1575.000000,300.000000,881.000000,309.000000,5.177800,359900.000000\n",
            "-122.440000,37.780000,37.000000,1235.000000,314.000000,481.000000,297.000000,3.687500,492300.000000\n",
            "-118.190000,33.810000,23.000000,954.000000,390.000000,804.000000,373.000000,2.583300,181300.000000\n",
            "-117.290000,33.190000,18.000000,6235.000000,1233.000000,4127.000000,1162.000000,3.070400,151600.000000\n",
            "-117.240000,32.850000,18.000000,3117.000000,475.000000,904.000000,368.000000,6.758700,388500.000000\n",
            "-117.240000,32.800000,29.000000,3376.000000,882.000000,1513.000000,843.000000,3.101000,238200.000000\n",
            "-120.980000,38.660000,9.000000,2073.000000,404.000000,916.000000,373.000000,3.225000,163300.000000\n",
            "-119.630000,36.760000,22.000000,4126.000000,614.000000,1795.000000,613.000000,4.925000,154700.000000\n",
            "-121.650000,37.120000,14.000000,4721.000000,999.000000,2648.000000,888.000000,3.689500,239300.000000\n",
            "-121.900000,37.440000,12.000000,4228.000000,734.000000,2594.000000,732.000000,6.608600,299400.000000\n",
            "-122.110000,37.700000,23.000000,1689.000000,461.000000,828.000000,443.000000,2.155200,161400.000000\n",
            "-118.290000,33.950000,35.000000,1401.000000,362.000000,1357.000000,327.000000,2.091700,99300.000000\n",
            "-117.760000,34.060000,30.000000,1700.000000,504.000000,1719.000000,459.000000,2.227000,91900.000000\n",
            "-118.320000,34.080000,52.000000,2370.000000,473.000000,1053.000000,434.000000,4.142900,380300.000000\n",
            "-117.080000,32.720000,32.000000,2286.000000,468.000000,1741.000000,467.000000,3.044600,101900.000000\n",
            "-117.130000,32.790000,35.000000,1362.000000,243.000000,698.000000,255.000000,3.645800,173800.000000\n",
            "-121.940000,36.980000,24.000000,3010.000000,562.000000,1360.000000,504.000000,4.200600,290700.000000\n",
            "-118.230000,33.960000,36.000000,1062.000000,270.000000,1136.000000,273.000000,1.659700,109100.000000\n",
            "-121.980000,37.360000,34.000000,1735.000000,318.000000,1019.000000,301.000000,4.562500,242700.000000\n",
            "-118.280000,34.120000,50.000000,2384.000000,312.000000,836.000000,337.000000,12.876300,500001.000000\n",
            "-122.130000,37.150000,39.000000,2854.000000,613.000000,1338.000000,518.000000,3.942300,180300.000000\n",
            "-118.200000,33.780000,48.000000,1766.000000,497.000000,1908.000000,466.000000,1.987200,168800.000000\n",
            "-117.730000,34.120000,26.000000,1279.000000,163.000000,412.000000,157.000000,6.173100,293800.000000\n",
            "-117.990000,33.690000,12.000000,2480.000000,858.000000,1441.000000,788.000000,1.670500,350000.000000\n",
            "-117.940000,34.060000,32.000000,3418.000000,662.000000,2003.000000,622.000000,4.033300,210200.000000\n",
            "-117.390000,34.110000,5.000000,2987.000000,457.000000,1821.000000,485.000000,4.888900,138900.000000\n",
            "-122.000000,38.350000,38.000000,1918.000000,364.000000,745.000000,348.000000,2.570700,126000.000000\n",
            "-120.980000,37.590000,2.000000,5042.000000,834.000000,2784.000000,787.000000,4.648400,145900.000000\n",
            "-118.260000,34.120000,45.000000,2839.000000,698.000000,1768.000000,653.000000,3.130600,214000.000000\n",
            "-122.160000,37.680000,16.000000,1687.000000,348.000000,568.000000,352.000000,2.386900,83300.000000\n",
            "-118.120000,33.830000,45.000000,1579.000000,278.000000,687.000000,285.000000,5.042400,225900.000000\n",
            "-117.880000,33.790000,32.000000,1484.000000,295.000000,928.000000,295.000000,5.141800,190300.000000\n",
            "-122.410000,37.710000,40.000000,2054.000000,433.000000,1738.000000,429.000000,4.992600,213900.000000\n",
            "-122.390000,37.730000,43.000000,4864.000000,972.000000,3134.000000,959.000000,4.339300,217300.000000\n",
            "-121.930000,36.630000,33.000000,1740.000000,342.000000,638.000000,329.000000,3.191200,319800.000000\n",
            "-120.310000,38.020000,11.000000,2366.000000,398.000000,1046.000000,387.000000,3.820300,139700.000000\n",
            "-122.470000,37.610000,34.000000,4551.000000,837.000000,2208.000000,834.000000,5.436400,279300.000000\n",
            "-117.680000,34.000000,5.000000,3761.000000,580.000000,2335.000000,648.000000,5.733800,225400.000000\n",
            "-122.280000,37.850000,41.000000,535.000000,123.000000,317.000000,119.000000,2.403800,107500.000000\n",
            "-117.180000,32.920000,4.000000,15025.000000,2616.000000,7560.000000,2392.000000,5.196000,210700.000000\n",
            "-117.700000,33.600000,26.000000,2283.000000,506.000000,634.000000,469.000000,2.377400,74300.000000\n",
            "-122.480000,37.750000,52.000000,2074.000000,401.000000,1136.000000,409.000000,4.770300,331000.000000\n",
            "-117.150000,32.740000,26.000000,3149.000000,832.000000,1320.000000,808.000000,3.025900,211700.000000\n",
            "-119.900000,36.790000,22.000000,1970.000000,332.000000,1066.000000,319.000000,3.312500,106100.000000\n",
            "-117.190000,32.780000,34.000000,4108.000000,664.000000,1659.000000,644.000000,4.409700,252000.000000\n",
            "-118.390000,34.030000,25.000000,3442.000000,1050.000000,1890.000000,914.000000,3.057400,319400.000000\n",
            "-117.780000,33.680000,15.000000,1834.000000,330.000000,841.000000,309.000000,6.063400,234300.000000\n",
            "-119.670000,36.650000,20.000000,2512.000000,449.000000,1464.000000,450.000000,3.921100,92300.000000\n",
            "-118.260000,34.020000,41.000000,848.000000,323.000000,1428.000000,313.000000,1.560300,109600.000000\n",
            "-122.240000,38.010000,16.000000,2084.000000,315.000000,1154.000000,307.000000,6.010200,235600.000000\n",
            "-122.250000,38.160000,17.000000,4459.000000,944.000000,1812.000000,888.000000,2.937500,106700.000000\n",
            "-117.320000,33.800000,11.000000,3196.000000,576.000000,1757.000000,552.000000,4.098200,173300.000000\n",
            "-118.210000,34.060000,52.000000,470.000000,115.000000,434.000000,123.000000,2.095000,109100.000000\n",
            "-119.770000,36.800000,24.000000,3748.000000,770.000000,1827.000000,719.000000,2.722200,83100.000000\n",
            "-121.860000,37.410000,16.000000,1603.000000,287.000000,1080.000000,296.000000,6.125600,266900.000000\n",
            "-117.970000,33.880000,9.000000,1344.000000,279.000000,530.000000,265.000000,5.073100,185100.000000\n",
            "-121.840000,39.720000,52.000000,1457.000000,389.000000,802.000000,342.000000,0.956600,69000.000000\n",
            "-118.510000,34.200000,37.000000,2066.000000,434.000000,1031.000000,414.000000,4.092400,188400.000000\n",
            "-117.930000,33.780000,28.000000,4380.000000,820.000000,2187.000000,835.000000,3.901800,182300.000000\n",
            "-117.750000,33.610000,16.000000,2270.000000,488.000000,709.000000,489.000000,3.284500,227600.000000\n",
            "-121.460000,38.700000,32.000000,965.000000,183.000000,568.000000,188.000000,3.861100,93900.000000\n",
            "-119.280000,36.320000,29.000000,2274.000000,514.000000,1234.000000,521.000000,1.913800,66900.000000\n",
            "-118.740000,34.280000,21.000000,4056.000000,637.000000,1974.000000,634.000000,5.902400,221000.000000\n",
            "-119.330000,36.190000,27.000000,418.000000,163.000000,332.000000,141.000000,1.071400,63800.000000\n",
            "-118.750000,34.270000,24.000000,3241.000000,461.000000,1567.000000,446.000000,5.598300,233300.000000\n",
            "-118.210000,33.930000,33.000000,2739.000000,801.000000,3423.000000,741.000000,2.284700,132700.000000\n",
            "-122.370000,37.960000,37.000000,1572.000000,402.000000,1046.000000,350.000000,0.740300,68600.000000\n",
            "-121.980000,37.280000,27.000000,3526.000000,589.000000,1725.000000,553.000000,5.781200,275000.000000\n",
            "-117.030000,32.610000,23.000000,1553.000000,216.000000,778.000000,229.000000,5.153800,171300.000000\n",
            "-117.280000,34.410000,14.000000,2105.000000,396.000000,960.000000,396.000000,2.993400,118200.000000\n",
            "-118.020000,34.130000,33.000000,2874.000000,458.000000,1239.000000,431.000000,5.232900,430900.000000\n",
            "-117.900000,34.060000,33.000000,1330.000000,209.000000,578.000000,192.000000,5.640600,266200.000000\n",
            "-118.470000,34.240000,19.000000,2405.000000,661.000000,1855.000000,621.000000,2.311100,255400.000000\n",
            "-122.490000,37.860000,35.000000,2729.000000,538.000000,969.000000,528.000000,6.766900,500001.000000\n",
            "-121.440000,38.680000,19.000000,2476.000000,534.000000,1355.000000,463.000000,2.062500,94400.000000\n",
            "-118.360000,34.200000,14.000000,1878.000000,614.000000,1874.000000,559.000000,2.526700,231800.000000\n",
            "-117.280000,33.060000,8.000000,4172.000000,1022.000000,2585.000000,941.000000,4.011800,245800.000000\n",
            "-122.430000,37.730000,52.000000,1142.000000,224.000000,494.000000,206.000000,5.060200,298900.000000\n",
            "-118.130000,34.130000,52.000000,2826.000000,381.000000,924.000000,365.000000,7.997600,500001.000000\n",
            "-118.050000,33.950000,33.000000,1954.000000,390.000000,1600.000000,376.000000,3.612500,170800.000000\n",
            "-121.990000,38.260000,18.000000,921.000000,126.000000,368.000000,120.000000,6.084200,261100.000000\n",
            "-122.470000,37.780000,52.000000,1941.000000,436.000000,955.000000,425.000000,4.133900,396400.000000\n",
            "-121.270000,38.660000,15.000000,2642.000000,520.000000,1032.000000,475.000000,4.138200,189800.000000\n",
            "-122.240000,37.810000,52.000000,2026.000000,482.000000,709.000000,456.000000,3.272700,268500.000000\n",
            "-121.440000,38.470000,5.000000,5666.000000,1178.000000,3139.000000,1131.000000,3.360800,108900.000000\n",
            "-118.120000,33.770000,10.000000,7264.000000,1137.000000,2528.000000,1057.000000,10.223300,500001.000000\n",
            "-117.980000,33.940000,32.000000,2562.000000,491.000000,1222.000000,446.000000,4.098500,226200.000000\n",
            "-118.070000,34.160000,35.000000,2459.000000,438.000000,970.000000,437.000000,4.214300,369400.000000\n",
            "-118.190000,34.140000,46.000000,2387.000000,488.000000,1181.000000,456.000000,3.605800,257900.000000\n",
            "-118.210000,34.120000,52.000000,1301.000000,389.000000,1189.000000,361.000000,2.513900,190000.000000\n",
            "-121.920000,36.630000,36.000000,877.000000,175.000000,349.000000,168.000000,3.416700,339100.000000\n",
            "-117.970000,33.840000,18.000000,1063.000000,209.000000,462.000000,223.000000,2.834800,219000.000000\n",
            "-118.410000,33.990000,39.000000,3014.000000,822.000000,3212.000000,777.000000,1.198500,215000.000000\n",
            "-119.440000,36.600000,34.000000,864.000000,184.000000,579.000000,171.000000,2.041700,72500.000000\n",
            "-122.700000,39.140000,13.000000,532.000000,111.000000,214.000000,62.000000,3.392900,108300.000000\n",
            "-122.300000,37.560000,37.000000,1962.000000,367.000000,1267.000000,382.000000,4.734400,271800.000000\n",
            "-121.990000,37.540000,26.000000,2332.000000,371.000000,1285.000000,404.000000,5.388000,225000.000000\n",
            "-118.380000,33.980000,25.000000,7105.000000,1012.000000,2519.000000,1004.000000,6.811200,500001.000000\n",
            "-117.980000,33.830000,17.000000,3506.000000,992.000000,2104.000000,893.000000,3.300600,185800.000000\n",
            "-117.960000,33.680000,25.000000,2004.000000,349.000000,1085.000000,343.000000,4.765600,230700.000000\n",
            "-117.640000,33.660000,6.000000,5221.000000,1217.000000,2597.000000,1119.000000,4.607600,204000.000000\n",
            "-121.290000,37.330000,36.000000,48.000000,12.000000,27.000000,8.000000,4.000000,75000.000000\n",
            "-122.440000,37.770000,52.000000,5604.000000,1268.000000,2023.000000,1196.000000,4.408500,400000.000000\n",
            "-118.330000,33.980000,28.000000,3889.000000,1199.000000,3121.000000,1046.000000,1.880600,113900.000000\n",
            "-121.290000,37.990000,30.000000,1271.000000,528.000000,2019.000000,524.000000,1.515200,81300.000000\n",
            "-121.800000,37.350000,17.000000,2529.000000,423.000000,1756.000000,429.000000,5.101700,240700.000000\n",
            "-119.290000,36.530000,33.000000,1509.000000,352.000000,1734.000000,336.000000,1.625000,50300.000000\n",
            "-118.110000,34.030000,36.000000,1493.000000,316.000000,989.000000,293.000000,3.527200,213700.000000\n",
            "-121.870000,37.420000,19.000000,12128.000000,2112.000000,6810.000000,2040.000000,6.441900,264500.000000\n",
            "-122.090000,37.700000,33.000000,4413.000000,1107.000000,2239.000000,1051.000000,2.986100,208200.000000\n",
            "-122.290000,37.870000,52.000000,2225.000000,460.000000,1145.000000,430.000000,2.616500,150000.000000\n",
            "-117.110000,32.660000,52.000000,25.000000,5.000000,14.000000,9.000000,1.625000,118800.000000\n",
            "-121.900000,37.390000,42.000000,42.000000,14.000000,26.000000,14.000000,1.736100,500001.000000\n",
            "-117.520000,33.880000,21.000000,722.000000,178.000000,770.000000,165.000000,2.565600,102500.000000\n",
            "-121.470000,38.700000,31.000000,1007.000000,181.000000,563.000000,185.000000,3.625000,91300.000000\n",
            "-122.280000,37.520000,27.000000,2958.000000,655.000000,1285.000000,577.000000,4.080100,397800.000000\n",
            "-118.410000,34.250000,33.000000,827.000000,192.000000,981.000000,184.000000,2.642900,143100.000000\n",
            "-122.250000,37.800000,52.000000,2087.000000,510.000000,1197.000000,488.000000,3.014900,218400.000000\n",
            "-119.050000,34.240000,24.000000,4341.000000,646.000000,1929.000000,703.000000,5.429800,279600.000000\n",
            "-118.260000,34.060000,33.000000,1950.000000,1047.000000,3707.000000,1012.000000,1.723800,110000.000000\n",
            "-117.090000,32.700000,15.000000,869.000000,217.000000,887.000000,216.000000,1.458300,84200.000000\n",
            "-117.390000,34.070000,15.000000,1966.000000,331.000000,1118.000000,323.000000,3.855800,122700.000000\n",
            "-122.220000,37.790000,37.000000,2343.000000,574.000000,1608.000000,523.000000,2.149400,132500.000000\n",
            "-118.430000,34.040000,52.000000,2425.000000,435.000000,962.000000,412.000000,5.858700,494700.000000\n",
            "-117.560000,33.880000,36.000000,838.000000,210.000000,722.000000,180.000000,2.486100,96200.000000\n",
            "-118.130000,34.160000,52.000000,1787.000000,427.000000,1107.000000,410.000000,2.566400,215000.000000\n",
            "-122.210000,37.470000,33.000000,1266.000000,415.000000,1991.000000,334.000000,2.920000,202800.000000\n",
            "-118.080000,33.780000,34.000000,2287.000000,347.000000,1051.000000,346.000000,5.576700,372000.000000\n",
            "-118.230000,34.210000,29.000000,2584.000000,608.000000,1217.000000,568.000000,3.328700,273400.000000\n",
            "-117.230000,32.730000,44.000000,1168.000000,263.000000,509.000000,256.000000,2.727300,269700.000000\n",
            "-118.190000,33.770000,21.000000,2103.000000,727.000000,1064.000000,603.000000,1.617800,137500.000000\n",
            "-117.170000,32.810000,26.000000,788.000000,127.000000,346.000000,125.000000,5.060300,185700.000000\n",
            "-122.000000,36.970000,39.000000,2702.000000,646.000000,1136.000000,491.000000,2.894100,256700.000000\n",
            "-120.610000,35.120000,12.000000,3430.000000,793.000000,1840.000000,720.000000,2.982100,162000.000000\n",
            "-118.170000,33.830000,46.000000,1362.000000,214.000000,531.000000,222.000000,4.312500,290500.000000\n",
            "-117.860000,33.890000,24.000000,2002.000000,253.000000,820.000000,241.000000,6.961200,274500.000000\n",
            "-118.510000,34.220000,36.000000,1493.000000,285.000000,766.000000,272.000000,4.864600,213200.000000\n",
            "-118.260000,33.900000,38.000000,1566.000000,318.000000,981.000000,318.000000,4.023400,111900.000000\n",
            "-118.020000,34.040000,27.000000,5640.000000,1001.000000,3538.000000,978.000000,5.065000,215400.000000\n",
            "-118.370000,34.100000,37.000000,407.000000,67.000000,100.000000,47.000000,15.000100,500001.000000\n",
            "-117.990000,33.790000,35.000000,2301.000000,467.000000,2272.000000,454.000000,3.956600,167800.000000\n",
            "-122.420000,37.710000,44.000000,2080.000000,489.000000,1781.000000,478.000000,3.682700,215300.000000\n",
            "-117.250000,33.930000,8.000000,10110.000000,1761.000000,5804.000000,1703.000000,4.265400,137600.000000\n",
            "-122.040000,37.850000,27.000000,6039.000000,780.000000,2181.000000,761.000000,9.586200,469400.000000\n",
            "-117.230000,32.870000,11.000000,3123.000000,740.000000,1223.000000,634.000000,5.417000,196800.000000\n",
            "-117.160000,32.810000,35.000000,1213.000000,200.000000,532.000000,181.000000,3.680600,172400.000000\n",
            "-118.090000,33.900000,37.000000,1147.000000,258.000000,742.000000,242.000000,4.046100,153500.000000\n",
            "-118.080000,34.070000,32.000000,4089.000000,975.000000,3775.000000,955.000000,3.290000,205500.000000\n",
            "-117.090000,32.790000,31.000000,2019.000000,417.000000,872.000000,386.000000,3.196400,177700.000000\n",
            "-121.660000,37.130000,20.000000,4477.000000,924.000000,2656.000000,871.000000,3.878800,226900.000000\n",
            "-118.240000,33.960000,34.000000,946.000000,254.000000,1101.000000,239.000000,1.739600,105900.000000\n",
            "-122.020000,37.530000,21.000000,4280.000000,673.000000,2216.000000,681.000000,5.707200,242200.000000\n",
            "-117.820000,33.900000,25.000000,1137.000000,170.000000,524.000000,164.000000,7.574400,259300.000000\n",
            "-118.210000,33.940000,34.000000,710.000000,205.000000,1134.000000,233.000000,2.773400,141100.000000\n",
            "-117.880000,34.000000,32.000000,265.000000,51.000000,170.000000,50.000000,3.937500,187500.000000\n",
            "-118.110000,33.860000,36.000000,2750.000000,487.000000,1386.000000,458.000000,4.990400,221700.000000\n",
            "-118.860000,34.070000,16.000000,1409.000000,244.000000,970.000000,172.000000,8.014400,500001.000000\n",
            "-122.490000,38.320000,30.000000,1631.000000,284.000000,788.000000,284.000000,3.309800,195500.000000\n",
            "-121.660000,39.660000,17.000000,3502.000000,655.000000,1763.000000,613.000000,2.962500,101200.000000\n",
            "-122.330000,37.930000,34.000000,2326.000000,471.000000,1356.000000,441.000000,2.347500,90300.000000\n",
            "-117.280000,33.200000,20.000000,4835.000000,854.000000,2983.000000,834.000000,4.342800,152100.000000\n",
            "-122.160000,37.720000,38.000000,1007.000000,245.000000,618.000000,239.000000,2.875000,144800.000000\n",
            "-117.850000,34.120000,30.000000,4367.000000,1033.000000,2524.000000,954.000000,3.044800,192100.000000\n",
            "-119.260000,35.500000,38.000000,2536.000000,409.000000,1133.000000,430.000000,4.237500,78600.000000\n",
            "-123.350000,40.990000,23.000000,141.000000,59.000000,47.000000,23.000000,1.125000,66000.000000\n",
            "-118.140000,34.160000,39.000000,2776.000000,840.000000,2546.000000,773.000000,2.575000,153500.000000\n",
            "-118.390000,34.230000,43.000000,1193.000000,299.000000,1184.000000,320.000000,2.151800,161600.000000\n",
            "-117.030000,32.790000,17.000000,7352.000000,1699.000000,3331.000000,1634.000000,2.700600,166300.000000\n",
            "-117.840000,33.800000,34.000000,2004.000000,331.000000,843.000000,328.000000,3.590000,230600.000000\n",
            "-116.690000,33.500000,13.000000,1187.000000,255.000000,442.000000,179.000000,1.910700,155700.000000\n",
            "-121.090000,37.610000,42.000000,1787.000000,296.000000,921.000000,287.000000,3.886400,171400.000000\n",
            "-117.140000,32.760000,35.000000,2539.000000,661.000000,1308.000000,629.000000,2.677700,146400.000000\n",
            "-122.690000,38.460000,32.000000,2970.000000,504.000000,1117.000000,512.000000,5.000000,275900.000000\n",
            "-121.130000,38.550000,8.000000,530.000000,109.000000,398.000000,96.000000,4.203100,212500.000000\n",
            "-121.870000,37.270000,25.000000,1730.000000,226.000000,721.000000,243.000000,7.584500,279300.000000\n",
            "-117.910000,33.660000,26.000000,5761.000000,1326.000000,2681.000000,1116.000000,4.034100,243300.000000\n",
            "-121.940000,37.340000,42.000000,2174.000000,420.000000,1304.000000,464.000000,3.142900,286500.000000\n",
            "-121.830000,37.950000,17.000000,1133.000000,244.000000,716.000000,235.000000,2.875000,162500.000000\n",
            "-124.170000,41.800000,16.000000,2739.000000,480.000000,1259.000000,436.000000,3.755700,109400.000000\n",
            "-118.330000,34.060000,52.000000,1368.000000,231.000000,737.000000,248.000000,8.361700,433800.000000\n",
            "-118.240000,33.800000,28.000000,636.000000,169.000000,788.000000,143.000000,3.616100,131300.000000\n",
            "-122.590000,38.120000,25.000000,7784.000000,1145.000000,3445.000000,1166.000000,6.013200,287900.000000\n",
            "-122.480000,37.710000,29.000000,1048.000000,150.000000,455.000000,152.000000,6.127800,417600.000000\n",
            "-120.730000,37.380000,37.000000,653.000000,176.000000,827.000000,176.000000,1.923600,64400.000000\n",
            "-117.040000,32.620000,26.000000,3620.000000,607.000000,2000.000000,593.000000,4.996200,156000.000000\n",
            "-118.440000,34.270000,36.000000,1111.000000,275.000000,1333.000000,266.000000,3.534700,158100.000000\n",
            "-121.000000,37.610000,36.000000,2647.000000,604.000000,2045.000000,550.000000,2.273000,62900.000000\n",
            "-117.840000,33.890000,24.000000,3935.000000,625.000000,1912.000000,593.000000,5.795100,226900.000000\n",
            "-122.250000,37.770000,52.000000,1527.000000,320.000000,825.000000,264.000000,3.453100,208800.000000\n",
            "-118.360000,34.100000,37.000000,7097.000000,2010.000000,2913.000000,1939.000000,2.875000,300000.000000\n",
            "-116.920000,32.790000,24.000000,4055.000000,742.000000,2123.000000,744.000000,4.522400,142000.000000\n",
            "-121.940000,38.350000,8.000000,3157.000000,559.000000,1758.000000,569.000000,4.412000,140100.000000\n",
            "-120.870000,35.410000,16.000000,2168.000000,444.000000,782.000000,374.000000,3.018700,278100.000000\n",
            "-118.100000,33.830000,36.000000,2000.000000,343.000000,956.000000,352.000000,5.373500,234400.000000\n",
            "-117.990000,34.070000,31.000000,1507.000000,369.000000,1548.000000,347.000000,3.432700,147200.000000\n",
            "-121.490000,37.940000,31.000000,1860.000000,394.000000,1848.000000,293.000000,2.289100,162500.000000\n",
            "-119.630000,36.320000,36.000000,1518.000000,287.000000,749.000000,255.000000,2.233300,61000.000000\n",
            "-121.890000,39.760000,15.000000,10265.000000,1860.000000,4591.000000,1906.000000,3.070000,142600.000000\n",
            "-117.110000,32.760000,31.000000,2293.000000,549.000000,1108.000000,557.000000,3.385400,204400.000000\n",
            "-118.140000,34.070000,42.000000,1036.000000,199.000000,656.000000,215.000000,4.190200,235000.000000\n",
            "-118.260000,33.950000,38.000000,1387.000000,346.000000,1240.000000,355.000000,1.689800,95100.000000\n",
            "-122.350000,40.560000,16.000000,2801.000000,614.000000,1695.000000,563.000000,1.900000,81600.000000\n",
            "-118.260000,34.060000,40.000000,637.000000,273.000000,1150.000000,263.000000,1.862500,131300.000000\n",
            "-117.820000,33.710000,9.000000,5206.000000,992.000000,4660.000000,978.000000,2.885000,162500.000000\n",
            "-119.980000,38.960000,25.000000,2443.000000,444.000000,868.000000,342.000000,3.541700,114800.000000\n",
            "-118.430000,34.090000,27.000000,1613.000000,200.000000,497.000000,197.000000,7.983500,500001.000000\n",
            "-117.140000,32.750000,20.000000,1182.000000,379.000000,678.000000,326.000000,2.193700,162500.000000\n",
            "-118.470000,34.300000,16.000000,2495.000000,551.000000,2314.000000,567.000000,3.673600,192200.000000\n",
            "-121.780000,38.680000,39.000000,2806.000000,662.000000,1659.000000,638.000000,1.978700,97800.000000\n",
            "-122.280000,37.800000,52.000000,96.000000,31.000000,191.000000,34.000000,0.750000,162500.000000\n",
            "-117.210000,32.800000,19.000000,786.000000,282.000000,525.000000,229.000000,1.727300,137500.000000\n",
            "-121.460000,38.540000,48.000000,1001.000000,205.000000,605.000000,175.000000,1.833300,58200.000000\n",
            "-121.130000,36.210000,30.000000,1484.000000,414.000000,1200.000000,351.000000,1.754800,95800.000000\n",
            "-122.530000,37.970000,52.000000,205.000000,119.000000,228.000000,132.000000,1.906300,200000.000000\n",
            "-122.350000,37.920000,36.000000,921.000000,200.000000,585.000000,236.000000,1.922400,94000.000000\n",
            "-122.120000,37.280000,21.000000,349.000000,64.000000,149.000000,56.000000,5.869100,360000.000000\n",
            "-121.320000,38.260000,4.000000,6125.000000,1063.000000,3077.000000,953.000000,4.117900,134600.000000\n",
            "-121.910000,36.620000,40.000000,1292.000000,271.000000,504.000000,230.000000,2.475000,258300.000000\n",
            "-117.810000,33.710000,16.000000,2666.000000,387.000000,1227.000000,347.000000,7.376900,302400.000000\n",
            "-119.710000,36.810000,19.000000,2282.000000,550.000000,1034.000000,500.000000,1.661800,69700.000000\n",
            "-119.190000,34.170000,27.000000,2183.000000,364.000000,1458.000000,388.000000,4.456700,191100.000000\n",
            "-117.820000,33.790000,26.000000,2641.000000,633.000000,3657.000000,617.000000,4.133900,222300.000000\n",
            "-118.270000,34.160000,48.000000,1301.000000,253.000000,637.000000,260.000000,4.343800,252700.000000\n",
            "-118.330000,34.100000,45.000000,1913.000000,696.000000,1552.000000,611.000000,2.088800,237500.000000\n",
            "-122.290000,37.910000,46.000000,2085.000000,346.000000,748.000000,354.000000,4.053600,262000.000000\n",
            "-118.020000,33.820000,21.000000,2052.000000,456.000000,1173.000000,432.000000,3.788500,204500.000000\n",
            "-118.220000,33.960000,35.000000,1437.000000,474.000000,2113.000000,484.000000,2.617900,158800.000000\n",
            "-116.890000,32.820000,18.000000,2515.000000,443.000000,1442.000000,449.000000,5.020100,154400.000000\n",
            "-117.950000,33.860000,35.000000,2478.000000,431.000000,1333.000000,427.000000,5.209900,191400.000000\n",
            "-122.270000,37.480000,26.000000,3542.000000,507.000000,1392.000000,524.000000,8.518400,500001.000000\n",
            "-120.510000,39.520000,26.000000,2286.000000,444.000000,498.000000,216.000000,2.065000,96100.000000\n",
            "-118.420000,34.090000,40.000000,3552.000000,392.000000,1024.000000,370.000000,15.000100,500001.000000\n",
            "-119.500000,35.270000,23.000000,3827.000000,696.000000,1993.000000,617.000000,3.074200,57900.000000\n",
            "-122.910000,39.070000,21.000000,2202.000000,484.000000,1000.000000,381.000000,2.442300,102300.000000\n",
            "-122.460000,37.770000,52.000000,1824.000000,388.000000,799.000000,363.000000,3.750000,435700.000000\n",
            "-121.540000,36.990000,27.000000,2361.000000,449.000000,1782.000000,397.000000,3.261400,305000.000000\n",
            "-118.450000,34.190000,37.000000,1073.000000,254.000000,739.000000,253.000000,2.466700,192200.000000\n",
            "-117.950000,34.050000,35.000000,1309.000000,276.000000,1113.000000,253.000000,4.375000,156500.000000\n",
            "-120.560000,35.480000,12.000000,4161.000000,731.000000,1609.000000,615.000000,5.094700,267500.000000\n",
            "-122.460000,37.650000,21.000000,2751.000000,502.000000,2027.000000,491.000000,5.257300,322900.000000\n",
            "-117.850000,33.760000,33.000000,1866.000000,327.000000,1053.000000,371.000000,4.546100,213800.000000\n",
            "-118.210000,33.920000,37.000000,1705.000000,403.000000,1839.000000,410.000000,2.583300,132700.000000\n",
            "-118.170000,33.980000,31.000000,1236.000000,329.000000,1486.000000,337.000000,3.093800,155400.000000\n",
            "-121.790000,37.340000,20.000000,2018.000000,328.000000,1196.000000,323.000000,4.931800,262400.000000\n",
            "-117.980000,33.830000,32.000000,1133.000000,166.000000,523.000000,187.000000,6.213000,230800.000000\n",
            "-118.430000,34.300000,37.000000,1394.000000,313.000000,1111.000000,327.000000,3.602300,161800.000000\n",
            "-121.690000,39.360000,34.000000,842.000000,186.000000,635.000000,165.000000,1.835500,63000.000000\n",
            "-117.270000,33.770000,16.000000,2876.000000,576.000000,1859.000000,545.000000,2.087800,101300.000000\n",
            "-122.410000,37.590000,40.000000,2401.000000,383.000000,894.000000,356.000000,5.649300,422400.000000\n",
            "-117.480000,34.100000,30.000000,2287.000000,531.000000,1796.000000,503.000000,2.583300,90600.000000\n",
            "-117.060000,32.700000,12.000000,3943.000000,737.000000,3280.000000,751.000000,4.112000,141400.000000\n",
            "-121.920000,36.630000,40.000000,1076.000000,193.000000,406.000000,180.000000,3.494300,311100.000000\n",
            "-120.440000,37.310000,16.000000,3369.000000,532.000000,1770.000000,574.000000,5.266200,126200.000000\n",
            "-117.180000,32.700000,44.000000,2655.000000,514.000000,1102.000000,489.000000,3.675900,368800.000000\n",
            "-121.570000,39.120000,30.000000,2601.000000,534.000000,1702.000000,506.000000,2.080000,56600.000000\n",
            "-122.210000,37.790000,52.000000,762.000000,190.000000,600.000000,195.000000,3.089300,125000.000000\n",
            "-118.910000,35.300000,28.000000,1793.000000,358.000000,1233.000000,351.000000,2.784500,82200.000000\n",
            "-121.950000,37.320000,20.000000,1145.000000,198.000000,431.000000,173.000000,3.110300,281900.000000\n",
            "-121.350000,38.680000,20.000000,7085.000000,1222.000000,3455.000000,1229.000000,4.311800,120000.000000\n",
            "-121.280000,38.760000,47.000000,2901.000000,631.000000,1276.000000,578.000000,2.136600,101900.000000\n",
            "-118.350000,33.890000,30.000000,1143.000000,299.000000,776.000000,273.000000,4.282900,240000.000000\n",
            "-121.980000,37.970000,26.000000,2714.000000,390.000000,1232.000000,409.000000,5.961700,231100.000000\n",
            "-120.020000,38.920000,24.000000,1194.000000,246.000000,414.000000,151.000000,3.239600,101900.000000\n",
            "-122.280000,37.770000,52.000000,1468.000000,363.000000,870.000000,347.000000,2.968800,220800.000000\n",
            "-118.060000,34.580000,36.000000,1493.000000,258.000000,899.000000,260.000000,3.860000,109300.000000\n",
            "-119.020000,35.380000,52.000000,90.000000,35.000000,36.000000,31.000000,0.805400,60000.000000\n",
            "-122.430000,37.790000,52.000000,6186.000000,1566.000000,2065.000000,1374.000000,5.854300,500001.000000\n",
            "-118.070000,33.860000,17.000000,3666.000000,562.000000,2104.000000,579.000000,5.681800,338900.000000\n",
            "-122.300000,38.000000,34.000000,1712.000000,317.000000,956.000000,341.000000,4.439400,162000.000000\n",
            "-117.170000,33.280000,16.000000,1921.000000,312.000000,862.000000,280.000000,5.178600,376800.000000\n",
            "-117.300000,34.140000,37.000000,1454.000000,261.000000,761.000000,248.000000,2.343800,88100.000000\n",
            "-117.710000,33.600000,25.000000,1949.000000,459.000000,602.000000,428.000000,2.760100,72500.000000\n",
            "-122.500000,37.780000,46.000000,2646.000000,607.000000,1418.000000,563.000000,3.716700,332800.000000\n",
            "-122.720000,38.450000,41.000000,1743.000000,373.000000,780.000000,357.000000,3.146700,175500.000000\n",
            "-118.430000,34.180000,31.000000,2417.000000,510.000000,1102.000000,507.000000,3.890600,282200.000000\n",
            "-118.030000,33.970000,22.000000,2185.000000,623.000000,1644.000000,606.000000,2.593000,192000.000000\n",
            "-118.420000,33.990000,23.000000,5548.000000,1245.000000,2847.000000,1229.000000,4.422800,366900.000000\n",
            "-118.290000,33.960000,31.000000,4022.000000,1208.000000,3707.000000,1007.000000,1.309600,116300.000000\n",
            "-117.980000,33.730000,22.000000,4232.000000,624.000000,2408.000000,660.000000,6.653900,284900.000000\n",
            "-121.910000,39.140000,45.000000,845.000000,155.000000,343.000000,136.000000,2.125000,62000.000000\n",
            "-119.590000,36.640000,27.000000,823.000000,171.000000,798.000000,200.000000,3.052100,113800.000000\n",
            "-118.330000,34.110000,37.000000,2330.000000,434.000000,846.000000,457.000000,8.233500,430200.000000\n",
            "-120.630000,38.750000,17.000000,3145.000000,621.000000,1432.000000,559.000000,2.720100,117500.000000\n",
            "-122.120000,37.750000,28.000000,794.000000,111.000000,329.000000,109.000000,7.692300,329800.000000\n",
            "-118.350000,33.950000,45.000000,1076.000000,213.000000,781.000000,238.000000,3.950000,164000.000000\n",
            "-120.440000,34.960000,29.000000,2374.000000,562.000000,1617.000000,463.000000,2.653100,108300.000000\n",
            "-117.080000,33.120000,43.000000,107.000000,44.000000,107.000000,48.000000,0.705400,137500.000000\n",
            "-121.270000,38.610000,17.000000,6663.000000,1369.000000,2840.000000,1299.000000,2.945200,115600.000000\n",
            "-120.070000,36.960000,32.000000,1268.000000,283.000000,549.000000,273.000000,1.451100,65200.000000\n",
            "-117.660000,34.060000,39.000000,1405.000000,339.000000,1489.000000,336.000000,1.608000,91800.000000\n",
            "-117.060000,33.010000,24.000000,2618.000000,485.000000,726.000000,443.000000,3.519200,159100.000000\n",
            "-117.920000,33.730000,17.000000,1692.000000,293.000000,934.000000,280.000000,4.472800,205800.000000\n",
            "-117.930000,33.920000,34.000000,2271.000000,437.000000,1393.000000,433.000000,4.244300,174400.000000\n",
            "-122.590000,38.920000,15.000000,1410.000000,329.000000,599.000000,273.000000,2.195300,75000.000000\n",
            "-118.140000,33.840000,36.000000,3002.000000,484.000000,1322.000000,471.000000,4.933000,228900.000000\n",
            "-120.790000,37.080000,9.000000,97.000000,20.000000,91.000000,22.000000,2.906300,55000.000000\n",
            "-117.600000,34.110000,18.000000,6025.000000,1062.000000,3360.000000,1028.000000,4.888900,155700.000000\n",
            "-122.020000,37.550000,33.000000,1325.000000,274.000000,909.000000,267.000000,4.568700,177200.000000\n",
            "-118.140000,33.970000,31.000000,1161.000000,267.000000,1175.000000,282.000000,3.011400,177000.000000\n",
            "-122.310000,37.540000,38.000000,1946.000000,407.000000,975.000000,417.000000,4.072600,385400.000000\n",
            "-122.260000,37.830000,52.000000,2432.000000,715.000000,1377.000000,696.000000,2.589800,176000.000000\n",
            "-121.880000,37.680000,23.000000,2234.000000,270.000000,854.000000,286.000000,7.333000,337200.000000\n",
            "-122.530000,37.940000,18.000000,878.000000,255.000000,384.000000,247.000000,4.734400,200000.000000\n",
            "-117.710000,33.630000,16.000000,1565.000000,274.000000,950.000000,280.000000,5.839900,220600.000000\n",
            "-120.100000,39.190000,17.000000,1480.000000,241.000000,202.000000,80.000000,3.937500,213200.000000\n",
            "-117.770000,33.720000,9.000000,2153.000000,316.000000,954.000000,324.000000,7.813900,304700.000000\n",
            "-118.010000,33.840000,35.000000,4166.000000,713.000000,2354.000000,709.000000,5.177500,213400.000000\n",
            "-122.190000,37.710000,36.000000,361.000000,69.000000,158.000000,58.000000,5.546100,262500.000000\n",
            "-120.360000,38.210000,10.000000,4300.000000,845.000000,1480.000000,609.000000,2.820800,139900.000000\n",
            "-117.320000,34.030000,13.000000,3853.000000,761.000000,1685.000000,669.000000,3.902400,122400.000000\n",
            "-117.710000,34.020000,17.000000,12689.000000,2426.000000,7343.000000,2230.000000,3.636100,157700.000000\n",
            "-118.260000,33.910000,33.000000,954.000000,241.000000,655.000000,218.000000,2.588200,92800.000000\n",
            "-121.940000,36.580000,23.000000,4911.000000,693.000000,1480.000000,606.000000,6.777000,500000.000000\n",
            "-121.760000,37.690000,29.000000,3433.000000,711.000000,1919.000000,709.000000,3.384100,184400.000000\n",
            "-121.940000,36.550000,30.000000,2722.000000,584.000000,628.000000,384.000000,3.404800,487100.000000\n",
            "-122.640000,38.010000,36.000000,1199.000000,232.000000,551.000000,229.000000,3.732100,266700.000000\n",
            "-119.340000,36.340000,5.000000,4505.000000,834.000000,1917.000000,775.000000,4.014400,126600.000000\n",
            "-122.060000,37.270000,16.000000,1612.000000,221.000000,567.000000,208.000000,10.579300,500001.000000\n",
            "-117.940000,33.730000,24.000000,4197.000000,718.000000,2468.000000,714.000000,5.256300,211400.000000\n",
            "-118.440000,33.980000,21.000000,18132.000000,5419.000000,7431.000000,4930.000000,5.335900,500001.000000\n",
            "-117.690000,34.010000,30.000000,2598.000000,573.000000,2170.000000,518.000000,2.300000,95600.000000\n",
            "-117.870000,34.150000,24.000000,5745.000000,735.000000,2061.000000,679.000000,8.282700,451400.000000\n",
            "-119.690000,36.380000,25.000000,1688.000000,302.000000,879.000000,277.000000,3.321400,103100.000000\n",
            "-122.280000,38.000000,26.000000,2335.000000,413.000000,980.000000,417.000000,3.447100,178900.000000\n",
            "-118.330000,34.040000,31.000000,1090.000000,251.000000,955.000000,239.000000,2.913000,192500.000000\n",
            "-118.170000,34.070000,37.000000,1155.000000,225.000000,814.000000,241.000000,3.875000,148500.000000\n",
            "-117.950000,34.140000,13.000000,3859.000000,710.000000,2283.000000,759.000000,4.559400,184500.000000\n",
            "-118.280000,33.790000,28.000000,1895.000000,420.000000,1422.000000,389.000000,4.381600,191300.000000\n",
            "-120.860000,37.690000,5.000000,6660.000000,1217.000000,3012.000000,1087.000000,3.080900,143600.000000\n",
            "-120.150000,39.170000,32.000000,1684.000000,359.000000,454.000000,209.000000,2.912500,145800.000000\n",
            "-117.050000,32.710000,25.000000,3292.000000,608.000000,2266.000000,592.000000,3.298600,119200.000000\n",
            "-121.440000,38.520000,36.000000,3446.000000,950.000000,2460.000000,847.000000,1.652100,69700.000000\n",
            "-118.500000,34.190000,26.000000,2156.000000,509.000000,1142.000000,470.000000,4.000000,224700.000000\n",
            "-121.440000,37.760000,5.000000,7264.000000,1285.000000,3670.000000,1146.000000,5.044300,194800.000000\n",
            "-121.950000,37.370000,39.000000,446.000000,129.000000,317.000000,127.000000,3.035700,208300.000000\n",
            "-122.430000,37.770000,52.000000,2685.000000,629.000000,1170.000000,614.000000,3.689400,418800.000000\n",
            "-118.280000,34.010000,48.000000,483.000000,190.000000,775.000000,188.000000,2.330900,126600.000000\n",
            "-118.280000,33.840000,27.000000,2326.000000,533.000000,1697.000000,546.000000,3.863300,187900.000000\n",
            "-118.330000,34.040000,48.000000,2437.000000,443.000000,1400.000000,426.000000,2.628000,251100.000000\n",
            "-118.270000,33.950000,35.000000,2073.000000,494.000000,1753.000000,490.000000,1.500000,93600.000000\n",
            "-120.420000,34.910000,4.000000,6986.000000,1217.000000,2801.000000,1212.000000,3.213500,212700.000000\n",
            "-117.100000,32.830000,16.000000,1049.000000,154.000000,467.000000,160.000000,6.204700,248100.000000\n",
            "-121.890000,36.890000,18.000000,2774.000000,492.000000,1283.000000,353.000000,5.368000,352000.000000\n",
            "-118.220000,33.960000,42.000000,1380.000000,331.000000,1290.000000,288.000000,2.800000,161800.000000\n",
            "-117.270000,33.020000,13.000000,5723.000000,1242.000000,2450.000000,1140.000000,4.717900,376700.000000\n",
            "-121.290000,38.680000,20.000000,1881.000000,378.000000,921.000000,360.000000,1.858900,144000.000000\n",
            "-121.950000,37.310000,27.000000,2462.000000,570.000000,1278.000000,565.000000,3.565200,329500.000000\n",
            "-118.960000,35.370000,41.000000,1463.000000,339.000000,1066.000000,318.000000,1.746700,52400.000000\n",
            "-121.880000,36.580000,29.000000,4910.000000,871.000000,3438.000000,904.000000,4.043200,450000.000000\n",
            "-117.250000,34.410000,13.000000,3682.000000,668.000000,1606.000000,668.000000,2.187500,119700.000000\n",
            "-118.380000,33.770000,17.000000,10950.000000,2207.000000,4713.000000,2043.000000,6.306400,418300.000000\n",
            "-114.550000,32.800000,19.000000,2570.000000,820.000000,1431.000000,608.000000,1.275000,56100.000000\n",
            "-119.810000,34.440000,23.000000,3172.000000,588.000000,1467.000000,559.000000,4.680600,288900.000000\n",
            "-117.120000,33.490000,4.000000,21988.000000,4055.000000,8824.000000,3252.000000,3.996300,191100.000000\n",
            "-118.320000,33.800000,39.000000,1415.000000,298.000000,729.000000,278.000000,3.164800,244800.000000\n",
            "-122.180000,37.730000,43.000000,1391.000000,293.000000,855.000000,285.000000,2.519200,76400.000000\n",
            "-118.100000,34.130000,47.000000,2234.000000,276.000000,749.000000,260.000000,15.000100,500001.000000\n",
            "-122.270000,40.390000,26.000000,1833.000000,422.000000,939.000000,408.000000,1.357100,59000.000000\n",
            "-121.940000,37.730000,22.000000,6719.000000,1068.000000,2843.000000,994.000000,6.126500,260300.000000\n",
            "-121.290000,38.630000,24.000000,2868.000000,527.000000,1284.000000,487.000000,3.318200,213000.000000\n",
            "-117.590000,33.440000,3.000000,5813.000000,1264.000000,2363.000000,1041.000000,4.389700,341300.000000\n",
            "-118.440000,34.190000,29.000000,1599.000000,459.000000,1143.000000,438.000000,2.458300,199100.000000\n",
            "-118.150000,34.030000,42.000000,1481.000000,411.000000,1206.000000,394.000000,2.680600,189300.000000\n",
            "-116.480000,33.800000,15.000000,3004.000000,615.000000,437.000000,210.000000,3.666700,90000.000000\n",
            "-118.410000,33.980000,33.000000,3331.000000,777.000000,1695.000000,735.000000,3.972700,307200.000000\n",
            "-121.050000,37.650000,5.000000,3096.000000,545.000000,1760.000000,519.000000,4.570100,146400.000000\n",
            "-122.420000,37.800000,50.000000,2494.000000,731.000000,958.000000,712.000000,3.235600,500001.000000\n",
            "-117.310000,34.110000,38.000000,1208.000000,321.000000,1225.000000,317.000000,1.466300,64000.000000\n",
            "-116.990000,32.760000,21.000000,3833.000000,595.000000,1645.000000,589.000000,4.625000,273500.000000\n",
            "-122.110000,37.890000,32.000000,2372.000000,516.000000,1067.000000,492.000000,4.323500,279500.000000\n",
            "-122.270000,37.800000,10.000000,105.000000,42.000000,125.000000,39.000000,0.972200,137500.000000\n",
            "-121.870000,37.380000,16.000000,3275.000000,529.000000,1863.000000,527.000000,5.542900,269100.000000\n",
            "-118.200000,33.770000,22.000000,1118.000000,437.000000,1190.000000,399.000000,1.979700,143800.000000\n",
            "-117.120000,32.570000,35.000000,1450.000000,256.000000,930.000000,286.000000,2.671500,133300.000000\n",
            "-118.330000,34.000000,52.000000,1114.000000,169.000000,486.000000,176.000000,4.291700,247600.000000\n",
            "-117.170000,32.820000,21.000000,2869.000000,596.000000,1471.000000,577.000000,3.037500,197600.000000\n",
            "-120.360000,40.450000,19.000000,689.000000,143.000000,355.000000,127.000000,1.733300,70000.000000\n",
            "-116.520000,33.810000,12.000000,12396.000000,2552.000000,2548.000000,1265.000000,3.439400,162200.000000\n",
            "-119.820000,36.770000,41.000000,1441.000000,274.000000,646.000000,296.000000,3.056800,71300.000000\n",
            "-118.350000,33.870000,28.000000,2319.000000,579.000000,1369.000000,564.000000,3.616900,257000.000000\n",
            "-117.340000,34.490000,9.000000,3293.000000,585.000000,1678.000000,530.000000,3.294100,98300.000000\n",
            "-118.550000,34.170000,36.000000,2127.000000,297.000000,761.000000,274.000000,7.839200,500001.000000\n",
            "-122.110000,38.090000,11.000000,673.000000,145.000000,318.000000,137.000000,2.392900,122500.000000\n",
            "-122.260000,37.560000,23.000000,7283.000000,1342.000000,3399.000000,1298.000000,5.668300,391000.000000\n",
            "-121.350000,38.660000,24.000000,3313.000000,769.000000,1631.000000,681.000000,2.555600,105700.000000\n",
            "-118.210000,34.040000,37.000000,845.000000,249.000000,881.000000,252.000000,2.245400,165000.000000\n",
            "-118.340000,34.070000,52.000000,3421.000000,598.000000,1203.000000,564.000000,4.161800,500001.000000\n",
            "-117.880000,34.130000,25.000000,2559.000000,654.000000,1674.000000,623.000000,2.854700,155600.000000\n",
            "-117.870000,33.840000,23.000000,1678.000000,369.000000,912.000000,347.000000,4.500000,237300.000000\n",
            "-117.340000,34.080000,33.000000,4924.000000,1007.000000,3502.000000,953.000000,3.233000,99400.000000\n",
            "-118.330000,34.020000,11.000000,1249.000000,313.000000,625.000000,336.000000,0.870200,170500.000000\n",
            "-118.330000,33.790000,29.000000,4389.000000,873.000000,2069.000000,901.000000,4.107100,365600.000000\n",
            "-119.290000,35.760000,15.000000,3938.000000,789.000000,3500.000000,768.000000,2.129500,59800.000000\n",
            "-117.090000,32.620000,37.000000,1538.000000,298.000000,867.000000,285.000000,3.072900,128700.000000\n",
            "-121.810000,37.250000,5.000000,1975.000000,520.000000,861.000000,440.000000,4.456500,159000.000000\n",
            "-120.290000,37.940000,17.000000,1459.000000,297.000000,753.000000,271.000000,3.050000,144800.000000\n",
            "-120.700000,35.140000,17.000000,5805.000000,1097.000000,1919.000000,932.000000,3.535200,357800.000000\n",
            "-118.170000,34.060000,36.000000,871.000000,201.000000,2862.000000,181.000000,2.184500,123800.000000\n",
            "-117.990000,33.930000,27.000000,3708.000000,718.000000,1921.000000,721.000000,4.375000,210400.000000\n",
            "-118.250000,34.220000,30.000000,2062.000000,396.000000,1089.000000,375.000000,5.536200,301200.000000\n",
            "-118.110000,33.830000,36.000000,1820.000000,313.000000,899.000000,295.000000,4.918000,225200.000000\n",
            "-122.040000,37.330000,22.000000,4011.000000,963.000000,2206.000000,879.000000,4.572100,351200.000000\n",
            "-119.670000,36.570000,32.000000,1604.000000,292.000000,868.000000,276.000000,2.190800,110000.000000\n",
            "-119.560000,36.710000,37.000000,1609.000000,374.000000,1173.000000,344.000000,2.181000,59900.000000\n",
            "-122.350000,37.960000,36.000000,2191.000000,531.000000,1563.000000,524.000000,2.516400,114200.000000\n",
            "-117.080000,32.580000,15.000000,1462.000000,274.000000,1002.000000,271.000000,3.969800,142700.000000\n",
            "-118.610000,34.200000,29.000000,1673.000000,284.000000,794.000000,270.000000,5.519100,245800.000000\n",
            "-118.240000,34.140000,27.000000,2909.000000,1021.000000,2614.000000,935.000000,2.144400,229000.000000\n",
            "-118.400000,34.030000,43.000000,1006.000000,201.000000,520.000000,199.000000,6.566900,372800.000000\n",
            "-116.980000,33.260000,12.000000,5898.000000,1002.000000,3129.000000,945.000000,4.764700,254100.000000\n",
            "-117.930000,33.680000,33.000000,2664.000000,432.000000,1197.000000,429.000000,5.069000,264200.000000\n",
            "-122.250000,37.470000,38.000000,645.000000,124.000000,265.000000,103.000000,5.468800,305000.000000\n",
            "-118.190000,33.840000,44.000000,2731.000000,577.000000,1396.000000,555.000000,4.177100,219100.000000\n",
            "-118.450000,34.320000,23.000000,3481.000000,641.000000,1952.000000,682.000000,4.260000,189400.000000\n",
            "-122.140000,39.970000,27.000000,1079.000000,222.000000,625.000000,197.000000,3.131900,62700.000000\n",
            "-118.300000,34.020000,27.000000,2190.000000,626.000000,1768.000000,528.000000,1.244600,103800.000000\n",
            "-117.900000,33.730000,31.000000,1171.000000,306.000000,1690.000000,301.000000,3.263900,155200.000000\n",
            "-121.580000,39.150000,38.000000,1756.000000,396.000000,837.000000,401.000000,1.912200,55500.000000\n",
            "-121.950000,38.350000,16.000000,2084.000000,292.000000,1099.000000,292.000000,5.826900,150200.000000\n",
            "-117.690000,34.070000,35.000000,3222.000000,559.000000,1970.000000,550.000000,3.708300,131000.000000\n",
            "-117.080000,32.740000,35.000000,1434.000000,253.000000,753.000000,228.000000,2.381200,135100.000000\n",
            "-118.290000,34.000000,41.000000,1807.000000,493.000000,1731.000000,471.000000,1.234700,111700.000000\n",
            "-123.800000,39.460000,35.000000,1718.000000,345.000000,698.000000,299.000000,2.924300,131600.000000\n",
            "-119.120000,35.330000,4.000000,8574.000000,1489.000000,4250.000000,1444.000000,5.103600,103400.000000\n",
            "-121.800000,37.340000,20.000000,2686.000000,414.000000,1507.000000,405.000000,5.806800,263900.000000\n",
            "-117.090000,32.750000,19.000000,2739.000000,707.000000,2004.000000,622.000000,1.631800,117700.000000\n",
            "-122.130000,37.430000,40.000000,3454.000000,648.000000,1498.000000,647.000000,5.211400,438400.000000\n",
            "-117.980000,33.760000,24.000000,1880.000000,405.000000,967.000000,418.000000,4.454500,192500.000000\n",
            "-122.330000,37.940000,43.000000,1876.000000,389.000000,807.000000,377.000000,3.157100,141600.000000\n",
            "-121.440000,38.540000,39.000000,2855.000000,574.000000,1217.000000,562.000000,3.240400,93600.000000\n",
            "-118.020000,33.700000,23.000000,5069.000000,770.000000,2473.000000,769.000000,6.304700,285700.000000\n",
            "-117.880000,33.840000,26.000000,1499.000000,290.000000,755.000000,277.000000,3.589300,238500.000000\n",
            "-120.460000,37.310000,35.000000,2042.000000,378.000000,953.000000,356.000000,2.734400,87800.000000\n",
            "-118.310000,33.720000,26.000000,2711.000000,508.000000,1372.000000,459.000000,4.145100,326700.000000\n",
            "-117.820000,33.670000,17.000000,2895.000000,439.000000,1588.000000,450.000000,6.276000,290700.000000\n",
            "-117.990000,33.870000,17.000000,2334.000000,537.000000,1662.000000,535.000000,3.014700,217000.000000\n",
            "-119.800000,36.860000,7.000000,6434.000000,1201.000000,2733.000000,1045.000000,3.765600,145000.000000\n",
            "-121.470000,38.580000,43.000000,3807.000000,952.000000,1484.000000,850.000000,2.326600,137500.000000\n",
            "-117.600000,33.870000,15.000000,7626.000000,1570.000000,3823.000000,1415.000000,3.441900,138100.000000\n",
            "-117.100000,32.750000,11.000000,2393.000000,726.000000,1905.000000,711.000000,1.344800,91300.000000\n",
            "-117.880000,33.760000,17.000000,1768.000000,474.000000,1079.000000,436.000000,1.782300,205300.000000\n",
            "-118.350000,33.990000,48.000000,2741.000000,439.000000,1115.000000,459.000000,5.051400,269100.000000\n",
            "-121.810000,37.310000,14.000000,2731.000000,578.000000,1109.000000,551.000000,3.138200,139700.000000\n",
            "-120.430000,34.900000,30.000000,2388.000000,393.000000,1117.000000,375.000000,4.105800,164000.000000\n",
            "-118.190000,34.050000,29.000000,855.000000,199.000000,785.000000,169.000000,2.696400,122200.000000\n",
            "-117.890000,33.910000,33.000000,1264.000000,224.000000,527.000000,227.000000,3.732100,216500.000000\n",
            "-118.270000,34.020000,21.000000,1314.000000,375.000000,1505.000000,366.000000,2.319000,97200.000000\n",
            "-116.730000,34.520000,16.000000,1247.000000,315.000000,433.000000,159.000000,1.056800,75000.000000\n",
            "-121.500000,38.520000,37.000000,2008.000000,466.000000,1261.000000,427.000000,2.257400,59100.000000\n",
            "-120.610000,35.120000,16.000000,1671.000000,354.000000,935.000000,340.000000,2.579200,163800.000000\n",
            "-120.630000,36.980000,20.000000,2380.000000,489.000000,1581.000000,505.000000,2.059500,61300.000000\n",
            "-117.060000,32.590000,13.000000,3920.000000,775.000000,2814.000000,760.000000,4.061600,148800.000000\n",
            "-119.020000,35.420000,40.000000,1912.000000,439.000000,1015.000000,413.000000,1.459800,52600.000000\n",
            "-118.140000,34.030000,38.000000,1447.000000,293.000000,1042.000000,284.000000,4.137500,211500.000000\n",
            "-118.310000,33.730000,52.000000,2025.000000,361.000000,957.000000,363.000000,4.205900,350000.000000\n",
            "-121.940000,38.370000,14.000000,1156.000000,216.000000,574.000000,227.000000,3.239600,143800.000000\n",
            "-122.510000,37.920000,32.000000,2622.000000,541.000000,1022.000000,464.000000,3.764700,375000.000000\n",
            "-119.450000,36.160000,27.000000,2119.000000,373.000000,1268.000000,345.000000,2.815200,106900.000000\n",
            "-118.190000,33.970000,27.000000,2911.000000,972.000000,3559.000000,945.000000,1.948500,146300.000000\n",
            "-116.710000,33.750000,25.000000,10665.000000,2161.000000,1874.000000,852.000000,3.062500,150500.000000\n",
            "-118.280000,33.990000,35.000000,1138.000000,304.000000,1128.000000,311.000000,1.881800,100000.000000\n",
            "-118.120000,33.850000,37.000000,2584.000000,453.000000,1333.000000,481.000000,4.366100,219900.000000\n",
            "-122.530000,37.630000,27.000000,2589.000000,658.000000,1386.000000,608.000000,2.908700,228200.000000\n",
            "-121.060000,37.730000,5.000000,2256.000000,420.000000,1246.000000,397.000000,4.923600,155900.000000\n",
            "-120.880000,38.450000,25.000000,1374.000000,297.000000,657.000000,288.000000,2.547600,97900.000000\n",
            "-117.110000,32.580000,12.000000,1086.000000,294.000000,870.000000,290.000000,2.421300,132500.000000\n",
            "-117.900000,33.650000,27.000000,3310.000000,598.000000,1402.000000,563.000000,6.632000,441100.000000\n",
            "-121.870000,37.660000,52.000000,775.000000,134.000000,315.000000,123.000000,5.067700,233300.000000\n",
            "-121.300000,37.960000,52.000000,1354.000000,314.000000,679.000000,311.000000,1.778800,97400.000000\n",
            "-117.800000,33.850000,16.000000,4151.000000,637.000000,1558.000000,604.000000,5.806000,304900.000000\n",
            "-118.550000,34.200000,31.000000,1963.000000,420.000000,1494.000000,415.000000,3.531300,211800.000000\n",
            "-118.440000,34.240000,36.000000,1660.000000,301.000000,1225.000000,307.000000,4.095000,184000.000000\n",
            "-117.910000,33.880000,34.000000,1851.000000,291.000000,784.000000,290.000000,5.233600,235600.000000\n",
            "-118.510000,34.230000,27.000000,4580.000000,918.000000,2252.000000,850.000000,4.792600,454400.000000\n",
            "-119.150000,34.170000,23.000000,2239.000000,537.000000,784.000000,497.000000,1.603800,194300.000000\n",
            "-122.080000,37.900000,32.000000,1075.000000,170.000000,486.000000,173.000000,5.049900,306800.000000\n",
            "-122.410000,37.710000,28.000000,5015.000000,1240.000000,3900.000000,1029.000000,1.226900,181900.000000\n",
            "-122.220000,37.470000,35.000000,367.000000,113.000000,398.000000,109.000000,2.500000,166700.000000\n",
            "-117.870000,33.920000,17.000000,4575.000000,764.000000,2054.000000,737.000000,6.057100,272400.000000\n",
            "-122.000000,36.970000,30.000000,1029.000000,242.000000,753.000000,249.000000,3.120500,240500.000000\n",
            "-117.070000,32.600000,13.000000,1607.000000,435.000000,983.000000,400.000000,2.290300,106300.000000\n",
            "-118.160000,34.060000,27.000000,1675.000000,274.000000,785.000000,275.000000,5.828000,301100.000000\n",
            "-117.050000,33.030000,16.000000,87.000000,20.000000,32.000000,21.000000,4.357100,144600.000000\n",
            "-117.240000,33.200000,26.000000,1701.000000,404.000000,989.000000,367.000000,2.511900,171700.000000\n",
            "-119.730000,34.450000,44.000000,2261.000000,328.000000,763.000000,294.000000,6.744900,415600.000000\n",
            "-117.320000,33.170000,18.000000,2143.000000,299.000000,828.000000,283.000000,4.238300,239000.000000\n",
            "-121.830000,37.270000,14.000000,2855.000000,380.000000,1420.000000,383.000000,6.671200,311500.000000\n",
            "-122.320000,40.420000,17.000000,3019.000000,578.000000,1538.000000,545.000000,2.793000,76500.000000\n",
            "-121.770000,36.940000,18.000000,1063.000000,341.000000,1033.000000,313.000000,2.019200,171300.000000\n",
            "-118.270000,33.790000,39.000000,1513.000000,365.000000,1227.000000,354.000000,3.392900,184600.000000\n",
            "-117.930000,33.830000,30.000000,1561.000000,381.000000,1104.000000,391.000000,3.375000,201900.000000\n",
            "-117.110000,32.820000,17.000000,1787.000000,330.000000,1341.000000,314.000000,2.875000,112500.000000\n",
            "-119.230000,35.740000,16.000000,2275.000000,659.000000,1914.000000,614.000000,2.033000,68400.000000\n",
            "-122.470000,37.710000,42.000000,1961.000000,427.000000,1211.000000,409.000000,3.515600,239400.000000\n",
            "-121.930000,36.630000,41.000000,1049.000000,198.000000,428.000000,183.000000,4.357100,287500.000000\n",
            "-117.280000,33.020000,21.000000,2736.000000,585.000000,1251.000000,576.000000,4.235600,347700.000000\n",
            "-118.990000,35.240000,40.000000,282.000000,59.000000,213.000000,71.000000,2.350000,91700.000000\n",
            "-119.140000,36.230000,22.000000,2935.000000,523.000000,1927.000000,530.000000,2.587500,70400.000000\n",
            "-122.420000,40.590000,24.000000,5045.000000,972.000000,2220.000000,979.000000,2.679200,138900.000000\n",
            "-117.090000,32.660000,37.000000,1232.000000,330.000000,1086.000000,330.000000,1.638900,114300.000000\n",
            "-118.140000,34.700000,36.000000,1205.000000,317.000000,678.000000,290.000000,2.018200,98400.000000\n",
            "-122.040000,36.980000,35.000000,2155.000000,355.000000,866.000000,335.000000,5.618800,404700.000000\n",
            "-117.020000,32.800000,31.000000,2692.000000,445.000000,1129.000000,450.000000,4.458300,170000.000000\n",
            "-117.290000,34.490000,3.000000,7689.000000,1545.000000,3804.000000,1399.000000,3.387100,111800.000000\n",
            "-122.090000,37.210000,15.000000,1969.000000,332.000000,822.000000,324.000000,7.877400,394900.000000\n",
            "-121.010000,37.650000,47.000000,1713.000000,334.000000,570.000000,297.000000,2.196900,149400.000000\n",
            "-116.770000,33.080000,13.000000,1406.000000,260.000000,737.000000,279.000000,5.584200,239100.000000\n",
            "-121.960000,37.340000,36.000000,844.000000,153.000000,373.000000,160.000000,5.791000,254100.000000\n",
            "-119.700000,34.420000,41.000000,725.000000,239.000000,582.000000,214.000000,3.166700,362500.000000\n",
            "-119.460000,35.170000,40.000000,4164.000000,812.000000,1998.000000,773.000000,2.832300,50800.000000\n",
            "-122.010000,37.300000,25.000000,4044.000000,551.000000,1699.000000,533.000000,8.083700,380600.000000\n",
            "-118.060000,33.830000,22.000000,5290.000000,1054.000000,2812.000000,1021.000000,4.530000,226400.000000\n",
            "-118.400000,34.190000,30.000000,521.000000,126.000000,306.000000,129.000000,4.112500,216700.000000\n",
            "-119.630000,34.440000,37.000000,3188.000000,442.000000,984.000000,376.000000,9.452200,500001.000000\n",
            "-117.890000,33.770000,29.000000,2577.000000,445.000000,1849.000000,470.000000,4.473200,194800.000000\n",
            "-119.540000,36.520000,16.000000,2703.000000,415.000000,1106.000000,372.000000,4.204500,120900.000000\n",
            "-118.430000,34.170000,33.000000,1679.000000,404.000000,933.000000,412.000000,2.697900,266000.000000\n",
            "-117.100000,32.580000,33.000000,393.000000,76.000000,330.000000,80.000000,4.102900,122700.000000\n",
            "-122.280000,37.790000,30.000000,4145.000000,869.000000,3668.000000,855.000000,2.544400,275000.000000\n",
            "-118.320000,34.110000,48.000000,4472.000000,1579.000000,2796.000000,1397.000000,2.397400,410700.000000\n",
            "-118.420000,34.020000,28.000000,3167.000000,737.000000,1248.000000,665.000000,3.194100,394700.000000\n",
            "-119.560000,36.510000,9.000000,3860.000000,809.000000,2157.000000,770.000000,2.503300,70100.000000\n",
            "-122.420000,37.780000,19.000000,4065.000000,1645.000000,2079.000000,1470.000000,3.146200,187500.000000\n",
            "-120.910000,37.730000,31.000000,840.000000,154.000000,429.000000,150.000000,2.406300,170200.000000\n",
            "-122.080000,37.590000,16.000000,1816.000000,365.000000,1367.000000,355.000000,4.235000,156300.000000\n",
            "-121.770000,37.310000,16.000000,1649.000000,228.000000,769.000000,230.000000,6.645500,302600.000000\n",
            "-117.050000,33.030000,14.000000,5180.000000,1051.000000,1639.000000,991.000000,4.500000,222200.000000\n",
            "-121.950000,37.260000,34.000000,1482.000000,255.000000,584.000000,246.000000,5.512100,264700.000000\n",
            "-119.030000,35.420000,45.000000,1628.000000,352.000000,754.000000,334.000000,2.570300,62400.000000\n",
            "-121.530000,38.600000,25.000000,5154.000000,1105.000000,3196.000000,1073.000000,2.756600,80200.000000\n",
            "-118.160000,33.960000,24.000000,1635.000000,507.000000,2480.000000,481.000000,2.443200,187500.000000\n",
            "-121.890000,36.600000,40.000000,626.000000,164.000000,337.000000,150.000000,2.791700,225000.000000\n",
            "-117.070000,33.670000,11.000000,939.000000,187.000000,557.000000,190.000000,2.375000,145800.000000\n",
            "-122.390000,37.590000,32.000000,4497.000000,730.000000,1846.000000,715.000000,6.132300,500001.000000\n",
            "-118.440000,34.050000,32.000000,1880.000000,435.000000,798.000000,417.000000,4.710900,500000.000000\n",
            "-121.350000,38.040000,5.000000,4303.000000,613.000000,2206.000000,621.000000,5.584200,159100.000000\n",
            "-122.420000,37.760000,52.000000,4407.000000,1192.000000,2280.000000,1076.000000,3.393700,270000.000000\n",
            "-118.020000,33.940000,33.000000,2382.000000,404.000000,1339.000000,389.000000,5.301600,192200.000000\n",
            "-121.320000,38.030000,16.000000,4045.000000,623.000000,1862.000000,625.000000,4.875000,143100.000000\n",
            "-118.380000,34.050000,49.000000,702.000000,143.000000,458.000000,187.000000,4.895800,333600.000000\n",
            "-119.290000,36.540000,18.000000,2581.000000,628.000000,2732.000000,592.000000,1.842900,58300.000000\n",
            "-117.760000,33.540000,28.000000,2250.000000,329.000000,826.000000,323.000000,6.925700,466400.000000\n",
            "-122.290000,38.290000,52.000000,3217.000000,742.000000,1670.000000,671.000000,2.439800,163100.000000\n",
            "-117.800000,33.810000,14.000000,1206.000000,142.000000,572.000000,149.000000,8.847000,388700.000000\n",
            "-121.950000,37.350000,52.000000,2382.000000,523.000000,1096.000000,492.000000,4.265600,236100.000000\n",
            "-117.870000,33.990000,21.000000,2837.000000,515.000000,2031.000000,555.000000,4.927100,209700.000000\n",
            "-121.460000,38.560000,52.000000,907.000000,180.000000,479.000000,177.000000,2.212500,104000.000000\n",
            "-117.990000,34.080000,11.000000,2399.000000,527.000000,2307.000000,531.000000,3.562500,141000.000000\n",
            "-121.530000,38.500000,17.000000,3087.000000,477.000000,1365.000000,495.000000,6.466700,216800.000000\n",
            "-121.140000,37.520000,37.000000,1358.000000,231.000000,586.000000,214.000000,3.164500,170800.000000\n",
            "-118.290000,33.890000,35.000000,2810.000000,614.000000,1578.000000,601.000000,3.590000,200600.000000\n",
            "-117.100000,33.090000,5.000000,12045.000000,2162.000000,5640.000000,1997.000000,4.437500,353000.000000\n",
            "-123.200000,39.230000,26.000000,786.000000,168.000000,494.000000,161.000000,2.358300,105400.000000\n",
            "-117.120000,32.760000,26.000000,1221.000000,331.000000,620.000000,296.000000,2.482100,123600.000000\n",
            "-120.440000,34.960000,30.000000,1685.000000,315.000000,1290.000000,368.000000,3.472200,112500.000000\n",
            "-115.560000,32.780000,34.000000,2856.000000,555.000000,1627.000000,522.000000,3.208300,76200.000000\n",
            "-121.470000,38.560000,51.000000,2083.000000,559.000000,874.000000,524.000000,2.022100,95800.000000\n",
            "-121.680000,37.930000,44.000000,1014.000000,225.000000,704.000000,238.000000,1.655400,119400.000000\n",
            "-118.100000,34.140000,26.000000,6262.000000,1645.000000,3001.000000,1505.000000,3.657200,213200.000000\n",
            "-118.430000,34.220000,34.000000,1588.000000,360.000000,1080.000000,340.000000,3.660000,184600.000000\n",
            "-120.970000,37.660000,19.000000,1974.000000,393.000000,799.000000,377.000000,3.128600,137500.000000\n",
            "-119.340000,34.390000,27.000000,669.000000,131.000000,314.000000,106.000000,2.465900,231300.000000\n",
            "-118.500000,34.200000,34.000000,1617.000000,344.000000,938.000000,305.000000,3.915000,217700.000000\n",
            "-120.980000,38.670000,13.000000,3432.000000,516.000000,1286.000000,470.000000,5.584000,186600.000000\n",
            "-118.350000,34.000000,28.000000,3085.000000,621.000000,1162.000000,558.000000,3.250000,301000.000000\n",
            "-122.490000,38.220000,33.000000,1486.000000,290.000000,781.000000,274.000000,3.564700,251800.000000\n",
            "-118.320000,33.970000,46.000000,1504.000000,270.000000,814.000000,306.000000,4.391900,157100.000000\n",
            "-117.130000,32.690000,36.000000,1469.000000,400.000000,1271.000000,340.000000,1.043000,90100.000000\n",
            "-117.030000,33.000000,6.000000,6139.000000,793.000000,2693.000000,770.000000,7.756900,387400.000000\n",
            "-122.260000,38.020000,5.000000,3846.000000,786.000000,2053.000000,716.000000,5.047300,184800.000000\n",
            "-117.270000,32.850000,26.000000,1373.000000,336.000000,608.000000,268.000000,4.425000,475000.000000\n",
            "-117.940000,33.860000,36.000000,2824.000000,493.000000,1394.000000,507.000000,4.647700,194700.000000\n",
            "-119.310000,34.700000,19.000000,961.000000,218.000000,479.000000,138.000000,3.343800,156300.000000\n",
            "-122.100000,37.610000,35.000000,2361.000000,458.000000,1727.000000,467.000000,4.528100,173600.000000\n",
            "-118.000000,33.900000,35.000000,1942.000000,332.000000,1127.000000,325.000000,4.514400,206300.000000\n",
            "-117.370000,33.980000,43.000000,2862.000000,772.000000,1878.000000,675.000000,2.115100,96700.000000\n",
            "-121.520000,38.650000,17.000000,1269.000000,233.000000,494.000000,231.000000,3.961500,331300.000000\n",
            "-118.460000,34.070000,42.000000,2564.000000,460.000000,913.000000,414.000000,9.222500,500001.000000\n",
            "-118.040000,34.070000,39.000000,1382.000000,315.000000,1090.000000,308.000000,3.812500,174000.000000\n",
            "-118.080000,33.880000,27.000000,923.000000,186.000000,1014.000000,204.000000,3.825000,159500.000000\n",
            "-122.430000,37.800000,52.000000,2788.000000,813.000000,1302.000000,764.000000,4.199000,400000.000000\n",
            "-119.290000,34.370000,41.000000,1408.000000,311.000000,793.000000,264.000000,2.544100,161200.000000\n",
            "-122.040000,37.000000,52.000000,3365.000000,644.000000,796.000000,333.000000,2.971200,116600.000000\n",
            "-115.570000,32.790000,50.000000,1291.000000,277.000000,864.000000,274.000000,1.666700,68100.000000\n",
            "-117.560000,34.420000,6.000000,4264.000000,749.000000,2005.000000,666.000000,3.469500,138800.000000\n",
            "-120.630000,38.680000,14.000000,1821.000000,316.000000,769.000000,266.000000,3.078900,131700.000000\n",
            "-118.320000,34.090000,44.000000,2666.000000,830.000000,2297.000000,726.000000,1.676000,208800.000000\n",
            "-118.350000,34.080000,52.000000,1710.000000,350.000000,727.000000,355.000000,4.583300,333900.000000\n",
            "-122.270000,37.510000,36.000000,1406.000000,224.000000,598.000000,237.000000,5.896400,414800.000000\n",
            "-119.060000,35.330000,14.000000,5264.000000,1064.000000,3278.000000,1049.000000,3.811700,82800.000000\n",
            "-117.150000,32.900000,12.000000,1681.000000,381.000000,1050.000000,362.000000,4.200800,176100.000000\n",
            "-122.470000,37.760000,39.000000,3200.000000,689.000000,1391.000000,618.000000,3.634600,338000.000000\n",
            "-122.030000,37.310000,19.000000,2885.000000,859.000000,1520.000000,784.000000,3.375000,275700.000000\n",
            "-119.310000,36.320000,23.000000,2945.000000,592.000000,1419.000000,532.000000,2.573300,88800.000000\n",
            "-120.580000,38.770000,15.000000,2155.000000,394.000000,857.000000,356.000000,4.030000,141200.000000\n",
            "-117.210000,34.490000,14.000000,2125.000000,348.000000,1067.000000,360.000000,3.633300,116200.000000\n",
            "-122.080000,37.650000,35.000000,1813.000000,393.000000,1093.000000,374.000000,3.681800,165400.000000\n",
            "-122.250000,40.150000,15.000000,1677.000000,346.000000,858.000000,327.000000,2.437500,59200.000000\n",
            "-118.210000,34.140000,44.000000,1681.000000,407.000000,1105.000000,387.000000,3.222200,186500.000000\n",
            "-122.140000,37.730000,51.000000,2619.000000,403.000000,922.000000,393.000000,4.604200,251900.000000\n",
            "-121.590000,39.770000,24.000000,1535.000000,276.000000,664.000000,273.000000,2.306800,97300.000000\n",
            "-122.190000,37.470000,44.000000,1371.000000,263.000000,589.000000,301.000000,4.806800,312300.000000\n",
            "-120.440000,34.950000,38.000000,3004.000000,794.000000,2601.000000,747.000000,2.274300,106400.000000\n",
            "-121.780000,37.310000,7.000000,1973.000000,328.000000,1047.000000,303.000000,6.234000,292200.000000\n",
            "-118.240000,34.200000,41.000000,2067.000000,452.000000,1282.000000,455.000000,5.575600,309900.000000\n",
            "-121.570000,39.160000,33.000000,2033.000000,375.000000,914.000000,330.000000,2.696400,68500.000000\n",
            "-119.840000,36.830000,17.000000,2273.000000,298.000000,700.000000,263.000000,6.864500,195900.000000\n",
            "-119.290000,34.440000,34.000000,4314.000000,878.000000,2361.000000,831.000000,3.227900,243100.000000\n",
            "-118.140000,34.180000,52.000000,1700.000000,317.000000,996.000000,329.000000,3.968800,175000.000000\n",
            "-119.570000,36.100000,37.000000,1676.000000,316.000000,707.000000,274.000000,2.059500,60700.000000\n",
            "-121.800000,37.320000,23.000000,1829.000000,346.000000,1277.000000,324.000000,4.809200,217400.000000\n",
            "-118.130000,34.160000,52.000000,1596.000000,314.000000,1024.000000,292.000000,3.671900,227900.000000\n",
            "-121.900000,37.460000,29.000000,2385.000000,513.000000,1788.000000,510.000000,3.842100,220700.000000\n",
            "-121.920000,37.330000,52.000000,2962.000000,557.000000,1215.000000,506.000000,4.776800,301100.000000\n",
            "-123.100000,39.360000,19.000000,1056.000000,248.000000,611.000000,226.000000,1.746000,105000.000000\n",
            "-122.860000,40.560000,12.000000,1350.000000,300.000000,423.000000,172.000000,1.739300,81300.000000\n",
            "-122.440000,37.750000,52.000000,3114.000000,637.000000,1144.000000,591.000000,4.000000,375000.000000\n",
            "-120.620000,35.120000,22.000000,1240.000000,294.000000,768.000000,288.000000,2.655000,160000.000000\n",
            "-118.360000,33.880000,22.000000,1388.000000,336.000000,930.000000,287.000000,2.798100,275000.000000\n",
            "-118.360000,33.820000,26.000000,5166.000000,1313.000000,2738.000000,1239.000000,3.356500,360800.000000\n",
            "-118.270000,33.770000,39.000000,1731.000000,485.000000,2115.000000,478.000000,1.536900,141300.000000\n",
            "-122.280000,37.900000,52.000000,2003.000000,250.000000,658.000000,244.000000,10.082500,397000.000000\n",
            "-117.980000,33.660000,26.000000,3527.000000,547.000000,1615.000000,542.000000,6.162400,279400.000000\n",
            "-118.210000,33.930000,39.000000,354.000000,73.000000,184.000000,58.000000,2.767900,108900.000000\n",
            "-120.430000,37.350000,15.000000,1613.000000,203.000000,673.000000,213.000000,5.937800,212200.000000\n",
            "-120.960000,37.480000,32.000000,1256.000000,212.000000,682.000000,236.000000,2.984400,135900.000000\n",
            "-117.330000,34.120000,33.000000,933.000000,219.000000,838.000000,211.000000,1.341700,69000.000000\n",
            "-119.810000,36.780000,36.000000,1650.000000,313.000000,660.000000,298.000000,3.000000,79700.000000\n",
            "-118.380000,34.050000,35.000000,3517.000000,879.000000,1632.000000,784.000000,3.095600,500001.000000\n",
            "-117.960000,33.800000,33.000000,1984.000000,420.000000,1119.000000,387.000000,3.482100,231300.000000\n",
            "-118.430000,34.240000,37.000000,1279.000000,241.000000,987.000000,233.000000,4.005700,172700.000000\n",
            "-117.870000,33.790000,25.000000,2546.000000,545.000000,1543.000000,521.000000,4.192000,219900.000000\n",
            "-124.180000,40.790000,40.000000,1398.000000,311.000000,788.000000,279.000000,1.466800,64600.000000\n",
            "-117.240000,32.830000,18.000000,3109.000000,501.000000,949.000000,368.000000,7.435100,445700.000000\n",
            "-121.570000,37.000000,18.000000,7241.000000,1225.000000,4168.000000,1138.000000,4.571400,260300.000000\n",
            "-117.370000,33.190000,38.000000,861.000000,213.000000,486.000000,204.000000,4.187500,185000.000000\n",
            "-121.890000,37.460000,5.000000,1519.000000,186.000000,705.000000,186.000000,10.379800,500001.000000\n",
            "-122.680000,38.010000,41.000000,1865.000000,392.000000,825.000000,369.000000,4.201100,255400.000000\n",
            "-118.310000,34.020000,46.000000,2217.000000,489.000000,1227.000000,448.000000,1.685100,108800.000000\n",
            "-118.290000,33.890000,33.000000,2138.000000,567.000000,1072.000000,528.000000,2.742800,208900.000000\n",
            "-117.300000,34.120000,43.000000,1018.000000,261.000000,736.000000,215.000000,2.600000,66900.000000\n",
            "-117.300000,33.850000,15.000000,3991.000000,751.000000,2317.000000,657.000000,2.954200,127900.000000\n",
            "-117.350000,33.160000,22.000000,1331.000000,305.000000,580.000000,193.000000,3.975000,500001.000000\n",
            "-122.430000,37.760000,52.000000,2242.000000,459.000000,751.000000,464.000000,4.750000,500001.000000\n",
            "-119.010000,35.390000,29.000000,1820.000000,459.000000,1134.000000,419.000000,1.828900,59400.000000\n",
            "-121.570000,37.010000,44.000000,1448.000000,393.000000,1066.000000,357.000000,2.062500,170300.000000\n",
            "-122.420000,37.650000,39.000000,4402.000000,894.000000,2941.000000,887.000000,3.856500,239800.000000\n",
            "-122.430000,37.780000,49.000000,2246.000000,587.000000,1277.000000,546.000000,2.979200,350000.000000\n",
            "-118.130000,33.900000,36.000000,1477.000000,305.000000,788.000000,291.000000,3.625000,195800.000000\n",
            "-118.060000,33.820000,25.000000,2637.000000,462.000000,965.000000,415.000000,4.583300,190900.000000\n",
            "-119.220000,34.340000,29.000000,3128.000000,672.000000,1815.000000,648.000000,2.982100,175700.000000\n",
            "-121.510000,38.550000,46.000000,1485.000000,278.000000,531.000000,291.000000,2.788500,137200.000000\n",
            "-121.420000,38.500000,24.000000,7740.000000,1539.000000,4333.000000,1397.000000,3.025000,87900.000000\n",
            "-122.260000,37.850000,52.000000,2202.000000,434.000000,910.000000,402.000000,3.203100,281500.000000\n",
            "-118.400000,33.870000,26.000000,6712.000000,1441.000000,2803.000000,1394.000000,5.227600,434500.000000\n",
            "-118.380000,33.890000,35.000000,1778.000000,330.000000,732.000000,312.000000,6.574500,379300.000000\n",
            "-119.950000,36.960000,18.000000,1996.000000,379.000000,1327.000000,356.000000,2.608700,96000.000000\n",
            "-118.120000,34.020000,32.000000,1789.000000,528.000000,1429.000000,517.000000,1.890600,224500.000000\n",
            "-117.900000,36.950000,19.000000,99.000000,26.000000,51.000000,22.000000,1.729200,137500.000000\n",
            "-116.280000,32.840000,18.000000,382.000000,128.000000,194.000000,69.000000,2.517900,58800.000000\n",
            "-122.450000,37.770000,52.000000,1722.000000,465.000000,885.000000,437.000000,3.090600,500001.000000\n",
            "-121.620000,39.760000,14.000000,2063.000000,559.000000,934.000000,529.000000,1.778800,85800.000000\n",
            "-122.000000,38.350000,24.000000,745.000000,116.000000,300.000000,115.000000,3.617600,158500.000000\n",
            "-121.710000,39.250000,37.000000,1871.000000,321.000000,806.000000,294.000000,4.000000,101400.000000\n",
            "-119.190000,34.220000,26.000000,3175.000000,736.000000,2460.000000,775.000000,3.125000,219900.000000\n",
            "-118.060000,33.910000,21.000000,2863.000000,701.000000,1489.000000,621.000000,3.203100,180700.000000\n",
            "-118.000000,33.930000,35.000000,1288.000000,240.000000,758.000000,250.000000,4.920500,173900.000000\n",
            "-118.260000,34.110000,47.000000,2183.000000,510.000000,1445.000000,503.000000,3.666700,210900.000000\n",
            "-118.510000,34.260000,29.000000,2472.000000,354.000000,1109.000000,397.000000,5.543300,332500.000000\n",
            "-117.960000,33.980000,25.000000,1259.000000,184.000000,599.000000,170.000000,5.740700,302200.000000\n",
            "-123.390000,38.990000,28.000000,1416.000000,294.000000,812.000000,258.000000,3.406300,109400.000000\n",
            "-121.690000,38.160000,33.000000,1808.000000,363.000000,824.000000,340.000000,3.293700,96400.000000\n",
            "-121.930000,37.320000,51.000000,2711.000000,728.000000,1607.000000,724.000000,3.000000,184700.000000\n",
            "-117.260000,33.260000,9.000000,4609.000000,798.000000,2582.000000,746.000000,4.342900,173900.000000\n",
            "-121.410000,38.530000,37.000000,1058.000000,224.000000,588.000000,231.000000,2.973700,72100.000000\n",
            "-117.900000,33.900000,18.000000,3821.000000,576.000000,1430.000000,568.000000,6.939900,349600.000000\n",
            "-118.540000,36.120000,11.000000,4103.000000,882.000000,356.000000,171.000000,2.102900,99100.000000\n",
            "-117.240000,32.820000,20.000000,2467.000000,332.000000,731.000000,335.000000,7.255900,392300.000000\n",
            "-121.900000,37.240000,24.000000,7521.000000,1364.000000,3970.000000,1318.000000,4.400400,255800.000000\n",
            "-118.170000,33.870000,49.000000,1937.000000,445.000000,1339.000000,440.000000,3.031900,162800.000000\n",
            "-117.310000,33.160000,4.000000,5846.000000,894.000000,2282.000000,801.000000,5.595600,247800.000000\n",
            "-118.410000,34.170000,35.000000,2027.000000,428.000000,879.000000,402.000000,4.692000,330900.000000\n",
            "-118.380000,34.220000,32.000000,362.000000,100.000000,348.000000,102.000000,2.267900,150000.000000\n",
            "-117.160000,33.730000,10.000000,2381.000000,454.000000,1323.000000,477.000000,2.632200,140700.000000\n",
            "-119.710000,34.400000,27.000000,3782.000000,771.000000,1742.000000,751.000000,4.045100,395100.000000\n",
            "-117.360000,33.200000,26.000000,2447.000000,482.000000,1405.000000,486.000000,3.291700,150800.000000\n",
            "-118.210000,33.800000,41.000000,1251.000000,279.000000,1053.000000,278.000000,3.277800,150800.000000\n",
            "-120.930000,39.900000,20.000000,1511.000000,328.000000,791.000000,320.000000,2.022100,70900.000000\n",
            "-118.130000,33.840000,48.000000,1895.000000,294.000000,881.000000,293.000000,6.336400,307400.000000\n",
            "-118.270000,33.930000,41.000000,570.000000,135.000000,466.000000,121.000000,2.645800,91300.000000\n",
            "-118.050000,33.780000,25.000000,2356.000000,330.000000,937.000000,326.000000,6.626400,359100.000000\n",
            "-118.430000,34.270000,36.000000,1002.000000,250.000000,1312.000000,249.000000,3.024000,148000.000000\n",
            "-118.370000,33.910000,35.000000,1742.000000,283.000000,812.000000,282.000000,5.670400,303700.000000\n",
            "-122.500000,37.750000,46.000000,2298.000000,457.000000,1429.000000,477.000000,4.021700,272400.000000\n",
            "-118.300000,34.010000,52.000000,1908.000000,428.000000,1271.000000,394.000000,2.588500,136200.000000\n",
            "-119.160000,34.150000,23.000000,3204.000000,644.000000,2295.000000,614.000000,3.948500,196600.000000\n",
            "-117.040000,32.680000,14.000000,1320.000000,270.000000,943.000000,260.000000,5.094700,152700.000000\n",
            "-121.400000,38.610000,37.000000,1994.000000,347.000000,782.000000,355.000000,4.148800,136400.000000\n",
            "-118.030000,33.930000,35.000000,2470.000000,416.000000,1386.000000,411.000000,5.273600,179500.000000\n",
            "-119.890000,34.440000,25.000000,2786.000000,470.000000,1669.000000,462.000000,5.518400,268300.000000\n",
            "-120.880000,38.580000,8.000000,3417.000000,604.000000,1703.000000,623.000000,4.082700,170700.000000\n",
            "-118.210000,33.790000,32.000000,2020.000000,613.000000,2557.000000,562.000000,2.139700,145300.000000\n",
            "-121.460000,38.570000,52.000000,1625.000000,419.000000,614.000000,383.000000,2.054900,156700.000000\n",
            "-122.020000,37.310000,34.000000,2629.000000,433.000000,1301.000000,431.000000,6.083000,341400.000000\n",
            "-118.500000,34.160000,34.000000,3547.000000,523.000000,1187.000000,500.000000,7.139000,424000.000000\n",
            "-121.320000,38.660000,26.000000,1149.000000,193.000000,500.000000,194.000000,5.078000,163400.000000\n",
            "-118.090000,33.890000,42.000000,991.000000,215.000000,717.000000,219.000000,4.092600,164400.000000\n",
            "-118.390000,33.820000,30.000000,3433.000000,918.000000,1526.000000,828.000000,4.581700,500001.000000\n",
            "-118.000000,33.960000,37.000000,2414.000000,323.000000,878.000000,305.000000,9.154100,453800.000000\n",
            "-117.260000,33.190000,4.000000,2342.000000,595.000000,1518.000000,545.000000,2.946900,216100.000000\n",
            "-122.470000,37.870000,36.000000,4471.000000,618.000000,1315.000000,582.000000,11.570600,500001.000000\n",
            "-117.060000,32.710000,25.000000,2681.000000,596.000000,1947.000000,553.000000,2.896400,104300.000000\n",
            "-117.440000,33.930000,33.000000,1371.000000,236.000000,715.000000,227.000000,4.375000,129900.000000\n",
            "-118.120000,33.990000,26.000000,2296.000000,534.000000,1777.000000,507.000000,2.539500,191000.000000\n",
            "-118.150000,34.180000,46.000000,2230.000000,488.000000,1985.000000,456.000000,2.232800,142100.000000\n",
            "-120.430000,34.690000,33.000000,2054.000000,373.000000,1067.000000,358.000000,3.602300,128300.000000\n",
            "-120.840000,37.530000,14.000000,3643.000000,706.000000,2070.000000,697.000000,3.152300,141800.000000\n",
            "-122.070000,37.130000,26.000000,1127.000000,199.000000,543.000000,199.000000,4.979200,240000.000000\n",
            "-118.410000,33.960000,32.000000,1044.000000,219.000000,567.000000,222.000000,4.147100,284400.000000\n",
            "-121.510000,38.790000,29.000000,1716.000000,323.000000,850.000000,282.000000,2.932400,137500.000000\n",
            "-117.330000,33.190000,15.000000,3672.000000,845.000000,1827.000000,796.000000,2.971600,173600.000000\n",
            "-116.540000,33.870000,16.000000,3648.000000,1035.000000,1687.000000,581.000000,1.916700,70400.000000\n",
            "-118.500000,34.200000,18.000000,4249.000000,933.000000,2047.000000,909.000000,4.130400,229100.000000\n",
            "-118.300000,33.750000,23.000000,1957.000000,517.000000,1454.000000,526.000000,3.505600,203100.000000\n",
            "-117.990000,33.730000,24.000000,2104.000000,421.000000,1181.000000,414.000000,3.836500,250900.000000\n",
            "-118.110000,33.890000,34.000000,2508.000000,594.000000,1549.000000,545.000000,3.206900,236500.000000\n",
            "-122.730000,38.430000,29.000000,2677.000000,691.000000,1880.000000,664.000000,2.186400,143200.000000\n",
            "-119.640000,36.340000,32.000000,2958.000000,670.000000,1504.000000,627.000000,1.860600,56700.000000\n",
            "-116.870000,34.240000,15.000000,4419.000000,822.000000,622.000000,267.000000,3.968800,182800.000000\n",
            "-118.220000,33.980000,34.000000,2283.000000,809.000000,3032.000000,832.000000,2.438700,175000.000000\n",
            "-122.340000,37.970000,19.000000,392.000000,109.000000,287.000000,81.000000,6.042600,110000.000000\n",
            "-118.080000,33.820000,26.000000,4259.000000,588.000000,1644.000000,581.000000,6.251900,345700.000000\n",
            "-117.700000,33.480000,6.000000,16590.000000,2696.000000,6223.000000,2357.000000,6.308800,340300.000000\n",
            "-118.220000,33.880000,37.000000,1149.000000,280.000000,1016.000000,250.000000,2.125000,101900.000000\n",
            "-120.970000,38.910000,7.000000,4341.000000,716.000000,1978.000000,682.000000,4.831100,172200.000000\n",
            "-122.250000,37.800000,29.000000,2468.000000,864.000000,1335.000000,773.000000,1.392900,193800.000000\n",
            "-118.410000,33.880000,40.000000,925.000000,254.000000,371.000000,227.000000,5.253300,500001.000000\n",
            "-117.040000,32.690000,27.000000,1790.000000,356.000000,1286.000000,347.000000,3.543700,115800.000000\n",
            "-122.410000,38.160000,37.000000,1549.000000,301.000000,863.000000,275.000000,2.745700,254700.000000\n",
            "-120.250000,37.930000,13.000000,493.000000,76.000000,196.000000,68.000000,3.375000,134100.000000\n",
            "-121.980000,38.390000,3.000000,9488.000000,1417.000000,4095.000000,1335.000000,5.178100,191900.000000\n",
            "-122.470000,37.720000,47.000000,1176.000000,286.000000,564.000000,258.000000,3.205900,350000.000000\n",
            "-118.180000,34.130000,39.000000,2902.000000,460.000000,1007.000000,420.000000,6.195300,363000.000000\n",
            "-118.090000,33.990000,35.000000,2787.000000,639.000000,1923.000000,614.000000,3.575700,177900.000000\n",
            "-121.940000,37.750000,16.000000,5121.000000,735.000000,2464.000000,761.000000,6.620400,296100.000000\n",
            "-117.070000,32.740000,38.000000,1901.000000,392.000000,1099.000000,406.000000,2.766100,113900.000000\n",
            "-118.140000,34.040000,40.000000,1966.000000,391.000000,1120.000000,362.000000,3.710900,198800.000000\n",
            "-122.410000,37.810000,25.000000,1178.000000,545.000000,592.000000,441.000000,3.672800,500001.000000\n",
            "-117.710000,33.630000,16.000000,1641.000000,354.000000,945.000000,318.000000,3.426100,219700.000000\n",
            "-119.640000,34.430000,34.000000,3045.000000,570.000000,1002.000000,488.000000,5.623000,500001.000000\n",
            "-118.100000,33.980000,33.000000,1927.000000,482.000000,1623.000000,479.000000,3.526800,152000.000000\n",
            "-122.040000,37.390000,5.000000,8745.000000,2211.000000,3959.000000,2019.000000,4.768500,280100.000000\n",
            "-122.030000,37.180000,10.000000,212.000000,38.000000,78.000000,21.000000,6.062200,390000.000000\n",
            "-122.300000,37.560000,36.000000,1379.000000,228.000000,750.000000,227.000000,5.538100,282000.000000\n",
            "-117.360000,33.920000,7.000000,9376.000000,1181.000000,3570.000000,1107.000000,8.532600,315200.000000\n",
            "-121.380000,37.880000,44.000000,1158.000000,226.000000,1094.000000,224.000000,2.684200,156300.000000\n",
            "-119.980000,38.930000,28.000000,1194.000000,272.000000,494.000000,203.000000,2.328100,85800.000000\n",
            "-117.160000,32.710000,52.000000,845.000000,451.000000,1230.000000,375.000000,1.091800,22500.000000\n",
            "-122.360000,37.930000,17.000000,1258.000000,254.000000,885.000000,229.000000,3.050000,121600.000000\n",
            "-118.230000,34.170000,37.000000,4524.000000,1005.000000,2099.000000,937.000000,3.578100,366700.000000\n",
            "-118.470000,34.100000,32.000000,8041.000000,1141.000000,2768.000000,1106.000000,11.197800,500001.000000\n",
            "-124.140000,40.800000,32.000000,1373.000000,312.000000,872.000000,306.000000,2.500000,72600.000000\n",
            "-117.800000,33.550000,35.000000,2067.000000,428.000000,724.000000,377.000000,5.837100,500001.000000\n",
            "-118.020000,34.120000,38.000000,1778.000000,288.000000,870.000000,281.000000,6.578400,408500.000000\n",
            "-122.740000,38.480000,12.000000,4174.000000,670.000000,1882.000000,647.000000,4.551000,178300.000000\n",
            "-118.340000,33.830000,34.000000,1761.000000,329.000000,965.000000,329.000000,5.399000,358500.000000\n",
            "-120.680000,35.290000,37.000000,1354.000000,293.000000,753.000000,290.000000,3.250000,225000.000000\n",
            "-122.450000,37.640000,19.000000,6326.000000,1025.000000,3444.000000,984.000000,6.249800,353300.000000\n",
            "-122.040000,37.620000,35.000000,1032.000000,173.000000,453.000000,176.000000,6.396000,208500.000000\n",
            "-122.790000,38.540000,5.000000,3986.000000,737.000000,1887.000000,687.000000,3.776800,213800.000000\n",
            "-117.220000,32.860000,4.000000,16289.000000,4585.000000,7604.000000,4176.000000,3.628700,280800.000000\n",
            "-120.080000,39.610000,32.000000,1404.000000,247.000000,544.000000,201.000000,2.777800,72900.000000\n",
            "-118.360000,34.150000,41.000000,3545.000000,698.000000,1221.000000,651.000000,4.300000,500001.000000\n",
            "-121.360000,38.560000,17.000000,6225.000000,938.000000,3064.000000,947.000000,5.288100,138000.000000\n",
            "-122.320000,41.310000,45.000000,1393.000000,294.000000,521.000000,249.000000,1.191500,71900.000000\n",
            "-121.590000,39.750000,20.000000,908.000000,206.000000,481.000000,211.000000,2.200000,80800.000000\n",
            "-117.300000,34.150000,45.000000,942.000000,166.000000,401.000000,174.000000,3.859400,90800.000000\n",
            "-117.710000,33.650000,16.000000,3774.000000,456.000000,1587.000000,430.000000,8.608800,307400.000000\n",
            "-118.310000,34.260000,37.000000,1444.000000,246.000000,624.000000,239.000000,5.760000,239400.000000\n",
            "-122.040000,36.980000,51.000000,1076.000000,206.000000,495.000000,201.000000,2.928600,258300.000000\n",
            "-118.260000,34.240000,35.000000,1535.000000,283.000000,816.000000,287.000000,6.187300,312100.000000\n",
            "-118.280000,33.960000,39.000000,882.000000,221.000000,697.000000,189.000000,1.847200,99100.000000\n",
            "-123.500000,39.670000,22.000000,2124.000000,450.000000,1122.000000,446.000000,2.179300,71500.000000\n",
            "-117.190000,33.140000,12.000000,3652.000000,923.000000,1677.000000,728.000000,2.326700,92000.000000\n",
            "-121.120000,38.860000,17.000000,3949.000000,717.000000,1683.000000,686.000000,3.380200,216500.000000\n",
            "-118.410000,34.210000,35.000000,2215.000000,459.000000,1594.000000,446.000000,4.016700,193200.000000\n",
            "-116.540000,33.820000,12.000000,9482.000000,2501.000000,2725.000000,1300.000000,1.559500,115600.000000\n",
            "-121.610000,39.760000,31.000000,2431.000000,512.000000,1026.000000,427.000000,2.542800,85000.000000\n",
            "-121.990000,37.920000,14.000000,1780.000000,224.000000,764.000000,226.000000,9.024300,427700.000000\n",
            "-122.060000,37.540000,20.000000,6483.000000,1068.000000,3526.000000,1060.000000,5.083800,248200.000000\n",
            "-122.080000,37.720000,32.000000,2476.000000,368.000000,1048.000000,367.000000,5.619400,274700.000000\n",
            "-118.930000,36.100000,19.000000,2988.000000,681.000000,1654.000000,576.000000,2.379200,90000.000000\n",
            "-122.780000,38.970000,11.000000,5175.000000,971.000000,2144.000000,792.000000,3.046600,97300.000000\n",
            "-121.220000,37.970000,37.000000,1514.000000,337.000000,1121.000000,337.000000,2.401000,58400.000000\n",
            "-121.470000,38.610000,35.000000,1372.000000,360.000000,850.000000,328.000000,1.633100,67500.000000\n",
            "-122.310000,37.540000,49.000000,1340.000000,281.000000,660.000000,284.000000,4.163000,393800.000000\n",
            "-122.000000,37.300000,29.000000,3429.000000,524.000000,1518.000000,520.000000,7.218000,400700.000000\n",
            "-122.410000,37.800000,52.000000,812.000000,252.000000,629.000000,247.000000,2.587500,500001.000000\n",
            "-118.290000,34.050000,34.000000,1102.000000,448.000000,1325.000000,439.000000,1.597200,168800.000000\n",
            "-118.610000,34.150000,32.000000,4491.000000,815.000000,1696.000000,749.000000,4.910200,319100.000000\n",
            "-116.480000,33.840000,5.000000,5480.000000,1371.000000,1050.000000,485.000000,1.720400,137500.000000\n",
            "-118.260000,33.780000,27.000000,1672.000000,491.000000,1723.000000,462.000000,2.045800,174500.000000\n",
            "-117.340000,34.510000,6.000000,5667.000000,1385.000000,2447.000000,1199.000000,2.361700,103100.000000\n",
            "-122.460000,37.670000,16.000000,3372.000000,1101.000000,2049.000000,1021.000000,4.130300,146500.000000\n",
            "-118.350000,34.110000,33.000000,7478.000000,1678.000000,2701.000000,1500.000000,4.171700,500001.000000\n",
            "-117.300000,34.100000,44.000000,589.000000,130.000000,504.000000,137.000000,1.775000,63400.000000\n",
            "-118.440000,34.150000,44.000000,1778.000000,251.000000,641.000000,251.000000,10.054900,500001.000000\n",
            "-118.630000,34.180000,32.000000,1646.000000,242.000000,697.000000,233.000000,6.668900,433000.000000\n",
            "-117.950000,33.760000,24.000000,3956.000000,812.000000,3196.000000,795.000000,4.351200,191400.000000\n",
            "-122.250000,37.450000,34.000000,2999.000000,365.000000,927.000000,369.000000,10.281100,500001.000000\n",
            "-117.590000,33.650000,4.000000,1793.000000,390.000000,897.000000,386.000000,4.246300,182800.000000\n",
            "-114.490000,33.970000,17.000000,2809.000000,635.000000,83.000000,45.000000,1.615400,87500.000000\n",
            "-118.510000,34.200000,34.000000,2871.000000,581.000000,1350.000000,535.000000,3.704900,227500.000000\n",
            "-122.030000,38.010000,27.000000,3228.000000,562.000000,1666.000000,588.000000,4.570700,175900.000000\n",
            "-118.430000,33.990000,45.000000,2092.000000,451.000000,1190.000000,429.000000,3.802100,323000.000000\n",
            "-122.510000,37.760000,43.000000,2345.000000,624.000000,1439.000000,614.000000,2.844800,268900.000000\n",
            "-119.550000,36.690000,21.000000,1551.000000,423.000000,1519.000000,406.000000,1.713200,55900.000000\n",
            "-122.240000,38.150000,10.000000,6817.000000,1188.000000,4163.000000,1135.000000,4.452900,144100.000000\n",
            "-117.870000,34.020000,16.000000,3552.000000,575.000000,2120.000000,573.000000,6.433300,271500.000000\n",
            "-122.130000,37.700000,21.000000,4124.000000,1054.000000,2162.000000,998.000000,2.632100,223100.000000\n",
            "-121.330000,38.600000,25.000000,4260.000000,607.000000,1635.000000,640.000000,6.281700,288200.000000\n",
            "-121.910000,37.470000,13.000000,5377.000000,744.000000,2759.000000,760.000000,6.868000,337300.000000\n",
            "-118.530000,34.040000,45.000000,1711.000000,264.000000,735.000000,261.000000,9.107800,500001.000000\n",
            "-121.330000,38.000000,32.000000,4474.000000,929.000000,2177.000000,884.000000,3.288900,98900.000000\n",
            "-117.850000,34.060000,24.000000,3128.000000,497.000000,1406.000000,472.000000,7.528600,462700.000000\n",
            "-118.430000,35.120000,8.000000,1968.000000,376.000000,930.000000,360.000000,3.263200,99800.000000\n",
            "-118.070000,33.970000,36.000000,1265.000000,273.000000,1052.000000,253.000000,4.892900,156200.000000\n",
            "-117.160000,32.780000,34.000000,2515.000000,488.000000,1594.000000,515.000000,3.738100,165000.000000\n",
            "-116.290000,34.180000,15.000000,4203.000000,966.000000,1756.000000,695.000000,2.182000,60800.000000\n",
            "-120.660000,35.290000,16.000000,2272.000000,629.000000,1689.000000,649.000000,1.703100,195000.000000\n",
            "-119.790000,36.770000,30.000000,1610.000000,410.000000,1000.000000,397.000000,2.035700,60200.000000\n",
            "-122.140000,37.750000,33.000000,1334.000000,200.000000,579.000000,202.000000,6.832300,255900.000000\n",
            "-122.320000,37.970000,33.000000,1595.000000,292.000000,991.000000,300.000000,4.693700,134100.000000\n",
            "-119.800000,36.830000,17.000000,1560.000000,261.000000,709.000000,258.000000,4.331500,95800.000000\n",
            "-117.330000,33.160000,29.000000,3559.000000,552.000000,1533.000000,545.000000,4.058500,245500.000000\n",
            "-121.860000,37.230000,24.000000,4337.000000,670.000000,1936.000000,652.000000,5.890400,271400.000000\n",
            "-122.240000,37.810000,52.000000,2093.000000,550.000000,918.000000,483.000000,2.747700,243800.000000\n",
            "-120.850000,37.770000,10.000000,423.000000,110.000000,295.000000,94.000000,1.358300,85200.000000\n",
            "-116.950000,33.790000,20.000000,2399.000000,546.000000,1726.000000,542.000000,1.884500,77700.000000\n",
            "-117.220000,33.220000,16.000000,2134.000000,643.000000,1555.000000,560.000000,1.721700,175000.000000\n",
            "-122.230000,40.170000,21.000000,1401.000000,331.000000,651.000000,299.000000,2.225000,64700.000000\n",
            "-118.450000,34.030000,41.000000,2083.000000,528.000000,993.000000,481.000000,4.023100,353900.000000\n",
            "-118.990000,35.270000,32.000000,444.000000,102.000000,242.000000,87.000000,1.152800,150000.000000\n",
            "-117.580000,33.870000,34.000000,1511.000000,272.000000,773.000000,265.000000,3.531300,142100.000000\n",
            "-118.650000,36.570000,20.000000,1431.000000,416.000000,570.000000,225.000000,1.482100,143300.000000\n",
            "-121.400000,38.660000,50.000000,880.000000,150.000000,1148.000000,148.000000,2.506200,112500.000000\n",
            "-119.460000,35.860000,22.000000,1750.000000,374.000000,1113.000000,338.000000,1.505000,42700.000000\n",
            "-118.220000,33.980000,32.000000,2643.000000,737.000000,2784.000000,711.000000,2.535200,184400.000000\n",
            "-118.380000,33.820000,35.000000,3053.000000,623.000000,1311.000000,589.000000,5.158900,439200.000000\n",
            "-117.770000,33.690000,16.000000,1666.000000,341.000000,479.000000,336.000000,2.140600,55000.000000\n",
            "-118.460000,34.180000,35.000000,1819.000000,465.000000,1336.000000,419.000000,3.458300,253200.000000\n",
            "-122.420000,37.790000,6.000000,670.000000,301.000000,655.000000,284.000000,3.442300,117500.000000\n",
            "-118.310000,33.770000,20.000000,5776.000000,956.000000,2757.000000,936.000000,6.644700,416800.000000\n",
            "-121.670000,37.130000,19.000000,3269.000000,483.000000,1383.000000,452.000000,5.620500,300800.000000\n",
            "-121.330000,38.570000,17.000000,1621.000000,350.000000,706.000000,338.000000,2.368400,150000.000000\n",
            "-120.830000,37.520000,6.000000,1488.000000,252.000000,773.000000,259.000000,4.185900,150000.000000\n",
            "-118.120000,33.990000,27.000000,2316.000000,559.000000,2012.000000,544.000000,2.815500,176800.000000\n",
            "-118.110000,34.070000,39.000000,1270.000000,299.000000,1073.000000,278.000000,3.308800,186600.000000\n",
            "-122.670000,38.240000,29.000000,2644.000000,464.000000,1372.000000,450.000000,5.054400,261800.000000\n",
            "-117.290000,34.090000,24.000000,1451.000000,387.000000,1178.000000,330.000000,1.180600,68300.000000\n",
            "-121.800000,37.190000,45.000000,1797.000000,303.000000,870.000000,281.000000,4.541700,434500.000000\n",
            "-120.300000,37.970000,17.000000,3243.000000,619.000000,1408.000000,566.000000,2.474000,120100.000000\n",
            "-120.450000,34.650000,21.000000,1182.000000,243.000000,733.000000,251.000000,3.144200,131600.000000\n",
            "-119.290000,34.230000,22.000000,2486.000000,608.000000,709.000000,523.000000,2.901800,275000.000000\n",
            "-118.340000,34.020000,49.000000,1609.000000,371.000000,896.000000,389.000000,2.515600,136600.000000\n",
            "-117.940000,33.800000,23.000000,2757.000000,734.000000,1811.000000,707.000000,2.800000,214300.000000\n",
            "-116.850000,34.260000,19.000000,5395.000000,1220.000000,981.000000,366.000000,2.609400,92400.000000\n",
            "-117.890000,33.760000,34.000000,1050.000000,210.000000,723.000000,201.000000,4.800000,192700.000000\n",
            "-118.290000,34.030000,27.000000,1084.000000,287.000000,1085.000000,279.000000,2.135000,119600.000000\n",
            "-118.120000,34.060000,35.000000,1729.000000,438.000000,1308.000000,412.000000,2.532100,197200.000000\n",
            "-121.410000,38.600000,16.000000,5407.000000,1467.000000,2523.000000,1265.000000,2.047100,104200.000000\n",
            "-120.620000,35.130000,26.000000,3971.000000,803.000000,1792.000000,723.000000,2.712800,209900.000000\n",
            "-118.180000,33.800000,42.000000,2301.000000,621.000000,2114.000000,561.000000,2.057900,132700.000000\n",
            "-117.510000,34.160000,2.000000,718.000000,98.000000,119.000000,50.000000,4.100000,315000.000000\n",
            "-118.160000,34.030000,40.000000,2201.000000,636.000000,2682.000000,595.000000,2.359000,143400.000000\n",
            "-118.170000,34.110000,39.000000,1758.000000,436.000000,892.000000,447.000000,3.640600,278900.000000\n",
            "-117.690000,33.650000,15.000000,5394.000000,748.000000,2383.000000,706.000000,7.561900,302000.000000\n",
            "-122.200000,37.770000,41.000000,1547.000000,415.000000,1024.000000,341.000000,2.056200,102000.000000\n",
            "-121.330000,37.960000,42.000000,1619.000000,340.000000,906.000000,339.000000,2.548800,80300.000000\n",
            "-121.840000,38.130000,33.000000,596.000000,105.000000,212.000000,94.000000,4.281300,81300.000000\n",
            "-117.760000,34.050000,36.000000,2910.000000,819.000000,3055.000000,782.000000,1.902900,98000.000000\n",
            "-122.430000,37.790000,52.000000,3219.000000,969.000000,1152.000000,830.000000,4.204200,500001.000000\n",
            "-122.320000,37.570000,33.000000,3384.000000,819.000000,2626.000000,793.000000,3.228500,234800.000000\n",
            "-118.160000,34.070000,42.000000,3836.000000,777.000000,2118.000000,754.000000,3.636400,254600.000000\n",
            "-124.090000,40.950000,18.000000,2250.000000,484.000000,1248.000000,472.000000,2.589300,99600.000000\n",
            "-121.990000,38.350000,45.000000,1778.000000,339.000000,839.000000,319.000000,2.465900,102900.000000\n",
            "-122.720000,38.420000,26.000000,3604.000000,734.000000,2605.000000,704.000000,3.096900,143800.000000\n",
            "-122.110000,37.660000,29.000000,2544.000000,643.000000,2332.000000,603.000000,3.209100,150000.000000\n",
            "-121.840000,36.620000,26.000000,32.000000,8.000000,27.000000,10.000000,2.225000,150000.000000\n",
            "-118.180000,34.120000,29.000000,2640.000000,737.000000,1795.000000,655.000000,2.369000,173400.000000\n",
            "-122.450000,38.270000,25.000000,5024.000000,881.000000,1994.000000,838.000000,4.223700,262300.000000\n",
            "-117.910000,33.650000,17.000000,1328.000000,377.000000,762.000000,344.000000,2.222200,276800.000000\n",
            "-116.470000,33.770000,26.000000,4300.000000,767.000000,1557.000000,669.000000,4.410700,122500.000000\n",
            "-122.410000,37.730000,42.000000,2604.000000,573.000000,1703.000000,507.000000,3.423100,230200.000000\n",
            "-119.780000,36.800000,34.000000,2200.000000,493.000000,1243.000000,431.000000,1.851400,66500.000000\n",
            "-119.710000,34.360000,34.000000,1706.000000,276.000000,628.000000,243.000000,4.184200,364000.000000\n",
            "-118.360000,34.030000,40.000000,2323.000000,661.000000,1847.000000,614.000000,1.831600,113500.000000\n",
            "-121.890000,37.990000,4.000000,2171.000000,597.000000,928.000000,461.000000,4.101600,170500.000000\n",
            "-121.980000,37.330000,25.000000,3223.000000,612.000000,1529.000000,602.000000,5.121000,287600.000000\n",
            "-118.470000,34.250000,34.000000,1732.000000,399.000000,1120.000000,401.000000,4.149200,195700.000000\n",
            "-117.260000,32.990000,16.000000,2127.000000,512.000000,1532.000000,499.000000,2.734800,231300.000000\n",
            "-118.090000,34.070000,45.000000,726.000000,146.000000,568.000000,160.000000,3.034700,183200.000000\n",
            "-118.450000,37.250000,20.000000,1468.000000,283.000000,721.000000,270.000000,3.081700,118800.000000\n",
            "-117.780000,33.540000,29.000000,1421.000000,462.000000,520.000000,339.000000,2.296900,450000.000000\n",
            "-117.460000,33.900000,10.000000,9738.000000,2130.000000,4936.000000,1840.000000,3.318700,144800.000000\n",
            "-121.850000,39.740000,39.000000,1139.000000,265.000000,623.000000,264.000000,2.283300,85800.000000\n",
            "-117.290000,34.110000,48.000000,1498.000000,448.000000,1586.000000,455.000000,1.168700,70800.000000\n",
            "-121.200000,37.790000,36.000000,866.000000,160.000000,502.000000,149.000000,2.479800,101500.000000\n",
            "-118.430000,33.960000,20.000000,1901.000000,270.000000,704.000000,254.000000,8.781900,500001.000000\n",
            "-122.110000,37.400000,15.000000,255.000000,63.000000,138.000000,74.000000,4.659100,175000.000000\n",
            "-119.060000,36.080000,19.000000,2554.000000,443.000000,1301.000000,419.000000,4.185600,72100.000000\n",
            "-118.370000,33.880000,20.000000,2439.000000,474.000000,1219.000000,497.000000,5.961900,335900.000000\n",
            "-120.790000,38.430000,40.000000,1391.000000,246.000000,546.000000,214.000000,3.910700,129800.000000\n",
            "-122.200000,39.930000,9.000000,1296.000000,287.000000,768.000000,260.000000,1.919100,54400.000000\n",
            "-122.230000,37.760000,52.000000,1049.000000,185.000000,374.000000,176.000000,4.145800,248500.000000\n",
            "-121.990000,38.530000,6.000000,4598.000000,834.000000,2561.000000,812.000000,3.418600,127300.000000\n",
            "-118.460000,34.020000,39.000000,3599.000000,776.000000,1569.000000,763.000000,5.257100,405400.000000\n",
            "-115.600000,33.040000,31.000000,314.000000,61.000000,152.000000,56.000000,3.347200,91700.000000\n",
            "-117.220000,32.780000,22.000000,2020.000000,466.000000,1010.000000,429.000000,3.452700,175000.000000\n",
            "-118.630000,34.220000,18.000000,1376.000000,225.000000,670.000000,205.000000,6.514600,277600.000000\n",
            "-124.140000,40.720000,18.000000,2581.000000,499.000000,1375.000000,503.000000,2.844600,100500.000000\n",
            "-116.430000,33.780000,17.000000,4293.000000,712.000000,1091.000000,464.000000,6.143700,232100.000000\n",
            "-117.890000,33.730000,32.000000,728.000000,134.000000,837.000000,135.000000,4.076900,163900.000000\n",
            "-117.700000,33.530000,5.000000,6698.000000,1254.000000,2834.000000,1139.000000,5.908800,288500.000000\n",
            "-122.470000,37.850000,19.000000,1926.000000,593.000000,881.000000,546.000000,2.914500,140400.000000\n",
            "-120.630000,38.730000,11.000000,4577.000000,836.000000,1944.000000,700.000000,4.067500,140200.000000\n",
            "-118.590000,34.200000,18.000000,847.000000,185.000000,733.000000,178.000000,5.214900,201900.000000\n",
            "-118.360000,33.930000,40.000000,1625.000000,500.000000,2036.000000,476.000000,2.629800,156500.000000\n",
            "-118.410000,33.850000,16.000000,6123.000000,1989.000000,2853.000000,1789.000000,4.425000,336400.000000\n",
            "-117.190000,32.770000,16.000000,3273.000000,670.000000,1305.000000,671.000000,4.136800,151000.000000\n",
            "-117.780000,33.860000,16.000000,3471.000000,708.000000,1769.000000,691.000000,4.106400,246100.000000\n",
            "-121.860000,39.740000,13.000000,3494.000000,843.000000,1571.000000,784.000000,1.101900,120200.000000\n",
            "-119.040000,35.310000,11.000000,2161.000000,371.000000,1267.000000,388.000000,4.195700,92700.000000\n",
            "-118.260000,34.020000,40.000000,1259.000000,362.000000,1499.000000,327.000000,1.838200,126400.000000\n",
            "-117.250000,34.490000,4.000000,2372.000000,361.000000,1017.000000,322.000000,5.111200,170900.000000\n",
            "-120.040000,39.270000,24.000000,2237.000000,491.000000,264.000000,95.000000,4.136400,154500.000000\n",
            "-121.420000,38.540000,29.000000,2358.000000,493.000000,1071.000000,470.000000,2.925000,94300.000000\n",
            "-118.150000,34.200000,46.000000,1505.000000,261.000000,857.000000,269.000000,4.500000,184200.000000\n",
            "-118.080000,33.880000,26.000000,1507.000000,270.000000,931.000000,275.000000,5.164500,244900.000000\n",
            "-122.430000,37.800000,52.000000,2696.000000,572.000000,925.000000,552.000000,5.036500,500000.000000\n",
            "-115.490000,32.670000,24.000000,1266.000000,275.000000,1083.000000,298.000000,1.482800,73100.000000\n",
            "-120.980000,38.340000,27.000000,3471.000000,653.000000,1793.000000,600.000000,3.550800,99100.000000\n",
            "-116.140000,34.450000,12.000000,8796.000000,1721.000000,11139.000000,1680.000000,2.261200,137500.000000\n",
            "-117.110000,32.730000,27.000000,3160.000000,627.000000,1628.000000,612.000000,3.886400,132600.000000\n",
            "-118.470000,34.000000,38.000000,1235.000000,390.000000,891.000000,376.000000,2.714300,287500.000000\n",
            "-121.420000,37.740000,19.000000,1393.000000,367.000000,915.000000,355.000000,1.195700,103100.000000\n",
            "-122.250000,37.820000,52.000000,2474.000000,403.000000,1104.000000,398.000000,5.883000,340700.000000\n",
            "-118.050000,33.720000,22.000000,5416.000000,1271.000000,2260.000000,1184.000000,3.803800,174500.000000\n",
            "-122.020000,36.970000,44.000000,594.000000,169.000000,325.000000,139.000000,1.155200,250000.000000\n",
            "-115.570000,32.800000,33.000000,1192.000000,213.000000,1066.000000,211.000000,4.571400,68600.000000\n",
            "-121.290000,37.800000,6.000000,110.000000,26.000000,69.000000,24.000000,3.729200,475000.000000\n",
            "-122.080000,37.880000,26.000000,2947.000000,647.000000,825.000000,626.000000,2.933000,85000.000000\n",
            "-121.770000,37.650000,16.000000,4290.000000,554.000000,1952.000000,576.000000,7.358800,327500.000000\n",
            "-119.810000,36.720000,46.000000,1414.000000,268.000000,902.000000,243.000000,1.583300,56700.000000\n",
            "-118.350000,33.970000,26.000000,1725.000000,431.000000,1130.000000,404.000000,3.270800,128100.000000\n",
            "-118.200000,34.190000,38.000000,2176.000000,266.000000,798.000000,243.000000,15.000100,500001.000000\n",
            "-118.790000,34.140000,7.000000,3003.000000,504.000000,1143.000000,466.000000,5.854800,500001.000000\n",
            "-118.120000,34.160000,30.000000,1762.000000,416.000000,940.000000,398.000000,2.863100,188600.000000\n",
            "-118.220000,33.960000,36.000000,1542.000000,458.000000,1711.000000,468.000000,1.902800,164200.000000\n",
            "-121.300000,37.990000,38.000000,2375.000000,494.000000,1167.000000,471.000000,2.667300,87500.000000\n",
            "-121.840000,36.610000,21.000000,2876.000000,802.000000,2487.000000,795.000000,2.200700,112800.000000\n",
            "-117.900000,34.070000,36.000000,1009.000000,164.000000,466.000000,149.000000,5.851900,249400.000000\n",
            "-120.400000,34.860000,11.000000,1633.000000,348.000000,504.000000,327.000000,2.050800,275000.000000\n",
            "-117.950000,33.800000,32.000000,1219.000000,192.000000,634.000000,197.000000,5.237000,215700.000000\n",
            "-118.300000,33.940000,36.000000,2041.000000,531.000000,1390.000000,464.000000,2.011400,99300.000000\n",
            "-121.600000,37.900000,5.000000,14684.000000,2252.000000,4276.000000,1722.000000,6.905100,340900.000000\n",
            "-122.410000,37.590000,34.000000,3931.000000,622.000000,1717.000000,621.000000,6.294600,450000.000000\n",
            "-118.450000,34.050000,28.000000,801.000000,399.000000,936.000000,406.000000,2.187500,181300.000000\n",
            "-118.180000,33.860000,43.000000,2752.000000,645.000000,1674.000000,614.000000,3.671900,161300.000000\n",
            "-121.780000,40.120000,14.000000,388.000000,108.000000,35.000000,17.000000,6.135900,106300.000000\n",
            "-118.210000,34.040000,47.000000,1325.000000,393.000000,1557.000000,352.000000,2.800000,148400.000000\n",
            "-118.380000,34.090000,28.000000,4001.000000,1352.000000,1799.000000,1220.000000,2.578400,272900.000000\n",
            "-117.180000,32.840000,32.000000,1351.000000,237.000000,823.000000,269.000000,4.276800,167800.000000\n",
            "-117.300000,32.850000,28.000000,2334.000000,694.000000,770.000000,552.000000,3.132400,500001.000000\n",
            "-119.020000,35.420000,42.000000,2271.000000,458.000000,1124.000000,447.000000,2.758300,64900.000000\n",
            "-124.010000,40.970000,21.000000,1513.000000,319.000000,943.000000,301.000000,3.538000,102700.000000\n",
            "-118.100000,34.130000,44.000000,1745.000000,237.000000,693.000000,248.000000,9.791200,500001.000000\n",
            "-119.810000,36.770000,49.000000,1749.000000,314.000000,705.000000,300.000000,3.150000,72200.000000\n",
            "-122.550000,38.000000,18.000000,3119.000000,803.000000,1395.000000,722.000000,3.926500,301100.000000\n",
            "-117.620000,34.080000,30.000000,1372.000000,235.000000,1047.000000,225.000000,3.159700,116300.000000\n",
            "-121.290000,37.960000,52.000000,888.000000,324.000000,630.000000,258.000000,1.241100,112500.000000\n",
            "-119.090000,34.240000,17.000000,10214.000000,1589.000000,3409.000000,1327.000000,5.380600,452100.000000\n",
            "-117.200000,32.770000,30.000000,156.000000,45.000000,77.000000,40.000000,3.267900,137500.000000\n",
            "-122.270000,37.450000,41.000000,830.000000,136.000000,353.000000,153.000000,6.382400,500001.000000\n",
            "-117.310000,34.410000,14.000000,3019.000000,643.000000,1639.000000,582.000000,1.528800,103400.000000\n",
            "-118.280000,33.830000,18.000000,5923.000000,1409.000000,3887.000000,1322.000000,3.471200,194400.000000\n",
            "-118.270000,34.050000,26.000000,1164.000000,674.000000,1685.000000,541.000000,1.572700,225000.000000\n",
            "-118.170000,34.090000,45.000000,1327.000000,271.000000,1069.000000,284.000000,3.397700,153800.000000\n",
            "-122.540000,37.740000,42.000000,2006.000000,415.000000,1230.000000,435.000000,4.178600,271100.000000\n",
            "-118.280000,33.770000,47.000000,307.000000,69.000000,374.000000,65.000000,2.906300,146900.000000\n",
            "-118.040000,33.720000,24.000000,7141.000000,1330.000000,3418.000000,1268.000000,4.664900,237800.000000\n",
            "-117.390000,33.920000,25.000000,2886.000000,583.000000,2327.000000,577.000000,2.385100,113700.000000\n",
            "-119.010000,35.370000,35.000000,120.000000,35.000000,477.000000,41.000000,1.912500,47500.000000\n",
            "-122.410000,37.740000,34.000000,1403.000000,262.000000,839.000000,255.000000,4.703100,255200.000000\n",
            "-118.290000,33.910000,41.000000,2475.000000,532.000000,1416.000000,470.000000,3.837200,156400.000000\n",
            "-117.250000,33.220000,19.000000,2167.000000,443.000000,1654.000000,435.000000,3.500000,135800.000000\n",
            "-117.650000,33.460000,19.000000,7034.000000,1139.000000,2824.000000,1068.000000,6.087300,277300.000000\n",
            "-121.980000,37.800000,17.000000,3354.000000,422.000000,1457.000000,425.000000,7.647300,345800.000000\n",
            "-118.050000,33.840000,21.000000,4890.000000,653.000000,2295.000000,654.000000,6.983000,329700.000000\n",
            "-122.030000,37.270000,25.000000,4460.000000,553.000000,1608.000000,561.000000,10.795800,500001.000000\n",
            "-120.520000,35.240000,5.000000,4413.000000,804.000000,2003.000000,725.000000,5.026700,253300.000000\n",
            "-117.950000,34.140000,33.000000,1943.000000,440.000000,1526.000000,353.000000,3.038000,137500.000000\n",
            "-118.160000,34.690000,35.000000,3114.000000,583.000000,1974.000000,545.000000,3.902800,126800.000000\n",
            "-121.480000,39.100000,19.000000,2043.000000,421.000000,1018.000000,390.000000,2.595200,92400.000000\n",
            "-117.530000,33.940000,21.000000,5675.000000,935.000000,2834.000000,865.000000,4.226300,203200.000000\n",
            "-122.290000,37.910000,40.000000,2085.000000,329.000000,796.000000,339.000000,5.535700,273700.000000\n",
            "-121.780000,38.690000,31.000000,2547.000000,535.000000,1579.000000,509.000000,2.677400,95800.000000\n",
            "-117.970000,33.840000,34.000000,874.000000,153.000000,549.000000,153.000000,4.866700,186800.000000\n",
            "-122.260000,37.860000,52.000000,3774.000000,744.000000,1461.000000,679.000000,2.940500,289500.000000\n",
            "-117.960000,33.690000,20.000000,3123.000000,441.000000,1319.000000,432.000000,6.091000,290400.000000\n",
            "-118.390000,34.190000,36.000000,904.000000,191.000000,627.000000,191.000000,2.416700,192900.000000\n",
            "-122.480000,37.510000,22.000000,1564.000000,278.000000,761.000000,270.000000,4.757800,318500.000000\n",
            "-118.600000,34.210000,19.000000,2581.000000,857.000000,2004.000000,784.000000,2.615900,182300.000000\n",
            "-122.350000,40.560000,12.000000,3900.000000,863.000000,2145.000000,864.000000,1.988100,85200.000000\n",
            "-118.240000,34.030000,52.000000,142.000000,47.000000,137.000000,45.000000,1.833300,312500.000000\n",
            "-117.610000,34.080000,20.000000,3550.000000,736.000000,2229.000000,681.000000,3.019900,128800.000000\n",
            "-121.030000,37.670000,24.000000,2162.000000,459.000000,1468.000000,441.000000,3.185700,98300.000000\n",
            "-119.690000,36.810000,15.000000,2892.000000,496.000000,1634.000000,501.000000,4.493400,88000.000000\n",
            "-118.270000,34.060000,26.000000,513.000000,338.000000,1204.000000,321.000000,1.490400,275000.000000\n",
            "-118.260000,34.070000,30.000000,929.000000,238.000000,763.000000,214.000000,2.522700,187500.000000\n",
            "-120.910000,38.980000,13.000000,7689.000000,1415.000000,3264.000000,1198.000000,3.653000,146800.000000\n",
            "-117.140000,32.710000,32.000000,719.000000,251.000000,894.000000,208.000000,1.845600,103100.000000\n",
            "-117.200000,32.820000,35.000000,2772.000000,537.000000,1392.000000,521.000000,3.337000,172300.000000\n",
            "-123.800000,39.440000,52.000000,1533.000000,336.000000,754.000000,340.000000,1.921300,95000.000000\n",
            "-122.330000,37.980000,32.000000,1967.000000,348.000000,1144.000000,364.000000,4.413500,150100.000000\n",
            "-117.370000,33.970000,38.000000,1156.000000,241.000000,877.000000,200.000000,1.451400,79900.000000\n",
            "-122.040000,37.300000,26.000000,1714.000000,270.000000,778.000000,262.000000,6.075000,417000.000000\n",
            "-118.210000,33.980000,35.000000,1705.000000,562.000000,2212.000000,539.000000,2.325000,161500.000000\n",
            "-117.320000,34.110000,38.000000,1462.000000,337.000000,1208.000000,324.000000,2.260400,68100.000000\n",
            "-118.120000,34.080000,49.000000,1782.000000,374.000000,1010.000000,367.000000,3.158300,268200.000000\n",
            "-121.560000,39.690000,8.000000,2836.000000,522.000000,1163.000000,512.000000,3.130000,168300.000000\n",
            "-117.940000,33.800000,28.000000,2914.000000,489.000000,1500.000000,499.000000,4.942900,254800.000000\n",
            "-117.980000,33.850000,23.000000,2089.000000,377.000000,1085.000000,362.000000,4.765000,181500.000000\n",
            "-122.850000,38.770000,18.000000,2856.000000,513.000000,1027.000000,405.000000,4.695300,241700.000000\n",
            "-116.240000,33.760000,9.000000,1961.000000,595.000000,966.000000,275.000000,3.812500,96700.000000\n",
            "-122.320000,37.960000,25.000000,1728.000000,403.000000,934.000000,412.000000,3.375000,133700.000000\n",
            "-118.950000,35.410000,21.000000,3999.000000,727.000000,1889.000000,688.000000,3.875000,99500.000000\n",
            "-122.420000,37.670000,42.000000,2274.000000,429.000000,1255.000000,397.000000,5.120500,226300.000000\n",
            "-118.250000,33.980000,39.000000,1553.000000,461.000000,2271.000000,437.000000,1.737800,121900.000000\n",
            "-118.400000,34.220000,36.000000,2557.000000,540.000000,1556.000000,491.000000,3.659100,183800.000000\n",
            "-120.560000,38.390000,20.000000,1326.000000,307.000000,563.000000,237.000000,2.666700,86600.000000\n",
            "-121.630000,39.100000,22.000000,3585.000000,548.000000,1757.000000,577.000000,4.174000,100100.000000\n",
            "-122.200000,37.470000,44.000000,1927.000000,332.000000,846.000000,362.000000,4.208300,278200.000000\n",
            "-122.110000,37.110000,46.000000,1993.000000,404.000000,850.000000,327.000000,5.208000,206800.000000\n",
            "-118.250000,33.840000,19.000000,1731.000000,420.000000,1032.000000,364.000000,3.812500,208100.000000\n",
            "-118.350000,34.180000,46.000000,2711.000000,491.000000,1277.000000,490.000000,4.282000,224700.000000\n",
            "-118.140000,33.860000,44.000000,1436.000000,257.000000,745.000000,233.000000,4.625000,213400.000000\n",
            "-122.260000,38.280000,24.000000,2831.000000,502.000000,1462.000000,503.000000,4.500000,158300.000000\n",
            "-120.240000,37.960000,34.000000,1747.000000,395.000000,935.000000,362.000000,1.625000,79400.000000\n",
            "-121.590000,39.740000,17.000000,1646.000000,330.000000,750.000000,344.000000,2.379800,83800.000000\n",
            "-122.720000,40.170000,16.000000,396.000000,78.000000,188.000000,72.000000,1.388900,87500.000000\n",
            "-118.480000,34.310000,31.000000,1091.000000,256.000000,892.000000,238.000000,3.000000,172400.000000\n",
            "-121.100000,38.940000,42.000000,410.000000,117.000000,706.000000,112.000000,1.017900,125000.000000\n",
            "-118.100000,33.970000,35.000000,2426.000000,529.000000,2010.000000,514.000000,2.992200,163500.000000\n",
            "-120.970000,37.670000,16.000000,1499.000000,250.000000,1292.000000,271.000000,4.385100,117300.000000\n",
            "-121.910000,36.970000,19.000000,4920.000000,1092.000000,1807.000000,922.000000,3.511200,231900.000000\n",
            "-121.470000,37.580000,14.000000,1594.000000,292.000000,887.000000,287.000000,4.662500,294000.000000\n",
            "-121.930000,37.720000,26.000000,3816.000000,637.000000,1935.000000,642.000000,4.469700,221300.000000\n",
            "-117.830000,33.790000,29.000000,1454.000000,236.000000,724.000000,262.000000,4.854200,218100.000000\n",
            "-117.890000,33.730000,33.000000,1308.000000,375.000000,2175.000000,347.000000,3.082400,177400.000000\n",
            "-117.840000,34.000000,26.000000,797.000000,117.000000,383.000000,114.000000,6.875800,253800.000000\n",
            "-116.860000,34.240000,19.000000,5411.000000,1042.000000,441.000000,185.000000,3.132400,132000.000000\n",
            "-121.280000,38.740000,33.000000,4384.000000,778.000000,1775.000000,789.000000,4.050000,134700.000000\n",
            "-119.630000,36.640000,33.000000,1036.000000,181.000000,620.000000,174.000000,3.410700,110400.000000\n",
            "-121.060000,38.250000,13.000000,651.000000,102.000000,301.000000,104.000000,3.652800,200000.000000\n",
            "-122.010000,37.400000,24.000000,1297.000000,297.000000,441.000000,282.000000,3.143900,47500.000000\n",
            "-117.220000,33.310000,12.000000,2924.000000,433.000000,1193.000000,394.000000,6.247500,331300.000000\n",
            "-116.310000,33.730000,19.000000,12467.000000,2508.000000,4086.000000,1761.000000,3.284600,131900.000000\n",
            "-121.290000,38.020000,12.000000,2006.000000,426.000000,1849.000000,396.000000,2.543700,99000.000000\n",
            "-121.000000,37.640000,52.000000,530.000000,177.000000,325.000000,158.000000,1.187500,90600.000000\n",
            "-121.080000,39.210000,17.000000,3033.000000,590.000000,1319.000000,583.000000,2.481100,111800.000000\n",
            "-121.880000,37.990000,16.000000,3787.000000,515.000000,1606.000000,507.000000,5.567600,174200.000000\n",
            "-117.180000,32.740000,20.000000,1165.000000,269.000000,459.000000,244.000000,3.175000,191700.000000\n",
            "-117.200000,32.850000,22.000000,3501.000000,631.000000,1297.000000,581.000000,4.789100,295300.000000\n",
            "-117.160000,33.920000,12.000000,3236.000000,502.000000,1610.000000,502.000000,4.756800,143500.000000\n",
            "-118.350000,34.050000,44.000000,1856.000000,493.000000,1374.000000,469.000000,2.098400,158000.000000\n",
            "-119.050000,36.060000,23.000000,2344.000000,407.000000,1184.000000,406.000000,3.162500,70600.000000\n",
            "-121.150000,38.690000,52.000000,240.000000,44.000000,6675.000000,29.000000,6.135900,225000.000000\n",
            "-123.160000,39.130000,33.000000,1320.000000,303.000000,1048.000000,303.000000,1.781300,94700.000000\n",
            "-121.360000,38.590000,32.000000,3303.000000,480.000000,1185.000000,436.000000,5.050800,225700.000000\n",
            "-118.280000,33.730000,52.000000,2085.000000,588.000000,1767.000000,516.000000,2.193500,243200.000000\n",
            "-118.360000,33.890000,27.000000,2837.000000,684.000000,2141.000000,648.000000,3.132500,215000.000000\n",
            "-121.240000,38.630000,4.000000,11021.000000,1565.000000,3857.000000,1494.000000,7.258200,273200.000000\n",
            "-117.690000,33.550000,3.000000,1618.000000,266.000000,710.000000,246.000000,6.074300,274300.000000\n",
            "-118.460000,34.270000,28.000000,1865.000000,463.000000,1182.000000,440.000000,2.619300,172300.000000\n",
            "-122.280000,37.860000,52.000000,3007.000000,691.000000,1582.000000,636.000000,2.565200,157700.000000\n",
            "-118.280000,33.940000,32.000000,1381.000000,375.000000,1268.000000,354.000000,1.105100,94200.000000\n",
            "-122.180000,37.730000,42.000000,909.000000,215.000000,646.000000,198.000000,2.906300,80000.000000\n",
            "-122.870000,38.390000,34.000000,1138.000000,205.000000,541.000000,180.000000,4.514700,271400.000000\n",
            "-119.750000,34.440000,28.000000,1080.000000,298.000000,524.000000,251.000000,1.843200,327300.000000\n",
            "-117.210000,32.850000,15.000000,2593.000000,521.000000,901.000000,456.000000,4.206500,277800.000000\n",
            "-118.200000,33.820000,34.000000,2807.000000,768.000000,2217.000000,744.000000,2.428600,204800.000000\n",
            "-121.880000,37.320000,40.000000,1331.000000,374.000000,1276.000000,389.000000,2.754600,172500.000000\n",
            "-118.460000,34.140000,34.000000,5264.000000,771.000000,1738.000000,753.000000,8.811500,500001.000000\n",
            "-118.290000,34.090000,35.000000,2198.000000,998.000000,3441.000000,912.000000,2.046700,158300.000000\n",
            "-117.880000,34.110000,30.000000,3082.000000,602.000000,2008.000000,619.000000,4.141100,182700.000000\n",
            "-117.680000,33.650000,6.000000,10395.000000,1915.000000,4783.000000,1811.000000,5.928000,239900.000000\n",
            "-120.350000,39.340000,29.000000,1986.000000,474.000000,337.000000,100.000000,4.027800,95800.000000\n",
            "-118.020000,33.820000,19.000000,2485.000000,437.000000,1286.000000,431.000000,4.746600,258300.000000\n",
            "-118.350000,33.920000,24.000000,2728.000000,845.000000,2023.000000,773.000000,2.750000,239700.000000\n",
            "-122.340000,37.970000,19.000000,2237.000000,580.000000,1438.000000,551.000000,2.338200,120700.000000\n",
            "-118.330000,34.020000,46.000000,1528.000000,391.000000,933.000000,366.000000,2.197900,125700.000000\n",
            "-118.400000,33.900000,37.000000,2458.000000,400.000000,920.000000,375.000000,7.892400,500001.000000\n",
            "-117.970000,33.730000,18.000000,3698.000000,574.000000,2046.000000,614.000000,6.298400,269800.000000\n",
            "-121.320000,38.570000,15.000000,3369.000000,499.000000,1733.000000,470.000000,5.310000,127500.000000\n",
            "-117.940000,33.880000,46.000000,1747.000000,312.000000,770.000000,296.000000,5.421700,256000.000000\n",
            "-118.540000,34.150000,26.000000,10111.000000,1295.000000,3599.000000,1257.000000,10.229200,500001.000000\n",
            "-117.860000,33.830000,23.000000,2377.000000,403.000000,1101.000000,408.000000,5.343900,227100.000000\n",
            "-119.950000,36.800000,30.000000,1233.000000,214.000000,620.000000,199.000000,3.429700,112500.000000\n",
            "-121.420000,36.860000,41.000000,440.000000,106.000000,389.000000,94.000000,2.681800,225000.000000\n",
            "-117.090000,32.690000,34.000000,1469.000000,267.000000,1031.000000,267.000000,3.458300,112700.000000\n",
            "-119.200000,34.150000,27.000000,2076.000000,681.000000,1904.000000,647.000000,1.477300,160800.000000\n",
            "-117.170000,32.760000,45.000000,3149.000000,639.000000,1160.000000,661.000000,2.726600,354200.000000\n",
            "-117.900000,33.910000,36.000000,1376.000000,257.000000,687.000000,221.000000,3.540300,195400.000000\n",
            "-122.030000,37.330000,23.000000,4221.000000,671.000000,1782.000000,641.000000,7.486300,412300.000000\n",
            "-118.180000,33.900000,31.000000,2536.000000,603.000000,2625.000000,576.000000,3.090900,150900.000000\n",
            "-119.050000,35.320000,11.000000,7035.000000,1455.000000,3525.000000,1387.000000,3.482700,93600.000000\n",
            "-119.670000,34.470000,35.000000,2700.000000,422.000000,1995.000000,383.000000,4.975700,500001.000000\n",
            "-118.350000,34.170000,44.000000,2572.000000,613.000000,1280.000000,570.000000,3.558300,232000.000000\n",
            "-118.300000,33.870000,31.000000,1398.000000,261.000000,823.000000,263.000000,5.064100,234900.000000\n",
            "-118.250000,34.160000,52.000000,2477.000000,385.000000,993.000000,371.000000,4.913500,368100.000000\n",
            "-117.910000,33.820000,29.000000,1444.000000,326.000000,1038.000000,271.000000,2.384300,182900.000000\n",
            "-118.360000,33.980000,40.000000,1113.000000,234.000000,584.000000,231.000000,3.092700,316000.000000\n",
            "-121.290000,37.990000,45.000000,965.000000,198.000000,498.000000,195.000000,1.694400,75200.000000\n",
            "-122.740000,38.460000,9.000000,2268.000000,594.000000,1311.000000,585.000000,2.660700,91500.000000\n",
            "-118.290000,33.930000,31.000000,3894.000000,1017.000000,3590.000000,962.000000,2.043700,137200.000000\n",
            "-122.050000,37.310000,25.000000,4601.000000,696.000000,2003.000000,666.000000,8.072700,455500.000000\n",
            "-117.080000,32.570000,18.000000,2203.000000,544.000000,1943.000000,497.000000,2.250000,103200.000000\n",
            "-122.040000,37.970000,10.000000,974.000000,316.000000,631.000000,286.000000,2.315200,140600.000000\n",
            "-120.310000,37.110000,38.000000,1696.000000,301.000000,985.000000,278.000000,2.405400,112500.000000\n",
            "-117.270000,34.100000,9.000000,3904.000000,1042.000000,3688.000000,896.000000,1.802200,78000.000000\n",
            "-118.260000,33.950000,44.000000,1481.000000,329.000000,999.000000,315.000000,1.514700,94600.000000\n",
            "-118.110000,34.160000,52.000000,1353.000000,274.000000,852.000000,306.000000,3.458300,239900.000000\n",
            "-118.340000,33.990000,34.000000,397.000000,132.000000,250.000000,121.000000,1.675000,166700.000000\n",
            "-117.890000,33.600000,40.000000,1639.000000,352.000000,498.000000,278.000000,5.633600,500001.000000\n",
            "-119.720000,34.420000,52.000000,1759.000000,387.000000,980.000000,402.000000,4.012500,261000.000000\n",
            "-118.440000,34.180000,36.000000,2077.000000,496.000000,1206.000000,528.000000,2.232600,221000.000000\n",
            "-122.080000,37.970000,9.000000,2643.000000,439.000000,1105.000000,467.000000,6.657900,245200.000000\n",
            "-122.450000,37.760000,50.000000,2518.000000,507.000000,979.000000,516.000000,4.691200,500001.000000\n",
            "-118.220000,33.940000,41.000000,928.000000,249.000000,1108.000000,236.000000,3.432300,144600.000000\n",
            "-118.330000,34.070000,52.000000,1482.000000,171.000000,531.000000,161.000000,15.000100,500001.000000\n",
            "-117.660000,34.050000,14.000000,2644.000000,525.000000,2021.000000,511.000000,3.646700,147500.000000\n",
            "-120.940000,35.420000,18.000000,3418.000000,686.000000,970.000000,453.000000,3.773800,279400.000000\n",
            "-117.300000,34.050000,6.000000,2155.000000,544.000000,1039.000000,391.000000,1.667500,95800.000000\n",
            "-117.920000,33.640000,5.000000,949.000000,287.000000,497.000000,244.000000,2.750000,225000.000000\n",
            "-118.190000,33.990000,37.000000,2073.000000,614.000000,2544.000000,598.000000,2.905400,156300.000000\n",
            "-122.080000,37.940000,44.000000,2185.000000,357.000000,943.000000,366.000000,4.725000,232100.000000\n",
            "-117.720000,34.090000,33.000000,4979.000000,934.000000,2575.000000,874.000000,3.795800,152500.000000\n",
            "-118.190000,34.080000,35.000000,1554.000000,381.000000,1487.000000,374.000000,1.903800,139500.000000\n",
            "-122.240000,38.110000,42.000000,1743.000000,388.000000,889.000000,341.000000,2.324100,99200.000000\n",
            "-121.810000,37.230000,17.000000,2319.000000,324.000000,1076.000000,338.000000,6.466400,278300.000000\n",
            "-118.340000,34.180000,45.000000,3046.000000,633.000000,1448.000000,599.000000,3.240000,226900.000000\n",
            "-120.570000,38.200000,13.000000,4110.000000,847.000000,1796.000000,706.000000,2.641700,122300.000000\n",
            "-120.450000,34.640000,30.000000,2330.000000,422.000000,1255.000000,449.000000,3.851200,134600.000000\n",
            "-118.250000,33.950000,25.000000,764.000000,200.000000,801.000000,220.000000,1.138400,100000.000000\n",
            "-117.950000,33.900000,15.000000,3057.000000,479.000000,1679.000000,498.000000,6.842900,372600.000000\n",
            "-117.200000,33.120000,18.000000,4372.000000,736.000000,1473.000000,675.000000,5.119400,247800.000000\n",
            "-117.300000,34.530000,38.000000,1643.000000,489.000000,1196.000000,406.000000,1.227500,64100.000000\n",
            "-121.870000,37.270000,18.000000,3561.000000,560.000000,1753.000000,553.000000,5.029200,269400.000000\n",
            "-118.280000,34.030000,40.000000,2118.000000,796.000000,2195.000000,658.000000,1.797600,164600.000000\n",
            "-119.770000,36.440000,26.000000,1727.000000,289.000000,802.000000,259.000000,3.208300,75000.000000\n",
            "-122.380000,40.090000,16.000000,2077.000000,388.000000,1155.000000,389.000000,3.136100,84800.000000\n",
            "-118.900000,34.180000,14.000000,2627.000000,328.000000,1121.000000,328.000000,7.050400,333800.000000\n",
            "-121.010000,37.250000,16.000000,2216.000000,458.000000,1135.000000,424.000000,2.731600,97500.000000\n",
            "-116.980000,32.720000,15.000000,4209.000000,680.000000,1914.000000,641.000000,4.513500,158300.000000\n",
            "-119.980000,38.920000,28.000000,1408.000000,312.000000,522.000000,221.000000,2.070800,89600.000000\n",
            "-121.930000,37.720000,26.000000,2806.000000,459.000000,1453.000000,444.000000,4.910700,213800.000000\n",
            "-117.640000,34.090000,34.000000,2839.000000,659.000000,1822.000000,631.000000,3.050000,121300.000000\n",
            "-119.850000,37.390000,14.000000,2744.000000,555.000000,1153.000000,474.000000,2.753000,111100.000000\n",
            "-118.200000,33.980000,43.000000,1091.000000,320.000000,1418.000000,316.000000,2.152200,159400.000000\n",
            "-120.830000,37.070000,16.000000,3736.000000,761.000000,1942.000000,730.000000,2.559800,120200.000000\n",
            "-117.070000,32.580000,25.000000,1607.000000,280.000000,899.000000,260.000000,3.819400,134400.000000\n",
            "-119.050000,35.340000,14.000000,3580.000000,984.000000,1933.000000,912.000000,2.663700,175000.000000\n",
            "-117.570000,34.150000,3.000000,12806.000000,2219.000000,4249.000000,1499.000000,5.485000,343100.000000\n",
            "-121.370000,38.670000,36.000000,1786.000000,338.000000,974.000000,319.000000,2.555000,72700.000000\n",
            "-122.180000,37.700000,36.000000,2639.000000,533.000000,1209.000000,519.000000,4.026800,205500.000000\n",
            "-116.940000,32.810000,8.000000,2517.000000,632.000000,1686.000000,613.000000,2.136000,143500.000000\n",
            "-121.210000,39.240000,7.000000,4194.000000,673.000000,1355.000000,566.000000,4.370200,226100.000000\n",
            "-122.060000,37.710000,36.000000,3541.000000,570.000000,1478.000000,529.000000,4.635000,248600.000000\n",
            "-118.440000,34.190000,11.000000,2891.000000,951.000000,2166.000000,768.000000,2.891000,178100.000000\n",
            "-122.360000,37.720000,10.000000,479.000000,125.000000,355.000000,108.000000,2.708300,180400.000000\n",
            "-121.320000,38.620000,29.000000,2430.000000,448.000000,1087.000000,394.000000,3.086400,177900.000000\n",
            "-118.270000,33.940000,43.000000,1309.000000,344.000000,1182.000000,340.000000,1.662500,88700.000000\n",
            "-122.040000,37.970000,39.000000,1323.000000,245.000000,705.000000,261.000000,3.196800,151000.000000\n",
            "-118.210000,33.960000,39.000000,2050.000000,529.000000,1959.000000,485.000000,2.138900,168900.000000\n",
            "-117.200000,33.580000,2.000000,30450.000000,5033.000000,9419.000000,3197.000000,4.593600,174300.000000\n",
            "-120.500000,37.370000,18.000000,8606.000000,1678.000000,5303.000000,1644.000000,2.401200,79700.000000\n",
            "-118.170000,33.980000,36.000000,627.000000,177.000000,834.000000,175.000000,2.984400,163600.000000\n",
            "-117.880000,33.830000,22.000000,3522.000000,543.000000,1706.000000,524.000000,6.468500,241200.000000\n",
            "-118.290000,33.990000,46.000000,2198.000000,530.000000,2067.000000,497.000000,2.054200,103400.000000\n",
            "-117.420000,34.100000,18.000000,3977.000000,809.000000,2231.000000,742.000000,4.139900,115400.000000\n",
            "-116.960000,32.710000,18.000000,2413.000000,533.000000,1129.000000,551.000000,2.456700,155000.000000\n",
            "-118.360000,34.070000,52.000000,2046.000000,451.000000,944.000000,435.000000,3.426500,456900.000000\n",
            "-122.260000,38.330000,34.000000,2048.000000,316.000000,780.000000,267.000000,5.815000,339200.000000\n",
            "-120.510000,37.290000,20.000000,4927.000000,1042.000000,4205.000000,1009.000000,1.767900,79800.000000\n",
            "-117.940000,33.620000,25.000000,1188.000000,264.000000,569.000000,249.000000,3.660700,500001.000000\n",
            "-118.270000,33.940000,30.000000,1041.000000,275.000000,877.000000,270.000000,1.526800,91600.000000\n",
            "-117.930000,34.090000,37.000000,1185.000000,225.000000,769.000000,235.000000,4.462500,154200.000000\n",
            "-118.220000,33.920000,43.000000,1195.000000,256.000000,1251.000000,262.000000,3.453900,125000.000000\n",
            "-121.840000,37.320000,16.000000,1866.000000,364.000000,1835.000000,412.000000,5.336300,212800.000000\n",
            "-122.030000,37.830000,24.000000,5948.000000,738.000000,1997.000000,710.000000,9.870800,500001.000000\n",
            "-122.460000,38.290000,21.000000,2423.000000,560.000000,1098.000000,503.000000,2.364000,173300.000000\n",
            "-118.320000,34.010000,50.000000,1842.000000,377.000000,817.000000,341.000000,3.154800,157700.000000\n",
            "-118.020000,33.950000,35.000000,2085.000000,400.000000,1112.000000,391.000000,3.488600,173900.000000\n",
            "-118.310000,34.190000,13.000000,3801.000000,1116.000000,1986.000000,1078.000000,2.087500,222700.000000\n",
            "-117.800000,34.100000,13.000000,2996.000000,495.000000,1187.000000,464.000000,6.245600,161700.000000\n",
            "-118.460000,34.260000,33.000000,1358.000000,247.000000,738.000000,235.000000,5.094700,210300.000000\n",
            "-121.940000,37.340000,41.000000,2151.000000,473.000000,1092.000000,469.000000,3.732100,250000.000000\n",
            "-117.640000,33.870000,2.000000,17470.000000,2727.000000,5964.000000,1985.000000,6.230800,257900.000000\n",
            "-117.900000,34.110000,23.000000,4776.000000,1316.000000,4797.000000,1187.000000,2.166700,142600.000000\n",
            "-118.340000,34.110000,51.000000,937.000000,348.000000,527.000000,333.000000,4.357100,468800.000000\n",
            "-122.310000,37.560000,45.000000,1685.000000,321.000000,815.000000,314.000000,4.295500,309700.000000\n",
            "-118.360000,34.210000,41.000000,337.000000,65.000000,198.000000,50.000000,1.892900,152900.000000\n",
            "-122.450000,37.710000,45.000000,2253.000000,431.000000,1382.000000,392.000000,4.256200,221600.000000\n",
            "-118.680000,34.130000,9.000000,11251.000000,1594.000000,3029.000000,1227.000000,6.727300,500001.000000\n",
            "-119.640000,36.850000,15.000000,2397.000000,353.000000,1258.000000,347.000000,4.990400,157300.000000\n",
            "-122.160000,37.760000,45.000000,2299.000000,514.000000,1437.000000,484.000000,2.512200,95500.000000\n",
            "-117.990000,33.670000,19.000000,3808.000000,790.000000,1776.000000,756.000000,4.625000,282200.000000\n",
            "-121.830000,37.400000,27.000000,1145.000000,150.000000,492.000000,160.000000,5.716000,348300.000000\n",
            "-118.190000,35.050000,14.000000,2992.000000,573.000000,1631.000000,526.000000,3.745200,83200.000000\n",
            "-118.030000,33.770000,24.000000,3810.000000,579.000000,1818.000000,590.000000,5.805300,255900.000000\n",
            "-122.260000,37.820000,22.000000,3682.000000,1270.000000,2024.000000,1250.000000,1.218500,170000.000000\n",
            "-118.370000,33.930000,46.000000,442.000000,88.000000,255.000000,94.000000,4.447400,246900.000000\n",
            "-118.220000,34.050000,43.000000,1153.000000,411.000000,1667.000000,409.000000,1.940200,139300.000000\n",
            "-122.490000,37.680000,34.000000,3718.000000,676.000000,2510.000000,632.000000,5.331100,270800.000000\n",
            "-116.510000,33.840000,16.000000,980.000000,193.000000,454.000000,185.000000,4.072900,100000.000000\n",
            "-121.880000,37.660000,29.000000,2702.000000,680.000000,1360.000000,642.000000,3.112700,233000.000000\n",
            "-122.440000,37.800000,52.000000,2869.000000,594.000000,500.000000,335.000000,5.037600,500001.000000\n",
            "-121.340000,38.050000,16.000000,667.000000,92.000000,267.000000,90.000000,5.614700,244700.000000\n",
            "-117.870000,33.840000,16.000000,1545.000000,354.000000,730.000000,350.000000,4.511200,139000.000000\n",
            "-122.280000,37.890000,52.000000,2315.000000,408.000000,835.000000,369.000000,4.589300,290100.000000\n",
            "-121.830000,37.990000,18.000000,2741.000000,449.000000,1507.000000,460.000000,4.756600,142500.000000\n",
            "-119.530000,36.650000,43.000000,1676.000000,320.000000,1056.000000,276.000000,2.556200,93200.000000\n",
            "-117.390000,34.090000,10.000000,5736.000000,945.000000,3528.000000,932.000000,4.395800,130700.000000\n",
            "-118.230000,33.900000,45.000000,1285.000000,238.000000,840.000000,211.000000,3.410700,112500.000000\n",
            "-121.320000,38.670000,21.000000,3455.000000,706.000000,1605.000000,704.000000,3.138200,91600.000000\n",
            "-118.330000,34.050000,46.000000,3015.000000,795.000000,2300.000000,725.000000,2.070600,268500.000000\n",
            "-122.210000,37.840000,44.000000,3424.000000,597.000000,1358.000000,597.000000,6.019400,292300.000000\n",
            "-117.900000,34.530000,8.000000,3484.000000,647.000000,2169.000000,619.000000,3.976600,135800.000000\n",
            "-122.470000,37.510000,15.000000,4974.000000,764.000000,2222.000000,774.000000,6.760600,364300.000000\n",
            "-118.020000,33.770000,7.000000,586.000000,118.000000,232.000000,107.000000,5.207700,181300.000000\n",
            "-119.730000,34.430000,35.000000,2703.000000,654.000000,1383.000000,631.000000,4.527800,340400.000000\n",
            "-120.680000,35.140000,34.000000,3100.000000,617.000000,1155.000000,542.000000,3.093800,245900.000000\n",
            "-122.470000,38.290000,14.000000,3732.000000,846.000000,1277.000000,775.000000,2.565800,208000.000000\n",
            "-121.900000,37.350000,52.000000,1034.000000,239.000000,531.000000,223.000000,2.741100,227100.000000\n",
            "-121.870000,37.260000,17.000000,1051.000000,172.000000,446.000000,173.000000,5.665200,234500.000000\n",
            "-117.970000,33.890000,15.000000,3801.000000,542.000000,1992.000000,526.000000,9.068300,367400.000000\n",
            "-116.870000,33.910000,37.000000,1858.000000,361.000000,1632.000000,310.000000,2.753600,73100.000000\n",
            "-122.150000,37.470000,38.000000,1560.000000,301.000000,1331.000000,316.000000,3.052100,151500.000000\n",
            "-118.310000,34.010000,52.000000,2547.000000,475.000000,1417.000000,444.000000,1.821400,123200.000000\n",
            "-118.440000,34.040000,49.000000,32.000000,7.000000,14.000000,7.000000,2.187500,225000.000000\n",
            "-118.010000,33.850000,29.000000,2064.000000,447.000000,1265.000000,400.000000,3.886400,209300.000000\n",
            "-122.270000,41.200000,52.000000,4513.000000,985.000000,1926.000000,815.000000,1.592300,56000.000000\n",
            "-122.320000,37.560000,49.000000,2016.000000,299.000000,691.000000,288.000000,5.549000,500001.000000\n",
            "-119.770000,36.720000,43.000000,1763.000000,389.000000,1623.000000,390.000000,1.442700,47700.000000\n",
            "-122.140000,37.840000,24.000000,2131.000000,343.000000,874.000000,373.000000,5.634900,355600.000000\n",
            "-118.340000,34.090000,14.000000,3032.000000,999.000000,1691.000000,841.000000,2.200000,210000.000000\n",
            "-117.610000,34.340000,18.000000,5210.000000,912.000000,1301.000000,464.000000,4.862300,176900.000000\n",
            "-118.230000,33.760000,21.000000,49.000000,14.000000,29.000000,16.000000,5.000000,87500.000000\n",
            "-117.890000,33.770000,32.000000,2342.000000,570.000000,1445.000000,453.000000,4.195100,195000.000000\n",
            "-118.260000,33.910000,39.000000,967.000000,256.000000,903.000000,256.000000,1.903800,93100.000000\n",
            "-118.400000,33.990000,39.000000,1613.000000,380.000000,1113.000000,356.000000,2.825000,276700.000000\n",
            "-117.140000,32.920000,15.000000,1558.000000,314.000000,949.000000,332.000000,5.286400,174400.000000\n",
            "-118.150000,33.770000,52.000000,2204.000000,498.000000,899.000000,445.000000,4.176500,393900.000000\n",
            "-118.590000,34.210000,17.000000,2737.000000,868.000000,2924.000000,785.000000,2.579700,183500.000000\n",
            "-121.370000,36.830000,14.000000,3658.000000,612.000000,1951.000000,600.000000,4.760000,216000.000000\n",
            "-120.480000,35.020000,17.000000,2721.000000,477.000000,1672.000000,492.000000,2.979800,204800.000000\n",
            "-118.440000,34.210000,41.000000,1440.000000,325.000000,1014.000000,322.000000,2.875000,168600.000000\n",
            "-122.320000,38.330000,17.000000,851.000000,118.000000,370.000000,123.000000,5.087700,209300.000000\n",
            "-121.870000,37.280000,21.000000,3305.000000,749.000000,2459.000000,701.000000,3.968800,249600.000000\n",
            "-117.100000,33.070000,16.000000,2402.000000,336.000000,1080.000000,365.000000,8.680300,347300.000000\n",
            "-118.030000,33.760000,25.000000,4650.000000,849.000000,2503.000000,790.000000,5.742000,221900.000000\n",
            "-122.400000,37.730000,48.000000,1489.000000,326.000000,1115.000000,356.000000,2.636400,199300.000000\n",
            "-118.340000,34.120000,41.000000,3257.000000,679.000000,1237.000000,638.000000,4.241500,409600.000000\n",
            "-121.040000,39.240000,48.000000,1188.000000,227.000000,471.000000,219.000000,2.312500,125700.000000\n",
            "-117.970000,33.910000,19.000000,8096.000000,1318.000000,3853.000000,1313.000000,6.007600,269500.000000\n",
            "-117.100000,32.680000,45.000000,1183.000000,289.000000,900.000000,266.000000,2.494300,99600.000000\n",
            "-116.610000,33.930000,35.000000,321.000000,71.000000,157.000000,61.000000,2.805600,68100.000000\n",
            "-118.390000,34.080000,27.000000,6605.000000,1710.000000,2665.000000,1520.000000,3.808800,500001.000000\n",
            "-121.230000,38.650000,19.000000,2926.000000,476.000000,1349.000000,480.000000,4.643700,212900.000000\n",
            "-122.200000,37.790000,29.000000,1640.000000,376.000000,939.000000,340.000000,2.832100,150000.000000\n",
            "-117.180000,32.830000,23.000000,2105.000000,525.000000,1218.000000,484.000000,3.375000,184100.000000\n",
            "-118.080000,33.770000,26.000000,2461.000000,562.000000,971.000000,544.000000,2.194400,87500.000000\n",
            "-120.450000,34.660000,7.000000,3329.000000,504.000000,1462.000000,452.000000,4.787500,198300.000000\n",
            "-117.820000,33.680000,4.000000,1346.000000,213.000000,603.000000,219.000000,8.797400,360600.000000\n",
            "-121.920000,36.610000,27.000000,1619.000000,352.000000,831.000000,344.000000,4.300000,226400.000000\n",
            "-122.010000,37.530000,19.000000,4572.000000,712.000000,2346.000000,709.000000,6.066700,245700.000000\n",
            "-118.270000,33.950000,34.000000,987.000000,248.000000,902.000000,221.000000,2.336500,98000.000000\n",
            "-119.960000,38.940000,27.000000,1492.000000,393.000000,717.000000,254.000000,1.890600,104200.000000\n",
            "-121.420000,36.570000,13.000000,2685.000000,621.000000,2474.000000,573.000000,2.877500,134100.000000\n",
            "-120.960000,37.660000,15.000000,2485.000000,434.000000,1296.000000,434.000000,3.854200,145200.000000\n",
            "-118.650000,34.200000,23.000000,7480.000000,1084.000000,3037.000000,1058.000000,6.922300,338400.000000\n",
            "-122.310000,38.000000,29.000000,3108.000000,534.000000,1687.000000,516.000000,4.333300,170800.000000\n",
            "-118.350000,34.070000,48.000000,890.000000,255.000000,434.000000,232.000000,3.611100,450000.000000\n",
            "-118.190000,33.790000,29.000000,3497.000000,1096.000000,2994.000000,919.000000,1.810900,137500.000000\n",
            "-122.140000,37.410000,35.000000,2419.000000,426.000000,949.000000,433.000000,6.458800,437100.000000\n",
            "-119.810000,36.710000,25.000000,1026.000000,221.000000,789.000000,183.000000,1.562500,52800.000000\n",
            "-117.180000,32.680000,29.000000,1539.000000,344.000000,556.000000,289.000000,3.250000,500001.000000\n",
            "-117.770000,34.080000,27.000000,5929.000000,932.000000,2817.000000,828.000000,6.043400,214800.000000\n",
            "-118.110000,33.860000,33.000000,2389.000000,410.000000,1229.000000,393.000000,5.388900,234900.000000\n",
            "-118.280000,34.090000,52.000000,1739.000000,464.000000,938.000000,482.000000,2.442900,228800.000000\n",
            "-117.930000,34.040000,30.000000,1336.000000,239.000000,905.000000,253.000000,4.885400,178100.000000\n",
            "-117.050000,32.760000,37.000000,4879.000000,906.000000,2076.000000,871.000000,3.662500,154800.000000\n",
            "-118.250000,33.870000,18.000000,6812.000000,1263.000000,3704.000000,1216.000000,4.250000,169200.000000\n",
            "-122.410000,37.780000,52.000000,254.000000,72.000000,153.000000,29.000000,3.862500,350000.000000\n",
            "-119.720000,34.470000,34.000000,3262.000000,533.000000,1265.000000,502.000000,5.841100,381800.000000\n",
            "-118.120000,34.150000,22.000000,1671.000000,480.000000,1005.000000,443.000000,3.011900,171400.000000\n",
            "-122.210000,37.830000,40.000000,4991.000000,674.000000,1616.000000,654.000000,7.554400,411500.000000\n",
            "-119.380000,36.560000,14.000000,3965.000000,804.000000,1945.000000,733.000000,2.690600,95300.000000\n",
            "-118.380000,34.280000,22.000000,4428.000000,825.000000,3152.000000,836.000000,4.793200,166300.000000\n",
            "-117.340000,34.120000,26.000000,1008.000000,164.000000,568.000000,196.000000,3.351600,105600.000000\n",
            "-122.060000,37.390000,22.000000,1236.000000,290.000000,413.000000,274.000000,3.687500,40000.000000\n",
            "-118.460000,34.070000,49.000000,2418.000000,301.000000,850.000000,318.000000,14.286700,500001.000000\n",
            "-117.900000,34.150000,21.000000,2056.000000,461.000000,1332.000000,429.000000,3.394200,212800.000000\n",
            "-123.470000,39.800000,18.000000,2130.000000,545.000000,863.000000,346.000000,2.357100,79200.000000\n",
            "-121.910000,37.250000,31.000000,1944.000000,343.000000,975.000000,334.000000,4.920500,240500.000000\n",
            "-122.320000,38.320000,22.000000,2483.000000,528.000000,1478.000000,492.000000,4.087800,164400.000000\n",
            "-118.140000,33.880000,30.000000,2596.000000,580.000000,1662.000000,539.000000,4.050700,179500.000000\n",
            "-117.820000,33.810000,25.000000,2662.000000,402.000000,1247.000000,401.000000,5.439500,244000.000000\n",
            "-118.270000,34.070000,38.000000,1270.000000,556.000000,1692.000000,450.000000,1.870000,170800.000000\n",
            "-117.440000,33.950000,31.000000,914.000000,177.000000,556.000000,161.000000,3.734400,115300.000000\n",
            "-118.100000,34.070000,36.000000,1240.000000,349.000000,1383.000000,338.000000,2.493100,170300.000000\n",
            "-121.830000,37.370000,43.000000,1461.000000,284.000000,800.000000,258.000000,3.227900,182400.000000\n",
            "-120.900000,35.330000,16.000000,1576.000000,287.000000,595.000000,262.000000,3.588000,266300.000000\n",
            "-121.750000,36.920000,48.000000,1801.000000,353.000000,1071.000000,361.000000,3.600000,194500.000000\n",
            "-117.910000,33.650000,24.000000,885.000000,321.000000,590.000000,254.000000,2.625000,217900.000000\n",
            "-117.200000,32.800000,33.000000,2573.000000,436.000000,1084.000000,443.000000,4.241700,294100.000000\n",
            "-118.230000,34.180000,43.000000,1708.000000,280.000000,768.000000,276.000000,6.207000,457400.000000\n",
            "-118.320000,33.930000,34.000000,1536.000000,273.000000,804.000000,287.000000,4.961500,157800.000000\n",
            "-117.760000,34.120000,16.000000,9020.000000,1509.000000,3575.000000,1486.000000,4.241500,275700.000000\n",
            "-118.450000,34.230000,25.000000,4393.000000,1369.000000,3781.000000,1267.000000,2.583300,183700.000000\n",
            "-122.450000,41.280000,15.000000,2740.000000,503.000000,1188.000000,445.000000,3.451900,128800.000000\n",
            "-118.330000,34.010000,43.000000,2227.000000,564.000000,956.000000,472.000000,2.021700,187500.000000\n",
            "-124.160000,40.790000,46.000000,3042.000000,597.000000,1206.000000,541.000000,2.113500,90600.000000\n",
            "-118.140000,34.060000,37.000000,1339.000000,258.000000,706.000000,238.000000,4.756900,253800.000000\n",
            "-121.140000,38.770000,15.000000,10282.000000,1333.000000,3868.000000,1300.000000,6.478900,287800.000000\n",
            "-117.750000,33.830000,14.000000,2452.000000,296.000000,954.000000,275.000000,8.237500,388300.000000\n",
            "-122.120000,37.690000,30.000000,1197.000000,269.000000,695.000000,279.000000,3.437500,157800.000000\n",
            "-117.790000,34.070000,33.000000,1694.000000,333.000000,1689.000000,301.000000,3.758300,116300.000000\n",
            "-118.410000,34.090000,37.000000,2716.000000,302.000000,809.000000,291.000000,15.000100,500001.000000\n",
            "-118.530000,34.440000,19.000000,1285.000000,195.000000,650.000000,193.000000,6.039800,217800.000000\n",
            "-120.780000,38.740000,28.000000,4236.000000,877.000000,2008.000000,881.000000,2.160300,111300.000000\n",
            "-122.350000,37.580000,26.000000,854.000000,246.000000,396.000000,231.000000,2.839300,375000.000000\n",
            "-119.720000,36.820000,15.000000,946.000000,239.000000,550.000000,246.000000,2.263900,52500.000000\n",
            "-118.140000,34.010000,42.000000,1973.000000,510.000000,1841.000000,502.000000,2.532600,156500.000000\n",
            "-117.120000,32.750000,25.000000,2222.000000,634.000000,1025.000000,568.000000,1.640000,130000.000000\n",
            "-117.900000,34.130000,37.000000,1801.000000,422.000000,1564.000000,425.000000,3.159700,133000.000000\n",
            "-117.390000,33.690000,5.000000,6529.000000,997.000000,3464.000000,1006.000000,5.327500,168700.000000\n",
            "-122.450000,40.610000,17.000000,785.000000,155.000000,417.000000,136.000000,2.328900,58200.000000\n",
            "-117.120000,34.210000,19.000000,4641.000000,994.000000,1334.000000,474.000000,4.597200,123900.000000\n",
            "-122.760000,38.460000,14.000000,4742.000000,756.000000,2149.000000,732.000000,4.515200,199200.000000\n",
            "-118.190000,34.120000,46.000000,3387.000000,820.000000,2833.000000,813.000000,2.987000,176900.000000\n",
            "-118.310000,34.060000,36.000000,369.000000,147.000000,145.000000,136.000000,0.880400,450000.000000\n",
            "-122.340000,37.950000,45.000000,1128.000000,240.000000,702.000000,270.000000,3.671900,134100.000000\n",
            "-118.220000,34.660000,17.000000,3810.000000,662.000000,1867.000000,586.000000,4.900000,152400.000000\n",
            "-118.290000,34.050000,40.000000,907.000000,349.000000,1426.000000,323.000000,1.857100,143800.000000\n",
            "-117.960000,33.870000,37.000000,1785.000000,360.000000,1155.000000,403.000000,4.798400,175800.000000\n",
            "-119.570000,34.380000,22.000000,2512.000000,426.000000,919.000000,341.000000,5.759000,425000.000000\n",
            "-118.280000,33.750000,41.000000,1305.000000,381.000000,1384.000000,369.000000,2.450000,186800.000000\n",
            "-121.890000,38.010000,32.000000,1000.000000,188.000000,663.000000,212.000000,4.097200,99200.000000\n",
            "-118.130000,34.160000,52.000000,1872.000000,357.000000,984.000000,364.000000,4.000000,250400.000000\n",
            "-118.040000,34.180000,37.000000,3134.000000,532.000000,1220.000000,508.000000,5.286500,455400.000000\n",
            "-123.220000,39.160000,32.000000,1149.000000,187.000000,499.000000,208.000000,3.658700,154600.000000\n",
            "-120.690000,38.440000,13.000000,1473.000000,265.000000,597.000000,228.000000,4.291700,121300.000000\n",
            "-118.040000,33.800000,33.000000,2685.000000,466.000000,1359.000000,476.000000,5.026100,245100.000000\n",
            "-119.800000,36.730000,45.000000,925.000000,231.000000,797.000000,228.000000,1.701100,44800.000000\n",
            "-117.490000,33.910000,17.000000,5364.000000,1020.000000,3754.000000,936.000000,3.285700,139100.000000\n",
            "-118.340000,34.010000,37.000000,4291.000000,1102.000000,1941.000000,953.000000,1.794500,106300.000000\n",
            "-118.370000,34.190000,41.000000,2924.000000,867.000000,2751.000000,836.000000,2.100000,171600.000000\n",
            "-117.270000,34.450000,8.000000,6463.000000,1095.000000,3213.000000,1031.000000,3.221500,108800.000000\n",
            "-120.450000,34.870000,4.000000,1533.000000,221.000000,545.000000,191.000000,7.569600,328700.000000\n",
            "-122.320000,37.520000,26.000000,4042.000000,591.000000,1611.000000,578.000000,8.469300,419200.000000\n",
            "-121.420000,38.490000,17.000000,13180.000000,2444.000000,7235.000000,2335.000000,3.363000,103000.000000\n",
            "-115.570000,32.780000,29.000000,2321.000000,367.000000,1173.000000,360.000000,4.037500,86400.000000\n",
            "-118.470000,33.990000,52.000000,2167.000000,622.000000,1095.000000,570.000000,2.851400,358700.000000\n",
            "-118.270000,33.960000,42.000000,796.000000,203.000000,697.000000,177.000000,2.037000,92600.000000\n",
            "-118.050000,33.900000,41.000000,550.000000,129.000000,642.000000,125.000000,1.875000,119900.000000\n",
            "-118.960000,35.400000,28.000000,4667.000000,875.000000,2404.000000,841.000000,3.232500,89000.000000\n",
            "-117.130000,32.980000,5.000000,2276.000000,311.000000,1158.000000,317.000000,6.432100,271900.000000\n",
            "-122.040000,37.610000,36.000000,1151.000000,216.000000,727.000000,215.000000,4.171900,187000.000000\n",
            "-116.580000,33.090000,36.000000,992.000000,224.000000,334.000000,126.000000,3.008900,134400.000000\n",
            "-121.980000,38.250000,4.000000,2487.000000,440.000000,1545.000000,452.000000,4.910300,140400.000000\n",
            "-122.300000,37.920000,32.000000,3943.000000,605.000000,1524.000000,614.000000,6.067700,321600.000000\n",
            "-121.570000,39.480000,15.000000,202.000000,54.000000,145.000000,40.000000,0.825200,42500.000000\n",
            "-118.090000,33.920000,36.000000,847.000000,185.000000,713.000000,194.000000,4.854200,167400.000000\n",
            "-117.710000,33.610000,25.000000,3004.000000,718.000000,891.000000,626.000000,2.395000,80300.000000\n",
            "-118.210000,33.900000,41.000000,941.000000,233.000000,973.000000,253.000000,1.958300,102300.000000\n",
            "-118.290000,34.170000,52.000000,1732.000000,305.000000,875.000000,311.000000,4.325000,292600.000000\n",
            "-118.950000,35.400000,23.000000,4483.000000,894.000000,2136.000000,883.000000,3.687500,101700.000000\n",
            "-117.410000,34.230000,17.000000,889.000000,131.000000,439.000000,141.000000,6.142600,155000.000000\n",
            "-121.920000,36.570000,42.000000,3944.000000,738.000000,1374.000000,598.000000,4.174000,394400.000000\n",
            "-121.640000,39.150000,15.000000,2659.000000,396.000000,1159.000000,407.000000,5.234000,124900.000000\n",
            "-120.920000,37.630000,39.000000,45.000000,8.000000,22.000000,9.000000,1.767900,450000.000000\n",
            "-122.270000,37.840000,52.000000,1688.000000,337.000000,853.000000,325.000000,2.180600,99700.000000\n",
            "-118.270000,34.100000,51.000000,3149.000000,519.000000,1082.000000,510.000000,6.445900,421600.000000\n",
            "-121.810000,37.240000,21.000000,3250.000000,610.000000,1978.000000,568.000000,4.500000,234400.000000\n",
            "-114.620000,33.620000,26.000000,18.000000,3.000000,5.000000,3.000000,0.536000,275000.000000\n",
            "-118.090000,34.710000,5.000000,5807.000000,1182.000000,2602.000000,1007.000000,2.401200,159400.000000\n",
            "-118.200000,34.020000,48.000000,2230.000000,593.000000,2419.000000,598.000000,2.394400,130700.000000\n",
            "-119.620000,36.590000,17.000000,2287.000000,390.000000,1330.000000,393.000000,4.019700,88000.000000\n",
            "-118.410000,34.190000,42.000000,779.000000,145.000000,450.000000,148.000000,3.979200,193800.000000\n",
            "-118.300000,33.980000,48.000000,1998.000000,410.000000,1176.000000,382.000000,3.045500,102400.000000\n",
            "-117.330000,34.120000,38.000000,1703.000000,385.000000,1356.000000,363.000000,2.039100,70400.000000\n",
            "-118.500000,34.020000,28.000000,5109.000000,1482.000000,2313.000000,1451.000000,3.326600,483300.000000\n",
            "-118.070000,33.920000,36.000000,1560.000000,320.000000,1348.000000,314.000000,3.622000,174000.000000\n",
            "-117.130000,32.580000,27.000000,2511.000000,615.000000,1427.000000,576.000000,3.164500,156000.000000\n",
            "-117.270000,34.490000,7.000000,2344.000000,351.000000,846.000000,314.000000,4.736100,174500.000000\n",
            "-121.450000,38.600000,44.000000,2324.000000,413.000000,823.000000,375.000000,4.662500,158900.000000\n",
            "-121.980000,37.220000,46.000000,10088.000000,1910.000000,3728.000000,1781.000000,5.232100,500001.000000\n",
            "-120.310000,36.650000,24.000000,943.000000,209.000000,514.000000,156.000000,2.250000,76600.000000\n",
            "-117.950000,33.840000,32.000000,1378.000000,492.000000,1202.000000,448.000000,3.402800,183700.000000\n",
            "-119.700000,36.800000,34.000000,1768.000000,303.000000,888.000000,314.000000,3.808800,87700.000000\n",
            "-121.880000,37.430000,17.000000,3469.000000,896.000000,2762.000000,808.000000,3.388400,245800.000000\n",
            "-118.430000,34.260000,37.000000,1269.000000,348.000000,1835.000000,335.000000,3.258300,147200.000000\n",
            "-121.890000,37.350000,48.000000,1562.000000,439.000000,1469.000000,424.000000,2.567300,177500.000000\n",
            "-121.330000,38.040000,15.000000,2903.000000,440.000000,1325.000000,423.000000,4.517900,145600.000000\n",
            "-123.730000,39.170000,20.000000,4620.000000,1042.000000,1745.000000,794.000000,2.375000,158800.000000\n",
            "-118.040000,33.970000,34.000000,1759.000000,431.000000,1282.000000,391.000000,3.049100,158200.000000\n",
            "-118.150000,34.190000,48.000000,1854.000000,360.000000,1126.000000,382.000000,3.221600,161600.000000\n",
            "-118.110000,34.020000,17.000000,9559.000000,1911.000000,5279.000000,1844.000000,5.151500,318900.000000\n",
            "-121.200000,38.670000,10.000000,3875.000000,668.000000,1632.000000,593.000000,4.690200,171000.000000\n",
            "-118.390000,34.120000,29.000000,6447.000000,1012.000000,2184.000000,960.000000,8.281600,500001.000000\n",
            "-118.370000,34.060000,52.000000,2239.000000,423.000000,832.000000,411.000000,5.085800,470000.000000\n",
            "-118.520000,34.200000,35.000000,2891.000000,594.000000,1757.000000,581.000000,4.357100,199800.000000\n",
            "-118.370000,33.950000,52.000000,836.000000,175.000000,747.000000,166.000000,4.125000,174000.000000\n",
            "-121.340000,37.980000,8.000000,2628.000000,428.000000,1158.000000,393.000000,5.300200,191700.000000\n",
            "-119.320000,36.190000,11.000000,3136.000000,620.000000,2013.000000,583.000000,3.335000,69700.000000\n",
            "-117.840000,34.040000,4.000000,9959.000000,1544.000000,4904.000000,1429.000000,6.975400,402500.000000\n",
            "-118.230000,34.150000,19.000000,2294.000000,716.000000,1686.000000,680.000000,3.028800,258300.000000\n",
            "-115.520000,32.980000,21.000000,1302.000000,327.000000,1244.000000,316.000000,2.205400,66400.000000\n",
            "-117.790000,34.070000,34.000000,975.000000,192.000000,870.000000,183.000000,3.793300,116100.000000\n",
            "-115.590000,32.960000,17.000000,841.000000,146.000000,473.000000,154.000000,3.197900,113500.000000\n",
            "-121.830000,37.300000,17.000000,1299.000000,211.000000,825.000000,217.000000,4.500000,235800.000000\n",
            "-117.270000,34.500000,8.000000,3567.000000,543.000000,1133.000000,419.000000,5.373300,302600.000000\n",
            "-118.040000,33.930000,35.000000,1805.000000,387.000000,1505.000000,366.000000,4.166700,151900.000000\n",
            "-122.090000,37.950000,32.000000,1339.000000,209.000000,601.000000,209.000000,6.026500,247900.000000\n",
            "-122.230000,37.750000,50.000000,1542.000000,289.000000,654.000000,268.000000,3.963200,240000.000000\n",
            "-117.880000,33.720000,38.000000,1421.000000,300.000000,1236.000000,263.000000,3.984400,165300.000000\n",
            "-122.420000,37.750000,52.000000,2164.000000,533.000000,1122.000000,469.000000,3.263200,306000.000000\n",
            "-118.050000,34.140000,39.000000,2125.000000,295.000000,862.000000,303.000000,8.972800,500001.000000\n",
            "-118.060000,34.110000,36.000000,2178.000000,485.000000,914.000000,412.000000,2.765600,239500.000000\n",
            "-118.150000,33.870000,33.000000,2373.000000,552.000000,1673.000000,571.000000,3.068500,181800.000000\n",
            "-117.250000,32.760000,38.000000,2331.000000,493.000000,836.000000,433.000000,4.912500,452600.000000\n",
            "-117.860000,33.740000,34.000000,2254.000000,630.000000,2984.000000,625.000000,2.500000,162500.000000\n",
            "-122.530000,39.090000,11.000000,1264.000000,271.000000,370.000000,177.000000,1.300000,69700.000000\n",
            "-117.970000,33.680000,23.000000,1722.000000,316.000000,865.000000,309.000000,4.645200,273800.000000\n",
            "-118.060000,34.030000,36.000000,21.000000,7.000000,21.000000,9.000000,2.375000,175000.000000\n",
            "-117.820000,33.740000,25.000000,2720.000000,680.000000,1559.000000,631.000000,3.095800,137800.000000\n",
            "-121.800000,37.700000,22.000000,5533.000000,943.000000,2474.000000,910.000000,4.736100,216800.000000\n",
            "-121.730000,36.850000,22.000000,1304.000000,278.000000,887.000000,227.000000,3.660700,206300.000000\n",
            "-118.320000,33.860000,34.000000,495.000000,90.000000,269.000000,93.000000,6.439100,252300.000000\n",
            "-118.280000,34.040000,24.000000,1283.000000,545.000000,1932.000000,516.000000,1.296900,160200.000000\n",
            "-117.030000,32.950000,19.000000,4500.000000,815.000000,2456.000000,782.000000,4.503200,168900.000000\n",
            "-117.870000,33.830000,27.000000,2287.000000,353.000000,1140.000000,351.000000,5.616300,231000.000000\n",
            "-122.090000,37.650000,35.000000,1130.000000,192.000000,543.000000,184.000000,4.389700,190600.000000\n",
            "-117.600000,34.030000,16.000000,1499.000000,232.000000,918.000000,239.000000,5.567700,175400.000000\n",
            "-121.460000,38.610000,43.000000,1111.000000,269.000000,613.000000,290.000000,1.291700,66300.000000\n",
            "-117.960000,34.530000,10.000000,2907.000000,559.000000,1681.000000,531.000000,3.859400,141000.000000\n",
            "-116.460000,33.790000,10.000000,6960.000000,1487.000000,1130.000000,661.000000,2.141100,136400.000000\n",
            "-118.540000,34.370000,27.000000,2051.000000,301.000000,917.000000,287.000000,7.605900,323700.000000\n",
            "-122.160000,37.450000,52.000000,1135.000000,219.000000,441.000000,200.000000,7.541800,492000.000000\n",
            "-117.710000,34.060000,27.000000,2127.000000,628.000000,1970.000000,534.000000,1.472200,91300.000000\n",
            "-118.290000,34.030000,42.000000,907.000000,378.000000,822.000000,288.000000,1.287500,179200.000000\n",
            "-118.180000,33.900000,32.000000,1452.000000,365.000000,1888.000000,366.000000,3.546100,146400.000000\n",
            "-121.360000,38.690000,13.000000,6850.000000,1400.000000,4251.000000,1421.000000,3.698900,93300.000000\n",
            "-122.370000,40.520000,18.000000,4547.000000,774.000000,2269.000000,766.000000,3.789600,98100.000000\n",
            "-122.410000,37.710000,49.000000,1852.000000,429.000000,1615.000000,447.000000,3.495000,217800.000000\n",
            "-118.530000,34.240000,24.000000,2718.000000,719.000000,3018.000000,644.000000,2.907600,275300.000000\n",
            "-121.880000,37.670000,16.000000,4070.000000,624.000000,1543.000000,577.000000,6.521400,311500.000000\n",
            "-120.090000,37.000000,11.000000,3761.000000,675.000000,2374.000000,673.000000,3.459800,74600.000000\n",
            "-117.100000,32.750000,17.000000,871.000000,379.000000,955.000000,351.000000,1.437500,96400.000000\n",
            "-119.640000,36.350000,30.000000,1765.000000,310.000000,746.000000,298.000000,2.812500,70200.000000\n",
            "-118.260000,33.970000,47.000000,1504.000000,374.000000,1168.000000,358.000000,1.462500,94200.000000\n",
            "-117.600000,33.910000,15.000000,1864.000000,271.000000,1006.000000,288.000000,7.237900,251000.000000\n",
            "-122.200000,39.510000,37.000000,2358.000000,413.000000,1060.000000,424.000000,2.833300,69700.000000\n",
            "-122.120000,37.690000,10.000000,2227.000000,560.000000,1140.000000,472.000000,2.397300,167300.000000\n",
            "-118.200000,33.970000,43.000000,825.000000,212.000000,820.000000,184.000000,1.889700,174300.000000\n",
            "-121.280000,38.140000,38.000000,2803.000000,500.000000,1223.000000,509.000000,4.119000,128800.000000\n",
            "-119.030000,34.230000,16.000000,5323.000000,795.000000,2493.000000,779.000000,5.676200,271300.000000\n",
            "-121.700000,38.100000,19.000000,4896.000000,1083.000000,2150.000000,905.000000,3.339800,89700.000000\n",
            "-117.960000,33.830000,30.000000,2838.000000,649.000000,1758.000000,593.000000,3.383100,197400.000000\n",
            "-120.700000,36.990000,32.000000,320.000000,73.000000,222.000000,78.000000,2.927100,87500.000000\n",
            "-122.390000,37.740000,45.000000,1462.000000,308.000000,924.000000,302.000000,2.176700,185300.000000\n",
            "-121.760000,38.410000,19.000000,686.000000,107.000000,348.000000,109.000000,3.930600,93800.000000\n",
            "-121.350000,38.660000,8.000000,3322.000000,805.000000,1694.000000,774.000000,2.701100,130700.000000\n",
            "-118.670000,34.280000,21.000000,4059.000000,598.000000,2133.000000,634.000000,5.694900,235300.000000\n",
            "-118.310000,34.100000,33.000000,766.000000,347.000000,918.000000,305.000000,1.705000,350000.000000\n",
            "-117.690000,34.040000,5.000000,4459.000000,896.000000,2028.000000,881.000000,4.009600,182600.000000\n",
            "-119.600000,36.580000,28.000000,1452.000000,300.000000,919.000000,308.000000,2.828700,73100.000000\n",
            "-121.760000,36.750000,21.000000,1141.000000,257.000000,671.000000,195.000000,3.842400,155700.000000\n",
            "-117.940000,33.860000,35.000000,1235.000000,227.000000,875.000000,220.000000,4.696400,183100.000000\n",
            "-120.860000,37.770000,28.000000,1208.000000,232.000000,535.000000,232.000000,2.352300,94700.000000\n",
            "-121.840000,37.350000,22.000000,2914.000000,768.000000,2962.000000,762.000000,2.203100,164000.000000\n",
            "-121.070000,38.900000,52.000000,1280.000000,281.000000,523.000000,266.000000,1.737500,122200.000000\n",
            "-118.450000,33.960000,24.000000,3097.000000,791.000000,1075.000000,639.000000,5.723000,500001.000000\n",
            "-118.290000,34.180000,52.000000,1602.000000,265.000000,667.000000,251.000000,5.049000,323500.000000\n",
            "-119.970000,36.440000,18.000000,1128.000000,237.000000,772.000000,220.000000,2.177100,39200.000000\n",
            "-121.930000,38.310000,25.000000,185.000000,32.000000,85.000000,32.000000,4.875000,250000.000000\n",
            "-118.200000,33.930000,38.000000,1626.000000,307.000000,1280.000000,295.000000,3.531300,146500.000000\n",
            "-122.180000,38.230000,21.000000,2475.000000,341.000000,812.000000,308.000000,7.258900,320400.000000\n",
            "-118.010000,34.140000,20.000000,3350.000000,831.000000,1816.000000,744.000000,2.835200,161700.000000\n",
            "-117.870000,34.130000,32.000000,1741.000000,373.000000,872.000000,333.000000,3.421900,194500.000000\n",
            "-118.530000,34.270000,32.000000,1931.000000,298.000000,948.000000,314.000000,5.384700,329200.000000\n",
            "-117.140000,32.800000,33.000000,2670.000000,435.000000,1256.000000,431.000000,3.941700,179800.000000\n",
            "-118.070000,34.170000,34.000000,4062.000000,597.000000,1525.000000,566.000000,7.858800,454800.000000\n",
            "-117.580000,33.880000,16.000000,1739.000000,478.000000,1235.000000,420.000000,2.296900,116100.000000\n",
            "-120.060000,36.970000,35.000000,1859.000000,428.000000,1208.000000,399.000000,1.404400,61700.000000\n",
            "-121.830000,38.430000,24.000000,1307.000000,314.000000,917.000000,291.000000,2.224400,98100.000000\n",
            "-122.480000,37.720000,45.000000,1405.000000,338.000000,733.000000,342.000000,4.111600,187500.000000\n",
            "-116.910000,32.750000,5.000000,8710.000000,1614.000000,4372.000000,1527.000000,4.781300,240900.000000\n",
            "-119.770000,36.740000,20.000000,1855.000000,519.000000,1091.000000,443.000000,1.554700,93900.000000\n",
            "-119.460000,36.910000,12.000000,2980.000000,495.000000,1184.000000,429.000000,3.914100,123900.000000\n",
            "-118.180000,33.910000,41.000000,1260.000000,299.000000,1535.000000,322.000000,3.013400,128100.000000\n",
            "-118.390000,34.060000,43.000000,1879.000000,397.000000,873.000000,382.000000,3.815800,500001.000000\n",
            "-118.220000,33.990000,4.000000,1849.000000,577.000000,1529.000000,418.000000,2.770800,186300.000000\n",
            "-116.990000,33.200000,17.000000,2980.000000,539.000000,1531.000000,505.000000,3.155300,250000.000000\n",
            "-117.160000,32.730000,52.000000,1863.000000,559.000000,906.000000,493.000000,1.920300,195800.000000\n",
            "-117.380000,33.980000,10.000000,642.000000,176.000000,462.000000,186.000000,2.152800,162500.000000\n",
            "-122.440000,38.340000,25.000000,3106.000000,715.000000,1262.000000,665.000000,1.948700,233500.000000\n",
            "-117.880000,33.920000,13.000000,3292.000000,727.000000,1565.000000,698.000000,5.457000,308800.000000\n",
            "-119.710000,34.440000,41.000000,2220.000000,367.000000,927.000000,355.000000,5.318400,376000.000000\n",
            "-119.060000,34.370000,32.000000,3885.000000,759.000000,2504.000000,736.000000,3.645300,201700.000000\n",
            "-121.910000,37.310000,16.000000,2962.000000,898.000000,1555.000000,795.000000,2.580400,216300.000000\n",
            "-121.560000,37.000000,20.000000,3976.000000,953.000000,3866.000000,950.000000,2.538700,160100.000000\n",
            "-122.490000,38.000000,26.000000,48.000000,8.000000,19.000000,8.000000,7.719700,400000.000000\n",
            "-118.330000,34.020000,45.000000,1667.000000,399.000000,928.000000,375.000000,1.878300,118200.000000\n",
            "-122.260000,37.510000,29.000000,3703.000000,1075.000000,1611.000000,1025.000000,2.707500,323800.000000\n",
            "-121.990000,37.830000,16.000000,2939.000000,380.000000,1177.000000,396.000000,8.083900,372000.000000\n",
            "-121.420000,37.740000,35.000000,796.000000,132.000000,313.000000,152.000000,3.150000,153200.000000\n",
            "-121.390000,38.610000,35.000000,2024.000000,359.000000,786.000000,364.000000,2.463200,156900.000000\n",
            "-122.420000,37.620000,36.000000,1017.000000,165.000000,407.000000,159.000000,4.800000,306800.000000\n",
            "-121.440000,38.480000,12.000000,4929.000000,1010.000000,2621.000000,870.000000,2.726200,109800.000000\n",
            "-117.480000,33.980000,20.000000,2451.000000,475.000000,1785.000000,456.000000,3.396600,115000.000000\n",
            "-122.050000,37.380000,24.000000,2424.000000,501.000000,1367.000000,507.000000,4.072000,364200.000000\n",
            "-123.920000,41.540000,22.000000,2920.000000,636.000000,1382.000000,499.000000,2.020200,71100.000000\n",
            "-119.010000,35.400000,11.000000,8739.000000,2190.000000,4781.000000,1919.000000,1.710900,44600.000000\n",
            "-122.330000,37.570000,43.000000,2543.000000,621.000000,1301.000000,606.000000,3.111100,318400.000000\n",
            "-120.990000,37.610000,39.000000,512.000000,132.000000,443.000000,127.000000,1.285700,60000.000000\n",
            "-121.960000,37.580000,15.000000,3575.000000,597.000000,1777.000000,559.000000,5.719200,283500.000000\n",
            "-121.580000,39.160000,33.000000,1897.000000,378.000000,888.000000,385.000000,2.111100,68700.000000\n",
            "-120.590000,38.530000,15.000000,432.000000,87.000000,208.000000,73.000000,3.612500,100000.000000\n",
            "-117.580000,33.870000,30.000000,701.000000,131.000000,356.000000,125.000000,3.291700,144300.000000\n",
            "-121.840000,39.750000,29.000000,4362.000000,1053.000000,2053.000000,1000.000000,1.728400,74500.000000\n",
            "-121.800000,36.690000,12.000000,3877.000000,914.000000,2274.000000,858.000000,3.423900,194800.000000\n",
            "-122.220000,37.810000,52.000000,2944.000000,536.000000,1034.000000,521.000000,5.350900,302100.000000\n",
            "-117.640000,33.450000,26.000000,1528.000000,234.000000,607.000000,218.000000,6.287100,325500.000000\n",
            "-120.420000,37.980000,18.000000,3059.000000,609.000000,1335.000000,581.000000,2.512900,115900.000000\n",
            "-118.300000,34.060000,47.000000,1390.000000,872.000000,2860.000000,827.000000,1.468000,137500.000000\n",
            "-122.250000,37.870000,52.000000,1204.000000,460.000000,2016.000000,477.000000,0.949000,350000.000000\n",
            "-120.270000,39.350000,11.000000,2520.000000,401.000000,397.000000,165.000000,4.665000,145600.000000\n",
            "-119.880000,36.930000,12.000000,3174.000000,520.000000,1590.000000,488.000000,4.534700,101200.000000\n",
            "-122.370000,37.580000,52.000000,2188.000000,361.000000,917.000000,357.000000,4.400000,500000.000000\n",
            "-117.820000,33.720000,24.000000,3260.000000,458.000000,1383.000000,442.000000,6.598700,272800.000000\n",
            "-118.220000,33.930000,30.000000,443.000000,170.000000,903.000000,189.000000,2.196400,125000.000000\n",
            "-120.970000,38.650000,9.000000,3707.000000,602.000000,1601.000000,555.000000,4.071400,300600.000000\n",
            "-122.060000,37.700000,33.000000,3906.000000,790.000000,1912.000000,770.000000,3.518700,209400.000000\n",
            "-118.230000,33.920000,32.000000,2698.000000,640.000000,1953.000000,613.000000,1.222200,107200.000000\n",
            "-117.340000,34.460000,9.000000,5983.000000,1122.000000,3515.000000,1064.000000,3.150500,102000.000000\n",
            "-119.240000,36.330000,9.000000,3289.000000,621.000000,1866.000000,631.000000,3.159900,95000.000000\n",
            "-122.180000,37.730000,42.000000,4074.000000,874.000000,2736.000000,780.000000,2.455000,82400.000000\n",
            "-118.200000,33.820000,43.000000,1758.000000,347.000000,954.000000,312.000000,5.260600,198900.000000\n",
            "-117.070000,32.810000,15.000000,2000.000000,402.000000,778.000000,369.000000,4.359400,224200.000000\n",
            "-122.250000,38.020000,16.000000,1803.000000,267.000000,946.000000,266.000000,5.700100,205100.000000\n",
            "-118.420000,34.310000,19.000000,6755.000000,1443.000000,4205.000000,1395.000000,3.958300,163200.000000\n",
            "-122.270000,37.850000,52.000000,1966.000000,347.000000,793.000000,331.000000,2.775000,152500.000000\n",
            "-117.920000,33.650000,28.000000,1087.000000,423.000000,807.000000,425.000000,0.970200,225400.000000\n",
            "-118.160000,34.130000,36.000000,4003.000000,647.000000,1337.000000,631.000000,7.723000,500001.000000\n",
            "-122.490000,37.690000,35.000000,2576.000000,443.000000,1273.000000,433.000000,4.739100,272800.000000\n",
            "-122.480000,38.310000,29.000000,2375.000000,560.000000,1124.000000,502.000000,2.327600,166200.000000\n",
            "-117.670000,34.020000,16.000000,3042.000000,524.000000,1516.000000,475.000000,4.890600,178500.000000\n",
            "-117.150000,32.910000,14.000000,1259.000000,238.000000,889.000000,247.000000,4.946400,174800.000000\n",
            "-118.340000,34.030000,46.000000,2437.000000,502.000000,1151.000000,477.000000,2.444400,134100.000000\n",
            "-121.540000,38.500000,15.000000,6093.000000,1051.000000,2415.000000,997.000000,4.207500,183600.000000\n",
            "-118.150000,33.970000,32.000000,1174.000000,373.000000,1758.000000,361.000000,2.426300,158100.000000\n",
            "-122.540000,38.140000,16.000000,4431.000000,603.000000,1659.000000,630.000000,7.541200,392100.000000\n",
            "-118.010000,33.880000,19.000000,1434.000000,391.000000,1088.000000,341.000000,3.369000,269600.000000\n",
            "-117.680000,35.620000,30.000000,2994.000000,741.000000,1481.000000,581.000000,2.145800,52400.000000\n",
            "-120.640000,35.260000,21.000000,3298.000000,716.000000,1862.000000,687.000000,2.150700,221500.000000\n",
            "-121.290000,38.100000,14.000000,1551.000000,297.000000,785.000000,281.000000,3.775000,163300.000000\n",
            "-120.190000,37.530000,25.000000,1470.000000,341.000000,706.000000,283.000000,1.761400,71300.000000\n",
            "-117.310000,34.100000,28.000000,2899.000000,755.000000,2406.000000,655.000000,1.520800,69500.000000\n",
            "-118.090000,33.870000,31.000000,3498.000000,728.000000,2098.000000,697.000000,3.983700,246000.000000\n",
            "-117.990000,34.120000,37.000000,1527.000000,331.000000,1504.000000,324.000000,3.285700,130100.000000\n",
            "-119.810000,34.470000,26.000000,4382.000000,618.000000,1728.000000,587.000000,7.473400,432200.000000\n",
            "-116.960000,33.520000,9.000000,2802.000000,471.000000,1155.000000,421.000000,4.125000,392100.000000\n",
            "-122.310000,37.570000,37.000000,1437.000000,305.000000,979.000000,331.000000,4.000000,273700.000000\n",
            "-117.390000,33.970000,52.000000,3307.000000,553.000000,1269.000000,529.000000,4.317600,136200.000000\n",
            "-118.510000,34.190000,38.000000,2182.000000,409.000000,1141.000000,379.000000,4.286500,221100.000000\n",
            "-117.300000,34.120000,34.000000,1127.000000,275.000000,971.000000,249.000000,2.058300,64800.000000\n",
            "-120.850000,37.510000,15.000000,1131.000000,285.000000,728.000000,281.000000,1.553100,93100.000000\n",
            "-121.310000,37.930000,21.000000,1556.000000,314.000000,1140.000000,304.000000,2.466700,81400.000000\n",
            "-118.160000,34.090000,33.000000,1515.000000,415.000000,1345.000000,346.000000,2.375000,175000.000000\n",
            "-118.030000,33.840000,30.000000,4781.000000,831.000000,2568.000000,797.000000,5.474600,226400.000000\n",
            "-119.880000,34.400000,25.000000,2741.000000,623.000000,2272.000000,624.000000,2.264700,216700.000000\n",
            "-118.570000,34.170000,35.000000,2072.000000,318.000000,908.000000,342.000000,6.092800,327300.000000\n",
            "-122.110000,37.140000,29.000000,3201.000000,640.000000,1722.000000,570.000000,4.459700,204100.000000\n",
            "-122.430000,37.760000,52.000000,2332.000000,434.000000,861.000000,406.000000,4.431800,437500.000000\n",
            "-118.270000,33.960000,38.000000,1126.000000,270.000000,999.000000,265.000000,0.549500,91700.000000\n",
            "-117.160000,33.760000,11.000000,4934.000000,929.000000,2508.000000,840.000000,2.625000,155400.000000\n",
            "-122.070000,37.890000,38.000000,2139.000000,343.000000,809.000000,340.000000,5.563600,268800.000000\n",
            "-117.090000,34.010000,37.000000,106.000000,18.000000,27.000000,12.000000,4.055600,131300.000000\n",
            "-122.310000,37.920000,12.000000,1895.000000,600.000000,983.000000,519.000000,2.500000,195800.000000\n",
            "-122.190000,37.730000,44.000000,1066.000000,253.000000,825.000000,244.000000,2.153800,79700.000000\n",
            "-117.000000,32.730000,17.000000,6050.000000,1143.000000,3424.000000,1131.000000,3.764700,127600.000000\n",
            "-117.210000,33.190000,21.000000,3765.000000,612.000000,1722.000000,593.000000,4.815200,218500.000000\n",
            "-118.260000,34.140000,51.000000,902.000000,320.000000,650.000000,334.000000,1.541700,268800.000000\n",
            "-122.100000,37.360000,35.000000,2063.000000,266.000000,676.000000,252.000000,8.529400,500001.000000\n",
            "-121.860000,36.600000,33.000000,1409.000000,307.000000,633.000000,290.000000,3.556800,191200.000000\n",
            "-117.240000,33.110000,10.000000,3487.000000,545.000000,1410.000000,557.000000,6.033600,240300.000000\n",
            "-116.370000,33.720000,19.000000,6190.000000,1355.000000,2242.000000,1043.000000,3.002100,152300.000000\n",
            "-121.320000,38.410000,17.000000,4401.000000,655.000000,1970.000000,639.000000,5.823900,247500.000000\n",
            "-118.700000,34.280000,27.000000,3536.000000,646.000000,1837.000000,580.000000,4.496400,238300.000000\n",
            "-118.150000,33.950000,31.000000,1053.000000,230.000000,686.000000,211.000000,4.000000,263200.000000\n",
            "-118.300000,33.730000,47.000000,2852.000000,603.000000,1130.000000,560.000000,4.194000,293900.000000\n",
            "-118.520000,34.190000,37.000000,1892.000000,347.000000,1039.000000,343.000000,4.829500,212100.000000\n",
            "-118.220000,33.990000,6.000000,1499.000000,437.000000,1754.000000,447.000000,4.316400,143200.000000\n",
            "-122.410000,37.650000,32.000000,3436.000000,868.000000,2583.000000,817.000000,3.503900,232400.000000\n",
            "-122.300000,37.890000,46.000000,1520.000000,402.000000,815.000000,375.000000,2.803600,211600.000000\n",
            "-121.430000,38.560000,50.000000,1533.000000,288.000000,532.000000,257.000000,2.541700,125900.000000\n",
            "-117.230000,32.860000,16.000000,1200.000000,468.000000,648.000000,443.000000,3.045000,100000.000000\n",
            "-117.230000,32.790000,23.000000,2578.000000,665.000000,989.000000,622.000000,3.548400,238000.000000\n",
            "-117.160000,32.720000,52.000000,788.000000,463.000000,805.000000,391.000000,0.914200,162500.000000\n",
            "-122.410000,37.660000,34.000000,1075.000000,318.000000,906.000000,294.000000,3.005200,242500.000000\n",
            "-117.230000,32.730000,36.000000,2052.000000,287.000000,699.000000,265.000000,7.555700,441400.000000\n",
            "-118.330000,34.000000,47.000000,1671.000000,388.000000,895.000000,317.000000,2.205400,121500.000000\n",
            "-117.430000,33.550000,8.000000,446.000000,62.000000,188.000000,68.000000,9.435600,465600.000000\n",
            "-118.360000,34.080000,52.000000,1965.000000,480.000000,794.000000,451.000000,3.282400,304800.000000\n",
            "-121.090000,38.970000,13.000000,1467.000000,221.000000,688.000000,231.000000,5.253600,191900.000000\n",
            "-119.450000,35.150000,33.000000,5050.000000,964.000000,2293.000000,919.000000,3.159200,75400.000000\n",
            "-121.270000,38.640000,22.000000,1597.000000,280.000000,657.000000,273.000000,4.309800,213500.000000\n",
            "-118.000000,33.900000,35.000000,1758.000000,309.000000,972.000000,338.000000,4.383100,209800.000000\n",
            "-118.210000,34.050000,45.000000,2146.000000,607.000000,2868.000000,625.000000,2.121000,144000.000000\n",
            "-122.500000,37.770000,52.000000,2299.000000,441.000000,1252.000000,415.000000,5.056200,336700.000000\n",
            "-122.310000,37.920000,38.000000,1250.000000,236.000000,631.000000,279.000000,3.724000,220100.000000\n",
            "-118.300000,34.000000,40.000000,1131.000000,281.000000,859.000000,230.000000,1.180600,134600.000000\n",
            "-121.840000,38.020000,46.000000,66.000000,22.000000,37.000000,21.000000,0.536000,87500.000000\n",
            "-117.250000,32.800000,30.000000,2061.000000,631.000000,1007.000000,577.000000,2.581300,253100.000000\n",
            "-124.140000,40.600000,27.000000,1148.000000,206.000000,521.000000,219.000000,4.025000,128100.000000\n",
            "-118.180000,34.050000,52.000000,1070.000000,231.000000,925.000000,220.000000,1.825000,133000.000000\n",
            "-119.780000,36.800000,34.000000,3426.000000,623.000000,1938.000000,647.000000,2.899400,66000.000000\n",
            "-122.220000,38.080000,37.000000,2811.000000,539.000000,1574.000000,516.000000,3.105300,96700.000000\n",
            "-118.500000,34.260000,33.000000,2831.000000,510.000000,1340.000000,504.000000,4.831600,237300.000000\n",
            "-118.450000,34.180000,34.000000,1843.000000,442.000000,861.000000,417.000000,3.687500,246400.000000\n",
            "-119.790000,36.310000,25.000000,4984.000000,1029.000000,2414.000000,961.000000,2.293700,72300.000000\n",
            "-117.210000,32.740000,45.000000,3025.000000,583.000000,1980.000000,550.000000,2.298200,87500.000000\n",
            "-122.080000,40.640000,14.000000,3099.000000,519.000000,1447.000000,494.000000,4.013200,141200.000000\n",
            "-122.310000,37.520000,24.000000,2328.000000,335.000000,969.000000,354.000000,7.736400,435800.000000\n",
            "-119.740000,36.760000,36.000000,912.000000,216.000000,842.000000,219.000000,1.476600,52800.000000\n",
            "-118.280000,34.010000,52.000000,795.000000,308.000000,1118.000000,275.000000,1.217500,131300.000000\n",
            "-118.270000,34.110000,39.000000,3825.000000,916.000000,1378.000000,746.000000,4.409400,352600.000000\n",
            "-117.200000,33.160000,13.000000,4503.000000,1137.000000,3094.000000,1091.000000,2.315900,91600.000000\n",
            "-122.330000,37.530000,25.000000,1729.000000,383.000000,769.000000,352.000000,4.041700,458500.000000\n",
            "-120.860000,35.400000,21.000000,2787.000000,641.000000,1106.000000,501.000000,2.704300,186200.000000\n",
            "-119.470000,35.400000,32.000000,2167.000000,421.000000,1301.000000,394.000000,1.971800,69800.000000\n",
            "-117.270000,34.160000,32.000000,2894.000000,427.000000,1151.000000,446.000000,6.223600,159700.000000\n",
            "-121.920000,38.020000,8.000000,2750.000000,479.000000,1526.000000,484.000000,5.102000,156500.000000\n",
            "-121.450000,38.560000,51.000000,1250.000000,235.000000,452.000000,232.000000,2.625000,121200.000000\n",
            "-117.910000,33.840000,16.000000,919.000000,253.000000,912.000000,249.000000,1.590300,165400.000000\n",
            "-118.480000,35.610000,17.000000,4002.000000,930.000000,1614.000000,731.000000,1.623600,67300.000000\n",
            "-118.030000,33.840000,28.000000,3857.000000,857.000000,2328.000000,830.000000,4.015600,196000.000000\n",
            "-118.320000,34.040000,48.000000,1184.000000,328.000000,953.000000,311.000000,2.352600,156300.000000\n",
            "-121.300000,38.890000,23.000000,1750.000000,297.000000,1012.000000,315.000000,3.470600,99300.000000\n",
            "-117.690000,34.070000,34.000000,4055.000000,739.000000,2470.000000,753.000000,3.858600,136000.000000\n",
            "-118.340000,33.940000,36.000000,2796.000000,1041.000000,4033.000000,944.000000,2.488600,160700.000000\n",
            "-121.920000,36.620000,52.000000,2584.000000,599.000000,790.000000,444.000000,2.526300,286400.000000\n",
            "-122.110000,37.410000,27.000000,5110.000000,1599.000000,2764.000000,1482.000000,3.419800,351900.000000\n",
            "-117.650000,34.100000,44.000000,2808.000000,585.000000,1444.000000,550.000000,2.715900,139300.000000\n",
            "-121.800000,38.010000,44.000000,3184.000000,581.000000,1399.000000,548.000000,2.723400,110200.000000\n",
            "-122.660000,38.810000,22.000000,852.000000,176.000000,461.000000,142.000000,3.437500,83300.000000\n",
            "-122.390000,37.780000,3.000000,3464.000000,1179.000000,1441.000000,919.000000,4.710500,275000.000000\n",
            "-117.060000,34.870000,14.000000,3348.000000,619.000000,1756.000000,557.000000,3.598700,91400.000000\n",
            "-121.340000,38.660000,16.000000,3154.000000,860.000000,1837.000000,793.000000,1.980500,92900.000000\n",
            "-121.920000,36.950000,29.000000,3457.000000,699.000000,1327.000000,563.000000,3.659700,252300.000000\n",
            "-122.590000,38.040000,25.000000,3412.000000,455.000000,1238.000000,406.000000,8.364600,397300.000000\n",
            "-118.280000,34.110000,46.000000,1156.000000,203.000000,514.000000,213.000000,4.201900,352100.000000\n",
            "-121.390000,38.600000,22.000000,5773.000000,1320.000000,2607.000000,1250.000000,2.523800,118800.000000\n",
            "-122.330000,40.520000,23.000000,2801.000000,507.000000,1318.000000,454.000000,3.508100,116700.000000\n",
            "-118.200000,34.040000,47.000000,1894.000000,408.000000,1629.000000,379.000000,3.761900,127600.000000\n",
            "-121.960000,37.000000,20.000000,3847.000000,727.000000,1725.000000,737.000000,3.344700,305200.000000\n",
            "-117.890000,33.870000,32.000000,1569.000000,422.000000,835.000000,386.000000,3.046500,148900.000000\n",
            "-117.230000,32.880000,18.000000,5566.000000,1465.000000,6303.000000,1458.000000,1.858000,205000.000000\n",
            "-122.000000,37.120000,17.000000,4413.000000,672.000000,1674.000000,608.000000,6.977200,383300.000000\n",
            "-118.400000,34.280000,22.000000,3517.000000,810.000000,3134.000000,847.000000,2.665200,164800.000000\n",
            "-122.460000,37.760000,52.000000,2236.000000,545.000000,1186.000000,532.000000,3.453100,414300.000000\n",
            "-121.990000,37.540000,18.000000,3584.000000,715.000000,1673.000000,661.000000,3.944400,240100.000000\n",
            "-117.230000,32.740000,16.000000,735.000000,139.000000,299.000000,134.000000,4.635400,179200.000000\n",
            "-121.840000,37.290000,4.000000,2937.000000,648.000000,1780.000000,665.000000,4.385100,160400.000000\n",
            "-118.150000,34.860000,10.000000,4597.000000,1009.000000,2227.000000,821.000000,2.614900,83500.000000\n",
            "-118.330000,33.980000,38.000000,3063.000000,796.000000,2153.000000,721.000000,1.847200,149100.000000\n",
            "-120.680000,35.510000,17.000000,1701.000000,298.000000,941.000000,293.000000,4.321800,209100.000000\n",
            "-117.950000,33.790000,34.000000,2912.000000,520.000000,1625.000000,501.000000,4.466700,190600.000000\n",
            "-117.970000,34.050000,33.000000,1452.000000,268.000000,1274.000000,278.000000,3.656300,162700.000000\n",
            "-119.750000,36.870000,3.000000,13802.000000,2244.000000,5226.000000,1972.000000,5.094100,143700.000000\n",
            "-122.080000,37.350000,35.000000,1347.000000,207.000000,548.000000,189.000000,7.706800,500001.000000\n",
            "-122.320000,37.950000,36.000000,1425.000000,245.000000,573.000000,239.000000,4.350000,185000.000000\n",
            "-122.220000,38.100000,38.000000,931.000000,181.000000,566.000000,207.000000,3.022100,93300.000000\n",
            "-124.090000,40.550000,24.000000,2978.000000,553.000000,1370.000000,480.000000,2.764400,97300.000000\n",
            "-121.500000,38.570000,41.000000,1124.000000,344.000000,807.000000,316.000000,1.471200,94600.000000\n",
            "-118.110000,33.910000,19.000000,3056.000000,759.000000,1561.000000,740.000000,3.136900,196900.000000\n",
            "-121.230000,37.960000,37.000000,2351.000000,564.000000,1591.000000,549.000000,1.656300,57200.000000\n",
            "-121.890000,37.280000,35.000000,2418.000000,375.000000,988.000000,374.000000,6.093600,365400.000000\n",
            "-122.480000,37.650000,39.000000,3348.000000,666.000000,1817.000000,668.000000,4.259300,227400.000000\n",
            "-118.310000,34.090000,36.000000,2517.000000,842.000000,2446.000000,689.000000,2.152400,187500.000000\n",
            "-123.020000,38.810000,35.000000,956.000000,213.000000,488.000000,215.000000,3.025000,140600.000000\n",
            "-120.470000,34.650000,32.000000,2193.000000,430.000000,1074.000000,377.000000,2.333300,130200.000000\n",
            "-122.100000,37.680000,37.000000,2116.000000,503.000000,1109.000000,448.000000,2.535000,174000.000000\n",
            "-122.420000,37.790000,52.000000,3364.000000,1100.000000,2112.000000,1045.000000,2.134300,400000.000000\n",
            "-122.640000,41.630000,19.000000,2722.000000,479.000000,1108.000000,430.000000,3.106200,100000.000000\n",
            "-118.020000,33.910000,34.000000,2518.000000,429.000000,1309.000000,421.000000,4.786100,210700.000000\n",
            "-119.020000,35.360000,48.000000,1833.000000,396.000000,947.000000,363.000000,2.282700,70000.000000\n",
            "-121.330000,38.650000,23.000000,2446.000000,523.000000,1132.000000,513.000000,2.626600,198500.000000\n",
            "-118.080000,33.950000,32.000000,1962.000000,387.000000,1274.000000,398.000000,4.830400,160600.000000\n",
            "-118.080000,33.790000,34.000000,2840.000000,395.000000,1127.000000,396.000000,7.614400,376200.000000\n",
            "-118.230000,33.910000,27.000000,1694.000000,393.000000,1890.000000,373.000000,3.034100,89100.000000\n",
            "-118.290000,33.750000,37.000000,1319.000000,292.000000,766.000000,285.000000,2.703100,218900.000000\n",
            "-118.020000,34.130000,34.000000,1966.000000,319.000000,980.000000,297.000000,7.730700,429000.000000\n",
            "-117.890000,33.600000,36.000000,1496.000000,247.000000,441.000000,203.000000,7.816400,500001.000000\n",
            "-118.230000,34.650000,17.000000,1827.000000,348.000000,766.000000,335.000000,3.567300,136300.000000\n",
            "-118.310000,34.020000,45.000000,1423.000000,278.000000,822.000000,276.000000,2.451900,98100.000000\n",
            "-118.070000,33.800000,34.000000,3486.000000,507.000000,1311.000000,503.000000,7.122100,384500.000000\n",
            "-118.250000,33.940000,43.000000,1113.000000,378.000000,1305.000000,334.000000,1.143400,91300.000000\n",
            "-122.440000,37.710000,52.000000,2711.000000,591.000000,1848.000000,524.000000,3.956700,251500.000000\n",
            "-119.750000,34.500000,26.000000,3563.000000,579.000000,1479.000000,575.000000,5.952200,438400.000000\n",
            "-117.940000,33.940000,26.000000,1962.000000,540.000000,1236.000000,520.000000,2.215600,145000.000000\n",
            "-119.230000,34.170000,18.000000,6171.000000,1490.000000,2164.000000,1210.000000,3.687500,500001.000000\n",
            "-118.110000,34.680000,6.000000,7430.000000,1184.000000,3489.000000,1115.000000,5.326700,140100.000000\n",
            "-122.470000,37.770000,52.000000,2241.000000,443.000000,1042.000000,377.000000,4.163500,398400.000000\n",
            "-120.930000,35.760000,11.000000,8997.000000,1698.000000,1825.000000,756.000000,3.230000,154300.000000\n",
            "-118.140000,34.170000,52.000000,2667.000000,486.000000,1681.000000,504.000000,4.052400,173100.000000\n",
            "-122.730000,38.460000,14.000000,4042.000000,1298.000000,2323.000000,1158.000000,2.065100,135400.000000\n",
            "-117.060000,32.760000,37.000000,2356.000000,476.000000,1231.000000,499.000000,2.965000,155700.000000\n",
            "-120.710000,35.500000,12.000000,3098.000000,453.000000,1433.000000,434.000000,5.250800,292900.000000\n",
            "-118.310000,34.050000,35.000000,1692.000000,423.000000,1578.000000,406.000000,2.531300,305800.000000\n",
            "-119.700000,36.750000,11.000000,3626.000000,779.000000,1819.000000,731.000000,2.495600,87500.000000\n",
            "-121.340000,38.640000,17.000000,2761.000000,501.000000,1128.000000,482.000000,3.756200,139700.000000\n",
            "-117.910000,34.090000,20.000000,4327.000000,1037.000000,2296.000000,963.000000,3.044100,185400.000000\n",
            "-119.760000,36.790000,32.000000,2463.000000,468.000000,1261.000000,486.000000,3.328100,75100.000000\n",
            "-120.660000,35.490000,17.000000,4422.000000,945.000000,2307.000000,885.000000,2.828500,171300.000000\n",
            "-118.280000,34.080000,42.000000,1618.000000,522.000000,1454.000000,440.000000,3.160700,182000.000000\n",
            "-122.540000,37.900000,48.000000,2491.000000,460.000000,937.000000,455.000000,4.437500,370000.000000\n",
            "-117.590000,33.880000,13.000000,3239.000000,849.000000,2751.000000,813.000000,2.611100,107000.000000\n",
            "-120.470000,34.940000,17.000000,1368.000000,308.000000,642.000000,303.000000,1.863300,109400.000000\n",
            "-118.250000,33.930000,42.000000,819.000000,233.000000,899.000000,228.000000,1.134600,85400.000000\n",
            "-121.970000,37.290000,25.000000,4096.000000,743.000000,2027.000000,741.000000,5.329400,300300.000000\n",
            "-122.010000,36.970000,43.000000,2162.000000,509.000000,1208.000000,464.000000,2.541700,260900.000000\n",
            "-122.020000,37.600000,32.000000,1295.000000,295.000000,1097.000000,328.000000,3.238600,149600.000000\n",
            "-118.230000,34.090000,49.000000,1638.000000,456.000000,1500.000000,430.000000,2.692300,150000.000000\n",
            "-117.170000,34.280000,13.000000,4867.000000,718.000000,780.000000,250.000000,7.199700,253800.000000\n",
            "-122.330000,37.390000,52.000000,573.000000,102.000000,232.000000,92.000000,6.226300,500001.000000\n",
            "-117.910000,33.600000,37.000000,2088.000000,510.000000,673.000000,390.000000,5.104800,500001.000000\n",
            "-117.930000,33.860000,35.000000,931.000000,181.000000,516.000000,174.000000,5.586700,182500.000000\n",
            "-119.860000,34.420000,23.000000,1450.000000,642.000000,1258.000000,607.000000,1.179000,225000.000000\n",
            "-118.140000,34.060000,27.000000,5257.000000,1082.000000,3496.000000,1036.000000,3.390600,237200.000000\n",
            "-119.700000,36.300000,10.000000,956.000000,201.000000,693.000000,220.000000,2.289500,62000.000000\n",
            "-117.120000,34.100000,40.000000,96.000000,14.000000,46.000000,14.000000,3.270800,162500.000000\n",
            "-119.630000,34.420000,42.000000,1765.000000,263.000000,753.000000,260.000000,8.560800,500001.000000\n",
            "\n"
          ]
        }
      ]
    },
    {
      "cell_type": "markdown",
      "source": [
        "## Moving a file\n",
        "In Python, you can use the shutil module to move a file from one directory to another.\n",
        "The `shutil.move(src, dst)` function can be used to move a file.\n",
        "\n",
        "src is the path of the file you want to move, and dst is the path of the directory where you want to move the file to. If dst is a directory, the file will be moved into it and retain its original name. If dst is a filename, the file will be renamed to that name."
      ],
      "metadata": {
        "id": "r_U1KBRFlbPQ"
      }
    },
    {
      "cell_type": "code",
      "source": [
        "import shutil\n",
        "shutil.move(/content/sample_data/california_housing_test.csv,/content/sample_data/california_housing_train.csv)"
      ],
      "metadata": {
        "colab": {
          "base_uri": "https://localhost:8080/",
          "height": 168
        },
        "id": "qVtAIQO0nAM7",
        "outputId": "66ab5edc-82f7-4b56-eee9-ed04e6ab11dd"
      },
      "execution_count": null,
      "outputs": [
        {
          "output_type": "error",
          "ename": "SyntaxError",
          "evalue": "ignored",
          "traceback": [
            "\u001b[0;36m  File \u001b[0;32m\"<ipython-input-7-1474586db3e8>\"\u001b[0;36m, line \u001b[0;32m2\u001b[0m\n\u001b[0;31m    shutil.move(/content/sample_data/california_housing_test.csv,/content/sample_data/california_housing_train.csv)\u001b[0m\n\u001b[0m                ^\u001b[0m\n\u001b[0;31mSyntaxError\u001b[0m\u001b[0;31m:\u001b[0m invalid syntax\n"
          ]
        }
      ]
    },
    {
      "cell_type": "markdown",
      "source": [
        "## Delete a file\n",
        "\n",
        "you can use the os module in Python to delete a file. The `os.remove()` function can be used to delete a file by specifying its path."
      ],
      "metadata": {
        "id": "L1FHbOmaFfBJ"
      }
    },
    {
      "cell_type": "code",
      "source": [
        "import os\n",
        "os.remove(\"path/to/file.txt\")"
      ],
      "metadata": {
        "id": "nHjAy4mKGf_-"
      },
      "execution_count": null,
      "outputs": []
    },
    {
      "cell_type": "markdown",
      "source": [
        "You can also use `os.rmdir()` function to remove directories, but it can only remove empty directories."
      ],
      "metadata": {
        "id": "xF6f11HdHEIn"
      }
    },
    {
      "cell_type": "code",
      "source": [
        "import os\n",
        "os.rmdir(\"path/to/directory\")"
      ],
      "metadata": {
        "id": "wVx6m77nHJLk"
      },
      "execution_count": null,
      "outputs": []
    },
    {
      "cell_type": "markdown",
      "source": [
        "If you want to remove a directory and all of its contents, you can use the `shutil` module in python."
      ],
      "metadata": {
        "id": "-dJRxmF0HM_m"
      }
    },
    {
      "cell_type": "code",
      "source": [
        "import shutil\n",
        "shutil.rmtree(\"path/to/directory\")"
      ],
      "metadata": {
        "id": "1FjHuIl3HS-0"
      },
      "execution_count": null,
      "outputs": []
    },
    {
      "cell_type": "markdown",
      "source": [
        "# Module\n",
        "\n",
        "In Python, a module is a single file that contains a collection of Python code, such as functions, variables, and classes. For example, let's say you have a file called \"module.py\" that contains the following Python code:\n"
      ],
      "metadata": {
        "id": "RBX5mespIzWE"
      }
    },
    {
      "cell_type": "markdown",
      "source": [
        "A Python module is a file containing Python definitions, statements, and functions that can be imported into other Python scripts or programs. Modules are used to organize and reuse code, making it easier to manage large codebases and collaborate with other developers.\n",
        "\n",
        "Python comes with a large number of built-in modules, such as \"os\" for operating system interactions, \"sys\" for system-specific parameters and functions, \"math\" for mathematical operations, and \"datetime\" for working with dates and times. In addition to these built-in modules, **there are also many third-party modules available for download and use from the Python Package Index (PyPI).**\n",
        "\n",
        "To use a module in your Python code, you typically start by importing it using the \"import\" statement, like this:"
      ],
      "metadata": {
        "id": "6J7Dz-Thn-Ux"
      }
    },
    {
      "cell_type": "code",
      "source": [
        "import math\n",
        "print(math.sqrt(16))  # prints 4.0"
      ],
      "metadata": {
        "colab": {
          "base_uri": "https://localhost:8080/"
        },
        "id": "Dimv7rHPo0n6",
        "outputId": "51ba4606-2328-4cb0-ae08-1b5b346fce51"
      },
      "execution_count": null,
      "outputs": [
        {
          "output_type": "stream",
          "name": "stdout",
          "text": [
            "4.0\n"
          ]
        }
      ]
    },
    {
      "cell_type": "markdown",
      "source": [
        "You can also import specific functions or variables from a module using the \"from ... import\" statement, like this:"
      ],
      "metadata": {
        "id": "UXCqEbyXo-TG"
      }
    },
    {
      "cell_type": "code",
      "source": [
        "from math import sqrt\n",
        "print(sqrt(16))  # prints 4.0"
      ],
      "metadata": {
        "id": "H7rD1zJSpD7U"
      },
      "execution_count": null,
      "outputs": []
    },
    {
      "cell_type": "markdown",
      "source": [
        "Python modules can also be organized into packages, which are directories containing one or more modules and an \"init.py\" file. Packages can be nested to create a hierarchy of modules and sub-packages."
      ],
      "metadata": {
        "id": "IA0pzUy7pOxe"
      }
    },
    {
      "cell_type": "markdown",
      "source": [
        "To install a Python package from the Python Package Index (PyPI), you can use the pip command-line tool, which is included with most Python installations. Here are the steps to install a package using pip:\n",
        "Open a terminal or command prompt.\n",
        "Type the following command to install the package:"
      ],
      "metadata": {
        "id": "60ESIU76rJ6q"
      }
    },
    {
      "cell_type": "markdown",
      "source": [],
      "metadata": {
        "id": "nnymgqxirA84"
      }
    },
    {
      "cell_type": "code",
      "source": [
        "pip install numpy"
      ],
      "metadata": {
        "colab": {
          "base_uri": "https://localhost:8080/"
        },
        "id": "prEOI8Q7rCJb",
        "outputId": "3ec79794-1853-4ccc-872b-99e7cd5fae98"
      },
      "execution_count": null,
      "outputs": [
        {
          "output_type": "stream",
          "name": "stdout",
          "text": [
            "Looking in indexes: https://pypi.org/simple, https://us-python.pkg.dev/colab-wheels/public/simple/\n",
            "Requirement already satisfied: numpy in /usr/local/lib/python3.8/dist-packages (1.22.4)\n"
          ]
        }
      ]
    },
    {
      "cell_type": "markdown",
      "source": [
        "Note that you may need to add \"sudo\" before the \"pip\" command on some systems to install packages with administrative privileges.\n",
        "Wait for the package to download and install. Pip will display progress messages and a confirmation message when the installation is complete.\n",
        "Once the package is installed, you can import it into your Python code like any other module. For example, to use NumPy, you would add the following line to your code:"
      ],
      "metadata": {
        "id": "O8DmNDISr68C"
      }
    },
    {
      "cell_type": "code",
      "source": [
        "import numpy as np"
      ],
      "metadata": {
        "id": "w6AobcSZtb4V"
      },
      "execution_count": null,
      "outputs": []
    },
    {
      "cell_type": "code",
      "source": [
        "def say_hello():\n",
        "    print(\"Hello, World!\")\n",
        "say_hello()\n",
        "def say_goodbye():\n",
        "    print(\"Goodbye, World!\")\n",
        "say_goodbye()"
      ],
      "metadata": {
        "colab": {
          "base_uri": "https://localhost:8080/"
        },
        "id": "KNUc545QzTsX",
        "outputId": "b801fd7a-36d7-470f-ca77-6cdc0c6d3b97"
      },
      "execution_count": null,
      "outputs": [
        {
          "output_type": "stream",
          "name": "stdout",
          "text": [
            "Hello, World!\n",
            "Goodbye, World!\n"
          ]
        }
      ]
    },
    {
      "cell_type": "markdown",
      "source": [
        "# Object Oriented Programming\n",
        "Object-oriented programming (OOP) is a programming paradigm that is based on the concept of \"objects,\" which are instances of a class. In Python, OOP is implemented through classes, which are templates for creating objects. Each class defines the properties and behaviors of an object, and objects are created from classes.\n",
        "Object means a real-world entity such as a pen, chair, table, computer, watch, etc. Object-Oriented Programming is a methodology or paradigm to design a program using classes and objects. It simplifies software development and maintenance by providing some concepts:\n"
      ],
      "metadata": {
        "id": "u2kecREe03oy"
      }
    },
    {
      "cell_type": "markdown",
      "source": [
        "## Object oriented concepts\n",
        "1. Class\n",
        "2. Objects\n",
        "3. Polymorphism\n",
        "4. Encapsulation\n",
        "5. Inheritance\n",
        "6. Data Abstraction"
      ],
      "metadata": {
        "id": "_Q4n20GquAHC"
      }
    },
    {
      "cell_type": "markdown",
      "source": [
        "### 1. Class\n",
        "\n",
        "A class is a collection of objects. A class contains the blueprints or the prototype from which the objects are being created. It is a logical entity that contains some attributes and methods.\n",
        "some important points of class are:\n",
        "1. Classes are created by keyword class.\n",
        "2. Attributes are the variables that belong to a class.\n",
        "3. Attributes are always public and can be accessed using the dot (.) operator.\n",
        "\n",
        "**Note:** Every class and method in python is public and there is no way to change that. We can only simulate creating private classes and methods by using certain notation and conventions.\n",
        "\n",
        "To declare something as private we use one underscore before the name.\n",
        "\n",
        "for example, A class whose name person is created:"
      ],
      "metadata": {
        "id": "k36VOKSN0cxl"
      }
    },
    {
      "cell_type": "code",
      "source": [
        "class person: # person name class is created.\n",
        "      pass\n",
        "# private class is created\n",
        "class _personghc:\n",
        "      pass\n"
      ],
      "metadata": {
        "id": "gOg6BNUT2Jva"
      },
      "execution_count": null,
      "outputs": []
    },
    {
      "cell_type": "markdown",
      "source": [
        "### 2. objects\n",
        "The object is an entity that has a state and behavior associated with it. It may be any real-world object like a mouse, keyboard, chair, table, pen, etc. Integers, strings, floating-point numbers, even arrays, and dictionaries, are all objects. More specifically, any single integer or any single string is an object. The number 12 is an object, the string “Hello, world” is an object, a list is an object that can hold other objects, and so on. You’ve been using objects all along and may not even realize it.\n",
        "An object consists of :\n",
        "\n",
        "1. State: It is represented by the attributes of an object. It also reflects the properties of an object.\n",
        "2. Behavior: It is represented by the methods of an object. It also reflects the response of an object to other objects.\n",
        "3. Identity: It gives a unique name to an object and enables one object to interact with other objects.\n",
        "\n",
        "To understand the state, behavior, and identity let us take the example of the class person (explained above).\n",
        "\n",
        "The identity can be considered as the name of the person.\n",
        "State or Attributes can be considered as the height, age, or color of the person, favourite food.\n",
        "The behavior can be considered as to whether the person is eating or sleeping."
      ],
      "metadata": {
        "id": "GpwZRlp_2tBG"
      }
    },
    {
      "cell_type": "code",
      "source": [
        "\n",
        "    obj=person()"
      ],
      "metadata": {
        "id": "Pas_3N8d1ibg"
      },
      "execution_count": null,
      "outputs": []
    },
    {
      "cell_type": "code",
      "source": [
        "class Car:\n",
        "    def __init__(self, make, model, year):\n",
        "        self.make = make\n",
        "        self.model = model\n",
        "        self.year = year\n",
        "\n",
        "    def start(self):\n",
        "        print(\"Engine started.\")\n",
        "\n",
        "    def stop(self):\n",
        "        print(\"Engine stopped.\")\n",
        "\n",
        "my_car = Car(\"Tesla\", \"Model S\", 2022)\n",
        "my_car.start()"
      ],
      "metadata": {
        "colab": {
          "base_uri": "https://localhost:8080/"
        },
        "id": "rFqwDOvl2zz9",
        "outputId": "65dba92e-3a27-45a5-fb2a-ca80a550b890"
      },
      "execution_count": null,
      "outputs": [
        {
          "output_type": "stream",
          "name": "stdout",
          "text": [
            "Engine started.\n"
          ]
        }
      ]
    },
    {
      "cell_type": "markdown",
      "source": [
        "Here, the class Car has a constructor `__init__()` method which accept 3 parameters make, model, year and it has 2 methods `start()` and `stop()` and 3 attributes make, model and year. we create object my_car of class Car and set the attributes and call its methods.\n",
        "\n",
        "In Python, OOP concepts like inheritance, polymorphism, encapsulation and abstraction are also supported.\n",
        "\n",
        "It's important to note that the way OOP is implemented in Python is somewhat different from other languages like C++ and Java, but the basic concepts are the same."
      ],
      "metadata": {
        "id": "fefMXQi14CPH"
      }
    },
    {
      "cell_type": "markdown",
      "source": [
        "### Polymorphism\n",
        "It is one of the concept of OOPS. Polymorphism means more than one form."
      ],
      "metadata": {
        "id": "4MnE8JupME5q"
      }
    },
    {
      "cell_type": "code",
      "source": [
        "class triangle:\n",
        "    # method to render a shape\n",
        "    def render(self):\n",
        "        print(\"Rendering triangle...\")\n",
        "\n",
        "class righttriangle(triangle):\n",
        "    # renders righttriangle\n",
        "    def render(self):\n",
        "        print(\"Rendering righttriangle...\")\n",
        "\n",
        "class acute(triangle):\n",
        "    # renders acute\n",
        "    def render(self):\n",
        "        print(\"Rendering acute...\")\n",
        "\n",
        "# create an object of Square\n",
        "s1 = righttriangle()\n",
        "s1.render()\n",
        "\n",
        "# create an object of Circle\n",
        "c1 = acute()\n",
        "c1.render()"
      ],
      "metadata": {
        "colab": {
          "base_uri": "https://localhost:8080/"
        },
        "id": "l1S0dgJtP8xL",
        "outputId": "1e92a272-80a7-40de-8a9a-e0b3ed31f2b2"
      },
      "execution_count": null,
      "outputs": [
        {
          "output_type": "stream",
          "name": "stdout",
          "text": [
            "Rendering righttriangle...\n",
            "Rendering acute...\n"
          ]
        }
      ]
    },
    {
      "cell_type": "markdown",
      "source": [
        "In the above example, we have created a superclass: triangle and two subclasses: righttriangle and acute. Notice the use of the render() method.\n",
        "\n",
        "The main purpose of the render() method is to render the shape. However, the process of rendering a righttriangle is different from the process of rendering a acute.\n",
        "Hence, the render() method behaves differently in different classes. Or, we can say render() is polymorphic."
      ],
      "metadata": {
        "id": "OcgsU8UERHPD"
      }
    },
    {
      "cell_type": "markdown",
      "source": [
        "### Inheritance\n",
        "It is an important aspect of the object-oriented paradigm. Inheritance provides code reusability to the program because we can use an existing class to create a new class instead of creating it from scratch.\n",
        "\n",
        "In inheritance, the child class acquires the properties and can access all the data members and functions defined in the parent class. A child class can also provide its specific implementation to the functions of the parent class. In this section of the tutorial, we will discuss inheritance in detail.\n",
        "\n",
        "In python, a derived class can inherit base class by just mentioning the base in the bracket after the derived class name. Consider the following syntax to inherit a base class into the derived class.\n",
        "This is the syntax of inheritance\n",
        "\n",
        "`Class BaseClass:`\n",
        "\n",
        "    `{Body}`\n",
        "\n",
        "\n",
        "`Class DerivedClass(BaseClass):`\n",
        "\n",
        "\n",
        "    `{Body}`"
      ],
      "metadata": {
        "id": "ENv4aHelTFDJ"
      }
    },
    {
      "cell_type": "code",
      "source": [
        "class Animal:\n",
        "   alive = True        # Class variable\n",
        "\n",
        "   def eat(self):\n",
        "       print(\"This animal is eating\")\n",
        "\n",
        "   def sleep(self):\n",
        "       print(\"This animal is sleeping\")\n",
        "\n",
        "class Rabbit(Animal):       # Rabbit= child; Animal= parent class\n",
        "   def run(self):\n",
        "       print(\"This rabbit is running\")\n",
        "\n",
        "class Fish(Animal):\n",
        "   def swim(self):\n",
        "       print(\"This fish is swimming\")\n",
        "\n",
        "class Hawk(Animal):\n",
        "   def fly(self):\n",
        "       print(\"This hawk is flying\")\n",
        "rabbit = Rabbit()\n",
        "fish = Fish()\n",
        "hawk = Hawk()\n",
        "\n",
        "print(rabbit.alive)\n",
        "print(rabbit.run())\n",
        "print(fish.swim())\n",
        "print(hawk.fly())"
      ],
      "metadata": {
        "colab": {
          "base_uri": "https://localhost:8080/"
        },
        "id": "b5KvmzfDlayR",
        "outputId": "62fc2cf4-7b69-4167-8158-c4faae001e7a"
      },
      "execution_count": null,
      "outputs": [
        {
          "output_type": "stream",
          "name": "stdout",
          "text": [
            "True\n",
            "This rabbit is running\n",
            "None\n",
            "This fish is swimming\n",
            "None\n",
            "This hawk is flying\n",
            "None\n"
          ]
        }
      ]
    },
    {
      "cell_type": "markdown",
      "source": [
        "##### Multi level Inheritance:\n",
        "when a derived class (child) inherits another derived class (child). for example"
      ],
      "metadata": {
        "id": "dbDCrpJCl_Qr"
      }
    },
    {
      "cell_type": "code",
      "source": [
        "class Person(): # Base class\n",
        "\n",
        "   def Name(self):\n",
        "       print (\"Employee Name: Khush\")\n",
        "\n",
        "class salary(Person): # child1 class is derived from base class\n",
        "   def Salary(self):\n",
        "       print (\"Salary: 10000\")\n",
        "\n",
        "class Designation(salary):# another child2 class is derived from child1 class\n",
        "   def desig(self):\n",
        "       print (\"Designation: Test Engineer\")\n",
        "\n",
        "call = Designation()\n",
        "call.Name()\n",
        "call.Salary()\n",
        "call.desig()"
      ],
      "metadata": {
        "colab": {
          "base_uri": "https://localhost:8080/"
        },
        "id": "Rnhaiqli59LY",
        "outputId": "72faf84e-390c-4f92-db0b-6693b189fbe9"
      },
      "execution_count": null,
      "outputs": [
        {
          "output_type": "stream",
          "name": "stdout",
          "text": [
            "Employee Name: Khush\n",
            "Salary: 10000\n",
            "Designation: Test Engineer\n"
          ]
        }
      ]
    },
    {
      "cell_type": "markdown",
      "source": [
        "##### Multiple Inheritance\n",
        "\n",
        "When a class is derived from more than one base class it is called multiple Inheritance. The derived class inherits all the features of the base case."
      ],
      "metadata": {
        "id": "2aCMl4B7Q72e"
      }
    },
    {
      "cell_type": "code",
      "source": [
        "class Class1:\n",
        "    def m1(self):\n",
        "        print(\"In Class1\")\n",
        "\n",
        "class Class2(Class1):\n",
        "    def m2(self):\n",
        "        print(\"In Class2\")\n",
        "\n",
        "class Class3(Class1):\n",
        "    def m3(self):\n",
        "        print(\"In Class3\")\n",
        "\n",
        "class Class4(Class2, Class3):\n",
        "    pass\n",
        "\n",
        "obj = Class4()\n",
        "obj.m1()\n",
        "obj.m2()\n",
        "obj.m3()\n"
      ],
      "metadata": {
        "colab": {
          "base_uri": "https://localhost:8080/"
        },
        "id": "_eSozj2OSCTc",
        "outputId": "cf4a03d2-b59a-46b7-a94e-decfe966cfb9"
      },
      "execution_count": null,
      "outputs": [
        {
          "output_type": "stream",
          "name": "stdout",
          "text": [
            "In Class1\n",
            "In Class2\n",
            "In Class3\n"
          ]
        }
      ]
    },
    {
      "cell_type": "markdown",
      "source": [
        "In this code, child class is derived from two base class. for example:"
      ],
      "metadata": {
        "id": "RTn504jSUsSW"
      }
    },
    {
      "cell_type": "code",
      "source": [
        "class Personid():\n",
        "\n",
        "   def Name(self):\n",
        "       print (\"Employee Name: Alex\")\n",
        "\n",
        "class salary():\n",
        "   def Salary(self):\n",
        "       print (\"Salary: 10000\")\n",
        "\n",
        "class Designation(Personid, salary):\n",
        "   def desig(self):\n",
        "       print (\"Designation: Test Engineer\")\n",
        "\n",
        "call = Designation()\n",
        "call.Name()\n",
        "call.Salary()\n",
        "call.desig()"
      ],
      "metadata": {
        "colab": {
          "base_uri": "https://localhost:8080/"
        },
        "id": "zrMIZU8vUrDt",
        "outputId": "365704fb-fb4e-4012-fcea-41cc89f4ac60"
      },
      "execution_count": null,
      "outputs": [
        {
          "output_type": "stream",
          "name": "stdout",
          "text": [
            "Employee Name: Alex\n",
            "Salary: 10000\n",
            "Designation: Test Engineer\n"
          ]
        }
      ]
    },
    {
      "cell_type": "markdown",
      "source": [
        "### Encapsulation\n",
        "Encapsulation in Python refers to the practice of hiding the internal details of an object and exposing only the necessary information to the outside world. This can be achieved through the use of private and protected attributes and methods, which are not directly accessible from outside the class. Encapsulation can help to protect the integrity of an object's data and behavior, and make the code more maintainable and easier to understand."
      ],
      "metadata": {
        "id": "W9HGD18lWlyc"
      }
    },
    {
      "cell_type": "code",
      "source": [
        "class BankAccount:\n",
        "    def __init__(self, balance):\n",
        "        self.__balance = balance # using double underscore to make it private\n",
        "\n",
        "    def get_balance(self):\n",
        "        return self.__balance\n",
        "\n",
        "    def set_balance(self, amount):\n",
        "        if amount < 0:\n",
        "            raise ValueError(\"Invalid balance\")\n",
        "        self.__balance = amount\n",
        "\n",
        "# creating object of BankAccount\n",
        "acct = BankAccount(100)\n",
        "\n",
        "# trying to access the private attribute directly\n",
        "print(acct.__balance)  # this will raise an AttributeError\n",
        "\n",
        "# accessing the attribute via method\n",
        "print(acct.get_balance()) # this will return the current balance\n",
        "\n",
        "# setting the attribute via method\n",
        "acct.set_balance(200)\n",
        "print(acct.get_balance()) # this will return the updated balance"
      ],
      "metadata": {
        "colab": {
          "base_uri": "https://localhost:8080/",
          "height": 235
        },
        "id": "hQvcltxEnQlS",
        "outputId": "51256777-d8ad-457c-e6e5-2812827587d3"
      },
      "execution_count": null,
      "outputs": [
        {
          "output_type": "error",
          "ename": "AttributeError",
          "evalue": "ignored",
          "traceback": [
            "\u001b[0;31m---------------------------------------------------------------------------\u001b[0m",
            "\u001b[0;31mAttributeError\u001b[0m                            Traceback (most recent call last)",
            "\u001b[0;32m<ipython-input-9-97bb9791df98>\u001b[0m in \u001b[0;36m<module>\u001b[0;34m\u001b[0m\n\u001b[1;32m     15\u001b[0m \u001b[0;34m\u001b[0m\u001b[0m\n\u001b[1;32m     16\u001b[0m \u001b[0;31m# trying to access the private attribute directly\u001b[0m\u001b[0;34m\u001b[0m\u001b[0;34m\u001b[0m\u001b[0;34m\u001b[0m\u001b[0m\n\u001b[0;32m---> 17\u001b[0;31m \u001b[0mprint\u001b[0m\u001b[0;34m(\u001b[0m\u001b[0macct\u001b[0m\u001b[0;34m.\u001b[0m\u001b[0m__balance\u001b[0m\u001b[0;34m)\u001b[0m  \u001b[0;31m# this will raise an AttributeError\u001b[0m\u001b[0;34m\u001b[0m\u001b[0;34m\u001b[0m\u001b[0m\n\u001b[0m\u001b[1;32m     18\u001b[0m \u001b[0;34m\u001b[0m\u001b[0m\n\u001b[1;32m     19\u001b[0m \u001b[0;31m# accessing the attribute via method\u001b[0m\u001b[0;34m\u001b[0m\u001b[0;34m\u001b[0m\u001b[0;34m\u001b[0m\u001b[0m\n",
            "\u001b[0;31mAttributeError\u001b[0m: 'BankAccount' object has no attribute '__balance'"
          ]
        }
      ]
    },
    {
      "cell_type": "markdown",
      "source": [
        "In this example, the balance attribute is made private by using double underscores (__) in the name. This means that it cannot be directly accessed from outside the class. Instead, the get_balance and set_balance methods are used to access and modify the balance. This encapsulation helps to protect the integrity of the balance attribute and prevent it from being modified in an invalid way."
      ],
      "metadata": {
        "id": "Pp6-uzVZnndh"
      }
    },
    {
      "cell_type": "markdown",
      "source": [
        "### Data Abstraction\n",
        "\n",
        "Abstraction is used to hide the internal functionality of the function from the users. The users only interact with the basic implementation of the function, but inner working is hidden. User is familiar with that \"what function does\" but they don't know \"how it does.\""
      ],
      "metadata": {
        "id": "vySoGBZtoAbM"
      }
    },
    {
      "cell_type": "code",
      "source": [
        "class Shape:\n",
        "    def __init__(self, color):\n",
        "        self.color = color\n",
        "\n",
        "    def get_color(self):\n",
        "        return self.color\n",
        "\n",
        "    def area(self):\n",
        "        pass\n",
        "\n",
        "class Square(Shape):\n",
        "    def __init__(self, color, side):\n",
        "        super().__init__(color)\n",
        "        self.side = side\n",
        "\n",
        "    def area(self):\n",
        "        return self.side ** 2\n",
        "\n",
        "class Circle(Shape):\n",
        "    def __init__(self, color, radius):\n",
        "        super().__init__(color)\n",
        "        self.radius = radius\n",
        "\n",
        "    def area(self):\n",
        "        return 3.14 * self.radius ** 2"
      ],
      "metadata": {
        "id": "GcWkulw2o-q8"
      },
      "execution_count": null,
      "outputs": []
    },
    {
      "cell_type": "markdown",
      "source": [
        "In this example, the Shape class is an abstract class that defines the interface for a shape, which includes the color and the area() method. The Square and Circle classes are concrete classes that inherit from the Shape class and provide the implementation for the area() method specific to their shape. The area() method is defined as pass in the Shape class, this is so because it is not possible to calculate the area of an abstract shape, but the area can be calculated for specific shapes like square, circle etc.\n",
        "\n",
        "The user can work with the Square and Circle classes, but they do not need to know the details of how the area is calculated. This abstraction allows for a separation of concerns and makes the code more modular and easier to understand."
      ],
      "metadata": {
        "id": "H931mZwDp3CF"
      }
    },
    {
      "cell_type": "markdown",
      "source": [
        "# Logging\n",
        "\n",
        "For simple scripts we use print() to check if a program or a part of it is executed properly without any hindrance; but in case of complex scripts we use logging.\n",
        "Logging module in python enables to write status messages in output streams. The basic objective of logging is to record events when a program runs.\n",
        "\n",
        "The five build-in levels of log message based on the severity level are as follows:\n",
        "`Info`: this message indicates that a program is working as expected.\n",
        "`Debug`: is used when we need detailed information when diagnosing problems.\n",
        "`Warning`: indicates unexpected events or some issues that may get serious in future and can hinder the execution.\n",
        "`Error`: this reflects more serious problems due to which a program could not perform some function.\n",
        "`Critical`: reflects serious error due to which the program becomes unable to run.\n",
        "\n",
        "By default the logging module logs messages in accordance with the level of severity which includes Warning log message or above. For example:\n",
        "\n"
      ],
      "metadata": {
        "id": "QSSsrEB6VMIO"
      }
    },
    {
      "cell_type": "code",
      "source": [
        "import logging\n",
        "logging.debug('This is a debug message')\n",
        "logging.info('This is an info message')\n",
        "logging.warning('This is a warning message')\n",
        "logging.error('This is an error message')\n",
        "logging.critical('This is a critical message')"
      ],
      "metadata": {
        "colab": {
          "base_uri": "https://localhost:8080/"
        },
        "id": "m3b1ecfoUEg0",
        "outputId": "c3ea3684-b054-4cf3-f620-3df25c39b801"
      },
      "execution_count": null,
      "outputs": [
        {
          "output_type": "stream",
          "name": "stderr",
          "text": [
            "WARNING:root:This is a warning message\n",
            "ERROR:root:This is an error message\n",
            "CRITICAL:root:This is a critical message\n"
          ]
        }
      ]
    },
    {
      "cell_type": "markdown",
      "source": [
        "# General structure for Python\n",
        "Python module names should be short, in lowercase. Using special characters like (.), (?), (*) must be avoided as naming the modules in such a way may interfere with the way how modules are seen in Python.\n",
        "Underscores in the module name should be avoided and submodules must be taken into consideration when required.\n",
        "** Difference between import and from import:**\n",
        "import: this will import the whole library.\n",
        "from import: will import specific members of the library. We use this when we want to avoid writing module names multiple times.\n",
        "\n"
      ],
      "metadata": {
        "id": "5O4iqnQo2BgP"
      }
    },
    {
      "cell_type": "markdown",
      "source": [],
      "metadata": {
        "id": "6mKk8x_Dnb_i"
      }
    },
    {
      "cell_type": "markdown",
      "source": [],
      "metadata": {
        "id": "0tMfhseimSS_"
      }
    },
    {
      "cell_type": "markdown",
      "source": [
        "# Python module\n",
        "\n",
        "Python module is used to organise and resuse the same code in different projects. By making module, we are reducing our work to write same code again.\n"
      ],
      "metadata": {
        "id": "ex7nMeYro7CX"
      }
    },
    {
      "cell_type": "markdown",
      "source": [
        "## Steps to create Python module\n",
        "\n",
        "1. firstly, decide the topic, on which you want to make module, it can be anything like string For example, if you're creating a module for working with strings, you might call it \"mystrings.py\".\n",
        "Creating a Python module involves the following steps:\n",
        "\n",
        "Creating a new file:\n",
        "2. Open your preferred code editor and create a new file.\n",
        "3. Save the file with a name that reflects the purpose of your module. The name should end with the \".py\" file extension.\n",
        "Organizing code:\n",
        "4. Add the code that you want to include in your module. Organize the code into functions, classes, or other logical units.\n",
        "Define any necessary variables or constants that will be used in the module.\n",
        "5. Adding a docstring:\n",
        "Add a docstring to the top of the module file. A docstring is a multi-line string that describes the purpose and functionality of the module.\n",
        "The docstring should be enclosed in triple quotes and should provide a concise and clear explanation of what the module does.\n",
        "Here's an example of a simple Python module that includes a docstring:\n"
      ],
      "metadata": {
        "id": "O6W5gQVXrHTV"
      }
    },
    {
      "cell_type": "code",
      "source": [
        "# mystrings.py\n",
        "\n",
        "\"\"\"\n",
        "This is a sample module that provides some useful string functions.\n",
        "\"\"\"\n",
        "\n",
        "def count_chars(s):\n",
        "    \"\"\"\n",
        "    Counts the number of characters in a string and returns the result.\n",
        "\n",
        "    Args:\n",
        "        s (str): The input string.\n",
        "\n",
        "    Returns:\n",
        "        int: The number of characters in the string.\n",
        "    \"\"\"\n",
        "    return len(s)\n",
        "\n",
        "def reverse_string(s):\n",
        "    \"\"\"\n",
        "    Reverses a string and returns the result.\n",
        "\n",
        "    Args:\n",
        "        s (str): The input string.\n",
        "\n",
        "    Returns:\n",
        "        str: The reversed string.\n",
        "    \"\"\"\n",
        "    return s[::-1]"
      ],
      "metadata": {
        "id": "O8T9YtpPLCNA"
      },
      "execution_count": null,
      "outputs": []
    },
    {
      "cell_type": "code",
      "source": [
        "#mydiv.py\n",
        "def div(a, b):\n",
        "    return (a/b)\n",
        "\"\"\" first take the input from users and then perform the division operation \"\"\"\n",
        "\n",
        "a = int(input('Enter 1st number: '))\n",
        "b = int(input('Enter 2nd number: '))\n",
        "\n",
        "print(f'division of {a} and {b} is {div(a, b)}')"
      ],
      "metadata": {
        "colab": {
          "base_uri": "https://localhost:8080/"
        },
        "id": "Li4S06czAPKM",
        "outputId": "dabadd1c-ed97-456e-983b-53abbba9a9ca"
      },
      "execution_count": null,
      "outputs": [
        {
          "output_type": "stream",
          "name": "stdout",
          "text": [
            "Enter 1st number: 44\n",
            "Enter 2nd number: 44\n",
            "division of 44 and 44 is 1.0\n"
          ]
        }
      ]
    },
    {
      "cell_type": "markdown",
      "source": [
        "## Testing a module\n",
        "The next step is testing the module. Testing a module is essential to ensure that it works as intended, is reliable, and free from bugs. A module that has not been thoroughly tested can lead to unexpected results, crashes, and can cause errors in other programs that depend on it. testing a module help in reduce cost, ensure correctness, detect bugs, improve realibility and increase confidence.\n",
        "There are various testing approaches and tools available for testing Python modules, including unit testing, integration testing, functional testing, performance testing, and code coverage testing. These tools can help ensure the reliability and functionality of a module, leading to more robust, efficient, and maintainable code."
      ],
      "metadata": {
        "id": "iU7xhKB-BYAa"
      }
    }
  ],
  "metadata": {
    "colab": {
      "provenance": [],
      "include_colab_link": true
    },
    "kernelspec": {
      "display_name": "Python 3",
      "name": "python3"
    },
    "language_info": {
      "name": "python"
    }
  },
  "nbformat": 4,
  "nbformat_minor": 0
}