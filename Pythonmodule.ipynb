{
  "nbformat": 4,
  "nbformat_minor": 0,
  "metadata": {
    "colab": {
      "provenance": [],
      "authorship_tag": "ABX9TyP5IGBADKxzw8pjaqM8bEuf",
      "include_colab_link": true
    },
    "kernelspec": {
      "name": "python3",
      "display_name": "Python 3"
    },
    "language_info": {
      "name": "python"
    }
  },
  "cells": [
    {
      "cell_type": "markdown",
      "metadata": {
        "id": "view-in-github",
        "colab_type": "text"
      },
      "source": [
        "<a href=\"https://colab.research.google.com/github/nepeur/LearningPython/blob/Sheetal/Pythonmodule.ipynb\" target=\"_parent\"><img src=\"https://colab.research.google.com/assets/colab-badge.svg\" alt=\"Open In Colab\"/></a>"
      ]
    },
    {
      "cell_type": "markdown",
      "source": [],
      "metadata": {
        "id": "RA00PGOwyLhx"
      }
    },
    {
      "cell_type": "markdown",
      "source": [],
      "metadata": {
        "id": "cfXC-Kn3WAsD"
      }
    },
    {
      "cell_type": "markdown",
      "source": [
        "# Introduction\n",
        "Python module is used to organise and resuse the same code in different projects.\n",
        "By creating module, we are reducing our work to write same code again.It is helping to resuce the complexity of code.\n"
      ],
      "metadata": {
        "id": "IDWLN8z8yMen"
      }
    },
    {
      "cell_type": "markdown",
      "source": [
        "## Steps to create Python module\n",
        "\n",
        "1. firstly, decide the topic, on which you want to make module, it can be anything like string For example, if you're creating a module for working with strings, you might call it \"mystrings.py\".\n",
        "Creating a Python module involves the following steps:\n",
        "\n",
        "Creating a new file:\n",
        "2. Open your preferred code editor and create a new file.\n",
        "3. Save the file with a name that reflects the purpose of your module. The name should end with the \".py\" file extension.\n",
        "Organizing code:\n",
        "4. Add the code that you want to include in your module. Organize the code into functions, classes, or other logical units.\n",
        "Define any necessary variables or constants that will be used in the module.\n",
        "5. Adding a docstring:\n",
        "Add a docstring to the top of the module file. A docstring is a multi-line string that describes the purpose and functionality of the module.\n",
        "The docstring should be enclosed in triple quotes and should provide a concise and clear explanation of what the module does.\n",
        "Here's an example of a simple Python module that includes a docstring:\n"
      ],
      "metadata": {
        "id": "O6W5gQVXrHTV"
      }
    },
    {
      "cell_type": "code",
      "source": [
        "# mystrings.py\n",
        "\n",
        "\"\"\"\n",
        "This is a sample module that provides some useful string functions.\n",
        "\"\"\"\n",
        "\n",
        "def count_chars(s):\n",
        "    \"\"\"\n",
        "    Counts the number of characters in a string and returns the result.\n",
        "\n",
        "    Args:\n",
        "        s (str): The input string.\n",
        "\n",
        "    Returns:\n",
        "        int: The number of characters in the string.\n",
        "    \"\"\"\n",
        "    return len(s)\n",
        "\n",
        "def reverse_string(s):\n",
        "    \"\"\"\n",
        "    Reverses a string and returns the result.\n",
        "\n",
        "    Args:\n",
        "        s (str): The input string.\n",
        "\n",
        "    Returns:\n",
        "        str: The reversed string.\n",
        "    \"\"\"\n",
        "    return s[::-1]"
      ],
      "metadata": {
        "id": "O8T9YtpPLCNA"
      },
      "execution_count": null,
      "outputs": []
    },
    {
      "cell_type": "markdown",
      "source": [
        "Here, we have created a code that takes the string s. Firstly, we counted the length of the string s using the len function, and then we reversed the string."
      ],
      "metadata": {
        "id": "a-0a26kEV-DG"
      }
    },
    {
      "cell_type": "markdown",
      "source": [
        "# Creating a python directory\n",
        "\n",
        "To create a project directory in Python, you can simply create a new folder on your computer and give it a name that represents your project. For example, if your project is called \"firstproject\", you can create a folder named \"firstproject\"."
      ],
      "metadata": {
        "id": "Os9S4g9RgkBk"
      }
    },
    {
      "cell_type": "code",
      "source": [
        "!mkdir projectname"
      ],
      "metadata": {
        "id": "MTcBzwuRWBgH"
      },
      "execution_count": null,
      "outputs": []
    },
    {
      "cell_type": "markdown",
      "source": [
        " # Initializing the project with __init__.py file\n",
        "To initialize the project with an init.py file, you can create a new file inside the project directory and name it \"init.py\". This file is used to mark the directory as a Python package, and it can contain initialization code that will be executed when the package is imported."
      ],
      "metadata": {
        "id": "GlipnjE8kKz0"
      }
    },
    {
      "cell_type": "code",
      "source": [
        "%%writefile projectname/obj1.py\n",
        "class one():\n",
        "     def __init__():\n",
        "       print(\"one\")"
      ],
      "metadata": {
        "colab": {
          "base_uri": "https://localhost:8080/"
        },
        "id": "-HrcIFsUW7VZ",
        "outputId": "bc0f48e2-7ceb-4ad6-be0b-6063abd58147"
      },
      "execution_count": null,
      "outputs": [
        {
          "output_type": "stream",
          "name": "stdout",
          "text": [
            "Writing projectname/obj1.py\n"
          ]
        }
      ]
    },
    {
      "cell_type": "code",
      "source": [
        "%%writefile projectname/obj2.py\n",
        "class two():  \n",
        "  def __init__():\n",
        "       print(\"two\")"
      ],
      "metadata": {
        "colab": {
          "base_uri": "https://localhost:8080/"
        },
        "id": "-oynluzcXoyj",
        "outputId": "8527460f-1a21-428c-b83d-fe5cde8ebb29"
      },
      "execution_count": null,
      "outputs": [
        {
          "output_type": "stream",
          "name": "stdout",
          "text": [
            "Writing projectname/obj2.py\n"
          ]
        }
      ]
    },
    {
      "cell_type": "code",
      "source": [
        "%%writefile projectname/__init__.py\n",
        "from projectname.obj1 import one\n",
        "from projectname.obj2 import two\n",
        "%run __init__.py"
      ],
      "metadata": {
        "colab": {
          "base_uri": "https://localhost:8080/"
        },
        "id": "vQm-BIeF6I5L",
        "outputId": "1a88e2a7-2c50-4487-b8e5-19ad73290557"
      },
      "execution_count": null,
      "outputs": [
        {
          "output_type": "stream",
          "name": "stdout",
          "text": [
            "Overwriting projectname/__init__.py\n"
          ]
        }
      ]
    },
    {
      "cell_type": "code",
      "source": [
        "%%writefile final.py\n",
        "import projectname\n",
        "o=one()\n",
        "p=two()"
      ],
      "metadata": {
        "colab": {
          "base_uri": "https://localhost:8080/"
        },
        "id": "7c81Vo1B_GIK",
        "outputId": "1f79e07c-e6b7-42fc-8e3e-a7cb6c44010b"
      },
      "execution_count": null,
      "outputs": [
        {
          "output_type": "stream",
          "name": "stdout",
          "text": [
            "Overwriting final.py\n"
          ]
        }
      ]
    },
    {
      "cell_type": "code",
      "source": [
        "%run final.py"
      ],
      "metadata": {
        "colab": {
          "base_uri": "https://localhost:8080/",
          "height": 203
        },
        "id": "Uw5xjSGexye7",
        "outputId": "f4990407-6aac-42df-9611-584582e97458"
      },
      "execution_count": null,
      "outputs": [
        {
          "output_type": "error",
          "ename": "NameError",
          "evalue": "ignored",
          "traceback": [
            "\u001b[0;31m---------------------------------------------------------------------------\u001b[0m",
            "\u001b[0;31mNameError\u001b[0m                                 Traceback (most recent call last)",
            "\u001b[0;32m/content/final.py\u001b[0m in \u001b[0;36m<module>\u001b[0;34m\u001b[0m\n\u001b[1;32m      1\u001b[0m \u001b[0;32mimport\u001b[0m \u001b[0mprojectname\u001b[0m\u001b[0;34m\u001b[0m\u001b[0;34m\u001b[0m\u001b[0m\n\u001b[0;32m----> 2\u001b[0;31m \u001b[0mo\u001b[0m\u001b[0;34m=\u001b[0m\u001b[0mone\u001b[0m\u001b[0;34m(\u001b[0m\u001b[0;34m)\u001b[0m\u001b[0;34m\u001b[0m\u001b[0;34m\u001b[0m\u001b[0m\n\u001b[0m\u001b[1;32m      3\u001b[0m \u001b[0mp\u001b[0m\u001b[0;34m=\u001b[0m\u001b[0mtwo\u001b[0m\u001b[0;34m(\u001b[0m\u001b[0;34m)\u001b[0m\u001b[0;34m\u001b[0m\u001b[0;34m\u001b[0m\u001b[0m\n",
            "\u001b[0;31mNameError\u001b[0m: name 'one' is not defined"
          ]
        }
      ]
    },
    {
      "cell_type": "markdown",
      "source": [],
      "metadata": {
        "id": "BXkd9oR3AEB2"
      }
    },
    {
      "cell_type": "markdown",
      "source": [],
      "metadata": {
        "id": "fD7OLIo9AuQj"
      }
    },
    {
      "cell_type": "markdown",
      "source": [
        "# Understanding setup.py and setup.cfg files\n",
        "\n",
        "To build and distribute your Python package, you need to create a setup.py file and a setup.cfg file in the root directory of your project. The setup.py file contains metadata about your package, such as its name, version, author, and description. It also defines the packages that should be included in the distribution.\n",
        "\n",
        "The setup.cfg file contains configuration settings for the build and distribution process. For example, you can use it to specify the file formats that should be generated, or to customize the build process."
      ],
      "metadata": {
        "id": "eAVbsohImqLn"
      }
    },
    {
      "cell_type": "markdown",
      "source": [
        "# Installing setuptools package for building the module\n",
        "To build and distribute your package, you need to install the setuptools package, which is a Python library that provides tools for building and distributing packages. You can install it using pip, the Python package installer, by running the following command in your terminal:"
      ],
      "metadata": {
        "id": "IZDMRg6ksCZf"
      }
    },
    {
      "cell_type": "code",
      "source": [
        "!mkdir pip_installation_package"
      ],
      "metadata": {
        "id": "IHGCY9kDDDU8",
        "colab": {
          "base_uri": "https://localhost:8080/"
        },
        "outputId": "3ff15f0b-450c-4c0e-9617-822b2f5cb273"
      },
      "execution_count": null,
      "outputs": [
        {
          "output_type": "stream",
          "name": "stdout",
          "text": [
            "mkdir: cannot create directory ‘pip_installation_package’: File exists\n"
          ]
        }
      ]
    },
    {
      "cell_type": "code",
      "source": [
        "!mkdir pip_installation_package/project_1"
      ],
      "metadata": {
        "colab": {
          "base_uri": "https://localhost:8080/"
        },
        "id": "1XVE-SyYDXt_",
        "outputId": "02ef1487-5e2f-4afc-93eb-fc78fc0e187b"
      },
      "execution_count": null,
      "outputs": [
        {
          "output_type": "stream",
          "name": "stdout",
          "text": [
            "mkdir: cannot create directory ‘pip_installation_package/project_1’: File exists\n"
          ]
        }
      ]
    },
    {
      "cell_type": "code",
      "source": [
        "%%writefile pip_installation_package/setup.py\n",
        "import setup.tools\n",
        "setuptools.setup(\n",
        "  include_package_date=True,\n",
        "  name=project_1\n",
        "  version='google colab'\n",
        "  description=\"project1 module\"\n",
        "  url=''\n",
        "  author='Sheetal'\n",
        "  author_email='sheetal.varshney@nepeur'\n",
        "  packages=setuptools.find_packages()\n",
        "  install_requires=\n",
        "  long_description=\n",
        "  long_description_contenttype=\n",
        "  classifiers="
      ],
      "metadata": {
        "colab": {
          "base_uri": "https://localhost:8080/"
        },
        "id": "kpQ_nJlri17q",
        "outputId": "ab92fe6b-eaf7-4137-955a-eaf971f3c931"
      },
      "execution_count": null,
      "outputs": [
        {
          "output_type": "stream",
          "name": "stdout",
          "text": [
            "Writing pip_installation_package/setup.py\n"
          ]
        }
      ]
    },
    {
      "cell_type": "code",
      "source": [
        "%%writefile pip_installation_package/project_1/calculator.py\n",
        "def add(a,b):\n",
        " return(a+b)\n",
        "def sub(a,b):\n",
        " return(a-b)\n",
        "def multiply(a,b):\n",
        " return(a*b)\n",
        "def div(a,b):\n",
        " return(a/b)\n"
      ],
      "metadata": {
        "colab": {
          "base_uri": "https://localhost:8080/"
        },
        "id": "c3N49wpThr9h",
        "outputId": "ad74d9d9-c93f-4596-d5f8-c16afbd3b271"
      },
      "execution_count": null,
      "outputs": [
        {
          "output_type": "stream",
          "name": "stdout",
          "text": [
            "Writing pip_installation_package/project_1/calculator.py\n"
          ]
        }
      ]
    },
    {
      "cell_type": "code",
      "source": [
        "%%writefile pip_installation_package/project_1/__init__.py"
      ],
      "metadata": {
        "colab": {
          "base_uri": "https://localhost:8080/"
        },
        "id": "V9nzcg66iVv7",
        "outputId": "46485c31-da74-4494-8083-7b06d0cb0ab3"
      },
      "execution_count": null,
      "outputs": [
        {
          "output_type": "stream",
          "name": "stdout",
          "text": [
            "Writing pip_installation_package/project_1/__init__.py\n"
          ]
        }
      ]
    },
    {
      "cell_type": "code",
      "source": [
        "%%writefile pip_installation_package/commands\n",
        "pip install"
      ],
      "metadata": {
        "colab": {
          "base_uri": "https://localhost:8080/"
        },
        "id": "xl6fWuNI14oj",
        "outputId": "8a2c0d82-7bd9-4592-dee2-7e420ec366fd"
      },
      "execution_count": null,
      "outputs": [
        {
          "output_type": "stream",
          "name": "stdout",
          "text": [
            "Overwriting pip_installation_package/commands\n"
          ]
        }
      ]
    },
    {
      "cell_type": "markdown",
      "source": [
        "\n",
        "Once you have installed setuptools, you can use the following command to build and distribute your package:"
      ],
      "metadata": {
        "id": "89AnaFbPsc9R"
      }
    },
    {
      "cell_type": "markdown",
      "source": [
        "This command will create a source distribution (in the form of a tarball) and a binary distribution (in the form of a wheel) of your package, which can be uploaded to the Python Package Index (PyPI) for distribution."
      ],
      "metadata": {
        "id": "LLcq3h5usqpL"
      }
    }
  ]
}