{
  "nbformat": 4,
  "nbformat_minor": 0,
  "metadata": {
    "colab": {
      "provenance": [],
      "authorship_tag": "ABX9TyN8DgomaVmbM0kRzFdISUzj",
      "include_colab_link": true
    },
    "kernelspec": {
      "name": "python3",
      "display_name": "Python 3"
    },
    "language_info": {
      "name": "python"
    }
  },
  "cells": [
    {
      "cell_type": "markdown",
      "metadata": {
        "id": "view-in-github",
        "colab_type": "text"
      },
      "source": [
        "<a href=\"https://colab.research.google.com/github/nepeur/LearningPython/blob/Sheetal/Pythonmodule.ipynb\" target=\"_parent\"><img src=\"https://colab.research.google.com/assets/colab-badge.svg\" alt=\"Open In Colab\"/></a>"
      ]
    },
    {
      "cell_type": "markdown",
      "source": [],
      "metadata": {
        "id": "RA00PGOwyLhx"
      }
    },
    {
      "cell_type": "markdown",
      "source": [],
      "metadata": {
        "id": "cfXC-Kn3WAsD"
      }
    },
    {
      "cell_type": "markdown",
      "source": [
        "# Introduction\n",
        "Python module is used to organise and resuse the same code in different projects.\n",
        "By creating module, we are reducing our work to write same code again.It is helping to resuce the complexity of code.\n"
      ],
      "metadata": {
        "id": "IDWLN8z8yMen"
      }
    },
    {
      "cell_type": "markdown",
      "source": [
        "## Steps to create Python module\n",
        "\n",
        "1. firstly, decide the topic, on which you want to make module, it can be anything like string For example, if you're creating a module for working with strings, you might call it \"mystrings.py\".\n",
        "Creating a Python module involves the following steps:\n",
        "\n",
        "Creating a new file:\n",
        "2. Open your preferred code editor and create a new file.\n",
        "3. Save the file with a name that reflects the purpose of your module. The name should end with the \".py\" file extension.\n",
        "Organizing code:\n",
        "4. Add the code that you want to include in your module. Organize the code into functions, classes, or other logical units.\n",
        "Define any necessary variables or constants that will be used in the module.\n",
        "5. Adding a docstring:\n",
        "Add a docstring to the top of the module file. A docstring is a multi-line string that describes the purpose and functionality of the module.\n",
        "The docstring should be enclosed in triple quotes and should provide a concise and clear explanation of what the module does.\n",
        "Here's an example of a simple Python module that includes a docstring:\n"
      ],
      "metadata": {
        "id": "O6W5gQVXrHTV"
      }
    },
    {
      "cell_type": "code",
      "source": [
        "# mystrings.py\n",
        "\n",
        "\"\"\"\n",
        "This is a sample module that provides some useful string functions.\n",
        "\"\"\"\n",
        "\n",
        "def count_chars(s):\n",
        "    \"\"\"\n",
        "    Counts the number of characters in a string and returns the result.\n",
        "\n",
        "    Args:\n",
        "        s (str): The input string.\n",
        "\n",
        "    Returns:\n",
        "        int: The number of characters in the string.\n",
        "    \"\"\"\n",
        "    return len(s)\n",
        "\n",
        "def reverse_string(s):\n",
        "    \"\"\"\n",
        "    Reverses a string and returns the result.\n",
        "\n",
        "    Args:\n",
        "        s (str): The input string.\n",
        "\n",
        "    Returns:\n",
        "        str: The reversed string.\n",
        "    \"\"\"\n",
        "    return s[::-1]"
      ],
      "metadata": {
        "id": "O8T9YtpPLCNA"
      },
      "execution_count": null,
      "outputs": []
    },
    {
      "cell_type": "markdown",
      "source": [
        "Here, we have created a code that takes the string s. Firstly, we counted the length of the string s using the len function, and then we reversed the string."
      ],
      "metadata": {
        "id": "a-0a26kEV-DG"
      }
    },
    {
      "cell_type": "markdown",
      "source": [
        "# Creating a python directory\n",
        "\n",
        "To create a project directory in Python, you can simply create a new folder on your computer and give it a name that represents your project. For example, if your project is called \"firstproject\", you can create a folder named \"firstproject\"."
      ],
      "metadata": {
        "id": "Os9S4g9RgkBk"
      }
    },
    {
      "cell_type": "code",
      "source": [
        "!mkdir projectname"
      ],
      "metadata": {
        "id": "MTcBzwuRWBgH"
      },
      "execution_count": null,
      "outputs": []
    },
    {
      "cell_type": "markdown",
      "source": [
        " # Initializing the project with __init__.py file\n",
        "To initialize the project with an init.py file, you can create a new file inside the project directory and name it \"init.py\". This file is used to mark the directory as a Python package, and it can contain initialization code that will be executed when the package is imported."
      ],
      "metadata": {
        "id": "GlipnjE8kKz0"
      }
    },
    {
      "cell_type": "code",
      "source": [
        "\n",
        "%%writefile projectname/obj1.py\n",
        "class one():\n",
        "    \n",
        "  def __init__():\n",
        "       print(\"one\")"
      ],
      "metadata": {
        "colab": {
          "base_uri": "https://localhost:8080/"
        },
        "id": "-HrcIFsUW7VZ",
        "outputId": "6f4fbae4-0ac9-4327-9f37-6021627d4171"
      },
      "execution_count": null,
      "outputs": [
        {
          "output_type": "stream",
          "name": "stdout",
          "text": [
            "Writing projectname/obj1.py\n"
          ]
        }
      ]
    },
    {
      "cell_type": "code",
      "source": [
        "%%writefile projectname/obj2.py\n",
        "class two():\n",
        "    \n",
        "  def __init__():\n",
        "       print(\"two\")"
      ],
      "metadata": {
        "colab": {
          "base_uri": "https://localhost:8080/"
        },
        "id": "-oynluzcXoyj",
        "outputId": "b6417c60-1b48-43db-a743-c1ec36ff2e2a"
      },
      "execution_count": null,
      "outputs": [
        {
          "output_type": "stream",
          "name": "stdout",
          "text": [
            "Writing projectname/obj2.py\n"
          ]
        }
      ]
    },
    {
      "cell_type": "code",
      "source": [
        "%%writefile projectname/__init__.py\n",
        "from projectname.obj1 import one\n",
        "from projectname.obj2 import two\n"
      ],
      "metadata": {
        "colab": {
          "base_uri": "https://localhost:8080/"
        },
        "id": "vQm-BIeF6I5L",
        "outputId": "c005655c-f58c-42d0-81b0-4f93fc6242ec"
      },
      "execution_count": null,
      "outputs": [
        {
          "output_type": "stream",
          "name": "stdout",
          "text": [
            "Overwriting projectname/__init__.py\n"
          ]
        }
      ]
    },
    {
      "cell_type": "code",
      "source": [
        "%%writefile final.py\n",
        "import projectname\n",
        "o=one()\n",
        "p=two()"
      ],
      "metadata": {
        "colab": {
          "base_uri": "https://localhost:8080/"
        },
        "id": "7c81Vo1B_GIK",
        "outputId": "c620c386-2a6f-4e2b-f8c0-892021228a76"
      },
      "execution_count": null,
      "outputs": [
        {
          "output_type": "stream",
          "name": "stdout",
          "text": [
            "Overwriting final.py\n"
          ]
        }
      ]
    },
    {
      "cell_type": "markdown",
      "source": [],
      "metadata": {
        "id": "BXkd9oR3AEB2"
      }
    },
    {
      "cell_type": "markdown",
      "source": [],
      "metadata": {
        "id": "fD7OLIo9AuQj"
      }
    },
    {
      "cell_type": "markdown",
      "source": [
        "# Understanding setup.py and setup.cfg files\n",
        "\n",
        "To build and distribute your Python package, you need to create a setup.py file and a setup.cfg file in the root directory of your project. The setup.py file contains metadata about your package, such as its name, version, author, and description. It also defines the packages that should be included in the distribution.\n",
        "\n",
        "The setup.cfg file contains configuration settings for the build and distribution process. For example, you can use it to specify the file formats that should be generated, or to customize the build process."
      ],
      "metadata": {
        "id": "eAVbsohImqLn"
      }
    },
    {
      "cell_type": "markdown",
      "source": [
        "# Installing setuptools package for building the module\n",
        "To build and distribute your package, you need to install the setuptools package, which is a Python library that provides tools for building and distributing packages. You can install it using pip, the Python package installer, by running the following command in your terminal:"
      ],
      "metadata": {
        "id": "IZDMRg6ksCZf"
      }
    },
    {
      "cell_type": "code",
      "source": [
        "!mkdir pip_installation_package"
      ],
      "metadata": {
        "id": "IHGCY9kDDDU8",
        "colab": {
          "base_uri": "https://localhost:8080/"
        },
        "outputId": "f0fd918a-e579-4c97-c25a-78bf2f648968"
      },
      "execution_count": null,
      "outputs": [
        {
          "output_type": "stream",
          "name": "stdout",
          "text": [
            "mkdir: cannot create directory ‘pip_installation_package’: File exists\n"
          ]
        }
      ]
    },
    {
      "cell_type": "code",
      "source": [
        "!mkdir pip_installation_package/project_1"
      ],
      "metadata": {
        "colab": {
          "base_uri": "https://localhost:8080/"
        },
        "id": "1XVE-SyYDXt_",
        "outputId": "0e08bc25-0d01-423f-a198-1d350b93e802"
      },
      "execution_count": null,
      "outputs": [
        {
          "output_type": "stream",
          "name": "stdout",
          "text": [
            "mkdir: cannot create directory ‘pip_installation_package/project_1’: File exists\n"
          ]
        }
      ]
    },
    {
      "cell_type": "code",
      "source": [
        "!mkdir pip_installation_package/setup.py"
      ],
      "metadata": {
        "id": "6A6RVbsthLwS"
      },
      "execution_count": 6,
      "outputs": []
    },
    {
      "cell_type": "code",
      "source": [
        "%%writefile pip_installation_package/setup.py\n",
        "import setup.tools\n",
        "setuptools.setup(\n",
        "  include_package_date=True,\n",
        "  name=project_1\n",
        "  version=\n",
        "  description=\n",
        "  url=\n",
        "  author=\n",
        "  author_email=\n",
        "  packages=\n",
        "  install_requires=\n",
        "  long_description=\n",
        "  long_description_contenttype=\n",
        "  classifiers="
      ],
      "metadata": {
        "id": "kpQ_nJlri17q"
      },
      "execution_count": null,
      "outputs": []
    },
    {
      "cell_type": "code",
      "source": [
        "%%writefile pip_installation_package/project_1/calculator.py\n",
        "def add(a,b):\n",
        "return(a+b)\n",
        "def sub(a,b):\n",
        "return(a-b)\n",
        "def multiply(a,b):\n",
        "return(a*b)\n",
        "def div(a,b):\n",
        "return(a/b)\n"
      ],
      "metadata": {
        "colab": {
          "base_uri": "https://localhost:8080/"
        },
        "id": "c3N49wpThr9h",
        "outputId": "5af90a6c-6d61-48e0-f468-7554fe35fd27"
      },
      "execution_count": 7,
      "outputs": [
        {
          "output_type": "stream",
          "name": "stdout",
          "text": [
            "Writing pip_installation_package/project_1/calculator.py\n"
          ]
        }
      ]
    },
    {
      "cell_type": "code",
      "source": [
        "%%writefile pip_installation_package/project_1/__init__.py"
      ],
      "metadata": {
        "colab": {
          "base_uri": "https://localhost:8080/"
        },
        "id": "V9nzcg66iVv7",
        "outputId": "6b302248-3f21-4738-d537-e79acf96b0ba"
      },
      "execution_count": 8,
      "outputs": [
        {
          "output_type": "stream",
          "name": "stdout",
          "text": [
            "Writing pip_installation_package/project_1/__init__.py\n"
          ]
        }
      ]
    },
    {
      "cell_type": "markdown",
      "source": [
        "\n",
        "Once you have installed setuptools, you can use the following command to build and distribute your package:"
      ],
      "metadata": {
        "id": "89AnaFbPsc9R"
      }
    },
    {
      "cell_type": "markdown",
      "source": [
        "This command will create a source distribution (in the form of a tarball) and a binary distribution (in the form of a wheel) of your package, which can be uploaded to the Python Package Index (PyPI) for distribution."
      ],
      "metadata": {
        "id": "LLcq3h5usqpL"
      }
    }
  ]
}