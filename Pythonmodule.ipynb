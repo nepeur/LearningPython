{
  "nbformat": 4,
  "nbformat_minor": 0,
  "metadata": {
    "colab": {
      "provenance": [],
      "authorship_tag": "ABX9TyOlL/GU09a2pM7PBi9EDERm",
      "include_colab_link": true
    },
    "kernelspec": {
      "name": "python3",
      "display_name": "Python 3"
    },
    "language_info": {
      "name": "python"
    }
  },
  "cells": [
    {
      "cell_type": "markdown",
      "metadata": {
        "id": "view-in-github",
        "colab_type": "text"
      },
      "source": [
        "<a href=\"https://colab.research.google.com/github/nepeur/LearningPython/blob/Sheetal/Pythonmodule.ipynb\" target=\"_parent\"><img src=\"https://colab.research.google.com/assets/colab-badge.svg\" alt=\"Open In Colab\"/></a>"
      ]
    },
    {
      "cell_type": "markdown",
      "source": [],
      "metadata": {
        "id": "RA00PGOwyLhx"
      }
    },
    {
      "cell_type": "markdown",
      "source": [
        "# Introduction\n",
        "Python module is used to organise and resuse the same code in different projects.\n",
        "By creating module, we are reducing our work to write same code again.It is helping to resuce the complexity of code.\n"
      ],
      "metadata": {
        "id": "IDWLN8z8yMen"
      }
    },
    {
      "cell_type": "markdown",
      "source": [
        "# Creating a Project Directory\n",
        "\n"
      ],
      "metadata": {
        "id": "FlnXuOmH0For"
      }
    },
    {
      "cell_type": "markdown",
      "source": [
        "## Steps to create Python module\n",
        "\n",
        "1. firstly, decide the topic, on which you want to make module, it can be anything like string For example, if you're creating a module for working with strings, you might call it \"mystrings.py\".\n",
        "Creating a Python module involves the following steps:\n",
        "\n",
        "Creating a new file:\n",
        "2. Open your preferred code editor and create a new file.\n",
        "3. Save the file with a name that reflects the purpose of your module. The name should end with the \".py\" file extension.\n",
        "Organizing code:\n",
        "4. Add the code that you want to include in your module. Organize the code into functions, classes, or other logical units.\n",
        "Define any necessary variables or constants that will be used in the module.\n",
        "5. Adding a docstring:\n",
        "Add a docstring to the top of the module file. A docstring is a multi-line string that describes the purpose and functionality of the module.\n",
        "The docstring should be enclosed in triple quotes and should provide a concise and clear explanation of what the module does.\n",
        "Here's an example of a simple Python module that includes a docstring:\n"
      ],
      "metadata": {
        "id": "O6W5gQVXrHTV"
      }
    },
    {
      "cell_type": "code",
      "source": [
        "# mystrings.py\n",
        "\n",
        "\"\"\"\n",
        "This is a sample module that provides some useful string functions.\n",
        "\"\"\"\n",
        "\n",
        "def count_chars(s):\n",
        "    \"\"\"\n",
        "    Counts the number of characters in a string and returns the result.\n",
        "\n",
        "    Args:\n",
        "        s (str): The input string.\n",
        "\n",
        "    Returns:\n",
        "        int: The number of characters in the string.\n",
        "    \"\"\"\n",
        "    return len(s)\n",
        "\n",
        "def reverse_string(s):\n",
        "    \"\"\"\n",
        "    Reverses a string and returns the result.\n",
        "\n",
        "    Args:\n",
        "        s (str): The input string.\n",
        "\n",
        "    Returns:\n",
        "        str: The reversed string.\n",
        "    \"\"\"\n",
        "    return s[::-1]"
      ],
      "metadata": {
        "id": "O8T9YtpPLCNA"
      },
      "execution_count": null,
      "outputs": []
    },
    {
      "cell_type": "markdown",
      "source": [
        "Here, we have created a code that takes the string s. Firstly, we counted the length of the string s using the len function, and then we reversed the string."
      ],
      "metadata": {
        "id": "a-0a26kEV-DG"
      }
    },
    {
      "cell_type": "markdown",
      "source": [
        "# Creating a python directory\n",
        "\n",
        "To create a project directory in Python, you can simply create a new folder on your computer and give it a name that represents your project. For example, if your project is called \"firstproject\", you can create a folder named \"firstproject\"."
      ],
      "metadata": {
        "id": "Os9S4g9RgkBk"
      }
    },
    {
      "cell_type": "markdown",
      "source": [
        " # Initializing the project with __init__.py file\n",
        "To initialize the project with an init.py file, you can create a new file inside the project directory and name it \"init.py\". This file is used to mark the directory as a Python package, and it can contain initialization code that will be executed when the package is imported."
      ],
      "metadata": {
        "id": "GlipnjE8kKz0"
      }
    },
    {
      "cell_type": "markdown",
      "source": [
        "# Understanding setup.py and setup.cfg files\n",
        "\n",
        "To build and distribute your Python package, you need to create a setup.py file and a setup.cfg file in the root directory of your project. The setup.py file contains metadata about your package, such as its name, version, author, and description. It also defines the packages that should be included in the distribution.\n",
        "\n",
        "The setup.cfg file contains configuration settings for the build and distribution process. For example, you can use it to specify the file formats that should be generated, or to customize the build process."
      ],
      "metadata": {
        "id": "eAVbsohImqLn"
      }
    },
    {
      "cell_type": "markdown",
      "source": [
        "# Installing setuptools package for building the module\n",
        "To build and distribute your package, you need to install the setuptools package, which is a Python library that provides tools for building and distributing packages. You can install it using pip, the Python package installer, by running the following command in your terminal:"
      ],
      "metadata": {
        "id": "IZDMRg6ksCZf"
      }
    },
    {
      "cell_type": "code",
      "source": [
        "pip install setuptools"
      ],
      "metadata": {
        "colab": {
          "base_uri": "https://localhost:8080/"
        },
        "id": "l32AO4kgsKeC",
        "outputId": "845a44d6-db4f-4ddd-8d79-08e76d2b461d"
      },
      "execution_count": 1,
      "outputs": [
        {
          "output_type": "stream",
          "name": "stdout",
          "text": [
            "Looking in indexes: https://pypi.org/simple, https://us-python.pkg.dev/colab-wheels/public/simple/\n",
            "Requirement already satisfied: setuptools in /usr/local/lib/python3.9/dist-packages (63.4.3)\n"
          ]
        }
      ]
    },
    {
      "cell_type": "markdown",
      "source": [
        "Once you have installed setuptools, you can use the following command to build and distribute your package:"
      ],
      "metadata": {
        "id": "89AnaFbPsc9R"
      }
    },
    {
      "cell_type": "code",
      "source": [
        "python setup.py sdist bdist_wheel"
      ],
      "metadata": {
        "colab": {
          "base_uri": "https://localhost:8080/",
          "height": 131
        },
        "id": "toA6kUF9sjr3",
        "outputId": "9df85f5b-d797-4b4d-ab97-e1c32ba98c7a"
      },
      "execution_count": 2,
      "outputs": [
        {
          "output_type": "error",
          "ename": "SyntaxError",
          "evalue": "ignored",
          "traceback": [
            "\u001b[0;36m  File \u001b[0;32m\"<ipython-input-2-c3309b56e002>\"\u001b[0;36m, line \u001b[0;32m1\u001b[0m\n\u001b[0;31m    python setup.py sdist bdist_wheel\u001b[0m\n\u001b[0m           ^\u001b[0m\n\u001b[0;31mSyntaxError\u001b[0m\u001b[0;31m:\u001b[0m invalid syntax\n"
          ]
        }
      ]
    },
    {
      "cell_type": "markdown",
      "source": [
        "This command will create a source distribution (in the form of a tarball) and a binary distribution (in the form of a wheel) of your package, which can be uploaded to the Python Package Index (PyPI) for distribution."
      ],
      "metadata": {
        "id": "LLcq3h5usqpL"
      }
    }
  ]
}